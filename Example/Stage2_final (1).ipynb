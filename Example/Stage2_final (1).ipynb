{
 "cells": [
  {
   "cell_type": "code",
   "execution_count": 14,
   "metadata": {},
   "outputs": [
    {
     "name": "stderr",
     "output_type": "stream",
     "text": [
      "\u001b[32m\u001b[1m Activating\u001b[22m\u001b[39m environment at `~/code/Horizontal_Proper/Example/CentJulEnv/Project.toml`\n",
      "\u001b[32m\u001b[1m  Resolving\u001b[22m\u001b[39m package versions...\n",
      "\u001b[32m\u001b[1mNo Changes\u001b[22m\u001b[39m to `~/code/Horizontal_Proper/Example/CentJulEnv/Project.toml`\n",
      "\u001b[32m\u001b[1mNo Changes\u001b[22m\u001b[39m to `~/code/Horizontal_Proper/Example/CentJulEnv/Manifest.toml`\n",
      "\u001b[32m\u001b[1m  Resolving\u001b[22m\u001b[39m package versions...\n",
      "\u001b[32m\u001b[1mNo Changes\u001b[22m\u001b[39m to `~/code/Horizontal_Proper/Example/CentJulEnv/Project.toml`\n",
      "\u001b[32m\u001b[1mNo Changes\u001b[22m\u001b[39m to `~/code/Horizontal_Proper/Example/CentJulEnv/Manifest.toml`\n",
      "\u001b[32m\u001b[1m  Resolving\u001b[22m\u001b[39m package versions...\n",
      "\u001b[32m\u001b[1mNo Changes\u001b[22m\u001b[39m to `~/code/Horizontal_Proper/Example/CentJulEnv/Project.toml`\n",
      "\u001b[32m\u001b[1mNo Changes\u001b[22m\u001b[39m to `~/code/Horizontal_Proper/Example/CentJulEnv/Manifest.toml`\n",
      "\u001b[32m\u001b[1m  Resolving\u001b[22m\u001b[39m package versions...\n",
      "\u001b[32m\u001b[1mNo Changes\u001b[22m\u001b[39m to `~/code/Horizontal_Proper/Example/CentJulEnv/Project.toml`\n",
      "\u001b[32m\u001b[1mNo Changes\u001b[22m\u001b[39m to `~/code/Horizontal_Proper/Example/CentJulEnv/Manifest.toml`\n",
      "\u001b[32m\u001b[1m  Resolving\u001b[22m\u001b[39m package versions...\n",
      "\u001b[32m\u001b[1mNo Changes\u001b[22m\u001b[39m to `~/code/Horizontal_Proper/Example/CentJulEnv/Project.toml`\n",
      "\u001b[32m\u001b[1mNo Changes\u001b[22m\u001b[39m to `~/code/Horizontal_Proper/Example/CentJulEnv/Manifest.toml`\n",
      "\u001b[32m\u001b[1m  Resolving\u001b[22m\u001b[39m package versions...\n",
      "\u001b[32m\u001b[1mNo Changes\u001b[22m\u001b[39m to `~/code/Horizontal_Proper/Example/CentJulEnv/Project.toml`\n",
      "\u001b[32m\u001b[1mNo Changes\u001b[22m\u001b[39m to `~/code/Horizontal_Proper/Example/CentJulEnv/Manifest.toml`\n",
      "\u001b[32m\u001b[1m  Resolving\u001b[22m\u001b[39m package versions...\n",
      "\u001b[32m\u001b[1mNo Changes\u001b[22m\u001b[39m to `~/code/Horizontal_Proper/Example/CentJulEnv/Project.toml`\n",
      "\u001b[32m\u001b[1mNo Changes\u001b[22m\u001b[39m to `~/code/Horizontal_Proper/Example/CentJulEnv/Manifest.toml`\n",
      "\u001b[32m\u001b[1m  Resolving\u001b[22m\u001b[39m package versions...\n",
      "\u001b[32m\u001b[1mNo Changes\u001b[22m\u001b[39m to `~/code/Horizontal_Proper/Example/CentJulEnv/Project.toml`\n",
      "\u001b[32m\u001b[1mNo Changes\u001b[22m\u001b[39m to `~/code/Horizontal_Proper/Example/CentJulEnv/Manifest.toml`\n",
      "\u001b[32m\u001b[1m  Resolving\u001b[22m\u001b[39m package versions...\n",
      "\u001b[32m\u001b[1mNo Changes\u001b[22m\u001b[39m to `~/code/Horizontal_Proper/Example/CentJulEnv/Project.toml`\n",
      "\u001b[32m\u001b[1mNo Changes\u001b[22m\u001b[39m to `~/code/Horizontal_Proper/Example/CentJulEnv/Manifest.toml`\n",
      "\u001b[32m\u001b[1m  Resolving\u001b[22m\u001b[39m package versions...\n",
      "\u001b[32m\u001b[1mNo Changes\u001b[22m\u001b[39m to `~/code/Horizontal_Proper/Example/CentJulEnv/Project.toml`\n",
      "\u001b[32m\u001b[1mNo Changes\u001b[22m\u001b[39m to `~/code/Horizontal_Proper/Example/CentJulEnv/Manifest.toml`\n",
      "\u001b[32m\u001b[1m  Resolving\u001b[22m\u001b[39m package versions...\n",
      "\u001b[32m\u001b[1mNo Changes\u001b[22m\u001b[39m to `~/code/Horizontal_Proper/Example/CentJulEnv/Project.toml`\n",
      "\u001b[32m\u001b[1mNo Changes\u001b[22m\u001b[39m to `~/code/Horizontal_Proper/Example/CentJulEnv/Manifest.toml`\n",
      "\u001b[32m\u001b[1m  Resolving\u001b[22m\u001b[39m package versions...\n",
      "\u001b[32m\u001b[1mNo Changes\u001b[22m\u001b[39m to `~/code/Horizontal_Proper/Example/CentJulEnv/Project.toml`\n",
      "\u001b[32m\u001b[1mNo Changes\u001b[22m\u001b[39m to `~/code/Horizontal_Proper/Example/CentJulEnv/Manifest.toml`\n",
      "\u001b[32m\u001b[1m  Resolving\u001b[22m\u001b[39m package versions...\n",
      "\u001b[32m\u001b[1mNo Changes\u001b[22m\u001b[39m to `~/code/Horizontal_Proper/Example/CentJulEnv/Project.toml`\n",
      "\u001b[32m\u001b[1mNo Changes\u001b[22m\u001b[39m to `~/code/Horizontal_Proper/Example/CentJulEnv/Manifest.toml`\n",
      "\u001b[32m\u001b[1m  Resolving\u001b[22m\u001b[39m package versions...\n",
      "\u001b[32m\u001b[1mNo Changes\u001b[22m\u001b[39m to `~/code/Horizontal_Proper/Example/CentJulEnv/Project.toml`\n",
      "\u001b[32m\u001b[1mNo Changes\u001b[22m\u001b[39m to `~/code/Horizontal_Proper/Example/CentJulEnv/Manifest.toml`\n",
      "\u001b[32m\u001b[1m  Resolving\u001b[22m\u001b[39m package versions...\n",
      "\u001b[32m\u001b[1mNo Changes\u001b[22m\u001b[39m to `~/code/Horizontal_Proper/Example/CentJulEnv/Project.toml`\n",
      "\u001b[32m\u001b[1mNo Changes\u001b[22m\u001b[39m to `~/code/Horizontal_Proper/Example/CentJulEnv/Manifest.toml`\n",
      "\u001b[32m\u001b[1m  Resolving\u001b[22m\u001b[39m package versions...\n",
      "\u001b[32m\u001b[1mNo Changes\u001b[22m\u001b[39m to `~/code/Horizontal_Proper/Example/CentJulEnv/Project.toml`\n",
      "\u001b[32m\u001b[1mNo Changes\u001b[22m\u001b[39m to `~/code/Horizontal_Proper/Example/CentJulEnv/Manifest.toml`\n",
      "\u001b[32m\u001b[1m  Resolving\u001b[22m\u001b[39m package versions...\n",
      "\u001b[32m\u001b[1mNo Changes\u001b[22m\u001b[39m to `~/code/Horizontal_Proper/Example/CentJulEnv/Project.toml`\n",
      "\u001b[32m\u001b[1mNo Changes\u001b[22m\u001b[39m to `~/code/Horizontal_Proper/Example/CentJulEnv/Manifest.toml`\n",
      "\u001b[32m\u001b[1m  Resolving\u001b[22m\u001b[39m package versions...\n",
      "\u001b[32m\u001b[1mNo Changes\u001b[22m\u001b[39m to `~/code/Horizontal_Proper/Example/CentJulEnv/Project.toml`\n",
      "\u001b[32m\u001b[1mNo Changes\u001b[22m\u001b[39m to `~/code/Horizontal_Proper/Example/CentJulEnv/Manifest.toml`\n",
      "\u001b[32m\u001b[1m  Resolving\u001b[22m\u001b[39m package versions...\n",
      "\u001b[32m\u001b[1mNo Changes\u001b[22m\u001b[39m to `~/code/Horizontal_Proper/Example/CentJulEnv/Project.toml`\n",
      "\u001b[32m\u001b[1mNo Changes\u001b[22m\u001b[39m to `~/code/Horizontal_Proper/Example/CentJulEnv/Manifest.toml`\n",
      "\u001b[32m\u001b[1m  Resolving\u001b[22m\u001b[39m package versions...\n",
      "\u001b[32m\u001b[1mUpdating\u001b[22m\u001b[39m `~/code/Horizontal_Proper/Example/CentJulEnv/Project.toml`\n",
      " \u001b[90m [2e9cd046] \u001b[39m\u001b[92m+ Gurobi v0.10.3\u001b[39m\n",
      "\u001b[32m\u001b[1mUpdating\u001b[22m\u001b[39m `~/code/Horizontal_Proper/Example/CentJulEnv/Manifest.toml`\n",
      " \u001b[90m [2e9cd046] \u001b[39m\u001b[92m+ Gurobi v0.10.3\u001b[39m\n",
      "\u001b[32m\u001b[1m  Resolving\u001b[22m\u001b[39m package versions...\n",
      "\u001b[32m\u001b[1mNo Changes\u001b[22m\u001b[39m to `~/code/Horizontal_Proper/Example/CentJulEnv/Project.toml`\n",
      "\u001b[32m\u001b[1mNo Changes\u001b[22m\u001b[39m to `~/code/Horizontal_Proper/Example/CentJulEnv/Manifest.toml`\n",
      "\u001b[32m\u001b[1m  Resolving\u001b[22m\u001b[39m package versions...\n",
      "\u001b[32m\u001b[1mNo Changes\u001b[22m\u001b[39m to `~/code/Horizontal_Proper/Example/CentJulEnv/Project.toml`\n",
      "\u001b[32m\u001b[1mNo Changes\u001b[22m\u001b[39m to `~/code/Horizontal_Proper/Example/CentJulEnv/Manifest.toml`\n",
      "\u001b[32m\u001b[1m  Resolving\u001b[22m\u001b[39m package versions...\n",
      "\u001b[32m\u001b[1mNo Changes\u001b[22m\u001b[39m to `~/code/Horizontal_Proper/Example/CentJulEnv/Project.toml`\n",
      "\u001b[32m\u001b[1mNo Changes\u001b[22m\u001b[39m to `~/code/Horizontal_Proper/Example/CentJulEnv/Manifest.toml`\n",
      "\u001b[32m\u001b[1m  Resolving\u001b[22m\u001b[39m package versions...\n"
     ]
    },
    {
     "name": "stdout",
     "output_type": "stream",
     "text": [
      "Activating the Julia virtual environment\n"
     ]
    },
    {
     "name": "stderr",
     "output_type": "stream",
     "text": [
      "\u001b[32m\u001b[1mNo Changes\u001b[22m\u001b[39m to `~/code/Horizontal_Proper/Example/CentJulEnv/Project.toml`\n",
      "\u001b[32m\u001b[1mNo Changes\u001b[22m\u001b[39m to `~/code/Horizontal_Proper/Example/CentJulEnv/Manifest.toml`\n"
     ]
    },
    {
     "name": "stdout",
     "output_type": "stream",
     "text": [
      "\u001b[32m\u001b[1mStatus\u001b[22m\u001b[39m `~/code/Horizontal_Proper/Example/CentJulEnv/Project.toml`\n",
      " \u001b[90m [6e4b80f9] \u001b[39m\u001b[37mBenchmarkTools v1.3.2\u001b[39m\n",
      " \u001b[90m [336ed68f] \u001b[39m\u001b[37mCSV v0.8.2\u001b[39m\n",
      " \u001b[90m [9961bab8] \u001b[39m\u001b[37mCbc v0.9.1\u001b[39m\n",
      " \u001b[90m [e2554f3b] \u001b[39m\u001b[37mClp v0.9.1\u001b[39m\n",
      " \u001b[90m [a93c6f00] \u001b[39m\u001b[37mDataFrames v0.22.7\u001b[39m\n",
      " \u001b[90m [864edb3b] \u001b[39m\u001b[37mDataStructures v0.18.13\u001b[39m\n",
      " \u001b[90m [60bf3e95] \u001b[39m\u001b[37mGLPK v0.15.3\u001b[39m\n",
      " \u001b[90m [5c1252a2] \u001b[39m\u001b[37mGeometryBasics v0.3.13\u001b[39m\n",
      " \u001b[90m [2e9cd046] \u001b[39m\u001b[37mGurobi v0.10.3\u001b[39m\n",
      " \u001b[90m [87dc4568] \u001b[39m\u001b[37mHiGHS v0.3.0\u001b[39m\n",
      " \u001b[90m [7073ff75] \u001b[39m\u001b[37mIJulia v1.23.3\u001b[39m\n",
      " \u001b[90m [b6b21f68] \u001b[39m\u001b[37mIpopt v0.9.1\u001b[39m\n",
      " \u001b[90m [4076af6c] \u001b[39m\u001b[37mJuMP v0.22.3\u001b[39m\n",
      " \u001b[90m [b8f27783] \u001b[39m\u001b[37mMathOptInterface v0.10.9\u001b[39m\n",
      " \u001b[90m [fdba3010] \u001b[39m\u001b[37mMathProgBase v0.7.8\u001b[39m\n",
      " \u001b[90m [91a5bcdd] \u001b[39m\u001b[37mPlots v1.15.2\u001b[39m\n",
      " \u001b[90m [731186ca] \u001b[39m\u001b[37mRecursiveArrayTools v2.20.0\u001b[39m\n",
      " \u001b[90m [82193955] \u001b[39m\u001b[37mSCIP v0.10.0\u001b[39m\n",
      " \u001b[90m [2913bbd2] \u001b[39m\u001b[37mStatsBase v0.33.21\u001b[39m\n",
      " \u001b[90m [fdbf4ff8] \u001b[39m\u001b[37mXLSX v0.8.4\u001b[39m\n",
      " \u001b[90m [ddb6d928] \u001b[39m\u001b[37mYAML v0.4.8\u001b[39m\n",
      " \u001b[90m [ade2ca70] \u001b[39m\u001b[37mDates\u001b[39m\n",
      " \u001b[90m [37e2e46d] \u001b[39m\u001b[37mLinearAlgebra\u001b[39m\n",
      " \u001b[90m [10745b16] \u001b[39m\u001b[37mStatistics\u001b[39m\n"
     ]
    }
   ],
   "source": [
    "# activate julia environment in a controlled way\n",
    "julia_environment = \"../central_control_PyJuMP/Julia_src/activate.jl\"\n",
    "include(julia_environment)\n",
    "\n",
    "using XLSX\n",
    "using CSV\n",
    "using GLPK\n",
    "using DataFrames\n",
    "using JuMP\n",
    "#using Plots\n",
    "     "
   ]
  },
  {
   "cell_type": "code",
   "execution_count": 15,
   "metadata": {},
   "outputs": [
    {
     "data": {
      "text/html": [
       "<table class=\"data-frame\"><thead><tr><th></th><th>Zone</th><th>Nodes_Total</th></tr><tr><th></th><th>Int64</th><th>Int64</th></tr></thead><tbody><p>3 rows × 2 columns</p><tr><th>1</th><td>1</td><td>14</td></tr><tr><th>2</th><td>2</td><td>30</td></tr><tr><th>3</th><td>3</td><td>5</td></tr></tbody></table>"
      ],
      "text/latex": [
       "\\begin{tabular}{r|cc}\n",
       "\t& Zone & Nodes\\_Total\\\\\n",
       "\t\\hline\n",
       "\t& Int64 & Int64\\\\\n",
       "\t\\hline\n",
       "\t1 & 1 & 14 \\\\\n",
       "\t2 & 2 & 30 \\\\\n",
       "\t3 & 3 & 5 \\\\\n",
       "\\end{tabular}\n"
      ],
      "text/plain": [
       "\u001b[1m3×2 DataFrame\u001b[0m\n",
       "\u001b[1m Row \u001b[0m│\u001b[1m Zone  \u001b[0m\u001b[1m Nodes_Total \u001b[0m\n",
       "\u001b[1m     \u001b[0m│\u001b[90m Int64 \u001b[0m\u001b[90m Int64       \u001b[0m\n",
       "─────┼────────────────────\n",
       "   1 │     1           14\n",
       "   2 │     2           30\n",
       "   3 │     3            5"
      ]
     },
     "execution_count": 15,
     "metadata": {},
     "output_type": "execute_result"
    }
   ],
   "source": [
    "\n",
    "shared_cand = DataFrame(XLSX.readtable(\"../Input_Data/CandLine.csv\", \"Taul1\", header=true)) #Dataframe of shared candidate lines\n",
    "int_cand =  DataFrame(XLSX.readtable(\"../Input_Data/CandLineInt.csv\", \"Taul1\", header=true)) #Dataframe of internal candidate lines\n",
    "shared_ex =  DataFrame(XLSX.readtable(\"../Input_Data/SharedEline.csv\", \"Taul1\", header=true)) #Dataframe of shared existing lines\n",
    "int_ex = DataFrame(XLSX.readtable(\"../Input_Data/Tran.csv\", \"Taul1\", header=true)) #Dataframe of internal existing lines\n",
    "gen =  DataFrame(XLSX.readtable(\"../Input_Data/Gen.csv\" , \"Taul1\", header=true)) #Dataframe of generators\n",
    "load =  DataFrame(XLSX.readtable(\"../Input_Data/Load.csv\", \"Taul1\", header=true)) #Dataframe of loads\n",
    "scen_prob = DataFrame(CSV.File(\"../Input_Data/Scenario_Probability.csv\", header=true)) #Dataframe of scenario probabilities\n",
    "zone_summary = DataFrame(CSV.File(\"../Input_Data/Zone_Summary.csv\", header=true)) #Dataframe of region-number of nodes\n",
    "##An example of the load dataframe can be found as follows"
   ]
  },
  {
   "cell_type": "code",
   "execution_count": 16,
   "metadata": {},
   "outputs": [
    {
     "data": {
      "text/plain": [
       "scen_weight (generic function with 1 method)"
      ]
     },
     "execution_count": 16,
     "metadata": {},
     "output_type": "execute_result"
    }
   ],
   "source": [
    "l(i,s) = load[load.zoneNum .== i,[1,2,s+2]] # load within zone i and scenario s\n",
    "g(i) = gen[gen.zoneNum .== i, :]   # generators within zone i\n",
    "shared_c(i) = vcat(shared_cand[shared_cand.nodeZone1 .== i,:] , shared_cand[shared_cand.nodeZone2 .== i, :]) #shared candidate lines within zone i\n",
    "int_c(i) = int_cand[int_cand.zoneNum .== i, :]   # number of internal candidate lines within zone i\n",
    "shared_e(i) = vcat(shared_ex[shared_ex.nodeZone1 .== i,:] , shared_ex[shared_ex.nodeZone2 .== i, :]) #shared existing lines within zone i\n",
    "int_e(i) =int_ex[int_ex.zoneNum .== i, :]       # internal existing lines within zone i\n",
    "#MC(i) = (g(i).C2 .* ((g(i).PgMax./100) .^ 2) .+ g(i).C1 .* (g(i).PgMax ./100) .- g(i).C2 .*((g(i).PgMin./100) .^ 2) .- g(i).C1 .* (g(i).PgMin./100)) ./ ((g(i).PgMax./100) .- (g(i).PgMin./100)) #Marginal cost of generators within zone i\n",
    "MC(i) = (g(i).C2 .* (g(i).PgMax .^ 2) .+ g(i).C1 .* g(i).PgMax .- g(i).C2 .*(g(i).PgMin .^ 2) .- g(i).C1 .* (g(i).PgMin)) ./ ((g(i).PgMax) .- (g(i).PgMin))\n",
    "bin_c(i) = (shared_cand.nodeZone1 .== i) + (shared_cand.nodeZone2 .== i) # A binary vector through which we can check if the shared candidate lines belong to zone i\n",
    "bin_e(i) = (shared_ex.nodeZone1 .== i) + (shared_ex.nodeZone2 .== i) # A binary vector through which we can check if the shared existing lines belong to zone i\n",
    "scen_weight(s) = scen_prob.scen_weight[scen_prob.scenario .== s,:]"
   ]
  },
  {
   "cell_type": "code",
   "execution_count": 17,
   "metadata": {},
   "outputs": [
    {
     "data": {
      "text/plain": [
       "4"
      ]
     },
     "execution_count": 17,
     "metadata": {},
     "output_type": "execute_result"
    }
   ],
   "source": [
    "S = nrow(scen_prob)"
   ]
  },
  {
   "cell_type": "code",
   "execution_count": 18,
   "metadata": {},
   "outputs": [
    {
     "data": {
      "text/plain": [
       "bin (generic function with 1 method)"
      ]
     },
     "execution_count": 18,
     "metadata": {},
     "output_type": "execute_result"
    }
   ],
   "source": [
    "function bin(i,N,S)\n",
    "    P = zeros(nrow(zone_summary),maximum(zone_summary.Nodes_Total),S); \n",
    "    #P[i,1:N,:] .= 1\n",
    "    for c in 1:nrow(shared_c(i))\n",
    "        P[shared_c(i).nodeZone1[c],shared_c(i).tNodeID1[c],:] .= 1\n",
    "        P[shared_c(i).nodeZone2[c],shared_c(i).tNodeID2[c],:] .= 1\n",
    "    end\n",
    "    for h in 1:nrow(shared_e(i))\n",
    "        P[shared_e(i).nodeZone1[h],shared_e(i).tNodeID1[h],:] .= 1\n",
    "        P[shared_e(i).nodeZone2[h],shared_e(i).tNodeID2[h],:] .= 1\n",
    "    end\n",
    "    return(P)\n",
    "end"
   ]
  },
  {
   "cell_type": "code",
   "execution_count": 19,
   "metadata": {},
   "outputs": [
    {
     "data": {
      "text/plain": [
       "3×30×4 Array{Float64,3}:\n",
       "[:, :, 1] =\n",
       " 1.0  1.0  1.0  1.0  1.0  1.0  1.0  1.0  …  1.0  1.0  1.0  1.0  1.0  1.0  1.0\n",
       " 1.0  1.0  1.0  1.0  1.0  1.0  1.0  1.0     1.0  1.0  1.0  1.0  1.0  1.0  1.0\n",
       " 1.0  0.0  1.0  0.0  0.0  1.0  1.0  1.0     1.0  1.0  1.0  1.0  1.0  1.0  1.0\n",
       "\n",
       "[:, :, 2] =\n",
       " 1.0  1.0  1.0  1.0  1.0  1.0  1.0  1.0  …  1.0  1.0  1.0  1.0  1.0  1.0  1.0\n",
       " 1.0  1.0  1.0  1.0  1.0  1.0  1.0  1.0     1.0  1.0  1.0  1.0  1.0  1.0  1.0\n",
       " 1.0  0.0  1.0  0.0  0.0  1.0  1.0  1.0     1.0  1.0  1.0  1.0  1.0  1.0  1.0\n",
       "\n",
       "[:, :, 3] =\n",
       " 1.0  1.0  1.0  1.0  1.0  1.0  1.0  1.0  …  1.0  1.0  1.0  1.0  1.0  1.0  1.0\n",
       " 1.0  1.0  1.0  1.0  1.0  1.0  1.0  1.0     1.0  1.0  1.0  1.0  1.0  1.0  1.0\n",
       " 1.0  0.0  1.0  0.0  0.0  1.0  1.0  1.0     1.0  1.0  1.0  1.0  1.0  1.0  1.0\n",
       "\n",
       "[:, :, 4] =\n",
       " 1.0  1.0  1.0  1.0  1.0  1.0  1.0  1.0  …  1.0  1.0  1.0  1.0  1.0  1.0  1.0\n",
       " 1.0  1.0  1.0  1.0  1.0  1.0  1.0  1.0     1.0  1.0  1.0  1.0  1.0  1.0  1.0\n",
       " 1.0  0.0  1.0  0.0  0.0  1.0  1.0  1.0     1.0  1.0  1.0  1.0  1.0  1.0  1.0"
      ]
     },
     "execution_count": 19,
     "metadata": {},
     "output_type": "execute_result"
    }
   ],
   "source": [
    "shared = bin(1,14,S).*bin(2,30,S).*bin(3,5,S)\n",
    "not_shared = (1 .- shared)"
   ]
  },
  {
   "cell_type": "code",
   "execution_count": 20,
   "metadata": {},
   "outputs": [
    {
     "data": {
      "text/plain": [
       "2-element Array{Float64,1}:\n",
       " 34.30293932\n",
       " 55.0"
      ]
     },
     "execution_count": 20,
     "metadata": {},
     "output_type": "execute_result"
    }
   ],
   "source": [
    "MC(1)"
   ]
  },
  {
   "cell_type": "code",
   "execution_count": 21,
   "metadata": {},
   "outputs": [
    {
     "data": {
      "text/plain": [
       "zonal_app (generic function with 1 method)"
      ]
     },
     "execution_count": 21,
     "metadata": {},
     "output_type": "execute_result"
    }
   ],
   "source": [
    "function zonal_app(i, N, S, lambda, shared_line_decision_var, int_line_decision_var, angle_self, angle_1, angle_2, bin_self, bin_1, bin_2)\n",
    "    \n",
    "    Mod4 = Model(Gurobi.Optimizer)\n",
    "    ###Change it to IPOPT\n",
    "    \n",
    "    \n",
    "    @variable(Mod4,0 <= gen_var[1:N,1:S]) # generation at each node\n",
    "    @variable(Mod4,shared_cand_flow[1:nrow(shared_cand),1:S])  #Power flowing into shared candidate lines \n",
    "    @variable(Mod4,int_cand_flow[1:nrow(int_c(i)), 1:S]) #Power flowing into internal candidate lines \n",
    "    #@variable(Mod4,0 <= shared_cand_angle[1:nrow(shared_cand), 1:S, 1:2]<= 2*pi) #Phase angle decision for shared candidate lines\n",
    "    #@variable(Mod4,0 <= int_cand_angle[1:nrow(int_c(i)), 1:S, 1:2]<= 2*pi) #Phase angle decision for internal candidate lines\n",
    "    @variable(Mod4,shared_ex_flow[1:nrow(shared_ex), 1:S])  #Power flowing on shared existing shared lines\n",
    "    @variable(Mod4,int_ex_flow[1:nrow(int_e(i)), 1:S])  #Power flowing on internal existing lines\n",
    "    @variable(Mod4,0 <= node_voltage_phase_angle[1:nrow(zone_summary),1:maximum(zone_summary.Nodes_Total), 1:S] <= 2*pi)\n",
    "   # @variable(Mod4,0 <= shared_ex_angle[1:nrow(shared_ex), 1:S, 1:2]<= 2*pi) #Phase angle for existing shared lines\n",
    "    #@variable(Mod4,0 <= int_ex_angle[1:nrow(int_e(i)), 1:S, 1:2]<= 2*pi) #Phase angle for internal existing lines\n",
    "    \n",
    "    omega = (55)^2 ;\n",
    "    eta = 55;\n",
    "    \n",
    "    @expression(Mod4, total_cost, sum(scen_weight(s)[1].* sum((gen_var[n,s] .* sum((g(i).gNodeID .== n) .* MC(i))) for n in 1:N) for s in 1:S)\n",
    "        .+ sum(sum(sum(eta * bin_self .* bin_1 .* (node_voltage_phase_angle .* (angle_self .- angle_1))\n",
    "        .+ eta * bin_self .* bin_2 .* (node_voltage_phase_angle.* (angle_self .- angle_2))\n",
    "        .+ (omega /2) * (bin_self .* (node_voltage_phase_angle.- angle_self)) .^ 2\n",
    "        .+ (omega /2) * (bin_self .* bin_1 .* (node_voltage_phase_angle.- angle_1)) .^ 2\n",
    "        .+ (omega /2) * (bin_self .* bin_2 .* (node_voltage_phase_angle .- angle_2)) .^ 2\n",
    "        .+ node_voltage_phase_angle .* lambda))))\n",
    "             \n",
    "            \n",
    "    for s in 1:S        \n",
    "            \n",
    "        for n in 1:N\n",
    "            # Power balance constraint for each node\n",
    "            @constraint(Mod4, sum((g(i).gNodeID .== n) .* gen_var[n,s]) .+ sum(l(i,s)[:,3].* (l(i,s).lNodeID .== n))./100 .==\n",
    "                sum((shared_cand.tNodeID1 .== n) .*bin_c(i) .* shared_cand_flow[:,s]) .- sum((shared_cand.tNodeID2 .== n) .* bin_c(i) .* shared_cand_flow[:,s]) .+\n",
    "                sum((shared_ex.tNodeID1 .== n) .* bin_e(i) .* shared_ex_flow[:,s]) .- sum((shared_ex.tNodeID2 .== n) .* bin_e(i) .* shared_ex_flow[:,s]) .+\n",
    "                sum((int_c(i).tNodeID1 .== n) .* int_cand_flow[:,s]) .- sum((int_c(i).tNodeID2 .== n) .* int_cand_flow[:,s]) .+\n",
    "                sum((int_e(i).tNodeID1 .== n) .* int_ex_flow[:,s]) .- sum((int_e(i).tNodeID2 .== n) .* int_ex_flow[:,s]))\n",
    "            #Lower limit for generation of each node\n",
    "            @constraint(Mod4, sum(g(i).gNodeID .== n) .* gen_var[n,s] .<= sum((g(i).gNodeID .== n) .* g(i).PgMax./100))\n",
    "            #Upper limit for generation of each node\n",
    "            @constraint(Mod4, sum((g(i).gNodeID .== n) .* g(i).PgMin./100) .<= sum(g(i).gNodeID .== n) .* gen_var[n,s])\n",
    "        end\n",
    "\n",
    "        #Constraints elated to the candidate shared lines:\n",
    "        for c in 1:nrow(shared_cand) \n",
    "            #Associating the power flowing within the line with the phase angles of nodes:\n",
    "            @constraint(Mod4, bin_c(i) .* shared_line_decision_var[c] .* shared_cand_flow[c,s] .== \n",
    "                (1 ./ shared_cand.reacT[c]) .* (bin_c(i) .* \n",
    "                (node_voltage_phase_angle[shared_cand.nodeZone1[c],shared_cand.tNodeID1[c],s] \n",
    "                .- node_voltage_phase_angle[shared_cand.nodeZone2[c],shared_cand.tNodeID2[c],s])))\n",
    "            #limiting the upper bound of power flow flowing within candidate shared lines\n",
    "            @constraint(Mod4, bin_c(i) .* shared_cand_flow[c,s] .<= bin_c(i) .* \n",
    "                shared_line_decision_var[c] .* shared_cand.ptMax[c] ./ 100)\n",
    "            #Limiting the lower bound of power flowing within the candidate shared lines\n",
    "            @constraint(Mod4, -shared_cand.ptMax[c] .* bin_c(i) .* shared_line_decision_var[c] ./ 100 .<= bin_c(i) .* \n",
    "                shared_cand_flow[c,s])\n",
    "            #@constraint(Mod4, shared_cand_angle[5,2] .== 0)\n",
    "        end\n",
    "\n",
    "        #The same constraints related to the candidate internal lines:\n",
    "        for c in 1:nrow(int_c(i))\n",
    "            @constraint(Mod4,int_line_decision_var[c].*int_cand_flow[c,s] .== (1 ./ int_c(i).reacT[c]) .*\n",
    "                    (node_voltage_phase_angle[int_c(i).zoneNum[c],int_c(i).tNodeID1[c],s] .-\n",
    "                    node_voltage_phase_angle[int_c(i).zoneNum[c],int_c(i).tNodeID2[c],s]))\n",
    "            @constraint(Mod4, int_cand_flow[c,s] .<= int_line_decision_var[c] .* int_c(i).ptMax[c] ./ 100)\n",
    "            @constraint(Mod4, -int_c(i).ptMax[c] .*int_line_decision_var[c] ./ 100 .<= int_cand_flow[c,s])\n",
    "        end\n",
    "\n",
    "        #The same constraints related to the shared existing lines:\n",
    "        for h in 1:nrow(shared_ex)\n",
    "            @constraint(Mod4, bin_e(i) .* shared_ex_flow[h,s] .== (1 ./ shared_ex.reacT[h]) .*\n",
    "                (bin_e(i) .* (node_voltage_phase_angle[shared_ex.nodeZone1[h],shared_ex.tNodeID1[h],s] .-\n",
    "                node_voltage_phase_angle[shared_ex.nodeZone2[h],shared_ex.tNodeID2[h],s])))\n",
    "            @constraint(Mod4, bin_e(i) .* shared_ex_flow[h,s] .<= bin_e(i) .* shared_ex. ptMax[h] ./ 100)\n",
    "            @constraint(Mod4, bin_e(i) .* -shared_ex.ptMax[h] ./ 100 .<= bin_e(i) .* shared_ex_flow[h,s])\n",
    "            #@constraint(Mod4, shared_ex_angle[1,2] .== 0)\n",
    "            #@constraint(Mod4, shared_ex_angle[7,2] .== 0)\n",
    "\n",
    "        end\n",
    "        #The same constraints related to the internal existing lines:\n",
    "\n",
    "        for h in 1:nrow(int_e(i))\n",
    "            @constraint(Mod4, int_ex_flow[h,s] .== (1 ./ int_e(i).reacT[h]) \n",
    "                .* (node_voltage_phase_angle[int_e(i).zoneNum[h],int_e(i).tNodeID1[h],s] .- \n",
    "                    node_voltage_phase_angle[int_e(i).zoneNum[h],int_e(i).tNodeID2[h],s]))\n",
    "            @constraint(Mod4, int_ex_flow[h,s] .<= int_e(i).ptMax[h] ./ 100)\n",
    "            @constraint(Mod4, -int_e(i).ptMax[h] ./ 100 .<= int_ex_flow[h,s])\n",
    "        end\n",
    "    end\n",
    "    #The model objective is to minimize the total cost:\n",
    "    \n",
    "    @objective(Mod4, Min, total_cost)\n",
    "    optimize!(Mod4)\n",
    "    if termination_status(Mod4) == MOI.OPTIMAL #If the solution is optimal then it returns the variables\n",
    "    \n",
    "        shared_cand_power = value.(shared_cand_flow)\n",
    "        shared_ex_power = value.(shared_ex_flow)\n",
    "        phase_angle = value.(node_voltage_phase_angle)\n",
    "        gen_power = value.(gen_var)\n",
    "        int_cand_power = value.(int_cand_flow)\n",
    "        obj_value = objective_value(Mod4)\n",
    "        [obj_value,shared_cand_power,phase_angle,shared_ex_power,gen_power, int_cand_power]\n",
    "\n",
    "    end\n",
    "end\n",
    "    \n",
    "    "
   ]
  },
  {
   "cell_type": "code",
   "execution_count": 22,
   "metadata": {},
   "outputs": [
    {
     "data": {
      "text/plain": [
       "2-element Array{Float64,1}:\n",
       " 0.0\n",
       " 0.0"
      ]
     },
     "execution_count": 22,
     "metadata": {},
     "output_type": "execute_result"
    }
   ],
   "source": [
    "f=ones(12000)\n",
    "h=0\n",
    "lambda_1= zeros(12000,nrow(zone_summary),maximum(zone_summary.Nodes_Total),S)\n",
    "lambda_2= zeros(12000,nrow(zone_summary),maximum(zone_summary.Nodes_Total),S)\n",
    "lambda_3 = zeros(12000,nrow(zone_summary),maximum(zone_summary.Nodes_Total),S)\n",
    "\n",
    "angle_1 = zeros(12000,nrow(zone_summary),maximum(zone_summary.Nodes_Total),S)\n",
    "angle_2 = zeros(12000,nrow(zone_summary),maximum(zone_summary.Nodes_Total),S)\n",
    "angle_3 = zeros(12000,nrow(zone_summary),maximum(zone_summary.Nodes_Total),S)\n",
    "\n",
    "cand_flow_1 =zeros(12000,nrow(shared_cand),S)\n",
    "cand_flow_2 =zeros(12000,nrow(shared_cand),S)\n",
    "cand_flow_3 =zeros(12000,nrow(shared_cand),S)\n",
    "\n",
    "ex_flow_1 = zeros(12000,nrow(shared_ex),S)\n",
    "ex_flow_2 = zeros(12000,nrow(shared_ex),S)\n",
    "ex_flow_3 = zeros(12000,nrow(shared_ex),S)\n",
    "\n",
    "int_cand_flow_1 = zeros(12000,nrow(int_c(1)),S)\n",
    "int_cand_flow_2 = zeros(12000,nrow(int_c(2)),S)\n",
    "int_cand_flow_3 = zeros(12000,nrow(int_c(3)),S)\n",
    "\n",
    "gen_1 = zeros(12000,zone_summary.Nodes_Total[1],S)\n",
    "gen_2 = zeros(12000,zone_summary.Nodes_Total[2],S)\n",
    "gen_3 = zeros(12000,zone_summary.Nodes_Total[3],S)\n",
    "\n",
    "iter = 0\n",
    "\n",
    "\n",
    "\n",
    "shared_line_decision_var_m =  \n",
    "[0.0\n",
    " 0.0\n",
    " 0.0\n",
    " 1.0\n",
    " 0.0\n",
    " 0.0]\n",
    "int_line_decision_var_1 =\n",
    "[0.0\n",
    " 0.0\n",
    " 0.0\n",
    " 0.0\n",
    " 0.0\n",
    " 0.0\n",
    " 0.0\n",
    " 0.0\n",
    " 0.0\n",
    " 0.0]\n",
    "int_line_decision_var_2 =\n",
    "[0.0\n",
    " 0.0\n",
    " 0.0\n",
    " 0.0\n",
    " 0.0\n",
    " 0.0\n",
    " 0.0\n",
    " 0.0\n",
    " 0.0\n",
    " 0.0\n",
    " 0.0\n",
    " 0.0\n",
    " 0.0\n",
    " 0.0\n",
    " 0.0\n",
    " 0.0\n",
    " 0.0\n",
    " 0.0]\n",
    "int_line_decision_var_3 =\n",
    "[0.0\n",
    " 0.00]"
   ]
  },
  {
   "cell_type": "code",
   "execution_count": 23,
   "metadata": {},
   "outputs": [
    {
     "ename": "LoadError",
     "evalue": "UndefVarError: Gurobi not defined",
     "output_type": "error",
     "traceback": [
      "UndefVarError: Gurobi not defined",
      "",
      "Stacktrace:",
      " [1] zonal_app(::Int64, ::Int64, ::Int64, ::Array{Float64,3}, ::Array{Float64,1}, ::Array{Float64,1}, ::Array{Float64,3}, ::Array{Float64,3}, ::Array{Float64,3}, ::Array{Float64,3}, ::Array{Float64,3}, ::Array{Float64,3}) at ./In[21]:3",
      " [2] top-level scope at ./In[23]:6",
      " [3] include_string(::Function, ::Module, ::String, ::String) at ./loading.jl:1091"
     ]
    }
   ],
   "source": [
    "    j = 2\n",
    "    max_iter = 5000\n",
    "    for j in 2:max_iter    # It considers 1000 iteration\n",
    "        if abs(f[j-1]) > 0.0005  \n",
    "         \n",
    "            R_1 = zonal_app(1, 14, S, lambda_1[j,:,:,:], shared_line_decision_var_m, int_line_decision_var_1,\n",
    "            angle_1[j-1,:,:,:], angle_2[j-1,:,:,:], angle_3[j-1,:,:,:], bin(1,14,S), bin(2,30,S), bin(3,5,S))\n",
    "        \n",
    "            R_2 = zonal_app(2, 30, S, lambda_2[j,:,:,:], shared_line_decision_var_m, int_line_decision_var_2,\n",
    "            angle_2[j-1,:,:,:], angle_1[j-1,:,:,:], angle_3[j-1,:,:,:], bin(2,30,S), bin(1,14,S), bin(3,5,S))\n",
    "        \n",
    "            R_3 = zonal_app(3, 5, S, lambda_3[j,:,:,:], shared_line_decision_var_m, int_line_decision_var_3,\n",
    "            angle_3[j-1,:,:,:], angle_1[j-1,:,:,:], angle_2[j-1,:,:,:], bin(3,5,S), bin(1,14,S), bin(2,30,S))\n",
    "        \n",
    "            \n",
    "        \n",
    "        \n",
    "            lambda_1[j+1,:,:,:] .= bin(1,14,S) .* lambda_1[j,:,:,:] \n",
    "                .+ 0.0001 * bin(1,14,S) .* not_shared .* (R_1[3] .- (bin(2,30,S) .* R_2[3] .+ bin(3,5,S) .* R_3[3]))\n",
    "                .+ 0.0001 * bin(1,14,S) .* shared .* (R_1[3] .- (bin(2,30,S) .* R_2[3] .+ bin(3,5,S) .* R_3[3]) ./ 2)\n",
    "            lambda_2[j+1,:,:,:] .= bin(2,30,S) .* lambda_2[j,:,:,:] \n",
    "                .+ 0.0001 * bin(2,30,S) .* not_shared .* (R_2[3] .- (bin(1,14,S) .* R_1[3] .+ bin(3,5,S) .* R_3[3]))\n",
    "                .+ 0.0001 * bin(2,30,S) .* shared .* (R_2[3] .- (bin(1,14,S) .* R_1[3] .+ bin(3,5,S) .* R_3[3]) ./ 2)\n",
    "            lambda_3[j+1,:,:,:] .= bin(3,5,S) .* lambda_3[j,:,:,:] \n",
    "                .+ 0.0001 * bin(3,5,S).* not_shared .* (R_3[3] .- (bin(1,14,S) .* R_1[3] .+ bin(2,30,S) .* R_2[3]))\n",
    "                .+ 0.0001 * bin(3,5,S).* shared .* (R_3[3] .- (bin(1,14,S) .* R_1[3] .+ bin(2,30,S) .* R_2[3]) ./ 2)\n",
    "        \n",
    "        \n",
    "        \n",
    "            angle_1[j,:,:,:] = R_1[3]\n",
    "            angle_2[j,:,:,:] = R_2[3]\n",
    "            angle_3[j,:,:,:] = R_3[3]\n",
    "            \n",
    "            cand_flow_1[j,:,:] = R_1[2] .* 100\n",
    "            cand_flow_2[j,:,:] = R_2[2] .* 100\n",
    "            cand_flow_3[j,:,:] = R_3[2] .* 100\n",
    "        \n",
    "            ex_flow_1[j,:,:] = R_1[4] .* 100\n",
    "            ex_flow_2[j,:,:] = R_2[4] .* 100\n",
    "            ex_flow_3[j,:,:] = R_3[4] .* 100\n",
    "        \n",
    "            gen_1[j,:,:] = R_1[5] .* 100\n",
    "            gen_2[j,:,:] = R_2[5] .* 100\n",
    "            gen_3[j,:,:] = R_3[5] .* 100\n",
    "        \n",
    "            \n",
    "            f[j] = sum(sum(bin(1,14,S) .* not_shared .* (R_1[3] .- (bin(2,30,S) .* R_2[3] .+ bin(3,5,S) .* R_3[3])) .^ 2)) +\n",
    "                    sum(sum(bin(2,30,S) .* not_shared .* (R_2[3] .- (bin(1,14,S) .* R_1[3] .+ bin(3,5,S) .* R_3[3])) .^ 2)) +\n",
    "                    sum(sum(bin(3,5,S).* not_shared .* (R_3[3] .- (bin(1,14,S) .* R_1[3] .+ bin(2,30,S) .* R_2[3])) .^ 2)) +\n",
    "                    sum(sum(bin(1,14,S) .* shared .* (R_1[3] .- (bin(2,30,S) .* R_2[3] .+ bin(3,5,S) .* R_3[3])./ 2) .^ 2)) +\n",
    "                    sum(sum(bin(2,30,S) .* shared .* (R_2[3] .- (bin(1,14,S) .* R_1[3] .+ bin(3,5,S) .* R_3[3])./ 2) .^ 2)) +\n",
    "                    sum(sum(bin(3,5,S).* shared .* (R_3[3] .- (bin(1,14,S) .* R_1[3] .+ bin(2,30,S) .* R_2[3])./ 2) .^ 2))\n",
    "\n",
    "            h= R_2[1] + R_1[1] + R_3[1]\n",
    "            \n",
    "            if isdefined(Main, :IJulia)\n",
    "                Main.IJulia.stdio_bytes[] = 0\n",
    "            end\n",
    "        \n",
    "            print('*') \n",
    "        \n",
    "        else\n",
    "            iter = j-1\n",
    "            print(iter)\n",
    "            break\n",
    "        end\n",
    "    end\n",
    "    "
   ]
  },
  {
   "cell_type": "code",
   "execution_count": null,
   "metadata": {},
   "outputs": [],
   "source": [
    "if iter == 0\n",
    "    iter = max_iter\n",
    "end"
   ]
  },
  {
   "cell_type": "code",
   "execution_count": null,
   "metadata": {},
   "outputs": [],
   "source": [
    "iter"
   ]
  },
  {
   "cell_type": "code",
   "execution_count": null,
   "metadata": {},
   "outputs": [],
   "source": [
    "h #OF of the second stage"
   ]
  },
  {
   "cell_type": "code",
   "execution_count": null,
   "metadata": {},
   "outputs": [],
   "source": [
    "f[iter]"
   ]
  },
  {
   "cell_type": "code",
   "execution_count": null,
   "metadata": {},
   "outputs": [],
   "source": [
    "using Plots\n",
    "plot(2:iter,f[2:iter])"
   ]
  },
  {
   "cell_type": "code",
   "execution_count": null,
   "metadata": {},
   "outputs": [],
   "source": [
    "bin(1,14,S) .* bin(3,5,S) .* (angle_1[iter,:,:,:]-angle_3[iter,:,:,:])"
   ]
  },
  {
   "cell_type": "code",
   "execution_count": null,
   "metadata": {},
   "outputs": [],
   "source": [
    "angle_1[iter,:,:,:]"
   ]
  },
  {
   "cell_type": "code",
   "execution_count": null,
   "metadata": {},
   "outputs": [],
   "source": [
    "angle_2[iter,:,:,:]"
   ]
  },
  {
   "cell_type": "code",
   "execution_count": null,
   "metadata": {},
   "outputs": [],
   "source": [
    "angle_3[iter,:,:,:]"
   ]
  },
  {
   "cell_type": "code",
   "execution_count": null,
   "metadata": {},
   "outputs": [],
   "source": [
    "bin_c(1)"
   ]
  },
  {
   "cell_type": "code",
   "execution_count": null,
   "metadata": {},
   "outputs": [],
   "source": [
    "bin_c(2)"
   ]
  },
  {
   "cell_type": "code",
   "execution_count": null,
   "metadata": {},
   "outputs": [],
   "source": [
    "bin_c(3)"
   ]
  },
  {
   "cell_type": "code",
   "execution_count": null,
   "metadata": {},
   "outputs": [],
   "source": [
    "cand_flow_1[iter,:,:]"
   ]
  },
  {
   "cell_type": "code",
   "execution_count": null,
   "metadata": {},
   "outputs": [],
   "source": [
    "cand_flow_2[iter,:,:]"
   ]
  },
  {
   "cell_type": "code",
   "execution_count": null,
   "metadata": {},
   "outputs": [],
   "source": [
    "cand_flow_3[iter,:,:]"
   ]
  },
  {
   "cell_type": "code",
   "execution_count": null,
   "metadata": {},
   "outputs": [],
   "source": [
    "ex_flow_1[iter,:,:]"
   ]
  },
  {
   "cell_type": "code",
   "execution_count": null,
   "metadata": {},
   "outputs": [],
   "source": [
    "ex_flow_2[iter,:,:]"
   ]
  },
  {
   "cell_type": "code",
   "execution_count": null,
   "metadata": {},
   "outputs": [],
   "source": [
    "ex_flow_3[iter,:,:]"
   ]
  },
  {
   "cell_type": "code",
   "execution_count": null,
   "metadata": {},
   "outputs": [],
   "source": [
    "gen_1[iter,:,:]"
   ]
  },
  {
   "cell_type": "code",
   "execution_count": null,
   "metadata": {},
   "outputs": [],
   "source": [
    "gen_2[iter,:,:]"
   ]
  },
  {
   "cell_type": "code",
   "execution_count": null,
   "metadata": {},
   "outputs": [],
   "source": [
    "gen_3[iter,:,:]"
   ]
  },
  {
   "cell_type": "code",
   "execution_count": null,
   "metadata": {},
   "outputs": [],
   "source": [
    "gen_2[iter,:,:]"
   ]
  },
  {
   "cell_type": "code",
   "execution_count": null,
   "metadata": {},
   "outputs": [],
   "source": []
  },
  {
   "cell_type": "code",
   "execution_count": null,
   "metadata": {},
   "outputs": [],
   "source": []
  },
  {
   "cell_type": "code",
   "execution_count": null,
   "metadata": {},
   "outputs": [],
   "source": []
  },
  {
   "cell_type": "code",
   "execution_count": null,
   "metadata": {},
   "outputs": [],
   "source": []
  }
 ],
 "metadata": {
  "kernelspec": {
   "display_name": "Julia 1.5.3",
   "language": "julia",
   "name": "julia-1.5"
  },
  "language_info": {
   "file_extension": ".jl",
   "mimetype": "application/julia",
   "name": "julia",
   "version": "1.5.3"
  }
 },
 "nbformat": 4,
 "nbformat_minor": 4
}
