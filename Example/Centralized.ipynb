{
 "cells": [
  {
   "cell_type": "markdown",
   "metadata": {},
   "source": [
    "# Centralized Solution of Multi-Regional Transmission Expansion Horizontal Investment Coordination Problem"
   ]
  },
  {
   "attachments": {},
   "cell_type": "markdown",
   "metadata": {},
   "source": [
    "This notebook contains code for a three zone test case. The case consists of an artificial merging of IEEE 14 nodes, IEEE 30 nodes, and a 5 node test system, respectively, for each zone. This notebook assumes there is a single entity (e.g. national planner) to solve the optimization problem centrally.\n",
    "Results from this notebook serve a benchmark for the decentralized algorithms. "
   ]
  },
  {
   "cell_type": "code",
   "execution_count": 6,
   "metadata": {},
   "outputs": [
    {
     "name": "stderr",
     "output_type": "stream",
     "text": [
      "\u001b[32m\u001b[1m   Resolving\u001b[22m\u001b[39m package versions...\n",
      "\u001b[32m\u001b[1m  No Changes\u001b[22m\u001b[39m to `~/Git/Horizontal_Proper/Example/CentJulEnv/Project.toml`\n",
      "\u001b[32m\u001b[1m  No Changes\u001b[22m\u001b[39m to `~/Git/Horizontal_Proper/Example/CentJulEnv/Manifest.toml`\n",
      "\u001b[32m\u001b[1m   Resolving\u001b[22m\u001b[39m package versions...\n",
      "\u001b[32m\u001b[1m  No Changes\u001b[22m\u001b[39m to `~/Git/Horizontal_Proper/Example/CentJulEnv/Project.toml`\n",
      "\u001b[32m\u001b[1m  No Changes\u001b[22m\u001b[39m to `~/Git/Horizontal_Proper/Example/CentJulEnv/Manifest.toml`\n",
      "\u001b[32m\u001b[1m   Resolving\u001b[22m\u001b[39m package versions...\n",
      "\u001b[32m\u001b[1m  No Changes\u001b[22m\u001b[39m to `~/Git/Horizontal_Proper/Example/CentJulEnv/Project.toml`\n",
      "\u001b[32m\u001b[1m  No Changes\u001b[22m\u001b[39m to `~/Git/Horizontal_Proper/Example/CentJulEnv/Manifest.toml`\n",
      "\u001b[32m\u001b[1m   Resolving\u001b[22m\u001b[39m package versions...\n",
      "\u001b[32m\u001b[1m  No Changes\u001b[22m\u001b[39m to `~/Git/Horizontal_Proper/Example/CentJulEnv/Project.toml`\n",
      "\u001b[32m\u001b[1m  No Changes\u001b[22m\u001b[39m to `~/Git/Horizontal_Proper/Example/CentJulEnv/Manifest.toml`\n",
      "\u001b[32m\u001b[1m   Resolving\u001b[22m\u001b[39m package versions...\n",
      "\u001b[32m\u001b[1m  No Changes\u001b[22m\u001b[39m to `~/Git/Horizontal_Proper/Example/CentJulEnv/Project.toml`\n",
      "\u001b[32m\u001b[1m  No Changes\u001b[22m\u001b[39m to `~/Git/Horizontal_Proper/Example/CentJulEnv/Manifest.toml`\n",
      "\u001b[32m\u001b[1m   Resolving\u001b[22m\u001b[39m package versions...\n",
      "\u001b[32m\u001b[1m  No Changes\u001b[22m\u001b[39m to `~/Git/Horizontal_Proper/Example/CentJulEnv/Project.toml`\n",
      "\u001b[32m\u001b[1m  No Changes\u001b[22m\u001b[39m to `~/Git/Horizontal_Proper/Example/CentJulEnv/Manifest.toml`\n",
      "\u001b[32m\u001b[1m   Resolving\u001b[22m\u001b[39m package versions...\n",
      "\u001b[32m\u001b[1m  No Changes\u001b[22m\u001b[39m to `~/Git/Horizontal_Proper/Example/CentJulEnv/Project.toml`\n",
      "\u001b[32m\u001b[1m  No Changes\u001b[22m\u001b[39m to `~/Git/Horizontal_Proper/Example/CentJulEnv/Manifest.toml`\n",
      "\u001b[32m\u001b[1m   Resolving\u001b[22m\u001b[39m package versions...\n",
      "\u001b[32m\u001b[1m  No Changes\u001b[22m\u001b[39m to `~/Git/Horizontal_Proper/Example/CentJulEnv/Project.toml`\n",
      "\u001b[32m\u001b[1m  No Changes\u001b[22m\u001b[39m to `~/Git/Horizontal_Proper/Example/CentJulEnv/Manifest.toml`\n",
      "\u001b[32m\u001b[1m   Resolving\u001b[22m\u001b[39m package versions...\n",
      "\u001b[32m\u001b[1m  No Changes\u001b[22m\u001b[39m to `~/Git/Horizontal_Proper/Example/CentJulEnv/Project.toml`\n",
      "\u001b[32m\u001b[1m  No Changes\u001b[22m\u001b[39m to `~/Git/Horizontal_Proper/Example/CentJulEnv/Manifest.toml`\n",
      "\u001b[32m\u001b[1m   Resolving\u001b[22m\u001b[39m package versions...\n",
      "\u001b[32m\u001b[1m  No Changes\u001b[22m\u001b[39m to `~/Git/Horizontal_Proper/Example/CentJulEnv/Project.toml`\n",
      "\u001b[32m\u001b[1m  No Changes\u001b[22m\u001b[39m to `~/Git/Horizontal_Proper/Example/CentJulEnv/Manifest.toml`\n",
      "\u001b[32m\u001b[1m   Resolving\u001b[22m\u001b[39m package versions...\n",
      "\u001b[32m\u001b[1m  No Changes\u001b[22m\u001b[39m to `~/Git/Horizontal_Proper/Example/CentJulEnv/Project.toml`\n",
      "\u001b[32m\u001b[1m  No Changes\u001b[22m\u001b[39m to `~/Git/Horizontal_Proper/Example/CentJulEnv/Manifest.toml`\n",
      "\u001b[32m\u001b[1m   Resolving\u001b[22m\u001b[39m package versions...\n",
      "\u001b[32m\u001b[1m  No Changes\u001b[22m\u001b[39m to `~/Git/Horizontal_Proper/Example/CentJulEnv/Project.toml`\n",
      "\u001b[32m\u001b[1m  No Changes\u001b[22m\u001b[39m to `~/Git/Horizontal_Proper/Example/CentJulEnv/Manifest.toml`\n",
      "\u001b[32m\u001b[1m   Resolving\u001b[22m\u001b[39m package versions...\n",
      "\u001b[32m\u001b[1m  No Changes\u001b[22m\u001b[39m to `~/Git/Horizontal_Proper/Example/CentJulEnv/Project.toml`\n",
      "\u001b[32m\u001b[1m  No Changes\u001b[22m\u001b[39m to `~/Git/Horizontal_Proper/Example/CentJulEnv/Manifest.toml`\n",
      "\u001b[32m\u001b[1m   Resolving\u001b[22m\u001b[39m package versions...\n",
      "\u001b[32m\u001b[1m  No Changes\u001b[22m\u001b[39m to `~/Git/Horizontal_Proper/Example/CentJulEnv/Project.toml`\n",
      "\u001b[32m\u001b[1m  No Changes\u001b[22m\u001b[39m to `~/Git/Horizontal_Proper/Example/CentJulEnv/Manifest.toml`\n",
      "\u001b[32m\u001b[1m   Resolving\u001b[22m\u001b[39m package versions...\n",
      "\u001b[32m\u001b[1m  No Changes\u001b[22m\u001b[39m to `~/Git/Horizontal_Proper/Example/CentJulEnv/Project.toml`\n",
      "\u001b[32m\u001b[1m  No Changes\u001b[22m\u001b[39m to `~/Git/Horizontal_Proper/Example/CentJulEnv/Manifest.toml`\n",
      "\u001b[32m\u001b[1m   Resolving\u001b[22m\u001b[39m package versions...\n",
      "\u001b[32m\u001b[1m  No Changes\u001b[22m\u001b[39m to `~/Git/Horizontal_Proper/Example/CentJulEnv/Project.toml`\n",
      "\u001b[32m\u001b[1m  No Changes\u001b[22m\u001b[39m to `~/Git/Horizontal_Proper/Example/CentJulEnv/Manifest.toml`\n",
      "\u001b[32m\u001b[1m   Resolving\u001b[22m\u001b[39m package versions...\n",
      "\u001b[32m\u001b[1m  No Changes\u001b[22m\u001b[39m to `~/Git/Horizontal_Proper/Example/CentJulEnv/Project.toml`\n",
      "\u001b[32m\u001b[1m  No Changes\u001b[22m\u001b[39m to `~/Git/Horizontal_Proper/Example/CentJulEnv/Manifest.toml`\n",
      "\u001b[32m\u001b[1m   Resolving\u001b[22m\u001b[39m package versions...\n",
      "\u001b[32m\u001b[1m  No Changes\u001b[22m\u001b[39m to `~/Git/Horizontal_Proper/Example/CentJulEnv/Project.toml`\n",
      "\u001b[32m\u001b[1m  No Changes\u001b[22m\u001b[39m to `~/Git/Horizontal_Proper/Example/CentJulEnv/Manifest.toml`\n",
      "\u001b[32m\u001b[1m   Resolving\u001b[22m\u001b[39m package versions...\n",
      "\u001b[32m\u001b[1m  No Changes\u001b[22m\u001b[39m to `~/Git/Horizontal_Proper/Example/CentJulEnv/Project.toml`\n",
      "\u001b[32m\u001b[1m  No Changes\u001b[22m\u001b[39m to `~/Git/Horizontal_Proper/Example/CentJulEnv/Manifest.toml`\n",
      "\u001b[32m\u001b[1m   Resolving\u001b[22m\u001b[39m package versions...\n",
      "\u001b[32m\u001b[1m  No Changes\u001b[22m\u001b[39m to `~/Git/Horizontal_Proper/Example/CentJulEnv/Project.toml`\n",
      "\u001b[32m\u001b[1m  No Changes\u001b[22m\u001b[39m to `~/Git/Horizontal_Proper/Example/CentJulEnv/Manifest.toml`\n"
     ]
    },
    {
     "name": "stdout",
     "output_type": "stream",
     "text": [
      "Activating the Julia virtual environment\n"
     ]
    }
   ],
   "source": [
    "# activate julia environment in a controlled way\n",
    "julia_environment = \"../central_control_PyJuMP/Julia_src/activate.jl\"\n",
    "include(julia_environment)"
   ]
  },
  {
   "cell_type": "code",
   "execution_count": 1,
   "metadata": {},
   "outputs": [
    {
     "name": "stdout",
     "output_type": "stream",
     "text": [
      "\u001b[32m\u001b[1mStatus\u001b[22m\u001b[39m `~/.julia/environments/v1.8/Project.toml`\n",
      " \u001b[90m [9961bab8] \u001b[39mCbc v1.0.3\n",
      "\u001b[32m⌃\u001b[39m\u001b[90m [a93c6f00] \u001b[39mDataFrames v1.4.4\n",
      "\u001b[32m⌃\u001b[39m\u001b[90m [60bf3e95] \u001b[39mGLPK v1.1.0\n",
      "\u001b[32m⌃\u001b[39m\u001b[90m [87dc4568] \u001b[39mHiGHS v1.4.1\n",
      " \u001b[90m [7073ff75] \u001b[39mIJulia v1.24.0\n",
      "\u001b[32m⌃\u001b[39m\u001b[90m [b6b21f68] \u001b[39mIpopt v1.1.0\n",
      "\u001b[32m⌃\u001b[39m\u001b[90m [4076af6c] \u001b[39mJuMP v1.6.0\n",
      " \u001b[90m [8162dcfd] \u001b[39mPrettyPrint v0.2.0\n",
      "\u001b[32m⌃\u001b[39m\u001b[90m [82193955] \u001b[39mSCIP v0.11.6\n",
      " \u001b[90m [fdbf4ff8] \u001b[39mXLSX v0.8.4\n",
      "\u001b[36m\u001b[1mInfo\u001b[22m\u001b[39m Packages marked with \u001b[32m⌃\u001b[39m have new versions available and may be upgradable.\n"
     ]
    }
   ],
   "source": [
    "# activate required packages\n",
    "using Pkg\n",
    "using JuMP\n",
    "using GLPK\n",
    "using HiGHS\n",
    "#using Gurobi\n",
    "#using CPLEX\n",
    "#using Xpress\n",
    "#using Cbc\n",
    "#using Clp\n",
    "using XLSX\n",
    "using DataFrames\n",
    "using PrettyPrint\n",
    "\n",
    "# print package status\n",
    "Pkg.status()"
   ]
  },
  {
   "cell_type": "markdown",
   "metadata": {},
   "source": [
    "#### The next code block reads the different files corresponding to shared candidate lines, internal candidate lines, shared existing lines, internal existing lines, generators, and load"
   ]
  },
  {
   "cell_type": "code",
   "execution_count": 5,
   "metadata": {},
   "outputs": [
    {
     "ename": "UndefVarError",
     "evalue": "UndefVarError: XLSX not defined",
     "output_type": "error",
     "traceback": [
      "UndefVarError: XLSX not defined\n",
      "\n",
      "Stacktrace:\n",
      " [1] top-level scope\n",
      "   @ ~/Git/Horizontal_Proper/Example/Centralized.ipynb:1"
     ]
    }
   ],
   "source": [
    "shared_cand = DataFrame(XLSX.readtable(\"../Input_Data/CandLine.csv\", \"Taul1\", header=true)) #Dataframe of shared candidate lines\n",
    "int_cand =  DataFrame(XLSX.readtable(\"../Input_Data/CandLineInt.csv\", \"Taul1\", header=true)) #Dataframe of internal candidate lines\n",
    "shared_ex =  DataFrame(XLSX.readtable(\"../Input_Data/SharedEline.csv\", \"Taul1\", header=true)) #Dataframe of shared existing lines\n",
    "int_ex = DataFrame(XLSX.readtable(\"../Input_Data/Tran.csv\", \"Taul1\", header=true)) #Dataframe of internal existing lines\n",
    "gen =  DataFrame(XLSX.readtable(\"../Input_Data/Gen.csv\" , \"Taul1\", header=true)) #Dataframe of generators\n",
    "load =  DataFrame(XLSX.readtable(\"../Input_Data/Load.csv\", \"Taul1\", header=true)) #Dataframe of loads\n",
    "scen_prob = DataFrame(CSV.File(\"../Input_Data/Scenario_Probability.csv\", header=true)) #Dataframe of scenario probabilities\n",
    "zone_summary = DataFrame(CSV.File(\"../Input_Data/Zone_Summary.csv\", header=true)) #Dataframe of region-number of nodes"
   ]
  },
  {
   "cell_type": "markdown",
   "metadata": {},
   "source": [
    "#### The following code-section constructs several DataFrames for each zone or region, for loads within a particular zone, generators within a particular zone, shared candidate lines originating from or terminating within a particular zone, internal candidate lines within a particular zone, shared existing lines originating from or terminating within a particular zone, internal existing lines within a particular zone, marginal costs of generators within a particular zone, and two binary vectors for each zone, one for checking which all shared candidate lines belong to a particular zone and the other for checking which all shared existing lines belong to a particular zone."
   ]
  },
  {
   "cell_type": "code",
   "execution_count": 5,
   "metadata": {},
   "outputs": [
    {
     "data": {
      "text/plain": [
       "scen_weight (generic function with 1 method)"
      ]
     },
     "execution_count": 5,
     "metadata": {},
     "output_type": "execute_result"
    }
   ],
   "source": [
    "l(i,s) = load[load.zoneNum .== i, [1,2,s+2]] # load within zone i\n",
    "g(i) = gen[gen.zoneNum .== i, :]   # generators within zone i\n",
    "shared_c(i) = vcat(shared_cand[shared_cand.nodeZone1 .== i,:] , shared_cand[shared_cand.nodeZone2 .== i, :]) #shared candidate lines within zone i\n",
    "int_c(i) = int_cand[int_cand.zoneNum .== i, :]   # number of internal candidate lines within zone i\n",
    "shared_e(i) = vcat(shared_ex[shared_ex.nodeZone1 .== i,:] , shared_ex[shared_ex.nodeZone2 .== i, :]) #shared existing lines within zone i\n",
    "int_e(i) =int_ex[int_ex.zoneNum .== i, :]       # internal existing lines within zone i\n",
    "MC(i) = (g(i).C2 .* (g(i).PgMax .^ 2) .+ g(i).C1 .* g(i).PgMax .- g(i).C2 .*(g(i).PgMin .^ 2) .- g(i).C1.* g(i).PgMin) ./ (g(i).PgMax .- g(i).PgMin) #Marginal cost of generators within zone i\n",
    "bin_c(i) = (shared_cand.nodeZone1 .== i) + (shared_cand.nodeZone2 .== i) # A binary vector through which we can check if the shared candidate lines belong to zone i\n",
    "bin_e(i) = (shared_ex.nodeZone1 .== i) + (shared_ex.nodeZone2 .== i) # A binary vector through which we can check if the shared existing lines belong to zone i\n",
    "scen_weight(s) = scen_prob.scen_weight[scen_prob.scenario .== s,:]"
   ]
  },
  {
   "cell_type": "markdown",
   "metadata": {},
   "source": [
    "#### Constructing the optimization model with a specified solver"
   ]
  },
  {
   "cell_type": "code",
   "execution_count": 6,
   "metadata": {},
   "outputs": [
    {
     "data": {
      "text/plain": [
       "A JuMP Model\n",
       "Feasibility problem with:\n",
       "Variables: 0\n",
       "Model mode: AUTOMATIC\n",
       "CachingOptimizer state: EMPTY_OPTIMIZER\n",
       "Solver name: GLPK"
      ]
     },
     "execution_count": 6,
     "metadata": {},
     "output_type": "execute_result"
    }
   ],
   "source": [
    "Mod3 = Model(GLPK.Optimizer) #use different solver e.g. IPOPT, GLPK"
   ]
  },
  {
   "cell_type": "code",
   "execution_count": 7,
   "metadata": {},
   "outputs": [],
   "source": [
    "zone_number = 3; #number of zones to consider"
   ]
  },
  {
   "cell_type": "code",
   "execution_count": 8,
   "metadata": {},
   "outputs": [
    {
     "data": {
      "text/plain": [
       "7×4 Array{VariableRef,2}:\n",
       " int_ex_flow_3[1,1]  int_ex_flow_3[1,2]  …  int_ex_flow_3[1,4]\n",
       " int_ex_flow_3[2,1]  int_ex_flow_3[2,2]     int_ex_flow_3[2,4]\n",
       " int_ex_flow_3[3,1]  int_ex_flow_3[3,2]     int_ex_flow_3[3,4]\n",
       " int_ex_flow_3[4,1]  int_ex_flow_3[4,2]     int_ex_flow_3[4,4]\n",
       " int_ex_flow_3[5,1]  int_ex_flow_3[5,2]     int_ex_flow_3[5,4]\n",
       " int_ex_flow_3[6,1]  int_ex_flow_3[6,2]  …  int_ex_flow_3[6,4]\n",
       " int_ex_flow_3[7,1]  int_ex_flow_3[7,2]     int_ex_flow_3[7,4]"
      ]
     },
     "execution_count": 8,
     "metadata": {},
     "output_type": "execute_result"
    }
   ],
   "source": [
    "@variable(Mod3,0 <= gen_var_1[1:14,1:nrow(scen_prob)]) # generation at node 1\n",
    "@variable(Mod3,0 <= gen_var_2[1:30,1:nrow(scen_prob)]) # generation at node 2\n",
    "@variable(Mod3,0 <= gen_var_3[1:5,1:nrow(scen_prob)]) # generation at node 3\n",
    "\n",
    "@variable(Mod3,shared_line_decision_var[1:nrow(shared_cand)], Bin) #Decision variable for shared candidate lines\n",
    "\n",
    "@variable(Mod3,int_line_decision_var_1[1:nrow(int_c(1))], Bin) #Decision variable for internal candidate lines of zone 1 (Binary)\n",
    "@variable(Mod3,int_line_decision_var_2[1:nrow(int_c(2))], Bin) #Decision variable for internal candidate lines of zone 2 (Binary)\n",
    "@variable(Mod3,int_line_decision_var_3[1:nrow(int_c(3))], Bin) #Decision variable for internal candidate lines of zone 3 (Binary)\n",
    "\n",
    "@variable(Mod3,shared_cand_flow[1:nrow(shared_cand),1:nrow(scen_prob)])  #Power flowing on shared candidate lines \n",
    "\n",
    "@variable(Mod3, int_cand_flow_1[1:nrow(int_c(1)),1:nrow(scen_prob)]) #Power flowing on internal candidate lines of zone 1 \n",
    "@variable(Mod3, int_cand_flow_2[1:nrow(int_c(2)),1:nrow(scen_prob)]) #Power flowing on internal candidate lines of zone 2\n",
    "@variable(Mod3, int_cand_flow_3[1:nrow(int_c(3)),1:nrow(scen_prob)]) #Power flowing on internal candidate lines of zone 3\n",
    "\n",
    "@variable(Mod3, 0 <= node_voltage_phase_angle[i=1:nrow(zone_summary),j=1:zone_summary.Nodes_Total[i], 1:nrow(scen_prob)]<= 2*pi)\n",
    "\n",
    "@variable(Mod3, shared_ex_flow[1:nrow(shared_ex),1:nrow(scen_prob)])  #Power flowing on shared existing shared lines\n",
    "\n",
    "@variable(Mod3, int_ex_flow_1[1:nrow(int_e(1)),1:nrow(scen_prob)])  #Power flowing on internal existing lines of zone 1 \n",
    "@variable(Mod3, int_ex_flow_2[1:nrow(int_e(2)),1:nrow(scen_prob)])  #Power flowing on internal existing lines of zone 2\n",
    "@variable(Mod3, int_ex_flow_3[1:nrow(int_e(3)),1:nrow(scen_prob)])  #Power flowing on internal existing lines of zone 3\n"
   ]
  },
  {
   "cell_type": "code",
   "execution_count": 9,
   "metadata": {},
   "outputs": [
    {
     "data": {
      "text/plain": [
       "0"
      ]
     },
     "execution_count": 9,
     "metadata": {},
     "output_type": "execute_result"
    }
   ],
   "source": [
    "@expression(Mod3,total_cost,0)"
   ]
  },
  {
   "cell_type": "code",
   "execution_count": 10,
   "metadata": {},
   "outputs": [
    {
     "data": {
      "text/plain": [
       "4-element Array{GenericAffExpr{Float64,VariableRef},1}:\n",
       " 8.57573483 gen_var_1[1,1] + 13.75 gen_var_1[2,1]\n",
       " 8.57573483 gen_var_1[1,2] + 13.75 gen_var_1[2,2]\n",
       " 8.57573483 gen_var_1[1,3] + 13.75 gen_var_1[2,3]\n",
       " 8.57573483 gen_var_1[1,4] + 13.75 gen_var_1[2,4]"
      ]
     },
     "execution_count": 10,
     "metadata": {},
     "output_type": "execute_result"
    }
   ],
   "source": [
    "@expression(Mod3, gen_costNS1[n=1:14,s=1:nrow(scen_prob)], (gen_var_1[n,s] .* sum((g(1).gNodeID .== n) .* MC(1))))\n",
    "@expression(Mod3, gen_cost_prob_weightedS1[s=1:nrow(scen_prob)], (scen_weight(s)[1]).*sum(gen_costNS1[n,s] for n in 1:14))"
   ]
  },
  {
   "cell_type": "code",
   "execution_count": 11,
   "metadata": {},
   "outputs": [
    {
     "data": {
      "text/latex": [
       "$$ 8.57573483 gen\\_var\\_1_{1,1} + 13.75 gen\\_var\\_1_{2,1} + 8.57573483 gen\\_var\\_1_{1,2} + 13.75 gen\\_var\\_1_{2,2} + 8.57573483 gen\\_var\\_1_{1,3} + 13.75 gen\\_var\\_1_{2,3} + 8.57573483 gen\\_var\\_1_{1,4} + 13.75 gen\\_var\\_1_{2,4} $$"
      ],
      "text/plain": [
       "8.57573483 gen_var_1[1,1] + 13.75 gen_var_1[2,1] + 8.57573483 gen_var_1[1,2] + 13.75 gen_var_1[2,2] + 8.57573483 gen_var_1[1,3] + 13.75 gen_var_1[2,3] + 8.57573483 gen_var_1[1,4] + 13.75 gen_var_1[2,4]"
      ]
     },
     "execution_count": 11,
     "metadata": {},
     "output_type": "execute_result"
    }
   ],
   "source": [
    "@expression(Mod3, gen_cost_expected1, sum(gen_cost_prob_weightedS1[s] for s in 1:nrow(scen_prob)))\n",
    "Mod3[:total_cost] += gen_cost_expected1"
   ]
  },
  {
   "cell_type": "code",
   "execution_count": 12,
   "metadata": {},
   "outputs": [
    {
     "data": {
      "text/plain": [
       "30×4 Array{GenericAffExpr{Float64,VariableRef},2}:\n",
       " 3.6 gen_var_2[1,1]     3.6 gen_var_2[1,2]     …  3.6 gen_var_2[1,4]\n",
       " 3.15 gen_var_2[2,1]    3.15 gen_var_2[2,2]       3.15 gen_var_2[2,4]\n",
       " 0                      0                         0\n",
       " 0                      0                         0\n",
       " 0                      0                         0\n",
       " 0                      0                      …  0\n",
       " 0                      0                         0\n",
       " 0                      0                         0\n",
       " 0                      0                         0\n",
       " 0                      0                         0\n",
       " 0                      0                      …  0\n",
       " 0                      0                         0\n",
       " 3.5 gen_var_2[13,1]    3.5 gen_var_2[13,2]       3.5 gen_var_2[13,4]\n",
       " ⋮                                             ⋱  \n",
       " 0                      0                         0\n",
       " 0                      0                         0\n",
       " 0                      0                      …  0\n",
       " 3.667 gen_var_2[22,1]  3.667 gen_var_2[22,2]     3.667 gen_var_2[22,4]\n",
       " 3.75 gen_var_2[23,1]   3.75 gen_var_2[23,2]      3.75 gen_var_2[23,4]\n",
       " 0                      0                         0\n",
       " 0                      0                         0\n",
       " 0                      0                      …  0\n",
       " 4.375 gen_var_2[27,1]  4.375 gen_var_2[27,2]     4.375 gen_var_2[27,4]\n",
       " 0                      0                         0\n",
       " 0                      0                         0\n",
       " 0                      0                         0"
      ]
     },
     "execution_count": 12,
     "metadata": {},
     "output_type": "execute_result"
    }
   ],
   "source": [
    "@expression(Mod3, gen_costNS2[n=1:30,s=1:nrow(scen_prob)], (gen_var_2[n,s] .* sum((g(2).gNodeID .== n) .* MC(2))))"
   ]
  },
  {
   "cell_type": "code",
   "execution_count": 13,
   "metadata": {},
   "outputs": [
    {
     "data": {
      "text/plain": [
       "4-element Array{GenericAffExpr{Float64,VariableRef},1}:\n",
       " 0.9 gen_var_2[1,1] + 0.7875 gen_var_2[2,1] + 0.875 gen_var_2[13,1] + 0.91675 gen_var_2[22,1] + 0.9375 gen_var_2[23,1] + 1.09375 gen_var_2[27,1]\n",
       " 0.9 gen_var_2[1,2] + 0.7875 gen_var_2[2,2] + 0.875 gen_var_2[13,2] + 0.91675 gen_var_2[22,2] + 0.9375 gen_var_2[23,2] + 1.09375 gen_var_2[27,2]\n",
       " 0.9 gen_var_2[1,3] + 0.7875 gen_var_2[2,3] + 0.875 gen_var_2[13,3] + 0.91675 gen_var_2[22,3] + 0.9375 gen_var_2[23,3] + 1.09375 gen_var_2[27,3]\n",
       " 0.9 gen_var_2[1,4] + 0.7875 gen_var_2[2,4] + 0.875 gen_var_2[13,4] + 0.91675 gen_var_2[22,4] + 0.9375 gen_var_2[23,4] + 1.09375 gen_var_2[27,4]"
      ]
     },
     "execution_count": 13,
     "metadata": {},
     "output_type": "execute_result"
    }
   ],
   "source": [
    "@expression(Mod3, gen_cost_prob_weightedS2[s=1:nrow(scen_prob)], (scen_weight(s)[1]).*sum(gen_costNS2[n,s] for n in 1:30))"
   ]
  },
  {
   "cell_type": "code",
   "execution_count": 14,
   "metadata": {},
   "outputs": [
    {
     "data": {
      "text/latex": [
       "$$ 0.9 gen\\_var\\_2_{1,1} + 0.7875 gen\\_var\\_2_{2,1} + 0.875 gen\\_var\\_2_{13,1} + 0.91675 gen\\_var\\_2_{22,1} + 0.9375 gen\\_var\\_2_{23,1} + 1.09375 gen\\_var\\_2_{27,1} + 0.9 gen\\_var\\_2_{1,2} + 0.7875 gen\\_var\\_2_{2,2} + 0.875 gen\\_var\\_2_{13,2} + 0.91675 gen\\_var\\_2_{22,2} + 0.9375 gen\\_var\\_2_{23,2} + 1.09375 gen\\_var\\_2_{27,2} + 0.9 gen\\_var\\_2_{1,3} + 0.7875 gen\\_var\\_2_{2,3} + 0.875 gen\\_var\\_2_{13,3} + 0.91675 gen\\_var\\_2_{22,3} + 0.9375 gen\\_var\\_2_{23,3} + 1.09375 gen\\_var\\_2_{27,3} + 0.9 gen\\_var\\_2_{1,4} + 0.7875 gen\\_var\\_2_{2,4} + 0.875 gen\\_var\\_2_{13,4} + 0.91675 gen\\_var\\_2_{22,4} + 0.9375 gen\\_var\\_2_{23,4} + 1.09375 gen\\_var\\_2_{27,4} $$"
      ],
      "text/plain": [
       "0.9 gen_var_2[1,1] + 0.7875 gen_var_2[2,1] + 0.875 gen_var_2[13,1] + 0.91675 gen_var_2[22,1] + 0.9375 gen_var_2[23,1] + 1.09375 gen_var_2[27,1] + 0.9 gen_var_2[1,2] + 0.7875 gen_var_2[2,2] + 0.875 gen_var_2[13,2] + 0.91675 gen_var_2[22,2] + 0.9375 gen_var_2[23,2] + 1.09375 gen_var_2[27,2] + 0.9 gen_var_2[1,3] + 0.7875 gen_var_2[2,3] + 0.875 gen_var_2[13,3] + 0.91675 gen_var_2[22,3] + 0.9375 gen_var_2[23,3] + 1.09375 gen_var_2[27,3] + 0.9 gen_var_2[1,4] + 0.7875 gen_var_2[2,4] + 0.875 gen_var_2[13,4] + 0.91675 gen_var_2[22,4] + 0.9375 gen_var_2[23,4] + 1.09375 gen_var_2[27,4]"
      ]
     },
     "execution_count": 14,
     "metadata": {},
     "output_type": "execute_result"
    }
   ],
   "source": [
    "@expression(Mod3, gen_cost_expected2, sum(gen_cost_prob_weightedS2[s] for s in 1:nrow(scen_prob)))"
   ]
  },
  {
   "cell_type": "code",
   "execution_count": 15,
   "metadata": {},
   "outputs": [
    {
     "data": {
      "text/latex": [
       "$$ 8.57573483 gen\\_var\\_1_{1,1} + 13.75 gen\\_var\\_1_{2,1} + 8.57573483 gen\\_var\\_1_{1,2} + 13.75 gen\\_var\\_1_{2,2} + 8.57573483 gen\\_var\\_1_{1,3} + 13.75 gen\\_var\\_1_{2,3} + 8.57573483 gen\\_var\\_1_{1,4} + 13.75 gen\\_var\\_1_{2,4} + 0.9 gen\\_var\\_2_{1,1} + 0.7875 gen\\_var\\_2_{2,1} + 0.875 gen\\_var\\_2_{13,1} + 0.91675 gen\\_var\\_2_{22,1} + 0.9375 gen\\_var\\_2_{23,1} + 1.09375 gen\\_var\\_2_{27,1} + 0.9 gen\\_var\\_2_{1,2} + 0.7875 gen\\_var\\_2_{2,2} + 0.875 gen\\_var\\_2_{13,2} + 0.91675 gen\\_var\\_2_{22,2} + 0.9375 gen\\_var\\_2_{23,2} + 1.09375 gen\\_var\\_2_{27,2} + 0.9 gen\\_var\\_2_{1,3} + 0.7875 gen\\_var\\_2_{2,3} + 0.875 gen\\_var\\_2_{13,3} + 0.91675 gen\\_var\\_2_{22,3} + 0.9375 gen\\_var\\_2_{23,3} + 1.09375 gen\\_var\\_2_{27,3} + 0.9 gen\\_var\\_2_{1,4} + 0.7875 gen\\_var\\_2_{2,4} + 0.875 gen\\_var\\_2_{13,4} + 0.91675 gen\\_var\\_2_{22,4} + 0.9375 gen\\_var\\_2_{23,4} + 1.09375 gen\\_var\\_2_{27,4} $$"
      ],
      "text/plain": [
       "8.57573483 gen_var_1[1,1] + 13.75 gen_var_1[2,1] + 8.57573483 gen_var_1[1,2] + 13.75 gen_var_1[2,2] + 8.57573483 gen_var_1[1,3] + 13.75 gen_var_1[2,3] + 8.57573483 gen_var_1[1,4] + 13.75 gen_var_1[2,4] + 0.9 gen_var_2[1,1] + 0.7875 gen_var_2[2,1] + 0.875 gen_var_2[13,1] + 0.91675 gen_var_2[22,1] + 0.9375 gen_var_2[23,1] + 1.09375 gen_var_2[27,1] + 0.9 gen_var_2[1,2] + 0.7875 gen_var_2[2,2] + 0.875 gen_var_2[13,2] + 0.91675 gen_var_2[22,2] + 0.9375 gen_var_2[23,2] + 1.09375 gen_var_2[27,2] + 0.9 gen_var_2[1,3] + 0.7875 gen_var_2[2,3] + 0.875 gen_var_2[13,3] + 0.91675 gen_var_2[22,3] + 0.9375 gen_var_2[23,3] + 1.09375 gen_var_2[27,3] + 0.9 gen_var_2[1,4] + 0.7875 gen_var_2[2,4] + 0.875 gen_var_2[13,4] + 0.91675 gen_var_2[22,4] + 0.9375 gen_var_2[23,4] + 1.09375 gen_var_2[27,4]"
      ]
     },
     "execution_count": 15,
     "metadata": {},
     "output_type": "execute_result"
    }
   ],
   "source": [
    "Mod3[:total_cost]+=gen_cost_expected2"
   ]
  },
  {
   "cell_type": "code",
   "execution_count": 16,
   "metadata": {},
   "outputs": [
    {
     "data": {
      "text/plain": [
       "4-element Array{GenericAffExpr{Float64,VariableRef},1}:\n",
       " 4.07573483 gen_var_3[1,1] + 9.25 gen_var_3[2,1]\n",
       " 4.07573483 gen_var_3[1,2] + 9.25 gen_var_3[2,2]\n",
       " 4.07573483 gen_var_3[1,3] + 9.25 gen_var_3[2,3]\n",
       " 4.07573483 gen_var_3[1,4] + 9.25 gen_var_3[2,4]"
      ]
     },
     "execution_count": 16,
     "metadata": {},
     "output_type": "execute_result"
    }
   ],
   "source": [
    "@expression(Mod3, gen_costNS3[n=1:5,s=1:nrow(scen_prob)], (gen_var_3[n,s] .* sum((g(3).gNodeID .== n) .* MC(3))))\n",
    "@expression(Mod3, gen_cost_prob_weightedS3[s=1:nrow(scen_prob)], (scen_weight(s)[1]).*sum(gen_costNS3[n,s] for n in 1:5))"
   ]
  },
  {
   "cell_type": "code",
   "execution_count": 17,
   "metadata": {},
   "outputs": [
    {
     "data": {
      "text/latex": [
       "$$ 4.07573483 gen\\_var\\_3_{1,1} + 9.25 gen\\_var\\_3_{2,1} + 4.07573483 gen\\_var\\_3_{1,2} + 9.25 gen\\_var\\_3_{2,2} + 4.07573483 gen\\_var\\_3_{1,3} + 9.25 gen\\_var\\_3_{2,3} + 4.07573483 gen\\_var\\_3_{1,4} + 9.25 gen\\_var\\_3_{2,4} $$"
      ],
      "text/plain": [
       "4.07573483 gen_var_3[1,1] + 9.25 gen_var_3[2,1] + 4.07573483 gen_var_3[1,2] + 9.25 gen_var_3[2,2] + 4.07573483 gen_var_3[1,3] + 9.25 gen_var_3[2,3] + 4.07573483 gen_var_3[1,4] + 9.25 gen_var_3[2,4]"
      ]
     },
     "execution_count": 17,
     "metadata": {},
     "output_type": "execute_result"
    }
   ],
   "source": [
    "@expression(Mod3, gen_cost_expected3, sum(gen_cost_prob_weightedS3[s] for s in 1:nrow(scen_prob)))"
   ]
  },
  {
   "cell_type": "code",
   "execution_count": 18,
   "metadata": {},
   "outputs": [
    {
     "data": {
      "text/latex": [
       "$$ 8.57573483 gen\\_var\\_1_{1,1} + 13.75 gen\\_var\\_1_{2,1} + 8.57573483 gen\\_var\\_1_{1,2} + 13.75 gen\\_var\\_1_{2,2} + 8.57573483 gen\\_var\\_1_{1,3} + 13.75 gen\\_var\\_1_{2,3} + 8.57573483 gen\\_var\\_1_{1,4} + 13.75 gen\\_var\\_1_{2,4} + 0.9 gen\\_var\\_2_{1,1} + 0.7875 gen\\_var\\_2_{2,1} + 0.875 gen\\_var\\_2_{13,1} + 0.91675 gen\\_var\\_2_{22,1} + 0.9375 gen\\_var\\_2_{23,1} + 1.09375 gen\\_var\\_2_{27,1} + 0.9 gen\\_var\\_2_{1,2} + 0.7875 gen\\_var\\_2_{2,2} + 0.875 gen\\_var\\_2_{13,2} + 0.91675 gen\\_var\\_2_{22,2} + 0.9375 gen\\_var\\_2_{23,2} + 1.09375 gen\\_var\\_2_{27,2} + 0.9 gen\\_var\\_2_{1,3} + 0.7875 gen\\_var\\_2_{2,3} + 0.875 gen\\_var\\_2_{13,3} + 0.91675 gen\\_var\\_2_{22,3} + 0.9375 gen\\_var\\_2_{23,3} + 1.09375 gen\\_var\\_2_{27,3} + 0.9 gen\\_var\\_2_{1,4} + 0.7875 gen\\_var\\_2_{2,4} + 0.875 gen\\_var\\_2_{13,4} + 0.91675 gen\\_var\\_2_{22,4} + 0.9375 gen\\_var\\_2_{23,4} + 1.09375 gen\\_var\\_2_{27,4} + 4.07573483 gen\\_var\\_3_{1,1} + 9.25 gen\\_var\\_3_{2,1} + 4.07573483 gen\\_var\\_3_{1,2} + 9.25 gen\\_var\\_3_{2,2} + 4.07573483 gen\\_var\\_3_{1,3} + 9.25 gen\\_var\\_3_{2,3} + 4.07573483 gen\\_var\\_3_{1,4} + 9.25 gen\\_var\\_3_{2,4} $$"
      ],
      "text/plain": [
       "8.57573483 gen_var_1[1,1] + 13.75 gen_var_1[2,1] + 8.57573483 gen_var_1[1,2] + 13.75 gen_var_1[2,2] + 8.57573483 gen_var_1[1,3] + 13.75 gen_var_1[2,3] + 8.57573483 gen_var_1[1,4] + 13.75 gen_var_1[2,4] + 0.9 gen_var_2[1,1] + 0.7875 gen_var_2[2,1] + 0.875 gen_var_2[13,1] + 0.91675 gen_var_2[22,1] + 0.9375 gen_var_2[23,1] + 1.09375 gen_var_2[27,1] + 0.9 gen_var_2[1,2] + 0.7875 gen_var_2[2,2] + 0.875 gen_var_2[13,2] + 0.91675 gen_var_2[22,2] + 0.9375 gen_var_2[23,2] + 1.09375 gen_var_2[27,2] + 0.9 gen_var_2[1,3] + 0.7875 gen_var_2[2,3] + 0.875 gen_var_2[13,3] + 0.91675 gen_var_2[22,3] + 0.9375 gen_var_2[23,3] + 1.09375 gen_var_2[27,3] + 0.9 gen_var_2[1,4] + 0.7875 gen_var_2[2,4] + 0.875 gen_var_2[13,4] + 0.91675 gen_var_2[22,4] + 0.9375 gen_var_2[23,4] + 1.09375 gen_var_2[27,4] + 4.07573483 gen_var_3[1,1] + 9.25 gen_var_3[2,1] + 4.07573483 gen_var_3[1,2] + 9.25 gen_var_3[2,2] + 4.07573483 gen_var_3[1,3] + 9.25 gen_var_3[2,3] + 4.07573483 gen_var_3[1,4] + 9.25 gen_var_3[2,4]"
      ]
     },
     "execution_count": 18,
     "metadata": {},
     "output_type": "execute_result"
    }
   ],
   "source": [
    "Mod3[:total_cost]+=gen_cost_expected3"
   ]
  },
  {
   "cell_type": "code",
   "execution_count": 19,
   "metadata": {},
   "outputs": [
    {
     "data": {
      "text/latex": [
       "$$ 8.57573483 gen\\_var\\_1_{1,1} + 13.75 gen\\_var\\_1_{2,1} + 8.57573483 gen\\_var\\_1_{1,2} + 13.75 gen\\_var\\_1_{2,2} + 8.57573483 gen\\_var\\_1_{1,3} + 13.75 gen\\_var\\_1_{2,3} + 8.57573483 gen\\_var\\_1_{1,4} + 13.75 gen\\_var\\_1_{2,4} + 0.9 gen\\_var\\_2_{1,1} + 0.7875 gen\\_var\\_2_{2,1} + 0.875 gen\\_var\\_2_{13,1} + 0.91675 gen\\_var\\_2_{22,1} + 0.9375 gen\\_var\\_2_{23,1} + 1.09375 gen\\_var\\_2_{27,1} + 0.9 gen\\_var\\_2_{1,2} + 0.7875 gen\\_var\\_2_{2,2} + 0.875 gen\\_var\\_2_{13,2} + 0.91675 gen\\_var\\_2_{22,2} + 0.9375 gen\\_var\\_2_{23,2} + 1.09375 gen\\_var\\_2_{27,2} + 0.9 gen\\_var\\_2_{1,3} + 0.7875 gen\\_var\\_2_{2,3} + 0.875 gen\\_var\\_2_{13,3} + 0.91675 gen\\_var\\_2_{22,3} + 0.9375 gen\\_var\\_2_{23,3} + 1.09375 gen\\_var\\_2_{27,3} + 0.9 gen\\_var\\_2_{1,4} + 0.7875 gen\\_var\\_2_{2,4} + 0.875 gen\\_var\\_2_{13,4} + 0.91675 gen\\_var\\_2_{22,4} + 0.9375 gen\\_var\\_2_{23,4} + 1.09375 gen\\_var\\_2_{27,4} + 4.07573483 gen\\_var\\_3_{1,1} + 9.25 gen\\_var\\_3_{2,1} + 4.07573483 gen\\_var\\_3_{1,2} + 9.25 gen\\_var\\_3_{2,2} + 4.07573483 gen\\_var\\_3_{1,3} + 9.25 gen\\_var\\_3_{2,3} + 4.07573483 gen\\_var\\_3_{1,4} + 9.25 gen\\_var\\_3_{2,4} + 0.2410176361372405 shared\\_line\\_decision\\_var_{1} + 0.19594024895900847 shared\\_line\\_decision\\_var_{2} + 0.44297470440637654 shared\\_line\\_decision\\_var_{3} + 0.6532451422553538 shared\\_line\\_decision\\_var_{4} + 0.1533748593600621 shared\\_line\\_decision\\_var_{5} + 0.34289543567826486 shared\\_line\\_decision\\_var_{6} + 0.1533748593600621 int\\_line\\_decision\\_var\\_1_{1} + 0.34289543567826486 int\\_line\\_decision\\_var\\_1_{2} + 0.2519729832343877 int\\_line\\_decision\\_var\\_1_{3} + 0.21553427385490934 int\\_line\\_decision\\_var\\_1_{4} + 0.44297470440637654 int\\_line\\_decision\\_var\\_1_{5} + 6.532451422553539 int\\_line\\_decision\\_var\\_1_{6} + 1.5337485936006214 int\\_line\\_decision\\_var\\_1_{7} + 3.673879667981409 int\\_line\\_decision\\_var\\_1_{8} + 2.355399625886668 int\\_line\\_decision\\_var\\_1_{9} + 2.400268049747854 int\\_line\\_decision\\_var\\_1_{10} + 1.5337485936006214 int\\_line\\_decision\\_var\\_2_{1} + 3.7718497924609133 int\\_line\\_decision\\_var\\_2_{2} + 2.9579437162297695 int\\_line\\_decision\\_var\\_2_{3} + 1.175641493754051 int\\_line\\_decision\\_var\\_2_{4} + 4.429747044063765 int\\_line\\_decision\\_var\\_2_{5} + 6.532451422553539 int\\_line\\_decision\\_var\\_2_{6} + 1.5337485936006214 int\\_line\\_decision\\_var\\_2_{7} + 4.261700414858434 int\\_line\\_decision\\_var\\_2_{8} + 0.2410176361372405 int\\_line\\_decision\\_var\\_2_{9} + 0.26451933609466144 int\\_line\\_decision\\_var\\_2_{10} + 0.44297470440637654 int\\_line\\_decision\\_var\\_2_{11} + 0.6532451422553538 int\\_line\\_decision\\_var\\_2_{12} + 0.44297470440637654 int\\_line\\_decision\\_var\\_2_{13} + 0.6532451422553538 int\\_line\\_decision\\_var\\_2_{14} + 0.1533748593600621 int\\_line\\_decision\\_var\\_2_{15} + 0.323301410782364 int\\_line\\_decision\\_var\\_2_{16} + 0.3505711071087135 int\\_line\\_decision\\_var\\_2_{17} + 4.429747044063765 int\\_line\\_decision\\_var\\_2_{18} + 0.21910694194294586 int\\_line\\_decision\\_var\\_3_{1} + 0.22043278007888453 int\\_line\\_decision\\_var\\_3_{2} $$"
      ],
      "text/plain": [
       "8.57573483 gen_var_1[1,1] + 13.75 gen_var_1[2,1] + 8.57573483 gen_var_1[1,2] + 13.75 gen_var_1[2,2] + 8.57573483 gen_var_1[1,3] + 13.75 gen_var_1[2,3] + 8.57573483 gen_var_1[1,4] + 13.75 gen_var_1[2,4] + 0.9 gen_var_2[1,1] + 0.7875 gen_var_2[2,1] + 0.875 gen_var_2[13,1] + 0.91675 gen_var_2[22,1] + 0.9375 gen_var_2[23,1] + 1.09375 gen_var_2[27,1] + 0.9 gen_var_2[1,2] + 0.7875 gen_var_2[2,2] + 0.875 gen_var_2[13,2] + 0.91675 gen_var_2[22,2] + 0.9375 gen_var_2[23,2] + 1.09375 gen_var_2[27,2] + 0.9 gen_var_2[1,3] + 0.7875 gen_var_2[2,3] + 0.875 gen_var_2[13,3] + 0.91675 gen_var_2[22,3] + 0.9375 gen_var_2[23,3] + 1.09375 gen_var_2[27,3] + 0.9 gen_var_2[1,4] + 0.7875 gen_var_2[2,4] + 0.875 gen_var_2[13,4] + 0.91675 gen_var_2[22,4] + 0.9375 gen_var_2[23,4] + 1.09375 gen_var_2[27,4] + 4.07573483 gen_var_3[1,1] + 9.25 gen_var_3[2,1] + 4.07573483 gen_var_3[1,2] + 9.25 gen_var_3[2,2] + 4.07573483 gen_var_3[1,3] + 9.25 gen_var_3[2,3] + 4.07573483 gen_var_3[1,4] + 9.25 gen_var_3[2,4] + 0.2410176361372405 shared_line_decision_var[1] + 0.19594024895900847 shared_line_decision_var[2] + 0.44297470440637654 shared_line_decision_var[3] + 0.6532451422553538 shared_line_decision_var[4] + 0.1533748593600621 shared_line_decision_var[5] + 0.34289543567826486 shared_line_decision_var[6] + 0.1533748593600621 int_line_decision_var_1[1] + 0.34289543567826486 int_line_decision_var_1[2] + 0.2519729832343877 int_line_decision_var_1[3] + 0.21553427385490934 int_line_decision_var_1[4] + 0.44297470440637654 int_line_decision_var_1[5] + 6.532451422553539 int_line_decision_var_1[6] + 1.5337485936006214 int_line_decision_var_1[7] + 3.673879667981409 int_line_decision_var_1[8] + 2.355399625886668 int_line_decision_var_1[9] + 2.400268049747854 int_line_decision_var_1[10] + 1.5337485936006214 int_line_decision_var_2[1] + 3.7718497924609133 int_line_decision_var_2[2] + 2.9579437162297695 int_line_decision_var_2[3] + 1.175641493754051 int_line_decision_var_2[4] + 4.429747044063765 int_line_decision_var_2[5] + 6.532451422553539 int_line_decision_var_2[6] + 1.5337485936006214 int_line_decision_var_2[7] + 4.261700414858434 int_line_decision_var_2[8] + 0.2410176361372405 int_line_decision_var_2[9] + 0.26451933609466144 int_line_decision_var_2[10] + 0.44297470440637654 int_line_decision_var_2[11] + 0.6532451422553538 int_line_decision_var_2[12] + 0.44297470440637654 int_line_decision_var_2[13] + 0.6532451422553538 int_line_decision_var_2[14] + 0.1533748593600621 int_line_decision_var_2[15] + 0.323301410782364 int_line_decision_var_2[16] + 0.3505711071087135 int_line_decision_var_2[17] + 4.429747044063765 int_line_decision_var_2[18] + 0.21910694194294586 int_line_decision_var_3[1] + 0.22043278007888453 int_line_decision_var_3[2]"
      ]
     },
     "execution_count": 19,
     "metadata": {},
     "output_type": "execute_result"
    }
   ],
   "source": [
    "@expression(Mod3, investment_cost , (sum(shared_line_decision_var[c] .* shared_cand.costPerCap[c] .* shared_cand.interestRate[c] \n",
    "            .*((1 + shared_cand.interestRate[c]) .^ shared_cand.lifeTime[c]) ./ (((1 + shared_cand.interestRate[c]) .^ shared_cand.lifeTime[c])-1) for c in 1:nrow(shared_cand))\n",
    "            .+ sum(int_line_decision_var_1[c] .* int_c(1).costPerCap[c] .* int_c(1).interestRate[c] \n",
    "            .*((1 + int_c(1).interestRate[c]) .^ int_c(1).lifeTime[c]) ./ (((1 + int_c(1).interestRate[c]) .^ int_c(1).lifeTime[c])-1) for c in 1:nrow(int_c(1)))\n",
    "            .+ sum(int_line_decision_var_2[c] .* int_c(2).costPerCap[c] .* int_c(2).interestRate[c] \n",
    "            .*((1 + int_c(2).interestRate[c]) .^ int_c(2).lifeTime[c]) ./ (((1 + int_c(2).interestRate[c]) .^ int_c(2).lifeTime[c])-1) for c in 1:nrow(int_c(2)))\n",
    "            .+ sum(int_line_decision_var_3[c] .* int_c(3).costPerCap[c] .* int_c(3).interestRate[c] \n",
    "            .*((1 + int_c(3).interestRate[c]) .^ int_c(3).lifeTime[c]) ./ (((1 + int_c(3).interestRate[c]) .^ int_c(3).lifeTime[c])-1) for c in 1:nrow(int_c(3)))))\n",
    "Mod3[:total_cost]+=investment_cost"
   ]
  },
  {
   "cell_type": "code",
   "execution_count": 20,
   "metadata": {},
   "outputs": [],
   "source": [
    "#The first zone\n",
    "for n in 1:14\n",
    "    for s in 1:nrow(scen_prob)\n",
    "        # Power balance constraint for each node\n",
    "        @constraint(Mod3, sum(g(1).gNodeID .== n) .* gen_var_1[n,s] .+ sum(l(1,s)[:,3].* (l(1,s).lNodeID .== n))./100 .==\n",
    "        sum((shared_cand.tNodeID1 .== n) .*bin_c(1) .* shared_cand_flow[:,s]) .- sum((shared_cand.tNodeID2 .== n) .* bin_c(1) .* shared_cand_flow[:,s]) .+\n",
    "        sum((shared_ex.tNodeID1 .== n) .* bin_e(1) .* shared_ex_flow[:,s]) .- sum((shared_ex.tNodeID2 .== n) .* bin_e(1) .* shared_ex_flow[:,s]) .+\n",
    "        sum((int_c(1).tNodeID1 .== n) .* int_cand_flow_1[:,s]) .- sum((int_c(1).tNodeID2 .== n) .* int_cand_flow_1[:,s]) .+\n",
    "        sum((int_e(1).tNodeID1 .== n) .* int_ex_flow_1[:,s]) .- sum((int_e(1).tNodeID2 .== n) .* int_ex_flow_1[:,s]))\n",
    "        #Lower limit for generation of each node\n",
    "        @constraint(Mod3, sum(g(1).gNodeID .== n) .* gen_var_1[n,s] .<= sum((g(1).gNodeID .== n) .* g(1).PgMax)./100)\n",
    "        #Upper limit for generation of each node\n",
    "        @constraint(Mod3, sum((g(1).gNodeID .== n) .* g(1).PgMin)./100 .<= sum(g(1).gNodeID .== n) .* gen_var_1[n,s])\n",
    "    end\n",
    "end"
   ]
  },
  {
   "cell_type": "code",
   "execution_count": 21,
   "metadata": {},
   "outputs": [],
   "source": [
    "#The second zone\n",
    "for n in 1:30\n",
    "    for s in 1:nrow(scen_prob)\n",
    "        # Power balance constraint for each node\n",
    "        @constraint(Mod3, sum(g(2).gNodeID .== n) .* gen_var_2[n,s] .+ sum(l(2,s)[:,3] .* (l(2,s).lNodeID .== n))./100 .==\n",
    "        sum((shared_cand.tNodeID1 .== n) .*bin_c(2) .* shared_cand_flow[:,s]) .- sum((shared_cand.tNodeID2 .== n) .* bin_c(2) .* shared_cand_flow[:,s]) .+\n",
    "        sum((shared_ex.tNodeID1 .== n) .* bin_e(2) .* shared_ex_flow[:,s]) .- sum((shared_ex.tNodeID2 .== n) .* bin_e(2) .* shared_ex_flow[:,s]) .+\n",
    "        sum((int_c(2).tNodeID1 .== n) .* int_cand_flow_2[:,s]) .- sum((int_c(2).tNodeID2 .== n) .* int_cand_flow_2[:,s]) .+\n",
    "        sum((int_e(2).tNodeID1 .== n) .* int_ex_flow_2[:,s]) .- sum((int_e(2).tNodeID2 .== n) .* int_ex_flow_2[:,s]))\n",
    "        #Lower limit for generation of each node\n",
    "        @constraint(Mod3, sum(g(2).gNodeID .== n) .* gen_var_2[n,s] .<= sum((g(2).gNodeID .== n) .* g(2).PgMax)./100)\n",
    "        #Upper limit for generation of each node\n",
    "        @constraint(Mod3, sum((g(2).gNodeID .== n) .* g(2).PgMin)./100 .<= sum(g(2).gNodeID .== n) .* gen_var_2[n,s])\n",
    "    end\n",
    "end"
   ]
  },
  {
   "cell_type": "code",
   "execution_count": 22,
   "metadata": {},
   "outputs": [],
   "source": [
    "#The third zone\n",
    "for n in 1:5\n",
    "    for s in 1:nrow(scen_prob)\n",
    "        # Power balance constraint for each node\n",
    "        @constraint(Mod3, sum(g(3).gNodeID .== n) .* gen_var_3[n,s] .+ sum(l(3,s)[:,3] .* (l(3,s).lNodeID .== n))./100 .==\n",
    "        sum((shared_cand.tNodeID1 .== n) .*bin_c(3) .* shared_cand_flow[:,s]) .- sum((shared_cand.tNodeID2 .== n) .* bin_c(3) .* shared_cand_flow[:,s]) .+\n",
    "        sum((shared_ex.tNodeID1 .== n) .* bin_e(3) .* shared_ex_flow[:,s]) .- sum((shared_ex.tNodeID2 .== n) .* bin_e(3) .* shared_ex_flow[:,s]) .+\n",
    "        sum((int_c(3).tNodeID1 .== n) .* int_cand_flow_3[:,s]) .- sum((int_c(3).tNodeID2 .== n) .* int_cand_flow_3[:,s]) .+\n",
    "        sum((int_e(3).tNodeID1 .== n) .* int_ex_flow_3[:,s]) .- sum((int_e(3).tNodeID2 .== n) .* int_ex_flow_3[:,s]))\n",
    "        #Lower limit for generation of each node\n",
    "        @constraint(Mod3, sum(g(3).gNodeID .== n) .* gen_var_3[n,s] .<= sum((g(3).gNodeID .== n) .* g(3).PgMax)./100)\n",
    "        #Upper limit for generation of each node\n",
    "        @constraint(Mod3, sum((g(3).gNodeID .== n) .* g(3).PgMin)./100 .<= sum(g(3).gNodeID .== n) .* gen_var_3[n,s])\n",
    "    end\n",
    "end"
   ]
  },
  {
   "cell_type": "code",
   "execution_count": 23,
   "metadata": {},
   "outputs": [],
   "source": [
    "#Shared candidate lines\n",
    "M = 5 # this should be changed/translated to PU value...\n",
    "for c in 1:nrow(shared_cand)\n",
    "    for s in 1:nrow(scen_prob)\n",
    "        @constraint(Mod3,-M .* (1 .- shared_line_decision_var[c]) .<= shared_cand_flow[c,s] .- ((1 ./ shared_cand.reacT[c]) .* (node_voltage_phase_angle[shared_cand.nodeZone1[c],shared_cand.tNodeID1[c],s] .- node_voltage_phase_angle[shared_cand.nodeZone2[c],shared_cand.tNodeID2[c],s])))\n",
    "        @constraint(Mod3, shared_cand_flow[c,s] .- ((1 ./ shared_cand.reacT[c]) .* (node_voltage_phase_angle[shared_cand.nodeZone1[c],shared_cand.tNodeID1[c],s] .- node_voltage_phase_angle[shared_cand.nodeZone2[c],shared_cand.tNodeID2[c],s])) .<= M .* (1 .- shared_line_decision_var[c]))\n",
    "        #limiting the upper bound of power flow flowing within candidate shared lines\n",
    "        @constraint(Mod3, shared_cand_flow[c,s] .<= shared_line_decision_var[c] .*shared_cand.ptMax[c]./100)\n",
    "        #Limiting the lower bound of power flowing within the candidate shared lines\n",
    "        @constraint(Mod3, -(shared_cand.ptMax[c]./100) .* shared_line_decision_var[c] .<= shared_cand_flow[c,s])\n",
    "    end\n",
    "end"
   ]
  },
  {
   "cell_type": "code",
   "execution_count": 24,
   "metadata": {},
   "outputs": [],
   "source": [
    "#Shared existing lines\n",
    "for h in 1:nrow(shared_ex)\n",
    "    for s in 1:nrow(scen_prob)\n",
    "        @constraint(Mod3, shared_ex_flow[h,s] .== (1 ./ shared_ex.reacT[h]) .* (node_voltage_phase_angle[shared_ex.nodeZone1[h],shared_ex.tNodeID1[h],s] .- node_voltage_phase_angle[shared_ex.nodeZone2[h],shared_ex.tNodeID2[h],s]))\n",
    "        @constraint(Mod3, shared_ex_flow[h,s] .<= shared_ex. ptMax[h]./100)\n",
    "        @constraint(Mod3, -shared_ex.ptMax[h]./100 .<= shared_ex_flow[h,s])\n",
    "    end\n",
    "end"
   ]
  },
  {
   "cell_type": "code",
   "execution_count": 25,
   "metadata": {},
   "outputs": [],
   "source": [
    "#Zone 1 internal candidate lines\n",
    "for c in 1:nrow(int_c(1))\n",
    "    for s in 1:nrow(scen_prob)\n",
    "        @constraint(Mod3,-M .* (1 .- int_line_decision_var_1[c]) .<= int_cand_flow_1[c,s] .- ((1 ./ int_c(1).reacT[c]) .* (node_voltage_phase_angle[int_c(1).zoneNum[c],int_c(1).tNodeID1[c],s] .- node_voltage_phase_angle[int_c(1).zoneNum[c],int_c(1).tNodeID2[c],s])))\n",
    "        @constraint(Mod3, int_cand_flow_1[c,s] .- ((1 ./ int_c(1).reacT[c]) .* (node_voltage_phase_angle[int_c(1).zoneNum[c],int_c(1).tNodeID1[c],s] .- node_voltage_phase_angle[int_c(1).zoneNum[c],int_c(1).tNodeID2[c],s])) .<= M .* (1 .- int_line_decision_var_1[c]))\n",
    "        @constraint(Mod3, int_cand_flow_1[c,s] .<= int_line_decision_var_1[c] .* int_c(1).ptMax[c]./100)\n",
    "        @constraint(Mod3, -(int_c(1).ptMax[c]./100) .*int_line_decision_var_1[c] .<= int_cand_flow_1[c,s])\n",
    "    end\n",
    "end"
   ]
  },
  {
   "cell_type": "code",
   "execution_count": 26,
   "metadata": {},
   "outputs": [],
   "source": [
    "#Zone 2 internal candidate lines\n",
    "for c in 1:nrow(int_c(2))\n",
    "    for s in 1:nrow(scen_prob)\n",
    "        @constraint(Mod3,-M .* (1 .- int_line_decision_var_2[c]) .<= int_cand_flow_2[c,s] .- ((1 ./ int_c(2).reacT[c]) .* (node_voltage_phase_angle[int_c(2).zoneNum[c],int_c(2).tNodeID1[c],s] .- node_voltage_phase_angle[int_c(2).zoneNum[c],int_c(2).tNodeID2[c],s])))\n",
    "        @constraint(Mod3, int_cand_flow_2[c,s] .- ((1 ./ int_c(2).reacT[c]) .* (node_voltage_phase_angle[int_c(2).zoneNum[c],int_c(2).tNodeID1[c],s] .- node_voltage_phase_angle[int_c(2).zoneNum[c],int_c(2).tNodeID2[c],s])) .<= M .* (1 .- int_line_decision_var_2[c]))\n",
    "        @constraint(Mod3, int_cand_flow_2[c,s] .<= int_line_decision_var_2[c] .* int_c(2).ptMax[c]./100)\n",
    "        @constraint(Mod3, -(int_c(2).ptMax[c]./100) .*int_line_decision_var_2[c] .<= int_cand_flow_2[c,s])\n",
    "    end\n",
    "end"
   ]
  },
  {
   "cell_type": "code",
   "execution_count": 27,
   "metadata": {},
   "outputs": [],
   "source": [
    "#Zone 3 internal candidate lines\n",
    "for c in 1:nrow(int_c(3))\n",
    "    for s in 1:nrow(scen_prob)\n",
    "        @constraint(Mod3,-M .* (1 .- int_line_decision_var_3[c]) .<= int_cand_flow_3[c,s] .- ((1 ./ int_c(3).reacT[c]) .* (node_voltage_phase_angle[int_c(3).zoneNum[c],int_c(3).tNodeID1[c],s] .- node_voltage_phase_angle[int_c(3).zoneNum[c],int_c(3).tNodeID2[c],s])))\n",
    "        @constraint(Mod3, int_cand_flow_3[c,s] .- ((1 ./ int_c(3).reacT[c]) .* (node_voltage_phase_angle[int_c(3).zoneNum[c],int_c(3).tNodeID1[c],s] .- node_voltage_phase_angle[int_c(3).zoneNum[c],int_c(3).tNodeID2[c],s])) .<= M .* (1 .- int_line_decision_var_3[c]))\n",
    "        @constraint(Mod3, int_cand_flow_3[c,s] .<= int_line_decision_var_3[c] .* int_c(3).ptMax[c]./100)\n",
    "        @constraint(Mod3, -(int_c(3).ptMax[c]./100) .*int_line_decision_var_3[c] .<= int_cand_flow_3[c,s])\n",
    "    end\n",
    "end"
   ]
  },
  {
   "cell_type": "code",
   "execution_count": 28,
   "metadata": {},
   "outputs": [],
   "source": [
    "#Zone 1 internal existing lines\n",
    "for h in 1:nrow(int_e(1))\n",
    "    for s in 1:nrow(scen_prob)\n",
    "        @constraint(Mod3, int_ex_flow_1[h,s] .== (1 ./ int_e(1).reacT[h]) .* (node_voltage_phase_angle[int_e(1).zoneNum[h],int_e(1).tNodeID1[h],s] .- node_voltage_phase_angle[int_e(1).zoneNum[h],int_e(1).tNodeID2[h],s]))\n",
    "        @constraint(Mod3, int_ex_flow_1[h,s] .<= int_e(1).ptMax[h]./100)\n",
    "        @constraint(Mod3, -int_e(1).ptMax[h]./100 .<= int_ex_flow_1[h,s])\n",
    "    end\n",
    "end"
   ]
  },
  {
   "cell_type": "code",
   "execution_count": 29,
   "metadata": {},
   "outputs": [],
   "source": [
    "#Zone 2 internal existing lines\n",
    "for h in 1:nrow(int_e(2))\n",
    "    for s in 1:nrow(scen_prob)\n",
    "        @constraint(Mod3, int_ex_flow_2[h,s] .== (1 ./ int_e(2).reacT[h]) .* (node_voltage_phase_angle[int_e(2).zoneNum[h],int_e(2).tNodeID1[h],s] .- node_voltage_phase_angle[int_e(2).zoneNum[h],int_e(2).tNodeID2[h],s]))\n",
    "        @constraint(Mod3, int_ex_flow_2[h,s] .<= int_e(2).ptMax[h]./100)\n",
    "        @constraint(Mod3, -int_e(2).ptMax[h]./100 .<= int_ex_flow_2[h,s])\n",
    "    end\n",
    "end"
   ]
  },
  {
   "cell_type": "code",
   "execution_count": 30,
   "metadata": {},
   "outputs": [],
   "source": [
    "#Zone 3 internal existing lines\n",
    "for h in 1:nrow(int_e(3))\n",
    "    for s in 1:nrow(scen_prob)\n",
    "        @constraint(Mod3, int_ex_flow_3[h,s] .== (1 ./ int_e(3).reacT[h]) .* (node_voltage_phase_angle[int_e(3).zoneNum[h],int_e(3).tNodeID1[h],s] .- node_voltage_phase_angle[int_e(3).zoneNum[h],int_e(3).tNodeID2[h],s]))\n",
    "        @constraint(Mod3, int_ex_flow_3[h,s] .<= int_e(3).ptMax[h]./100)\n",
    "        @constraint(Mod3, -int_e(3).ptMax[h]./100 .<= int_ex_flow_3[h,s])\n",
    "    end\n",
    "end"
   ]
  },
  {
   "cell_type": "code",
   "execution_count": 31,
   "metadata": {},
   "outputs": [],
   "source": [
    "@objective(Mod3, Min, Mod3[:total_cost])\n",
    "optimize!(Mod3)"
   ]
  },
  {
   "cell_type": "code",
   "execution_count": 32,
   "metadata": {},
   "outputs": [
    {
     "data": {
      "text/plain": [
       "OPTIMAL::TerminationStatusCode = 1"
      ]
     },
     "execution_count": 32,
     "metadata": {},
     "output_type": "execute_result"
    }
   ],
   "source": [
    "termination_status(Mod3)"
   ]
  },
  {
   "cell_type": "code",
   "execution_count": 33,
   "metadata": {},
   "outputs": [
    {
     "data": {
      "text/plain": [
       "27.298254705247164"
      ]
     },
     "execution_count": 33,
     "metadata": {},
     "output_type": "execute_result"
    }
   ],
   "source": [
    "if termination_status(Mod3) == MOI.OPTIMAL\n",
    "    shared_line_decision = value.(shared_line_decision_var)\n",
    "    shared_cand_power = (value.(shared_cand_flow)) .* 100\n",
    "    node_voltage_phase_angle = value.(node_voltage_phase_angle)\n",
    "    shared_ex_power = (value.(shared_ex_flow)) .* 100\n",
    "    int_line_decision_1 = value.(int_line_decision_var_1)\n",
    "    int_line_decision_2 = value.(int_line_decision_var_2)\n",
    "    int_line_decision_3 = value.(int_line_decision_var_3)\n",
    "    int_line_flow_1 = (value.(int_cand_flow_1)) .* 100\n",
    "    int_line_flow_2 = (value.(int_cand_flow_2)) .* 100\n",
    "    int_line_flow_3 = (value.(int_cand_flow_3)) .* 100\n",
    "    generation_1 = (value.(gen_var_1)) .* 100\n",
    "    generation_2 = (value.(gen_var_2)) .* 100\n",
    "    generation_3 = (value.(gen_var_3)) .* 100\n",
    "    internal_existing_line_flow_1 = (value.(int_ex_flow_1)) .* 100\n",
    "    internal_existing_line_flow_2 = (value.(int_ex_flow_2)) .* 100\n",
    "    internal_existing_line_flow_3 = (value.(int_ex_flow_3)) .* 100\n",
    "    obj_value = objective_value(Mod3)\n",
    "end"
   ]
  },
  {
   "cell_type": "code",
   "execution_count": 34,
   "metadata": {},
   "outputs": [
    {
     "data": {
      "text/plain": [
       "6-element Array{Float64,1}:\n",
       " 0.0\n",
       " 0.0\n",
       " 0.0\n",
       " 1.0\n",
       " 1.0\n",
       " 0.0"
      ]
     },
     "execution_count": 34,
     "metadata": {},
     "output_type": "execute_result"
    }
   ],
   "source": [
    "shared_line_decision"
   ]
  },
  {
   "cell_type": "code",
   "execution_count": 35,
   "metadata": {},
   "outputs": [
    {
     "data": {
      "text/plain": [
       "6×4 Array{Float64,2}:\n",
       " -0.0     -0.0     -0.0      0.0\n",
       "  0.0     -0.0     -0.0     -0.0\n",
       " -0.0     -0.0     -0.0     -0.0\n",
       " 91.1514  84.4184  95.2955  43.7686\n",
       " 92.1652  62.7053  85.5807  35.2138\n",
       "  0.0     -0.0     -0.0      0.0"
      ]
     },
     "execution_count": 35,
     "metadata": {},
     "output_type": "execute_result"
    }
   ],
   "source": [
    "shared_cand_power"
   ]
  },
  {
   "cell_type": "code",
   "execution_count": 36,
   "metadata": {},
   "outputs": [
    {
     "data": {
      "text/plain": [
       "JuMP.Containers.SparseAxisArray{Float64,3,Tuple{Int64,Int64,Int64}} with 196 entries:\n",
       "  [1, 1, 2 ]  =  0.0466216\n",
       "  [1, 11, 2]  =  0.151361\n",
       "  [1, 12, 4]  =  0.124647\n",
       "  [1, 14, 2]  =  0.178808\n",
       "  [1, 2, 1 ]  =  0.095336\n",
       "  [1, 4, 2 ]  =  0.0464514\n",
       "  [1, 5, 3 ]  =  0.0881079\n",
       "  [1, 8, 2 ]  =  0.118346\n",
       "  [2, 14, 4]  =  0.260723\n",
       "  [2, 22, 1]  =  0.425613\n",
       "  [2, 23, 2]  =  0.365958\n",
       "              ⋮\n",
       "  [2, 24, 3]  =  0.417782\n",
       "  [2, 26, 1]  =  0.475313\n",
       "  [2, 27, 1]  =  0.560085\n",
       "  [2, 3, 2 ]  =  0.418741\n",
       "  [2, 30, 2]  =  0.339507\n",
       "  [2, 4, 4 ]  =  0.232144\n",
       "  [2, 9, 1 ]  =  0.404866\n",
       "  [2, 9, 4 ]  =  0.172411\n",
       "  [3, 4, 2 ]  =  0.262369\n",
       "  [3, 4, 4 ]  =  0.145331"
      ]
     },
     "execution_count": 36,
     "metadata": {},
     "output_type": "execute_result"
    }
   ],
   "source": [
    "node_voltage_phase_angle"
   ]
  },
  {
   "cell_type": "code",
   "execution_count": 37,
   "metadata": {},
   "outputs": [
    {
     "data": {
      "text/plain": [
       "8×4 Array{Float64,2}:\n",
       "  49.786    40.3714   47.8922   20.9814\n",
       " -64.5571  -50.7171  -62.2156  -27.6916\n",
       " 100.0     100.0     100.0      58.5871\n",
       "  38.6976   35.4737   38.0971   20.0223\n",
       " -74.7264  -52.6075  -61.0791  -30.5716\n",
       "  60.388    35.8198   53.1297   24.5465\n",
       " 100.0      65.2039   97.0733   38.3456\n",
       " -44.7579  -36.5825  -46.1188  -12.0613"
      ]
     },
     "execution_count": 37,
     "metadata": {},
     "output_type": "execute_result"
    }
   ],
   "source": [
    "shared_ex_power"
   ]
  },
  {
   "cell_type": "code",
   "execution_count": 38,
   "metadata": {},
   "outputs": [
    {
     "data": {
      "text/plain": [
       "10-element Array{Float64,1}:\n",
       " 0.0\n",
       " 0.0\n",
       " 0.0\n",
       " 0.0\n",
       " 0.0\n",
       " 0.0\n",
       " 0.0\n",
       " 0.0\n",
       " 0.0\n",
       " 1.0"
      ]
     },
     "execution_count": 38,
     "metadata": {},
     "output_type": "execute_result"
    }
   ],
   "source": [
    "int_line_decision_1"
   ]
  },
  {
   "cell_type": "code",
   "execution_count": 39,
   "metadata": {},
   "outputs": [
    {
     "data": {
      "text/plain": [
       "18-element Array{Float64,1}:\n",
       " 1.0\n",
       " 0.0\n",
       " 0.0\n",
       " 0.0\n",
       " 0.0\n",
       " 0.0\n",
       " 0.0\n",
       " 0.0\n",
       " 0.0\n",
       " 1.0\n",
       " 1.0\n",
       " 0.0\n",
       " 0.0\n",
       " 1.0\n",
       " 0.0\n",
       " 1.0\n",
       " 0.0\n",
       " 0.0"
      ]
     },
     "execution_count": 39,
     "metadata": {},
     "output_type": "execute_result"
    }
   ],
   "source": [
    "int_line_decision_2"
   ]
  },
  {
   "cell_type": "code",
   "execution_count": 40,
   "metadata": {},
   "outputs": [
    {
     "data": {
      "text/plain": [
       "2-element Array{Float64,1}:\n",
       " 0.0\n",
       " 0.0"
      ]
     },
     "execution_count": 40,
     "metadata": {},
     "output_type": "execute_result"
    }
   ],
   "source": [
    "int_line_decision_3"
   ]
  },
  {
   "cell_type": "code",
   "execution_count": 41,
   "metadata": {},
   "outputs": [
    {
     "data": {
      "text/plain": [
       "27.298254705247164"
      ]
     },
     "execution_count": 41,
     "metadata": {},
     "output_type": "execute_result"
    }
   ],
   "source": [
    "obj_value"
   ]
  },
  {
   "cell_type": "code",
   "execution_count": 142,
   "metadata": {},
   "outputs": [
    {
     "data": {
      "text/plain": [
       "14×4 Array{Float64,2}:\n",
       " 118.063  4.71029  51.0623  0.0\n",
       "   0.0    0.0       0.0     0.0\n",
       "   0.0    0.0       0.0     0.0\n",
       "   0.0    0.0       0.0     0.0\n",
       "   0.0    0.0       0.0     0.0\n",
       "   0.0    0.0       0.0     0.0\n",
       "   0.0    0.0       0.0     0.0\n",
       "   0.0    0.0       0.0     0.0\n",
       "   0.0    0.0       0.0     0.0\n",
       "   0.0    0.0       0.0     0.0\n",
       "   0.0    0.0       0.0     0.0\n",
       "   0.0    0.0       0.0     0.0\n",
       "   0.0    0.0       0.0     0.0\n",
       "   0.0    0.0       0.0     0.0"
      ]
     },
     "execution_count": 142,
     "metadata": {},
     "output_type": "execute_result"
    }
   ],
   "source": [
    "generation_1"
   ]
  },
  {
   "cell_type": "code",
   "execution_count": 143,
   "metadata": {},
   "outputs": [
    {
     "name": "stdout",
     "output_type": "stream",
     "text": [
      "30×4 Array{Float64,2}:\n",
      "  0.0   0.0   0.0   0.0\n",
      " 14.2   4.6  51.9  47.3\n",
      "  0.0   0.0   0.0   0.0\n",
      "  0.0   0.0   0.0   0.0\n",
      "  0.0   0.0   0.0   0.0\n",
      "  0.0   0.0   0.0   0.0\n",
      "  0.0   0.0   0.0   0.0\n",
      "  0.0   0.0   0.0   0.0\n",
      "  0.0   0.0   0.0   0.0\n",
      "  0.0   0.0   0.0   0.0\n",
      "  0.0   0.0   0.0   0.0\n",
      "  0.0   0.0   0.0   0.0\n",
      " 40.0  40.0  40.0   0.0\n",
      "  0.0   0.0   0.0   0.0\n",
      "  0.0   0.0   0.0   0.0\n",
      "  0.0   0.0   0.0   0.0\n",
      "  0.0   0.0   0.0   0.0\n",
      "  0.0   0.0   0.0   0.0\n",
      "  0.0   0.0   0.0   0.0\n",
      "  0.0   0.0   0.0   0.0\n",
      "  0.0   0.0   0.0   0.0\n",
      " 50.0  50.0  50.0   0.0\n",
      " 30.0   0.0   0.0   0.0\n",
      "  0.0   0.0   0.0   0.0\n",
      "  0.0   0.0   0.0   0.0\n",
      "  0.0   0.0   0.0   0.0\n",
      " 55.0   0.0   0.0   0.0\n",
      "  0.0   0.0   0.0   0.0\n",
      "  0.0   0.0   0.0   0.0\n",
      "  0.0   0.0   0.0   0.0"
     ]
    }
   ],
   "source": [
    "show(stdout, \"text/plain\", generation_2)"
   ]
  },
  {
   "cell_type": "code",
   "execution_count": 144,
   "metadata": {},
   "outputs": [
    {
     "data": {
      "text/plain": [
       "5×4 Array{Float64,2}:\n",
       " 42.4154  0.0  0.0  0.0\n",
       "  0.0     0.0  0.0  0.0\n",
       "  0.0     0.0  0.0  0.0\n",
       "  0.0     0.0  0.0  0.0\n",
       "  0.0     0.0  0.0  0.0"
      ]
     },
     "execution_count": 144,
     "metadata": {},
     "output_type": "execute_result"
    }
   ],
   "source": [
    "generation_3"
   ]
  },
  {
   "cell_type": "code",
   "execution_count": 145,
   "metadata": {},
   "outputs": [
    {
     "data": {
      "text/plain": [
       "10×4 Array{Float64,2}:\n",
       " -0.0      0.0      0.0      0.0\n",
       " -0.0     -0.0     -0.0     -0.0\n",
       " -0.0     -0.0     -0.0      0.0\n",
       " -0.0     -0.0     -0.0     -0.0\n",
       "  0.0     -0.0      0.0      0.0\n",
       " -0.0     -0.0     -0.0      0.0\n",
       " -0.0      0.0      0.0     -0.0\n",
       " -0.0      0.0     -0.0      0.0\n",
       "  0.0     -0.0     -0.0      0.0\n",
       " 39.7704  51.6737  49.9709  28.3685"
      ]
     },
     "execution_count": 145,
     "metadata": {},
     "output_type": "execute_result"
    }
   ],
   "source": [
    "int_line_flow_1"
   ]
  },
  {
   "cell_type": "code",
   "execution_count": 146,
   "metadata": {},
   "outputs": [
    {
     "data": {
      "text/plain": [
       "18×4 Array{Float64,2}:\n",
       " -65.6706  -51.2704   -78.7672  -38.2372\n",
       "  -0.0      -0.0       -0.0      -0.0\n",
       "  -0.0       0.0       -0.0       0.0\n",
       "   0.0       0.0        0.0       0.0\n",
       "  -0.0       0.0        0.0       0.0\n",
       "  -0.0       0.0        0.0       0.0\n",
       "  -0.0      -0.0       -0.0      -0.0\n",
       "   0.0       0.0        0.0       0.0\n",
       "   0.0       0.0        0.0       0.0\n",
       " -41.4845  -36.3283   -59.181   -30.0504\n",
       " -46.2175  -40.5114   -46.5053  -20.1975\n",
       "  -0.0      -0.0       -0.0      -0.0\n",
       "  -0.0      -0.0       -0.0       0.0\n",
       " -18.7456  -16.0081   -18.6725   -8.34003\n",
       "  -0.0      -0.0       -0.0      -0.0\n",
       " -10.6871   -8.05562  -10.3934   -5.28197\n",
       "  -0.0      -0.0       -0.0      -0.0\n",
       "  -0.0      -0.0        0.0       0.0"
      ]
     },
     "execution_count": 146,
     "metadata": {},
     "output_type": "execute_result"
    }
   ],
   "source": [
    "int_line_flow_2"
   ]
  },
  {
   "cell_type": "code",
   "execution_count": 147,
   "metadata": {},
   "outputs": [
    {
     "data": {
      "text/plain": [
       "2×4 Array{Float64,2}:\n",
       " -0.0  -0.0  -0.0  -0.0\n",
       "  0.0  -0.0   0.0   0.0"
      ]
     },
     "execution_count": 147,
     "metadata": {},
     "output_type": "execute_result"
    }
   ],
   "source": [
    "int_line_flow_3"
   ]
  },
  {
   "cell_type": "code",
   "execution_count": 148,
   "metadata": {},
   "outputs": [
    {
     "data": {
      "text/plain": [
       "20×4 Array{Float64,2}:\n",
       "  70.8603    12.077      39.23         3.58472\n",
       "  12.2464    -8.30051     0.724104    -5.78779\n",
       "  48.1568    19.9402     33.5963       9.5859\n",
       "   9.40803   -3.95628     1.77951     -2.7822\n",
       "  -8.4045   -14.757     -12.4208      -8.64398\n",
       " -46.0432   -27.1598    -37.0537     -13.9641\n",
       " -74.0964   -44.3688    -58.739      -24.0432\n",
       " -37.4154   -34.3796    -38.0961     -18.3159\n",
       " -11.6211   -11.7414    -12.3862      -6.35947\n",
       " -39.1569   -35.7526    -38.0386     -20.3526\n",
       "   5.88581    1.94982     2.54521      1.46572\n",
       " -35.9134   -26.5318    -30.1645     -15.3814\n",
       " -20.3293   -16.7706    -18.8194      -9.23701\n",
       "   0.0        0.0         0.0          0.0\n",
       "  12.3706     5.99176     9.79618      2.6654\n",
       " -57.9429   -46.417     -55.3858     -26.0323\n",
       " -35.3647   -24.7998    -31.5448     -12.7283\n",
       "  -2.38581   -0.199816    0.0797939   -0.590724\n",
       "  32.7131    23.0257     26.3397      13.6652\n",
       "  -1.11626   -0.494874   -2.60468      1.05321"
      ]
     },
     "execution_count": 148,
     "metadata": {},
     "output_type": "execute_result"
    }
   ],
   "source": [
    "internal_existing_line_flow_1"
   ]
  },
  {
   "cell_type": "code",
   "execution_count": 149,
   "metadata": {},
   "outputs": [
    {
     "data": {
      "text/plain": [
       "41×4 Array{Float64,2}:\n",
       "  -9.89323    -2.56512  -13.4613   -11.754\n",
       "   9.89323     2.56512   13.4613    11.754\n",
       "  24.0849     11.5686    29.8659    20.1352\n",
       " -45.3943    -33.1284   -42.2114   -14.068\n",
       "  22.8197     12.2362    28.4578    18.5499\n",
       "  52.2512     37.9476    57.7801    23.2153\n",
       "  -3.87524     3.56954   -4.12051   -5.48645\n",
       "  -0.894129  -11.6225    -4.19331    5.568\n",
       "  54.6057     32.0755    54.8619    24.2776\n",
       " -81.5917    -61.0469   -85.6542   -39.5589\n",
       "  24.288      14.7554    21.8657     7.40627\n",
       "  59.2747     40.8384    56.7942    29.8099\n",
       "  19.0153     11.7295    18.1179    10.526\n",
       "   ⋮                               \n",
       "  57.2608     49.9699    57.4996    25.6702\n",
       " -74.4309    -63.5617   -74.1407   -33.1148\n",
       " -16.5362    -12.7167   -11.3952     0.317542\n",
       " -13.416      -3.28325   -8.44374   -9.34902\n",
       "  10.2733      6.09009    8.71305    5.35874\n",
       " -11.8427     -1.54317   -6.25569   -6.16528\n",
       "   3.5         1.75       2.625      0.875\n",
       " -34.2462     -2.78466   -2.82934   -1.53636\n",
       "  -7.75383     9.28466   12.5793     4.78636\n",
       "   6.06472     3.03236    4.54854    1.51618\n",
       "   6.93528     3.46764    5.20146    1.73382\n",
       "   3.66472     1.83236    2.74854    0.91618"
      ]
     },
     "execution_count": 149,
     "metadata": {},
     "output_type": "execute_result"
    }
   ],
   "source": [
    "internal_existing_line_flow_2"
   ]
  },
  {
   "cell_type": "code",
   "execution_count": 150,
   "metadata": {},
   "outputs": [
    {
     "data": {
      "text/plain": [
       "7×4 Array{Float64,2}:\n",
       " -37.6226   -47.2224   -57.3219   -28.799\n",
       "   5.31155   -5.38517   -3.75725   -1.77256\n",
       "  19.6229     8.56056   14.0976     7.23625\n",
       "  23.7383    11.4369    17.8825     8.28208\n",
       " -40.5959   -41.4      -51.1723   -24.7709\n",
       "  24.6924    17.2578    22.7092     6.27495\n",
       " -38.1017   -29.2776   -38.998    -18.597"
      ]
     },
     "execution_count": 150,
     "metadata": {},
     "output_type": "execute_result"
    }
   ],
   "source": [
    "internal_existing_line_flow_3"
   ]
  },
  {
   "cell_type": "code",
   "execution_count": null,
   "metadata": {},
   "outputs": [],
   "source": []
  },
  {
   "cell_type": "code",
   "execution_count": null,
   "metadata": {},
   "outputs": [],
   "source": []
  },
  {
   "cell_type": "code",
   "execution_count": null,
   "metadata": {},
   "outputs": [],
   "source": []
  }
 ],
 "metadata": {
  "kernelspec": {
   "display_name": "Julia 1.8.3",
   "language": "julia",
   "name": "julia-1.8"
  },
  "language_info": {
   "file_extension": ".jl",
   "mimetype": "application/julia",
   "name": "julia",
   "version": "1.8.3"
  },
  "vscode": {
   "interpreter": {
    "hash": "403874d306cf060d661276ed11e97236eb32e90c8612e39c6ef404930152a095"
   }
  }
 },
 "nbformat": 4,
 "nbformat_minor": 4
}
