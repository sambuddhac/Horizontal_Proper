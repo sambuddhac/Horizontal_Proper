{
 "cells": [
  {
   "cell_type": "markdown",
   "metadata": {},
   "source": [
    "# Centralized Solution of Multi-Regional Transmission Expansion Horizontal Investment Coordination Problem"
   ]
  },
  {
   "cell_type": "markdown",
   "metadata": {},
   "source": [
    "### This notebook contains codes for the three zone test case (consisting of the IEEE 14 nodes, IEEE 30 nodes, and a 5 node test system for each of the zones) under the assumption that a single entity solves the problem centrally\n",
    "\n",
    "#### The first code block loads the different package dependencies to create the virtual environment in Julia"
   ]
  },
  {
   "cell_type": "code",
   "execution_count": 179,
   "metadata": {},
   "outputs": [
    {
     "name": "stderr",
     "output_type": "stream",
     "text": [
      "\u001b[32m\u001b[1m  Resolving\u001b[22m\u001b[39m package versions...\n",
      "\u001b[32m\u001b[1mNo Changes\u001b[22m\u001b[39m to `~/.julia/environments/v1.5/Project.toml`\n",
      "\u001b[32m\u001b[1mNo Changes\u001b[22m\u001b[39m to `~/.julia/environments/v1.5/Manifest.toml`\n",
      "\u001b[32m\u001b[1m  Resolving\u001b[22m\u001b[39m package versions...\n",
      "\u001b[32m\u001b[1mNo Changes\u001b[22m\u001b[39m to `~/.julia/environments/v1.5/Project.toml`\n",
      "\u001b[32m\u001b[1mNo Changes\u001b[22m\u001b[39m to `~/.julia/environments/v1.5/Manifest.toml`\n",
      "\u001b[32m\u001b[1m  Resolving\u001b[22m\u001b[39m package versions...\n",
      "\u001b[32m\u001b[1mNo Changes\u001b[22m\u001b[39m to `~/.julia/environments/v1.5/Project.toml`\n",
      "\u001b[32m\u001b[1mNo Changes\u001b[22m\u001b[39m to `~/.julia/environments/v1.5/Manifest.toml`\n",
      "\u001b[32m\u001b[1m  Resolving\u001b[22m\u001b[39m package versions...\n",
      "\u001b[32m\u001b[1mNo Changes\u001b[22m\u001b[39m to `~/.julia/environments/v1.5/Project.toml`\n",
      "\u001b[32m\u001b[1mNo Changes\u001b[22m\u001b[39m to `~/.julia/environments/v1.5/Manifest.toml`\n",
      "\u001b[32m\u001b[1m  Resolving\u001b[22m\u001b[39m package versions...\n",
      "\u001b[32m\u001b[1mNo Changes\u001b[22m\u001b[39m to `~/.julia/environments/v1.5/Project.toml`\n",
      "\u001b[32m\u001b[1mNo Changes\u001b[22m\u001b[39m to `~/.julia/environments/v1.5/Manifest.toml`\n",
      "\u001b[32m\u001b[1m  Resolving\u001b[22m\u001b[39m package versions...\n",
      "\u001b[32m\u001b[1mNo Changes\u001b[22m\u001b[39m to `~/.julia/environments/v1.5/Project.toml`\n",
      "\u001b[32m\u001b[1mNo Changes\u001b[22m\u001b[39m to `~/.julia/environments/v1.5/Manifest.toml`\n",
      "\u001b[32m\u001b[1m  Resolving\u001b[22m\u001b[39m package versions...\n",
      "\u001b[32m\u001b[1mNo Changes\u001b[22m\u001b[39m to `~/.julia/environments/v1.5/Project.toml`\n",
      "\u001b[32m\u001b[1mNo Changes\u001b[22m\u001b[39m to `~/.julia/environments/v1.5/Manifest.toml`\n"
     ]
    }
   ],
   "source": [
    "import Pkg\n",
    "Pkg.add(\"HiGHS\")\n",
    "Pkg.add(\"Gurobi\")\n",
    "Pkg.add(\"GLPK\")\n",
    "Pkg.add(\"XLSX\")\n",
    "Pkg.add(\"SCIP\")\n",
    "Pkg.add(\"Ipopt\")\n",
    "Pkg.add(\"Cbc\")\n",
    "using Pkg\n",
    "using JuMP\n",
    "using GLPK\n",
    "using XLSX\n",
    "using SCIP\n",
    "using Gurobi\n",
    "using Ipopt\n",
    "using CSV\n",
    "using Cbc\n",
    "using DataFrames"
   ]
  },
  {
   "cell_type": "markdown",
   "metadata": {},
   "source": [
    "#### The next code block reads the different files corresponding to shared candidate lines, internal candidate lines, shared existing lines, internal existing lines, generators, and load"
   ]
  },
  {
   "cell_type": "code",
   "execution_count": 221,
   "metadata": {},
   "outputs": [
    {
     "data": {
      "text/html": [
       "<table class=\"data-frame\"><thead><tr><th></th><th>Zone</th><th>Nodes_Total</th></tr><tr><th></th><th>Int64</th><th>Int64</th></tr></thead><tbody><p>3 rows × 2 columns</p><tr><th>1</th><td>1</td><td>14</td></tr><tr><th>2</th><td>2</td><td>30</td></tr><tr><th>3</th><td>3</td><td>5</td></tr></tbody></table>"
      ],
      "text/latex": [
       "\\begin{tabular}{r|cc}\n",
       "\t& Zone & Nodes\\_Total\\\\\n",
       "\t\\hline\n",
       "\t& Int64 & Int64\\\\\n",
       "\t\\hline\n",
       "\t1 & 1 & 14 \\\\\n",
       "\t2 & 2 & 30 \\\\\n",
       "\t3 & 3 & 5 \\\\\n",
       "\\end{tabular}\n"
      ],
      "text/plain": [
       "\u001b[1m3×2 DataFrame\u001b[0m\n",
       "\u001b[1m Row \u001b[0m│\u001b[1m Zone  \u001b[0m\u001b[1m Nodes_Total \u001b[0m\n",
       "\u001b[1m     \u001b[0m│\u001b[90m Int64 \u001b[0m\u001b[90m Int64       \u001b[0m\n",
       "─────┼────────────────────\n",
       "   1 │     1           14\n",
       "   2 │     2           30\n",
       "   3 │     3            5"
      ]
     },
     "execution_count": 221,
     "metadata": {},
     "output_type": "execute_result"
    }
   ],
   "source": [
    "shared_cand = DataFrame(XLSX.readtable(\"../Input_Data/CandLine.csv\", \"Taul1\", header=true)...) #Dataframe of shared candidate lines\n",
    "int_cand =  DataFrame(XLSX.readtable(\"../Input_Data/CandLineInt.csv\", \"Taul1\", header=true)...) #Dataframe of internal candidate lines\n",
    "shared_ex =  DataFrame(XLSX.readtable(\"../Input_Data/SharedEline.csv\", \"Taul1\", header=true)...) #Dataframe of shared existing lines\n",
    "int_ex = DataFrame(XLSX.readtable(\"../Input_Data/Tran.csv\", \"Taul1\", header=true)...) #Dataframe of internal existing lines\n",
    "gen =  DataFrame(XLSX.readtable(\"../Input_Data/Gen.csv\" , \"Taul1\", header=true)...) #Dataframe of generators\n",
    "load =  DataFrame(XLSX.readtable(\"../Input_Data/Load.csv\", \"Taul1\", header=true)...) #Dataframe of loads\n",
    "scen_prob = DataFrame(CSV.File(\"../Input_Data/Scenario_Probability.csv\", header=true)) #Dataframe of scenario probabilities\n",
    "zone_summary = DataFrame(CSV.File(\"../Input_Data/Zone_Summary.csv\", header=true)) #Dataframe of scenario probabilities"
   ]
  },
  {
   "cell_type": "code",
   "execution_count": 222,
   "metadata": {},
   "outputs": [
    {
     "data": {
      "text/html": [
       "<table class=\"data-frame\"><thead><tr><th></th><th>Sernum</th><th>tNodeID1</th><th>nodeZone1</th><th>tNodeID2</th><th>nodeZone2</th><th>reacT</th><th>ptMax</th><th>lifeTime</th><th>interestRate</th></tr><tr><th></th><th>Any</th><th>Any</th><th>Any</th><th>Any</th><th>Any</th><th>Any</th><th>Any</th><th>Any</th><th>Any</th></tr></thead><tbody><p>6 rows × 11 columns (omitted printing of 2 columns)</p><tr><th>1</th><td>1</td><td>1</td><td>1</td><td>2</td><td>3</td><td>0.05917</td><td>100</td><td>50</td><td>0.05</td></tr><tr><th>2</th><td>2</td><td>5</td><td>3</td><td>2</td><td>1</td><td>0.22304</td><td>100</td><td>57</td><td>0.045</td></tr><tr><th>3</th><td>3</td><td>10</td><td>1</td><td>4</td><td>3</td><td>0.19797</td><td>100</td><td>29</td><td>0.03</td></tr><tr><th>4</th><td>4</td><td>19</td><td>2</td><td>14</td><td>1</td><td>0.0575</td><td>100</td><td>35</td><td>0.1</td></tr><tr><th>5</th><td>5</td><td>23</td><td>2</td><td>4</td><td>3</td><td>0.1652</td><td>100</td><td>50</td><td>0.05</td></tr><tr><th>6</th><td>6</td><td>2</td><td>3</td><td>15</td><td>2</td><td>0.1737</td><td>100</td><td>57</td><td>0.045</td></tr></tbody></table>"
      ],
      "text/latex": [
       "\\begin{tabular}{r|cccccccccc}\n",
       "\t& Sernum & tNodeID1 & nodeZone1 & tNodeID2 & nodeZone2 & reacT & ptMax & lifeTime & interestRate & \\\\\n",
       "\t\\hline\n",
       "\t& Any & Any & Any & Any & Any & Any & Any & Any & Any & \\\\\n",
       "\t\\hline\n",
       "\t1 & 1 & 1 & 1 & 2 & 3 & 0.05917 & 100 & 50 & 0.05 & $\\dots$ \\\\\n",
       "\t2 & 2 & 5 & 3 & 2 & 1 & 0.22304 & 100 & 57 & 0.045 & $\\dots$ \\\\\n",
       "\t3 & 3 & 10 & 1 & 4 & 3 & 0.19797 & 100 & 29 & 0.03 & $\\dots$ \\\\\n",
       "\t4 & 4 & 19 & 2 & 14 & 1 & 0.0575 & 100 & 35 & 0.1 & $\\dots$ \\\\\n",
       "\t5 & 5 & 23 & 2 & 4 & 3 & 0.1652 & 100 & 50 & 0.05 & $\\dots$ \\\\\n",
       "\t6 & 6 & 2 & 3 & 15 & 2 & 0.1737 & 100 & 57 & 0.045 & $\\dots$ \\\\\n",
       "\\end{tabular}\n"
      ],
      "text/plain": [
       "\u001b[1m6×11 DataFrame\u001b[0m\n",
       "\u001b[1m Row \u001b[0m│\u001b[1m Sernum \u001b[0m\u001b[1m tNodeID1 \u001b[0m\u001b[1m nodeZone1 \u001b[0m\u001b[1m tNodeID2 \u001b[0m\u001b[1m nodeZone2 \u001b[0m\u001b[1m reacT   \u001b[0m\u001b[1m ptMax \u001b[0m\u001b[1m lifeT\u001b[0m ⋯\n",
       "\u001b[1m     \u001b[0m│\u001b[90m Any    \u001b[0m\u001b[90m Any      \u001b[0m\u001b[90m Any       \u001b[0m\u001b[90m Any      \u001b[0m\u001b[90m Any       \u001b[0m\u001b[90m Any     \u001b[0m\u001b[90m Any   \u001b[0m\u001b[90m Any  \u001b[0m ⋯\n",
       "─────┼──────────────────────────────────────────────────────────────────────────\n",
       "   1 │ 1       1         1          2         3          0.05917  100    50    ⋯\n",
       "   2 │ 2       5         3          2         1          0.22304  100    57\n",
       "   3 │ 3       10        1          4         3          0.19797  100    29\n",
       "   4 │ 4       19        2          14        1          0.0575   100    35\n",
       "   5 │ 5       23        2          4         3          0.1652   100    50    ⋯\n",
       "   6 │ 6       2         3          15        2          0.1737   100    57\n",
       "\u001b[36m                                                               4 columns omitted\u001b[0m"
      ]
     },
     "execution_count": 222,
     "metadata": {},
     "output_type": "execute_result"
    }
   ],
   "source": [
    "shared_cand"
   ]
  },
  {
   "cell_type": "code",
   "execution_count": 223,
   "metadata": {},
   "outputs": [
    {
     "data": {
      "text/html": [
       "<table class=\"data-frame\"><thead><tr><th></th><th>zoneNum</th><th>gNodeID</th><th>C2</th><th>C1</th><th>C0</th><th>PgMax</th><th>PgMin</th></tr><tr><th></th><th>Any</th><th>Any</th><th>Any</th><th>Any</th><th>Any</th><th>Any</th><th>Any</th></tr></thead><tbody><p>10 rows × 7 columns</p><tr><th>1</th><td>1</td><td>1</td><td>0.0430293</td><td>20</td><td>0</td><td>332.4</td><td>0</td></tr><tr><th>2</th><td>1</td><td>2</td><td>0.25</td><td>20</td><td>0</td><td>140</td><td>0</td></tr><tr><th>3</th><td>2</td><td>1</td><td>0.02</td><td>2</td><td>0</td><td>80</td><td>0</td></tr><tr><th>4</th><td>2</td><td>2</td><td>0.0175</td><td>1.75</td><td>0</td><td>80</td><td>0</td></tr><tr><th>5</th><td>2</td><td>13</td><td>0.0625</td><td>1</td><td>0</td><td>40</td><td>0</td></tr><tr><th>6</th><td>2</td><td>22</td><td>0.00834</td><td>3.25</td><td>0</td><td>50</td><td>0</td></tr><tr><th>7</th><td>2</td><td>23</td><td>0.025</td><td>3</td><td>0</td><td>30</td><td>0</td></tr><tr><th>8</th><td>2</td><td>27</td><td>0.025</td><td>3</td><td>0</td><td>55</td><td>0</td></tr><tr><th>9</th><td>3</td><td>1</td><td>0.0430293</td><td>2</td><td>0</td><td>332.4</td><td>0</td></tr><tr><th>10</th><td>3</td><td>2</td><td>0.25</td><td>2</td><td>0</td><td>140</td><td>0</td></tr></tbody></table>"
      ],
      "text/latex": [
       "\\begin{tabular}{r|ccccccc}\n",
       "\t& zoneNum & gNodeID & C2 & C1 & C0 & PgMax & PgMin\\\\\n",
       "\t\\hline\n",
       "\t& Any & Any & Any & Any & Any & Any & Any\\\\\n",
       "\t\\hline\n",
       "\t1 & 1 & 1 & 0.0430293 & 20 & 0 & 332.4 & 0 \\\\\n",
       "\t2 & 1 & 2 & 0.25 & 20 & 0 & 140 & 0 \\\\\n",
       "\t3 & 2 & 1 & 0.02 & 2 & 0 & 80 & 0 \\\\\n",
       "\t4 & 2 & 2 & 0.0175 & 1.75 & 0 & 80 & 0 \\\\\n",
       "\t5 & 2 & 13 & 0.0625 & 1 & 0 & 40 & 0 \\\\\n",
       "\t6 & 2 & 22 & 0.00834 & 3.25 & 0 & 50 & 0 \\\\\n",
       "\t7 & 2 & 23 & 0.025 & 3 & 0 & 30 & 0 \\\\\n",
       "\t8 & 2 & 27 & 0.025 & 3 & 0 & 55 & 0 \\\\\n",
       "\t9 & 3 & 1 & 0.0430293 & 2 & 0 & 332.4 & 0 \\\\\n",
       "\t10 & 3 & 2 & 0.25 & 2 & 0 & 140 & 0 \\\\\n",
       "\\end{tabular}\n"
      ],
      "text/plain": [
       "\u001b[1m10×7 DataFrame\u001b[0m\n",
       "\u001b[1m Row \u001b[0m│\u001b[1m zoneNum \u001b[0m\u001b[1m gNodeID \u001b[0m\u001b[1m C2        \u001b[0m\u001b[1m C1   \u001b[0m\u001b[1m C0  \u001b[0m\u001b[1m PgMax \u001b[0m\u001b[1m PgMin \u001b[0m\n",
       "\u001b[1m     \u001b[0m│\u001b[90m Any     \u001b[0m\u001b[90m Any     \u001b[0m\u001b[90m Any       \u001b[0m\u001b[90m Any  \u001b[0m\u001b[90m Any \u001b[0m\u001b[90m Any   \u001b[0m\u001b[90m Any   \u001b[0m\n",
       "─────┼──────────────────────────────────────────────────────\n",
       "   1 │ 1        1        0.0430293  20    0    332.4  0\n",
       "   2 │ 1        2        0.25       20    0    140    0\n",
       "   3 │ 2        1        0.02       2     0    80     0\n",
       "   4 │ 2        2        0.0175     1.75  0    80     0\n",
       "   5 │ 2        13       0.0625     1     0    40     0\n",
       "   6 │ 2        22       0.00834    3.25  0    50     0\n",
       "   7 │ 2        23       0.025      3     0    30     0\n",
       "   8 │ 2        27       0.025      3     0    55     0\n",
       "   9 │ 3        1        0.0430293  2     0    332.4  0\n",
       "  10 │ 3        2        0.25       2     0    140    0"
      ]
     },
     "execution_count": 223,
     "metadata": {},
     "output_type": "execute_result"
    }
   ],
   "source": [
    "gen"
   ]
  },
  {
   "cell_type": "markdown",
   "metadata": {},
   "source": [
    "#### The following code-section constructs several DataFrames for each zone or region, for loads within a particular zone, generators within a particular zone, shared candidate lines originating from or terminating within a particular zone, internal candidate lines within a particular zone, shared existing lines originating from or terminating within a particular zone, internal existing lines within a particular zone, marginal costs of generators within a particular zone, and two binary vectors for each zone, one for checking which all shared candidate lines belong to a particular zone and the other for checking which all shared existing lines belong to a particular zone."
   ]
  },
  {
   "cell_type": "code",
   "execution_count": 224,
   "metadata": {},
   "outputs": [
    {
     "data": {
      "text/plain": [
       "scen_weight (generic function with 1 method)"
      ]
     },
     "execution_count": 224,
     "metadata": {},
     "output_type": "execute_result"
    }
   ],
   "source": [
    "l(i,s) = load[load.zoneNum .== i, [1,2,s+2]] # load within zone i\n",
    "g(i) = gen[gen.zoneNum .== i, :]   # generators within zone i\n",
    "shared_c(i) = vcat(shared_cand[shared_cand.nodeZone1 .== i,:] , shared_cand[shared_cand.nodeZone2 .== i, :]) #shared candidate lines within zone i\n",
    "int_c(i) = int_cand[int_cand.zoneNum .== i, :]   # number of internal candidate lines within zone i\n",
    "shared_e(i) = vcat(shared_ex[shared_ex.nodeZone1 .== i,:] , shared_ex[shared_ex.nodeZone2 .== i, :]) #shared existing lines within zone i\n",
    "int_e(i) =int_ex[int_ex.zoneNum .== i, :]       # internal existing lines within zone i\n",
    "MC(i) = (g(i).C2 .* (g(i).PgMax .^ 2) .+ g(i).C1 .* g(i).PgMax .- g(i).C2 .*(g(i).PgMin .^ 2) .- g(i).C1 .* g(i).PgMin) ./ (g(i).PgMax .- g(i).PgMin) #Marginal cost of generators within zone i\n",
    "bin_c(i) = (shared_cand.nodeZone1 .== i) + (shared_cand.nodeZone2 .== i) # A binary vector through which we can check if the shared candidate lines belong to zone i\n",
    "bin_e(i) = (shared_ex.nodeZone1 .== i) + (shared_ex.nodeZone2 .== i) # A binary vector through which we can check if the shared existing lines belong to zone i\n",
    "scen_weight(s) = scen_prob.scen_weight[scen_prob.scenario .== s,:]"
   ]
  },
  {
   "cell_type": "code",
   "execution_count": 225,
   "metadata": {},
   "outputs": [
    {
     "data": {
      "text/plain": [
       "Int64"
      ]
     },
     "execution_count": 225,
     "metadata": {},
     "output_type": "execute_result"
    }
   ],
   "source": [
    "typeof(scen_weight(1)[1])\n"
   ]
  },
  {
   "cell_type": "code",
   "execution_count": 226,
   "metadata": {},
   "outputs": [
    {
     "data": {
      "text/plain": [
       "1"
      ]
     },
     "execution_count": 226,
     "metadata": {},
     "output_type": "execute_result"
    }
   ],
   "source": [
    "scen_weight(1)[1]"
   ]
  },
  {
   "cell_type": "code",
   "execution_count": 227,
   "metadata": {},
   "outputs": [
    {
     "data": {
      "text/plain": [
       "DataFrame"
      ]
     },
     "execution_count": 227,
     "metadata": {},
     "output_type": "execute_result"
    }
   ],
   "source": [
    "typeof(g(1))"
   ]
  },
  {
   "cell_type": "code",
   "execution_count": 228,
   "metadata": {},
   "outputs": [
    {
     "data": {
      "text/html": [
       "<table class=\"data-frame\"><thead><tr><th></th><th>zoneNum</th><th>lNodeID</th><th>P_load1</th></tr><tr><th></th><th>Any</th><th>Any</th><th>Any</th></tr></thead><tbody><p>4 rows × 3 columns</p><tr><th>1</th><td>3</td><td>2</td><td>-20</td></tr><tr><th>2</th><td>3</td><td>3</td><td>-45</td></tr><tr><th>3</th><td>3</td><td>4</td><td>-40</td></tr><tr><th>4</th><td>3</td><td>5</td><td>-60</td></tr></tbody></table>"
      ],
      "text/latex": [
       "\\begin{tabular}{r|ccc}\n",
       "\t& zoneNum & lNodeID & P\\_load1\\\\\n",
       "\t\\hline\n",
       "\t& Any & Any & Any\\\\\n",
       "\t\\hline\n",
       "\t1 & 3 & 2 & -20 \\\\\n",
       "\t2 & 3 & 3 & -45 \\\\\n",
       "\t3 & 3 & 4 & -40 \\\\\n",
       "\t4 & 3 & 5 & -60 \\\\\n",
       "\\end{tabular}\n"
      ],
      "text/plain": [
       "\u001b[1m4×3 DataFrame\u001b[0m\n",
       "\u001b[1m Row \u001b[0m│\u001b[1m zoneNum \u001b[0m\u001b[1m lNodeID \u001b[0m\u001b[1m P_load1 \u001b[0m\n",
       "\u001b[1m     \u001b[0m│\u001b[90m Any     \u001b[0m\u001b[90m Any     \u001b[0m\u001b[90m Any     \u001b[0m\n",
       "─────┼───────────────────────────\n",
       "   1 │ 3        2        -20\n",
       "   2 │ 3        3        -45\n",
       "   3 │ 3        4        -40\n",
       "   4 │ 3        5        -60"
      ]
     },
     "execution_count": 228,
     "metadata": {},
     "output_type": "execute_result"
    }
   ],
   "source": [
    "l(3,1)"
   ]
  },
  {
   "cell_type": "code",
   "execution_count": 229,
   "metadata": {},
   "outputs": [
    {
     "data": {
      "text/plain": [
       "2-element Array{Float64,1}:\n",
       " 34.30293932\n",
       " 55.0"
      ]
     },
     "execution_count": 229,
     "metadata": {},
     "output_type": "execute_result"
    }
   ],
   "source": [
    "MC(1)"
   ]
  },
  {
   "cell_type": "markdown",
   "metadata": {},
   "source": [
    "#### Constructing the optimization model with a specified solver"
   ]
  },
  {
   "cell_type": "code",
   "execution_count": 230,
   "metadata": {},
   "outputs": [
    {
     "data": {
      "text/html": [
       "<table class=\"data-frame\"><thead><tr><th></th><th>zoneNum</th><th>gNodeID</th><th>C2</th><th>C1</th><th>C0</th><th>PgMax</th><th>PgMin</th></tr><tr><th></th><th>Any</th><th>Any</th><th>Any</th><th>Any</th><th>Any</th><th>Any</th><th>Any</th></tr></thead><tbody><p>6 rows × 7 columns</p><tr><th>1</th><td>2</td><td>1</td><td>0.02</td><td>2</td><td>0</td><td>80</td><td>0</td></tr><tr><th>2</th><td>2</td><td>2</td><td>0.0175</td><td>1.75</td><td>0</td><td>80</td><td>0</td></tr><tr><th>3</th><td>2</td><td>13</td><td>0.0625</td><td>1</td><td>0</td><td>40</td><td>0</td></tr><tr><th>4</th><td>2</td><td>22</td><td>0.00834</td><td>3.25</td><td>0</td><td>50</td><td>0</td></tr><tr><th>5</th><td>2</td><td>23</td><td>0.025</td><td>3</td><td>0</td><td>30</td><td>0</td></tr><tr><th>6</th><td>2</td><td>27</td><td>0.025</td><td>3</td><td>0</td><td>55</td><td>0</td></tr></tbody></table>"
      ],
      "text/latex": [
       "\\begin{tabular}{r|ccccccc}\n",
       "\t& zoneNum & gNodeID & C2 & C1 & C0 & PgMax & PgMin\\\\\n",
       "\t\\hline\n",
       "\t& Any & Any & Any & Any & Any & Any & Any\\\\\n",
       "\t\\hline\n",
       "\t1 & 2 & 1 & 0.02 & 2 & 0 & 80 & 0 \\\\\n",
       "\t2 & 2 & 2 & 0.0175 & 1.75 & 0 & 80 & 0 \\\\\n",
       "\t3 & 2 & 13 & 0.0625 & 1 & 0 & 40 & 0 \\\\\n",
       "\t4 & 2 & 22 & 0.00834 & 3.25 & 0 & 50 & 0 \\\\\n",
       "\t5 & 2 & 23 & 0.025 & 3 & 0 & 30 & 0 \\\\\n",
       "\t6 & 2 & 27 & 0.025 & 3 & 0 & 55 & 0 \\\\\n",
       "\\end{tabular}\n"
      ],
      "text/plain": [
       "\u001b[1m6×7 DataFrame\u001b[0m\n",
       "\u001b[1m Row \u001b[0m│\u001b[1m zoneNum \u001b[0m\u001b[1m gNodeID \u001b[0m\u001b[1m C2      \u001b[0m\u001b[1m C1   \u001b[0m\u001b[1m C0  \u001b[0m\u001b[1m PgMax \u001b[0m\u001b[1m PgMin \u001b[0m\n",
       "\u001b[1m     \u001b[0m│\u001b[90m Any     \u001b[0m\u001b[90m Any     \u001b[0m\u001b[90m Any     \u001b[0m\u001b[90m Any  \u001b[0m\u001b[90m Any \u001b[0m\u001b[90m Any   \u001b[0m\u001b[90m Any   \u001b[0m\n",
       "─────┼────────────────────────────────────────────────────\n",
       "   1 │ 2        1        0.02     2     0    80     0\n",
       "   2 │ 2        2        0.0175   1.75  0    80     0\n",
       "   3 │ 2        13       0.0625   1     0    40     0\n",
       "   4 │ 2        22       0.00834  3.25  0    50     0\n",
       "   5 │ 2        23       0.025    3     0    30     0\n",
       "   6 │ 2        27       0.025    3     0    55     0"
      ]
     },
     "execution_count": 230,
     "metadata": {},
     "output_type": "execute_result"
    }
   ],
   "source": [
    "g(2)"
   ]
  },
  {
   "cell_type": "code",
   "execution_count": 231,
   "metadata": {},
   "outputs": [
    {
     "name": "stdout",
     "output_type": "stream",
     "text": [
      "Academic license - for non-commercial use only - expires 2023-09-07\n"
     ]
    },
    {
     "data": {
      "text/latex": [
       "$$ \\begin{alignat*}{1}\\text{feasibility}\\\\\n",
       "\\text{Subject to} \\quad\\end{alignat*}\n",
       " $$"
      ],
      "text/plain": [
       "A JuMP Model\n",
       "Feasibility problem with:\n",
       "Variables: 0\n",
       "Model mode: AUTOMATIC\n",
       "CachingOptimizer state: EMPTY_OPTIMIZER\n",
       "Solver name: Gurobi"
      ]
     },
     "execution_count": 231,
     "metadata": {},
     "output_type": "execute_result"
    }
   ],
   "source": [
    "Mod3 = Model(Gurobi.Optimizer)"
   ]
  },
  {
   "cell_type": "code",
   "execution_count": 232,
   "metadata": {},
   "outputs": [],
   "source": [
    "zone_number = 3;"
   ]
  },
  {
   "cell_type": "code",
   "execution_count": 233,
   "metadata": {},
   "outputs": [
    {
     "data": {
      "text/plain": [
       "7×1 Array{VariableRef,2}:\n",
       " int_ex_flow_3[1,1]\n",
       " int_ex_flow_3[2,1]\n",
       " int_ex_flow_3[3,1]\n",
       " int_ex_flow_3[4,1]\n",
       " int_ex_flow_3[5,1]\n",
       " int_ex_flow_3[6,1]\n",
       " int_ex_flow_3[7,1]"
      ]
     },
     "execution_count": 233,
     "metadata": {},
     "output_type": "execute_result"
    }
   ],
   "source": [
    "@variable(Mod3,0 <= gen_var_1[1:14,1:nrow(scen_prob)]) # generation at node 1\n",
    "@variable(Mod3,0 <= gen_var_2[1:30,1:nrow(scen_prob)]) # generation at node 2\n",
    "@variable(Mod3,0 <= gen_var_3[1:5,1:nrow(scen_prob)]) # generation at node 3\n",
    "\n",
    "@variable(Mod3,shared_line_decision_var[1:nrow(shared_cand)], Bin) #Decision variable for shared candidate lines\n",
    "\n",
    "@variable(Mod3,int_line_decision_var_1[1:nrow(int_c(1))], Bin) #Decision variable for internal candidate lines of zone 1 (Binary)\n",
    "@variable(Mod3,int_line_decision_var_2[1:nrow(int_c(2))], Bin) #Decision variable for internal candidate lines of zone 2 (Binary)\n",
    "@variable(Mod3,int_line_decision_var_3[1:nrow(int_c(3))], Bin) #Decision variable for internal candidate lines of zone 3 (Binary)\n",
    "\n",
    "@variable(Mod3,shared_cand_flow[1:nrow(shared_cand),1:nrow(scen_prob)])  #Power flowing on shared candidate lines \n",
    "\n",
    "@variable(Mod3, int_cand_flow_1[1:nrow(int_c(1)),1:nrow(scen_prob)]) #Power flowing on internal candidate lines of zone 1 \n",
    "@variable(Mod3, int_cand_flow_2[1:nrow(int_c(2)),1:nrow(scen_prob)]) #Power flowing on internal candidate lines of zone 2\n",
    "@variable(Mod3, int_cand_flow_3[1:nrow(int_c(3)),1:nrow(scen_prob)]) #Power flowing on internal candidate lines of zone 3\n",
    "\n",
    "@variable(Mod3, 0 <= node_voltage_phase_angle[i=1:nrow(zone_summary),j=1:zone_summary.Nodes_Total[i], 1:nrow(scen_prob)]<= 2*pi)\n",
    "\n",
    "#@variable(Mod3,0 <= shared_cand_angle[1:nrow(shared_cand),1:nrow(scen_prob),1:2]<= 2*pi) #Phase angle decision for shared candidate lines\n",
    "\n",
    "#@variable(Mod3,0 <= int_cand_angle_1[1:nrow(int_c(1)),1:nrow(scen_prob),1:2]<= 2*pi) #Phase angle decision for internal candidate lines of zone 1 \n",
    "#@variable(Mod3,0 <= int_cand_angle_2[1:nrow(int_c(2)),1:nrow(scen_prob),1:2]<= 2*pi) #Phase angle decision for internal candidate lines of zone 2\n",
    "#@variable(Mod3,0 <= int_cand_angle_3[1:nrow(int_c(3)),1:nrow(scen_prob),1:2]<= 2*pi) #Phase angle decision for internal candidate lines of zone 3 \n",
    "\n",
    "@variable(Mod3, shared_ex_flow[1:nrow(shared_ex),1:nrow(scen_prob)])  #Power flowing on shared existing shared lines\n",
    "\n",
    "@variable(Mod3, int_ex_flow_1[1:nrow(int_e(1)),1:nrow(scen_prob)])  #Power flowing on internal existing lines of zone 1 \n",
    "@variable(Mod3, int_ex_flow_2[1:nrow(int_e(2)),1:nrow(scen_prob)])  #Power flowing on internal existing lines of zone 2\n",
    "@variable(Mod3, int_ex_flow_3[1:nrow(int_e(3)),1:nrow(scen_prob)])  #Power flowing on internal existing lines of zone 3\n",
    "\n",
    "#@variable(Mod3,0 <= shared_ex_angle[1:nrow(shared_ex),1:nrow(scen_prob),1:2]<= 2*pi) #Phase angle for existing shared lines\n",
    "\n",
    "#@variable(Mod3,0 <= int_ex_angle_1[1:nrow(int_e(1)),1:nrow(scen_prob),1:2]<= 2*pi) #Phase angle decision for existing internal lines of zone 1\n",
    "#@variable(Mod3,0 <= int_ex_angle_2[1:nrow(int_e(2)),1:nrow(scen_prob),1:2]<= 2*pi) #Phase angle decision for existing internal lines of zone 2\n",
    "#@variable(Mod3,0 <= int_ex_angle_3[1:nrow(int_e(3)),1:nrow(scen_prob),1:2]<= 2*pi) #Phase angle decision for existing internal lines of zone 3\n"
   ]
  },
  {
   "cell_type": "code",
   "execution_count": 234,
   "metadata": {},
   "outputs": [
    {
     "data": {
      "text/plain": [
       "0"
      ]
     },
     "execution_count": 234,
     "metadata": {},
     "output_type": "execute_result"
    }
   ],
   "source": [
    "@expression(Mod3,total_cost,0)"
   ]
  },
  {
   "cell_type": "code",
   "execution_count": 235,
   "metadata": {},
   "outputs": [
    {
     "data": {
      "text/plain": [
       "1-element Array{GenericAffExpr{Float64,VariableRef},1}:\n",
       " 34.30293932 gen_var_1[1,1] + 55 gen_var_1[2,1]"
      ]
     },
     "execution_count": 235,
     "metadata": {},
     "output_type": "execute_result"
    }
   ],
   "source": [
    "@expression(Mod3, gen_costNS1[n=1:14,s=1:nrow(scen_prob)], (gen_var_1[n,s] .* sum((g(1).gNodeID .== n) .* MC(1))))\n",
    "@expression(Mod3, gen_cost_prob_weightedS1[s=1:nrow(scen_prob)], (scen_weight(s)[1]).*sum(gen_costNS1[n,s] for n in 1:14))"
   ]
  },
  {
   "cell_type": "code",
   "execution_count": 236,
   "metadata": {},
   "outputs": [
    {
     "data": {
      "text/latex": [
       "$$ 34.30293932 gen\\_var\\_1_{1,1} + 55 gen\\_var\\_1_{2,1} $$"
      ],
      "text/plain": [
       "34.30293932 gen_var_1[1,1] + 55 gen_var_1[2,1]"
      ]
     },
     "execution_count": 236,
     "metadata": {},
     "output_type": "execute_result"
    }
   ],
   "source": [
    "@expression(Mod3, gen_cost_expected1, sum(gen_cost_prob_weightedS1[s] for s in 1:nrow(scen_prob)))\n",
    "Mod3[:total_cost] += gen_cost_expected1"
   ]
  },
  {
   "cell_type": "code",
   "execution_count": 237,
   "metadata": {},
   "outputs": [
    {
     "data": {
      "text/plain": [
       "30×1 Array{GenericAffExpr{Float64,VariableRef},2}:\n",
       " 3.6 gen_var_2[1,1]\n",
       " 3.15 gen_var_2[2,1]\n",
       " 0\n",
       " 0\n",
       " 0\n",
       " 0\n",
       " 0\n",
       " 0\n",
       " 0\n",
       " 0\n",
       " 0\n",
       " 0\n",
       " 3.5 gen_var_2[13,1]\n",
       " ⋮\n",
       " 0\n",
       " 0\n",
       " 0\n",
       " 3.667 gen_var_2[22,1]\n",
       " 3.75 gen_var_2[23,1]\n",
       " 0\n",
       " 0\n",
       " 0\n",
       " 4.375 gen_var_2[27,1]\n",
       " 0\n",
       " 0\n",
       " 0"
      ]
     },
     "execution_count": 237,
     "metadata": {},
     "output_type": "execute_result"
    }
   ],
   "source": [
    "@expression(Mod3, gen_costNS2[n=1:30,s=1:nrow(scen_prob)], (gen_var_2[n,s] .* sum((g(2).gNodeID .== n) .* MC(2))))"
   ]
  },
  {
   "cell_type": "code",
   "execution_count": 238,
   "metadata": {},
   "outputs": [
    {
     "data": {
      "text/plain": [
       "1-element Array{GenericAffExpr{Float64,VariableRef},1}:\n",
       " 3.6 gen_var_2[1,1] + 3.15 gen_var_2[2,1] + 3.5 gen_var_2[13,1] + 3.667 gen_var_2[22,1] + 3.75 gen_var_2[23,1] + 4.375 gen_var_2[27,1]"
      ]
     },
     "execution_count": 238,
     "metadata": {},
     "output_type": "execute_result"
    }
   ],
   "source": [
    "@expression(Mod3, gen_cost_prob_weightedS2[s=1:nrow(scen_prob)], (scen_weight(s)[1]).*sum(gen_costNS2[n,s] for n in 1:30))"
   ]
  },
  {
   "cell_type": "code",
   "execution_count": 239,
   "metadata": {},
   "outputs": [
    {
     "data": {
      "text/latex": [
       "$$ 3.6 gen\\_var\\_2_{1,1} + 3.15 gen\\_var\\_2_{2,1} + 3.5 gen\\_var\\_2_{13,1} + 3.667 gen\\_var\\_2_{22,1} + 3.75 gen\\_var\\_2_{23,1} + 4.375 gen\\_var\\_2_{27,1} $$"
      ],
      "text/plain": [
       "3.6 gen_var_2[1,1] + 3.15 gen_var_2[2,1] + 3.5 gen_var_2[13,1] + 3.667 gen_var_2[22,1] + 3.75 gen_var_2[23,1] + 4.375 gen_var_2[27,1]"
      ]
     },
     "execution_count": 239,
     "metadata": {},
     "output_type": "execute_result"
    }
   ],
   "source": [
    "@expression(Mod3, gen_cost_expected2, sum(gen_cost_prob_weightedS2[s] for s in 1:nrow(scen_prob)))"
   ]
  },
  {
   "cell_type": "code",
   "execution_count": 240,
   "metadata": {},
   "outputs": [
    {
     "data": {
      "text/latex": [
       "$$ 34.30293932 gen\\_var\\_1_{1,1} + 55 gen\\_var\\_1_{2,1} + 3.6 gen\\_var\\_2_{1,1} + 3.15 gen\\_var\\_2_{2,1} + 3.5 gen\\_var\\_2_{13,1} + 3.667 gen\\_var\\_2_{22,1} + 3.75 gen\\_var\\_2_{23,1} + 4.375 gen\\_var\\_2_{27,1} $$"
      ],
      "text/plain": [
       "34.30293932 gen_var_1[1,1] + 55 gen_var_1[2,1] + 3.6 gen_var_2[1,1] + 3.15 gen_var_2[2,1] + 3.5 gen_var_2[13,1] + 3.667 gen_var_2[22,1] + 3.75 gen_var_2[23,1] + 4.375 gen_var_2[27,1]"
      ]
     },
     "execution_count": 240,
     "metadata": {},
     "output_type": "execute_result"
    }
   ],
   "source": [
    "Mod3[:total_cost]+=gen_cost_expected2"
   ]
  },
  {
   "cell_type": "code",
   "execution_count": 241,
   "metadata": {},
   "outputs": [
    {
     "data": {
      "text/plain": [
       "1-element Array{GenericAffExpr{Float64,VariableRef},1}:\n",
       " 16.30293932 gen_var_3[1,1] + 37 gen_var_3[2,1]"
      ]
     },
     "execution_count": 241,
     "metadata": {},
     "output_type": "execute_result"
    }
   ],
   "source": [
    "@expression(Mod3, gen_costNS3[n=1:5,s=1:nrow(scen_prob)], (gen_var_3[n,s] .* sum((g(3).gNodeID .== n) .* MC(3))))\n",
    "@expression(Mod3, gen_cost_prob_weightedS3[s=1:nrow(scen_prob)], (scen_weight(s)[1]).*sum(gen_costNS3[n,s] for n in 1:5))"
   ]
  },
  {
   "cell_type": "code",
   "execution_count": 242,
   "metadata": {},
   "outputs": [
    {
     "data": {
      "text/latex": [
       "$$ 16.30293932 gen\\_var\\_3_{1,1} + 37 gen\\_var\\_3_{2,1} $$"
      ],
      "text/plain": [
       "16.30293932 gen_var_3[1,1] + 37 gen_var_3[2,1]"
      ]
     },
     "execution_count": 242,
     "metadata": {},
     "output_type": "execute_result"
    }
   ],
   "source": [
    "@expression(Mod3, gen_cost_expected3, sum(gen_cost_prob_weightedS3[s] for s in 1:nrow(scen_prob)))"
   ]
  },
  {
   "cell_type": "code",
   "execution_count": 243,
   "metadata": {},
   "outputs": [
    {
     "data": {
      "text/latex": [
       "$$ 34.30293932 gen\\_var\\_1_{1,1} + 55 gen\\_var\\_1_{2,1} + 3.6 gen\\_var\\_2_{1,1} + 3.15 gen\\_var\\_2_{2,1} + 3.5 gen\\_var\\_2_{13,1} + 3.667 gen\\_var\\_2_{22,1} + 3.75 gen\\_var\\_2_{23,1} + 4.375 gen\\_var\\_2_{27,1} + 16.30293932 gen\\_var\\_3_{1,1} + 37 gen\\_var\\_3_{2,1} $$"
      ],
      "text/plain": [
       "34.30293932 gen_var_1[1,1] + 55 gen_var_1[2,1] + 3.6 gen_var_2[1,1] + 3.15 gen_var_2[2,1] + 3.5 gen_var_2[13,1] + 3.667 gen_var_2[22,1] + 3.75 gen_var_2[23,1] + 4.375 gen_var_2[27,1] + 16.30293932 gen_var_3[1,1] + 37 gen_var_3[2,1]"
      ]
     },
     "execution_count": 243,
     "metadata": {},
     "output_type": "execute_result"
    }
   ],
   "source": [
    "Mod3[:total_cost]+=gen_cost_expected3"
   ]
  },
  {
   "cell_type": "code",
   "execution_count": 244,
   "metadata": {},
   "outputs": [
    {
     "data": {
      "text/latex": [
       "$$ 34.30293932 gen\\_var\\_1_{1,1} + 55 gen\\_var\\_1_{2,1} + 3.6 gen\\_var\\_2_{1,1} + 3.15 gen\\_var\\_2_{2,1} + 3.5 gen\\_var\\_2_{13,1} + 3.667 gen\\_var\\_2_{22,1} + 3.75 gen\\_var\\_2_{23,1} + 4.375 gen\\_var\\_2_{27,1} + 16.30293932 gen\\_var\\_3_{1,1} + 37 gen\\_var\\_3_{2,1} + 0.2410176361372405 shared\\_line\\_decision\\_var_{1} + 0.19594024895900847 shared\\_line\\_decision\\_var_{2} + 0.44297470440637654 shared\\_line\\_decision\\_var_{3} + 0.6532451422553538 shared\\_line\\_decision\\_var_{4} + 0.1533748593600621 shared\\_line\\_decision\\_var_{5} + 0.34289543567826486 shared\\_line\\_decision\\_var_{6} + 0.1533748593600621 int\\_line\\_decision\\_var\\_1_{1} + 0.34289543567826486 int\\_line\\_decision\\_var\\_1_{2} + 0.2519729832343877 int\\_line\\_decision\\_var\\_1_{3} + 0.21553427385490934 int\\_line\\_decision\\_var\\_1_{4} + 0.44297470440637654 int\\_line\\_decision\\_var\\_1_{5} + 6.532451422553539 int\\_line\\_decision\\_var\\_1_{6} + 1.5337485936006214 int\\_line\\_decision\\_var\\_1_{7} + 3.673879667981409 int\\_line\\_decision\\_var\\_1_{8} + 2.355399625886668 int\\_line\\_decision\\_var\\_1_{9} + 2.400268049747854 int\\_line\\_decision\\_var\\_1_{10} + 1.5337485936006214 int\\_line\\_decision\\_var\\_2_{1} + 3.7718497924609133 int\\_line\\_decision\\_var\\_2_{2} + 2.9579437162297695 int\\_line\\_decision\\_var\\_2_{3} + 1.175641493754051 int\\_line\\_decision\\_var\\_2_{4} + 4.429747044063765 int\\_line\\_decision\\_var\\_2_{5} + 6.532451422553539 int\\_line\\_decision\\_var\\_2_{6} + 1.5337485936006214 int\\_line\\_decision\\_var\\_2_{7} + 4.261700414858434 int\\_line\\_decision\\_var\\_2_{8} + 0.2410176361372405 int\\_line\\_decision\\_var\\_2_{9} + 0.26451933609466144 int\\_line\\_decision\\_var\\_2_{10} + 0.44297470440637654 int\\_line\\_decision\\_var\\_2_{11} + 0.6532451422553538 int\\_line\\_decision\\_var\\_2_{12} + 0.44297470440637654 int\\_line\\_decision\\_var\\_2_{13} + 0.6532451422553538 int\\_line\\_decision\\_var\\_2_{14} + 0.1533748593600621 int\\_line\\_decision\\_var\\_2_{15} + 0.323301410782364 int\\_line\\_decision\\_var\\_2_{16} + 0.3505711071087135 int\\_line\\_decision\\_var\\_2_{17} + 4.429747044063765 int\\_line\\_decision\\_var\\_2_{18} + 0.21910694194294586 int\\_line\\_decision\\_var\\_3_{1} + 0.22043278007888453 int\\_line\\_decision\\_var\\_3_{2} $$"
      ],
      "text/plain": [
       "34.30293932 gen_var_1[1,1] + 55 gen_var_1[2,1] + 3.6 gen_var_2[1,1] + 3.15 gen_var_2[2,1] + 3.5 gen_var_2[13,1] + 3.667 gen_var_2[22,1] + 3.75 gen_var_2[23,1] + 4.375 gen_var_2[27,1] + 16.30293932 gen_var_3[1,1] + 37 gen_var_3[2,1] + 0.2410176361372405 shared_line_decision_var[1] + 0.19594024895900847 shared_line_decision_var[2] + 0.44297470440637654 shared_line_decision_var[3] + 0.6532451422553538 shared_line_decision_var[4] + 0.1533748593600621 shared_line_decision_var[5] + 0.34289543567826486 shared_line_decision_var[6] + 0.1533748593600621 int_line_decision_var_1[1] + 0.34289543567826486 int_line_decision_var_1[2] + 0.2519729832343877 int_line_decision_var_1[3] + 0.21553427385490934 int_line_decision_var_1[4] + 0.44297470440637654 int_line_decision_var_1[5] + 6.532451422553539 int_line_decision_var_1[6] + 1.5337485936006214 int_line_decision_var_1[7] + 3.673879667981409 int_line_decision_var_1[8] + 2.355399625886668 int_line_decision_var_1[9] + 2.400268049747854 int_line_decision_var_1[10] + 1.5337485936006214 int_line_decision_var_2[1] + 3.7718497924609133 int_line_decision_var_2[2] + 2.9579437162297695 int_line_decision_var_2[3] + 1.175641493754051 int_line_decision_var_2[4] + 4.429747044063765 int_line_decision_var_2[5] + 6.532451422553539 int_line_decision_var_2[6] + 1.5337485936006214 int_line_decision_var_2[7] + 4.261700414858434 int_line_decision_var_2[8] + 0.2410176361372405 int_line_decision_var_2[9] + 0.26451933609466144 int_line_decision_var_2[10] + 0.44297470440637654 int_line_decision_var_2[11] + 0.6532451422553538 int_line_decision_var_2[12] + 0.44297470440637654 int_line_decision_var_2[13] + 0.6532451422553538 int_line_decision_var_2[14] + 0.1533748593600621 int_line_decision_var_2[15] + 0.323301410782364 int_line_decision_var_2[16] + 0.3505711071087135 int_line_decision_var_2[17] + 4.429747044063765 int_line_decision_var_2[18] + 0.21910694194294586 int_line_decision_var_3[1] + 0.22043278007888453 int_line_decision_var_3[2]"
      ]
     },
     "execution_count": 244,
     "metadata": {},
     "output_type": "execute_result"
    }
   ],
   "source": [
    "@expression(Mod3, investment_cost , (sum(shared_line_decision_var[c] .* shared_cand.costPerCap[c] .* shared_cand.interestRate[c] \n",
    "            .*((1 + shared_cand.interestRate[c]) .^ shared_cand.lifeTime[c]) ./ (((1 + shared_cand.interestRate[c]) .^ shared_cand.lifeTime[c])-1) for c in 1:nrow(shared_cand))\n",
    "            .+ sum(int_line_decision_var_1[c] .* int_c(1).costPerCap[c] .* int_c(1).interestRate[c] \n",
    "            .*((1 + int_c(1).interestRate[c]) .^ int_c(1).lifeTime[c]) ./ (((1 + int_c(1).interestRate[c]) .^ int_c(1).lifeTime[c])-1) for c in 1:nrow(int_c(1)))\n",
    "            .+ sum(int_line_decision_var_2[c] .* int_c(2).costPerCap[c] .* int_c(2).interestRate[c] \n",
    "            .*((1 + int_c(2).interestRate[c]) .^ int_c(2).lifeTime[c]) ./ (((1 + int_c(2).interestRate[c]) .^ int_c(2).lifeTime[c])-1) for c in 1:nrow(int_c(2)))\n",
    "            .+ sum(int_line_decision_var_3[c] .* int_c(3).costPerCap[c] .* int_c(3).interestRate[c] \n",
    "            .*((1 + int_c(3).interestRate[c]) .^ int_c(3).lifeTime[c]) ./ (((1 + int_c(3).interestRate[c]) .^ int_c(3).lifeTime[c])-1) for c in 1:nrow(int_c(3)))))\n",
    "Mod3[:total_cost]+=investment_cost"
   ]
  },
  {
   "cell_type": "code",
   "execution_count": 245,
   "metadata": {},
   "outputs": [],
   "source": [
    "#The first zone\n",
    "for n in 1:14\n",
    "    for s in 1:nrow(scen_prob)\n",
    "        # Power balance constraint for each node\n",
    "        @constraint(Mod3, sum(g(1).gNodeID .== n) .* gen_var_1[n,s] .+ sum(l(1,s)[:,3].* (l(1,s).lNodeID .== n)) .==\n",
    "        sum((shared_cand.tNodeID1 .== n) .*bin_c(1) .* shared_cand_flow[:,s]) .- sum((shared_cand.tNodeID2 .== n) .* bin_c(1) .* shared_cand_flow[:,s]) .+\n",
    "        sum((shared_ex.tNodeID1 .== n) .* bin_e(1) .* shared_ex_flow[:,s]) .- sum((shared_ex.tNodeID2 .== n) .* bin_e(1) .* shared_ex_flow[:,s]) .+\n",
    "        sum((int_c(1).tNodeID1 .== n) .* int_cand_flow_1[:,s]) .- sum((int_c(1).tNodeID2 .== n) .* int_cand_flow_1[:,s]) .+\n",
    "        sum((int_e(1).tNodeID1 .== n) .* int_ex_flow_1[:,s]) .- sum((int_e(1).tNodeID2 .== n) .* int_ex_flow_1[:,s]))\n",
    "        #Lower limit for generation of each node\n",
    "        @constraint(Mod3, sum(g(1).gNodeID .== n) .* gen_var_1[n,s] .<= sum((g(1).gNodeID .== n) .* g(1).PgMax))\n",
    "        #Upper limit for generation of each node\n",
    "        @constraint(Mod3, sum((g(1).gNodeID .== n) .* g(1).PgMin) .<= sum(g(1).gNodeID .== n) .* gen_var_1[n,s])\n",
    "    end\n",
    "end"
   ]
  },
  {
   "cell_type": "code",
   "execution_count": 246,
   "metadata": {},
   "outputs": [],
   "source": [
    "#The second zone\n",
    "for n in 1:30\n",
    "    for s in 1:nrow(scen_prob)\n",
    "        # Power balance constraint for each node\n",
    "        @constraint(Mod3, sum(g(2).gNodeID .== n) .* gen_var_2[n,s] .+ sum(l(2,s)[:,3] .* (l(2,s).lNodeID .== n)) .==\n",
    "        sum((shared_cand.tNodeID1 .== n) .*bin_c(2) .* shared_cand_flow[:,s]) .- sum((shared_cand.tNodeID2 .== n) .* bin_c(2) .* shared_cand_flow[:,s]) .+\n",
    "        sum((shared_ex.tNodeID1 .== n) .* bin_e(2) .* shared_ex_flow[:,s]) .- sum((shared_ex.tNodeID2 .== n) .* bin_e(2) .* shared_ex_flow[:,s]) .+\n",
    "        sum((int_c(2).tNodeID1 .== n) .* int_cand_flow_2[:,s]) .- sum((int_c(2).tNodeID2 .== n) .* int_cand_flow_2[:,s]) .+\n",
    "        sum((int_e(2).tNodeID1 .== n) .* int_ex_flow_2[:,s]) .- sum((int_e(2).tNodeID2 .== n) .* int_ex_flow_2[:,s]))\n",
    "        #Lower limit for generation of each node\n",
    "        @constraint(Mod3, sum(g(2).gNodeID .== n) .* gen_var_2[n,s] .<= sum((g(2).gNodeID .== n) .* g(2).PgMax))\n",
    "        #Upper limit for generation of each node\n",
    "        @constraint(Mod3, sum((g(2).gNodeID .== n) .* g(2).PgMin) .<= sum(g(2).gNodeID .== n) .* gen_var_2[n,s])\n",
    "    end\n",
    "end"
   ]
  },
  {
   "cell_type": "code",
   "execution_count": 247,
   "metadata": {},
   "outputs": [],
   "source": [
    "#The third zone\n",
    "for n in 1:5\n",
    "    for s in 1:nrow(scen_prob)\n",
    "        # Power balance constraint for each node\n",
    "        @constraint(Mod3, sum(g(3).gNodeID .== n) .* gen_var_3[n,s] .+ sum(l(3,s)[:,3] .* (l(3,s).lNodeID .== n)) .==\n",
    "        sum((shared_cand.tNodeID1 .== n) .*bin_c(3) .* shared_cand_flow[:,s]) .- sum((shared_cand.tNodeID2 .== n) .* bin_c(3) .* shared_cand_flow[:,s]) .+\n",
    "        sum((shared_ex.tNodeID1 .== n) .* bin_e(3) .* shared_ex_flow[:,s]) .- sum((shared_ex.tNodeID2 .== n) .* bin_e(3) .* shared_ex_flow[:,s]) .+\n",
    "        sum((int_c(3).tNodeID1 .== n) .* int_cand_flow_3[:,s]) .- sum((int_c(3).tNodeID2 .== n) .* int_cand_flow_3[:,s]) .+\n",
    "        sum((int_e(3).tNodeID1 .== n) .* int_ex_flow_3[:,s]) .- sum((int_e(3).tNodeID2 .== n) .* int_ex_flow_3[:,s]))\n",
    "        #Lower limit for generation of each node\n",
    "        @constraint(Mod3, sum(g(3).gNodeID .== n) .* gen_var_3[n,s] .<= sum((g(3).gNodeID .== n) .* g(3).PgMax))\n",
    "        #Upper limit for generation of each node\n",
    "        @constraint(Mod3, sum((g(3).gNodeID .== n) .* g(3).PgMin) .<= sum(g(3).gNodeID .== n) .* gen_var_3[n,s])\n",
    "    end\n",
    "end"
   ]
  },
  {
   "cell_type": "code",
   "execution_count": 248,
   "metadata": {},
   "outputs": [],
   "source": [
    "#Shared candidate lines\n",
    "M = 100\n",
    "for c in 1:nrow(shared_cand)\n",
    "    for s in 1:nrow(scen_prob)\n",
    "        @constraint(Mod3,-M .* (1 .- shared_line_decision_var[c]) .<= shared_cand_flow[c,s] .- ((1 ./ shared_cand.reacT[c]) .* (node_voltage_phase_angle[shared_cand.nodeZone1[c],shared_cand.tNodeID1[c],s] .- node_voltage_phase_angle[shared_cand.nodeZone2[c],shared_cand.tNodeID2[c],s])))\n",
    "        @constraint(Mod3, shared_cand_flow[c,s] .- ((1 ./ shared_cand.reacT[c]) .* (node_voltage_phase_angle[shared_cand.nodeZone1[c],shared_cand.tNodeID1[c],s] .- node_voltage_phase_angle[shared_cand.nodeZone2[c],shared_cand.tNodeID2[c],s])) .<= M .* (1 .- shared_line_decision_var[c]))\n",
    "        #limiting the upper bound of power flow flowing within candidate shared lines\n",
    "        @constraint(Mod3, shared_cand_flow[c,s] .<= shared_line_decision_var[c] .*shared_cand.ptMax[c])\n",
    "        #Limiting the lower bound of power flowing within the candidate shared lines\n",
    "        @constraint(Mod3, -shared_cand.ptMax[c] .* shared_line_decision_var[c] .<= shared_cand_flow[c,s])\n",
    "    end\n",
    "end"
   ]
  },
  {
   "cell_type": "code",
   "execution_count": 249,
   "metadata": {},
   "outputs": [
    {
     "name": "stdout",
     "output_type": "stream",
     "text": [
      "4"
     ]
    }
   ],
   "source": [
    "#print(shared_cand.nodeZone2[3])\n",
    "print(shared_cand.tNodeID2[3])\n",
    "        "
   ]
  },
  {
   "cell_type": "code",
   "execution_count": 250,
   "metadata": {},
   "outputs": [],
   "source": [
    "#Shared existing lines\n",
    "for h in 1:nrow(shared_ex)\n",
    "    for s in 1:nrow(scen_prob)\n",
    "        @constraint(Mod3, shared_ex_flow[h,s] .== (1 ./ shared_ex.reacT[h]) .* (node_voltage_phase_angle[shared_ex.nodeZone1[h],shared_ex.tNodeID1[h],s] .- node_voltage_phase_angle[shared_ex.nodeZone2[h],shared_ex.tNodeID2[h],s]))\n",
    "        @constraint(Mod3, shared_ex_flow[h,s] .<= shared_ex. ptMax[h])\n",
    "        @constraint(Mod3, -shared_ex.ptMax[h] .<= shared_ex_flow[h,s])\n",
    "    end\n",
    "end"
   ]
  },
  {
   "cell_type": "code",
   "execution_count": 251,
   "metadata": {},
   "outputs": [],
   "source": [
    "#Zone 1 internal candidate lines\n",
    "for c in 1:nrow(int_c(1))\n",
    "    for s in 1:nrow(scen_prob)\n",
    "        @constraint(Mod3,-M .* (1 .- int_line_decision_var_1[c]) .<= int_cand_flow_1[c,s] .- ((1 ./ int_c(1).reacT[c]) .* (node_voltage_phase_angle[int_c(1).zoneNum[c],int_c(1).tNodeID1[c],s] .- node_voltage_phase_angle[int_c(1).zoneNum[c],int_c(1).tNodeID2[c],s])))\n",
    "        @constraint(Mod3, int_cand_flow_1[c,s] .- ((1 ./ int_c(1).reacT[c]) .* (node_voltage_phase_angle[int_c(1).zoneNum[c],int_c(1).tNodeID1[c],s] .- node_voltage_phase_angle[int_c(1).zoneNum[c],int_c(1).tNodeID2[c],s])) .<= M .* (1 .- int_line_decision_var_1[c]))\n",
    "        @constraint(Mod3, int_cand_flow_1[c,s] .<= int_line_decision_var_1[c] .* int_c(1).ptMax[c])\n",
    "        @constraint(Mod3, -int_c(1).ptMax[c] .*int_line_decision_var_1[c] .<= int_cand_flow_1[c,s])\n",
    "    end\n",
    "end"
   ]
  },
  {
   "cell_type": "code",
   "execution_count": 252,
   "metadata": {},
   "outputs": [],
   "source": [
    "#Zone 2 internal candidate lines\n",
    "for c in 1:nrow(int_c(2))\n",
    "    for s in 1:nrow(scen_prob)\n",
    "        @constraint(Mod3,-M .* (1 .- int_line_decision_var_2[c]) .<= int_cand_flow_2[c,s] .- ((1 ./ int_c(2).reacT[c]) .* (node_voltage_phase_angle[int_c(2).zoneNum[c],int_c(2).tNodeID1[c],s] .- node_voltage_phase_angle[int_c(2).zoneNum[c],int_c(2).tNodeID2[c],s])))\n",
    "        @constraint(Mod3, int_cand_flow_2[c,s] .- ((1 ./ int_c(2).reacT[c]) .* (node_voltage_phase_angle[int_c(2).zoneNum[c],int_c(2).tNodeID1[c],s] .- node_voltage_phase_angle[int_c(2).zoneNum[c],int_c(2).tNodeID2[c],s])) .<= M .* (1 .- int_line_decision_var_2[c]))\n",
    "        @constraint(Mod3, int_cand_flow_2[c,s] .<= int_line_decision_var_2[c] .* int_c(2).ptMax[c])\n",
    "        @constraint(Mod3, -int_c(2).ptMax[c] .*int_line_decision_var_2[c] .<= int_cand_flow_2[c,s])\n",
    "    end\n",
    "end"
   ]
  },
  {
   "cell_type": "code",
   "execution_count": 253,
   "metadata": {},
   "outputs": [],
   "source": [
    "#Zone 3 internal candidate lines\n",
    "for c in 1:nrow(int_c(3))\n",
    "    for s in 1:nrow(scen_prob)\n",
    "        @constraint(Mod3,-M .* (1 .- int_line_decision_var_3[c]) .<= int_cand_flow_3[c,s] .- ((1 ./ int_c(3).reacT[c]) .* (node_voltage_phase_angle[int_c(3).zoneNum[c],int_c(3).tNodeID1[c],s] .- node_voltage_phase_angle[int_c(3).zoneNum[c],int_c(3).tNodeID2[c],s])))\n",
    "        @constraint(Mod3, int_cand_flow_3[c,s] .- ((1 ./ int_c(3).reacT[c]) .* (node_voltage_phase_angle[int_c(3).zoneNum[c],int_c(3).tNodeID1[c],s] .- node_voltage_phase_angle[int_c(3).zoneNum[c],int_c(3).tNodeID2[c],s])) .<= M .* (1 .- int_line_decision_var_3[c]))\n",
    "        @constraint(Mod3, int_cand_flow_3[c,s] .<= int_line_decision_var_3[c] .* int_c(3).ptMax[c])\n",
    "        @constraint(Mod3, -int_c(3).ptMax[c] .*int_line_decision_var_3[c] .<= int_cand_flow_3[c,s])\n",
    "    end\n",
    "end"
   ]
  },
  {
   "cell_type": "code",
   "execution_count": 254,
   "metadata": {},
   "outputs": [],
   "source": [
    "#Zone 1 internal existing lines\n",
    "for h in 1:nrow(int_e(1))\n",
    "    for s in 1:nrow(scen_prob)\n",
    "        @constraint(Mod3, int_ex_flow_1[h,s] .== (1 ./ int_e(1).reacT[h]) .* (node_voltage_phase_angle[int_e(1).zoneNum[h],int_e(1).tNodeID1[h],s] .- node_voltage_phase_angle[int_e(1).zoneNum[h],int_e(1).tNodeID2[h],s]))\n",
    "        @constraint(Mod3, int_ex_flow_1[h,s] .<= int_e(1).ptMax[h])\n",
    "        @constraint(Mod3, -int_e(1).ptMax[h] .<= int_ex_flow_1[h,s])\n",
    "    end\n",
    "end"
   ]
  },
  {
   "cell_type": "code",
   "execution_count": 255,
   "metadata": {},
   "outputs": [],
   "source": [
    "#Zone 2 internal existing lines\n",
    "for h in 1:nrow(int_e(2))\n",
    "    for s in 1:nrow(scen_prob)\n",
    "        @constraint(Mod3, int_ex_flow_2[h,s] .== (1 ./ int_e(2).reacT[h]) .* (node_voltage_phase_angle[int_e(2).zoneNum[h],int_e(2).tNodeID1[h],s] .- node_voltage_phase_angle[int_e(2).zoneNum[h],int_e(2).tNodeID2[h],s]))\n",
    "        @constraint(Mod3, int_ex_flow_2[h,s] .<= int_e(2).ptMax[h])\n",
    "        @constraint(Mod3, -int_e(2).ptMax[h] .<= int_ex_flow_2[h,s])\n",
    "    end\n",
    "end"
   ]
  },
  {
   "cell_type": "code",
   "execution_count": 256,
   "metadata": {},
   "outputs": [],
   "source": [
    "#Zone 3 internal existing lines\n",
    "for h in 1:nrow(int_e(3))\n",
    "    for s in 1:nrow(scen_prob)\n",
    "        @constraint(Mod3, int_ex_flow_3[h,s] .== (1 ./ int_e(3).reacT[h]) .* (node_voltage_phase_angle[int_e(3).zoneNum[h],int_e(3).tNodeID1[h],s] .- node_voltage_phase_angle[int_e(3).zoneNum[h],int_e(3).tNodeID2[h],s]))\n",
    "        @constraint(Mod3, int_ex_flow_3[h,s] .<= int_e(3).ptMax[h])\n",
    "        @constraint(Mod3, -int_e(3).ptMax[h] .<= int_ex_flow_3[h,s])\n",
    "    end\n",
    "end"
   ]
  },
  {
   "cell_type": "code",
   "execution_count": 257,
   "metadata": {},
   "outputs": [
    {
     "name": "stdout",
     "output_type": "stream",
     "text": [
      "Gurobi Optimizer version 9.1.1 build v9.1.1rc0 (mac64)\n",
      "Thread count: 6 physical cores, 12 logical processors, using up to 12 threads\n",
      "Optimize a model with 519 rows, 246 columns and 1082 nonzeros\n",
      "Model fingerprint: 0xf3a49630\n",
      "Variable types: 210 continuous, 36 integer (36 binary)\n",
      "Coefficient statistics:\n",
      "  Matrix range     [1e+00, 1e+02]\n",
      "  Objective range  [2e-01, 6e+01]\n",
      "  Bounds range     [6e+00, 6e+00]\n",
      "  RHS range        [2e+00, 3e+02]\n",
      "Presolve removed 318 rows and 108 columns\n",
      "Presolve time: 0.01s\n",
      "Presolved: 201 rows, 138 columns, 751 nonzeros\n",
      "Variable types: 103 continuous, 35 integer (35 binary)\n",
      "\n",
      "Root relaxation: objective 9.837305e+03, 200 iterations, 0.00 seconds\n",
      "\n",
      "    Nodes    |    Current Node    |     Objective Bounds      |     Work\n",
      " Expl Unexpl |  Obj  Depth IntInf | Incumbent    BestBd   Gap | It/Node Time\n",
      "\n",
      "     0     0 9837.30470    0   34          - 9837.30470      -     -    0s\n",
      "     0     0 infeasible    0               - infeasible      -     -    0s\n",
      "\n",
      "Cutting planes:\n",
      "  Gomory: 29\n",
      "  MIR: 76\n",
      "  Relax-and-lift: 4\n",
      "\n",
      "Explored 1 nodes (307 simplex iterations) in 0.05 seconds\n",
      "Thread count was 12 (of 12 available processors)\n",
      "\n",
      "Solution count 0\n",
      "\n",
      "Model is infeasible or unbounded\n",
      "Best objective -, best bound -, gap -\n",
      "\n",
      "User-callback calls 124, time in user-callback 0.00 sec\n"
     ]
    }
   ],
   "source": [
    "@objective(Mod3, Min, Mod3[:total_cost])\n",
    "optimize!(Mod3)"
   ]
  },
  {
   "cell_type": "code",
   "execution_count": 161,
   "metadata": {},
   "outputs": [
    {
     "data": {
      "text/plain": [
       "2237.7825988633294"
      ]
     },
     "execution_count": 161,
     "metadata": {},
     "output_type": "execute_result"
    }
   ],
   "source": [
    "if termination_status(Mod3) == MOI.OPTIMAL\n",
    "    shared_line_decision = value.(shared_line_decision_var)\n",
    "    shared_cand_power = value.(shared_cand_flow)\n",
    "    #shared_cand_phase_angle = value.(shared_cand_angle)\n",
    "    shared_ex_power = value.(shared_ex_flow)\n",
    "    #shared_ex_phase_angle = value.(shared_ex_angle)\n",
    "    int_line_decision_1 = value.(int_line_decision_var_1)\n",
    "    int_line_decision_2 = value.(int_line_decision_var_2)\n",
    "    int_line_decision_3 = value.(int_line_decision_var_3)\n",
    "    int_line_flow_1 = value.(int_cand_flow_1)\n",
    "    int_line_flow_2 = value.(int_cand_flow_2)\n",
    "    int_line_flow_3 = value.(int_cand_flow_3)\n",
    "    generation_1 = value.(gen_var_1)\n",
    "    generation_2 = value.(gen_var_2)\n",
    "    generation_3 = value.(gen_var_3)\n",
    "    obj_value = objective_value(Mod3)\n",
    "end"
   ]
  },
  {
   "cell_type": "code",
   "execution_count": 162,
   "metadata": {},
   "outputs": [
    {
     "data": {
      "text/plain": [
       "6-element Array{Float64,1}:\n",
       " -0.0\n",
       " -0.0\n",
       "  1.0\n",
       "  1.0\n",
       "  1.0\n",
       " -0.0"
      ]
     },
     "execution_count": 162,
     "metadata": {},
     "output_type": "execute_result"
    }
   ],
   "source": [
    "shared_line_decision"
   ]
  },
  {
   "cell_type": "code",
   "execution_count": 163,
   "metadata": {},
   "outputs": [
    {
     "data": {
      "text/plain": [
       "6×4 Array{Float64,2}:\n",
       "   0.0        0.0        0.0       0.0\n",
       "   0.0        0.0        0.0       0.0\n",
       "  31.7381    31.7381    30.0621   31.7381\n",
       " 100.0      100.0      100.0      41.4789\n",
       "   5.90588    3.11727   -2.5387  -38.0338\n",
       "   0.0        0.0        0.0       0.0"
      ]
     },
     "execution_count": 163,
     "metadata": {},
     "output_type": "execute_result"
    }
   ],
   "source": [
    "shared_cand_power"
   ]
  },
  {
   "cell_type": "code",
   "execution_count": 164,
   "metadata": {},
   "outputs": [
    {
     "data": {
      "text/plain": [
       "6×4×2 Array{Float64,3}:\n",
       "[:, :, 1] =\n",
       " 0.366185  0.366185  6.28319  0.366185\n",
       " 0.0       0.0       0.0      0.0\n",
       " 6.28319   6.28319   5.95139  6.28319\n",
       " 5.75      5.75      6.28319  6.28319\n",
       " 0.975651  6.28319   0.0      0.0\n",
       " 6.28319   0.0       6.28319  6.28319\n",
       "\n",
       "[:, :, 2] =\n",
       " 6.28319  6.28319  0.366185  6.28319\n",
       " 6.28319  6.28319  6.28319   6.28319\n",
       " 0.0      0.0      0.0       0.0\n",
       " 0.0      0.0      0.533185  3.89815\n",
       " 0.0      5.76821  0.419394  6.28319\n",
       " 0.0      6.28319  0.0       0.0"
      ]
     },
     "execution_count": 164,
     "metadata": {},
     "output_type": "execute_result"
    }
   ],
   "source": [
    "shared_cand_phase_angle"
   ]
  },
  {
   "cell_type": "code",
   "execution_count": 165,
   "metadata": {},
   "outputs": [
    {
     "data": {
      "text/plain": [
       "8×4×2 Array{Float64,3}:\n",
       "[:, :, 1] =\n",
       " 6.28319  6.28319  6.28319  6.28319\n",
       " 0.0      0.0      0.0      0.0\n",
       " 0.0      0.0      0.0      0.0\n",
       " 6.28319  6.28319  0.0      0.0\n",
       " 6.28319  6.1149   3.72122  5.69315\n",
       " 6.28319  6.28319  6.28319  5.4377\n",
       " 2.47282  0.0      2.47282  6.28319\n",
       " 0.0      0.0      0.0      0.0\n",
       "\n",
       "[:, :, 2] =\n",
       " 8.88178e-16  0.0          8.88178e-16  8.88178e-16\n",
       " 6.28319      6.28319      6.28319      6.28319\n",
       " 0.0          0.0          0.0          0.0\n",
       " 0.0          1.51268      6.28319      6.28319\n",
       " 2.34581      6.28319      0.0          6.28319\n",
       " 0.0          8.88178e-16  0.0          0.0\n",
       " 0.0          6.28319      0.0          6.2699\n",
       " 6.28319      3.95996      0.558859     6.28319"
      ]
     },
     "execution_count": 165,
     "metadata": {},
     "output_type": "execute_result"
    }
   ],
   "source": [
    "shared_ex_phase_angle"
   ]
  },
  {
   "cell_type": "code",
   "execution_count": 166,
   "metadata": {},
   "outputs": [
    {
     "data": {
      "text/plain": [
       "8×4 Array{Float64,2}:\n",
       "  23.2711   23.2711    23.2711    23.2711\n",
       " -19.0862  -19.0862   -19.0862   -19.0862\n",
       "   0.0       0.0        0.0        0.0\n",
       "  11.3007    8.58005  -11.3007   -11.3007\n",
       "  65.7325   -2.80952   62.1239    -9.8504\n",
       "  31.4159   31.4159    31.4159    27.1885\n",
       "  22.4801  -57.1199    22.4801     0.120754\n",
       " -30.2076  -19.0383    -2.68682  -30.2076"
      ]
     },
     "execution_count": 166,
     "metadata": {},
     "output_type": "execute_result"
    }
   ],
   "source": [
    "shared_ex_power"
   ]
  },
  {
   "cell_type": "code",
   "execution_count": 167,
   "metadata": {},
   "outputs": [
    {
     "data": {
      "text/plain": [
       "10-element Array{Float64,1}:\n",
       " -0.0\n",
       "  1.0\n",
       "  1.0\n",
       " -0.0\n",
       "  1.0\n",
       "  1.0\n",
       " -0.0\n",
       " -0.0\n",
       " -0.0\n",
       "  1.0"
      ]
     },
     "execution_count": 167,
     "metadata": {},
     "output_type": "execute_result"
    }
   ],
   "source": [
    "int_line_decision_1"
   ]
  },
  {
   "cell_type": "code",
   "execution_count": 168,
   "metadata": {},
   "outputs": [
    {
     "data": {
      "text/plain": [
       "18-element Array{Float64,1}:\n",
       " -0.0\n",
       " -0.0\n",
       " -0.0\n",
       " -0.0\n",
       " -0.0\n",
       "  1.0\n",
       "  1.0\n",
       " -0.0\n",
       " -0.0\n",
       "  1.0\n",
       "  1.0\n",
       " -0.0\n",
       " -0.0\n",
       " -0.0\n",
       " -0.0\n",
       " -0.0\n",
       " -0.0\n",
       " -0.0"
      ]
     },
     "execution_count": 168,
     "metadata": {},
     "output_type": "execute_result"
    }
   ],
   "source": [
    "int_line_decision_2"
   ]
  },
  {
   "cell_type": "code",
   "execution_count": 169,
   "metadata": {},
   "outputs": [
    {
     "data": {
      "text/plain": [
       "2-element Array{Float64,1}:\n",
       " -0.0\n",
       " -0.0"
      ]
     },
     "execution_count": 169,
     "metadata": {},
     "output_type": "execute_result"
    }
   ],
   "source": [
    "int_line_decision_3"
   ]
  },
  {
   "cell_type": "code",
   "execution_count": 170,
   "metadata": {},
   "outputs": [
    {
     "data": {
      "text/plain": [
       "2237.7825988633294"
      ]
     },
     "execution_count": 170,
     "metadata": {},
     "output_type": "execute_result"
    }
   ],
   "source": [
    "obj_value"
   ]
  },
  {
   "cell_type": "code",
   "execution_count": 171,
   "metadata": {},
   "outputs": [
    {
     "data": {
      "text/plain": [
       "14×4 Array{Float64,2}:\n",
       " 135.729  6.22894  70.9789  0.0\n",
       "   0.0    0.0       0.0     0.0\n",
       "   0.0    0.0       0.0     0.0\n",
       "   0.0    0.0       0.0     0.0\n",
       "   0.0    0.0       0.0     0.0\n",
       "   0.0    0.0       0.0     0.0\n",
       "   0.0    0.0       0.0     0.0\n",
       "   0.0    0.0       0.0     0.0\n",
       "   0.0    0.0       0.0     0.0\n",
       "   0.0    0.0       0.0     0.0\n",
       "   0.0    0.0       0.0     0.0\n",
       "   0.0    0.0       0.0     0.0\n",
       "   0.0    0.0       0.0     0.0\n",
       "   0.0    0.0       0.0     0.0"
      ]
     },
     "execution_count": 171,
     "metadata": {},
     "output_type": "execute_result"
    }
   ],
   "source": [
    "generation_1"
   ]
  },
  {
   "cell_type": "code",
   "execution_count": 172,
   "metadata": {},
   "outputs": [
    {
     "name": "stdout",
     "output_type": "stream",
     "text": [
      "30×4 Array{Float64,2}:\n",
      " 28.292   0.0  21.9   0.0\n",
      " 80.0    80.0  80.0  47.3\n",
      "  0.0     0.0   0.0   0.0\n",
      "  0.0     0.0   0.0   0.0\n",
      "  0.0     0.0   0.0   0.0\n",
      "  0.0     0.0   0.0   0.0\n",
      "  0.0     0.0   0.0   0.0\n",
      "  0.0     0.0   0.0   0.0\n",
      "  0.0     0.0   0.0   0.0\n",
      "  0.0     0.0   0.0   0.0\n",
      "  0.0     0.0   0.0   0.0\n",
      "  0.0     0.0   0.0   0.0\n",
      " 40.0    14.6  40.0   0.0\n",
      "  0.0     0.0   0.0   0.0\n",
      "  0.0     0.0   0.0   0.0\n",
      "  0.0     0.0   0.0   0.0\n",
      "  0.0     0.0   0.0   0.0\n",
      "  0.0     0.0   0.0   0.0\n",
      "  0.0     0.0   0.0   0.0\n",
      "  0.0     0.0   0.0   0.0\n",
      "  0.0     0.0   0.0   0.0\n",
      " 40.908   0.0   0.0   0.0\n",
      "  0.0     0.0   0.0   0.0\n",
      "  0.0     0.0   0.0   0.0\n",
      "  0.0     0.0   0.0   0.0\n",
      "  0.0     0.0   0.0   0.0\n",
      "  0.0     0.0   0.0   0.0\n",
      "  0.0     0.0   0.0   0.0\n",
      "  0.0     0.0   0.0   0.0\n",
      "  0.0     0.0   0.0   0.0"
     ]
    }
   ],
   "source": [
    "show(stdout, \"text/plain\", generation_2)"
   ]
  },
  {
   "cell_type": "code",
   "execution_count": 173,
   "metadata": {},
   "outputs": [
    {
     "data": {
      "text/plain": [
       "5×4 Array{Float64,2}:\n",
       " 0.0  0.0  0.0  0.0\n",
       " 0.0  0.0  0.0  0.0\n",
       " 0.0  0.0  0.0  0.0\n",
       " 0.0  0.0  0.0  0.0\n",
       " 0.0  0.0  0.0  0.0"
      ]
     },
     "execution_count": 173,
     "metadata": {},
     "output_type": "execute_result"
    }
   ],
   "source": [
    "generation_3"
   ]
  },
  {
   "cell_type": "code",
   "execution_count": 174,
   "metadata": {},
   "outputs": [
    {
     "data": {
      "text/plain": [
       "10×4 Array{Float64,2}:\n",
       "   0.0       0.0       0.0        0.0\n",
       "  35.6351   35.6351   35.6351    35.6351\n",
       " -36.1352  -36.1352  -36.1352   -36.1352\n",
       "   0.0       0.0       0.0        0.0\n",
       "  87.0525  -25.2522   29.4941  -100.0\n",
       " -30.0458  -30.0458  -22.9706   -30.0458\n",
       "   0.0       0.0       0.0        0.0\n",
       "   0.0       0.0       0.0        0.0\n",
       "   0.0       0.0       0.0        0.0\n",
       "  13.7617   21.2117   24.5619    12.8924"
      ]
     },
     "execution_count": 174,
     "metadata": {},
     "output_type": "execute_result"
    }
   ],
   "source": [
    "int_line_flow_1"
   ]
  },
  {
   "cell_type": "code",
   "execution_count": 175,
   "metadata": {},
   "outputs": [
    {
     "data": {
      "text/plain": [
       "18×4 Array{Float64,2}:\n",
       "   0.0       0.0       0.0       0.0\n",
       "   0.0       0.0       0.0       0.0\n",
       "   0.0       0.0       0.0       0.0\n",
       "   0.0       0.0       0.0       0.0\n",
       "   0.0       0.0       0.0       0.0\n",
       " -31.6215  -30.6719  -26.9955  -31.6215\n",
       " -15.8399  -10.2117  -13.606   -31.4631\n",
       "   0.0       0.0       0.0       0.0\n",
       "   0.0       0.0       0.0       0.0\n",
       " -32.6739  -32.6739  -32.6739  -32.6739\n",
       " -47.7305  -48.6315  -48.6315  -48.6315\n",
       "   0.0       0.0       0.0       0.0\n",
       "   0.0       0.0       0.0       0.0\n",
       "   0.0       0.0       0.0       0.0\n",
       "   0.0       0.0       0.0       0.0\n",
       "   0.0       0.0       0.0       0.0\n",
       "   0.0       0.0       0.0      -4.44089e-16\n",
       "   0.0       0.0       0.0       0.0"
      ]
     },
     "execution_count": 175,
     "metadata": {},
     "output_type": "execute_result"
    }
   ],
   "source": [
    "int_line_flow_2"
   ]
  },
  {
   "cell_type": "code",
   "execution_count": 176,
   "metadata": {},
   "outputs": [
    {
     "data": {
      "text/plain": [
       "2×4 Array{Float64,2}:\n",
       " 0.0  0.0  0.0  0.0\n",
       " 0.0  0.0  0.0  0.0"
      ]
     },
     "execution_count": 176,
     "metadata": {},
     "output_type": "execute_result"
    }
   ],
   "source": [
    "int_line_flow_3"
   ]
  },
  {
   "cell_type": "code",
   "execution_count": null,
   "metadata": {},
   "outputs": [],
   "source": []
  }
 ],
 "metadata": {
  "kernelspec": {
   "display_name": "Julia 1.5.3",
   "language": "julia",
   "name": "julia-1.5"
  },
  "language_info": {
   "file_extension": ".jl",
   "mimetype": "application/julia",
   "name": "julia",
   "version": "1.5.3"
  }
 },
 "nbformat": 4,
 "nbformat_minor": 4
}
