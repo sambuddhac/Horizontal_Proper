{
 "cells": [
  {
   "cell_type": "markdown",
   "metadata": {},
   "source": [
    "# Centralized Solution of Multi-Regional Transmission Expansion Horizontal Investment Coordination Problem"
   ]
  },
  {
   "cell_type": "markdown",
   "metadata": {},
   "source": [
    "### This notebook contains codes for the three zone test case (consisting of the IEEE 14 nodes, IEEE 30 nodes, and a 5 node test system for each of the zones) under the assumption that a single entity solves the problem centrally\n",
    "\n",
    "#### The first code block loads the different package dependencies to create the virtual environment in Julia"
   ]
  },
  {
   "cell_type": "code",
   "execution_count": 1,
   "metadata": {},
   "outputs": [
    {
     "name": "stderr",
     "output_type": "stream",
     "text": [
      "\u001b[32m\u001b[1m Activating\u001b[22m\u001b[39m new environment at `~/code/Horizontal_Proper/Example/CentJulEnv/Project.toml`\n",
      "\u001b[32m\u001b[1m   Updating\u001b[22m\u001b[39m registry at `~/.julia/registries/General`\n",
      "######################################################################### 100.0%\n",
      "\u001b[32m\u001b[1m  Resolving\u001b[22m\u001b[39m package versions...\n",
      "\u001b[32m\u001b[1m  Installed\u001b[22m\u001b[39m MozillaCACerts_jll ─ v2022.10.11+0\n",
      "\u001b[32m\u001b[1m  Installed\u001b[22m\u001b[39m libsodium_jll ────── v1.0.19+0\n",
      "\u001b[32m\u001b[1mUpdating\u001b[22m\u001b[39m `~/code/Horizontal_Proper/Example/CentJulEnv/Project.toml`\n",
      " \u001b[90m [7073ff75] \u001b[39m\u001b[92m+ IJulia v1.23.3\u001b[39m\n",
      "\u001b[32m\u001b[1mUpdating\u001b[22m\u001b[39m `~/code/Horizontal_Proper/Example/CentJulEnv/Manifest.toml`\n",
      " \u001b[90m [0dad84c5] \u001b[39m\u001b[92m+ ArgTools v1.1.1\u001b[39m\n",
      " \u001b[90m [56f22d72] \u001b[39m\u001b[92m+ Artifacts v1.3.0\u001b[39m\n",
      " \u001b[90m [8f4d0f93] \u001b[39m\u001b[92m+ Conda v1.7.0\u001b[39m\n",
      " \u001b[90m [f43a241f] \u001b[39m\u001b[92m+ Downloads v1.6.0\u001b[39m\n",
      " \u001b[90m [7073ff75] \u001b[39m\u001b[92m+ IJulia v1.23.3\u001b[39m\n",
      " \u001b[90m [692b3bcd] \u001b[39m\u001b[92m+ JLLWrappers v1.4.1\u001b[39m\n",
      " \u001b[90m [682c06a0] \u001b[39m\u001b[92m+ JSON v0.21.3\u001b[39m\n",
      " \u001b[90m [b27032c2] \u001b[39m\u001b[92m+ LibCURL v0.6.3\u001b[39m\n",
      " \u001b[90m [deac9b47] \u001b[39m\u001b[92m+ LibCURL_jll v7.70.0+2\u001b[39m\n",
      " \u001b[90m [29816b5a] \u001b[39m\u001b[92m+ LibSSH2_jll v1.9.0+3\u001b[39m\n",
      " \u001b[90m [739be429] \u001b[39m\u001b[92m+ MbedTLS v1.0.3\u001b[39m\n",
      " \u001b[90m [c8ffd9c3] \u001b[39m\u001b[92m+ MbedTLS_jll v2.16.8+1\u001b[39m\n",
      " \u001b[90m [14a3606d] \u001b[39m\u001b[92m+ MozillaCACerts_jll v2022.10.11+0\u001b[39m\n",
      " \u001b[90m [ca575930] \u001b[39m\u001b[92m+ NetworkOptions v1.2.0\u001b[39m\n",
      " \u001b[90m [69de0a69] \u001b[39m\u001b[92m+ Parsers v2.4.2\u001b[39m\n",
      " \u001b[90m [21216c6a] \u001b[39m\u001b[92m+ Preferences v1.3.0\u001b[39m\n",
      " \u001b[90m [b85f4697] \u001b[39m\u001b[92m+ SoftGlobalScope v1.1.0\u001b[39m\n",
      " \u001b[90m [fa267f1f] \u001b[39m\u001b[92m+ TOML v1.0.3\u001b[39m\n",
      " \u001b[90m [81def892] \u001b[39m\u001b[92m+ VersionParsing v1.3.0\u001b[39m\n",
      " \u001b[90m [c2297ded] \u001b[39m\u001b[92m+ ZMQ v1.2.2\u001b[39m\n",
      " \u001b[90m [8f1865be] \u001b[39m\u001b[92m+ ZeroMQ_jll v4.3.2+6\u001b[39m\n",
      " \u001b[90m [83775a58] \u001b[39m\u001b[92m+ Zlib_jll v1.2.11+18\u001b[39m\n",
      " \u001b[90m [a9144af2] \u001b[39m\u001b[92m+ libsodium_jll v1.0.19+0\u001b[39m\n",
      " \u001b[90m [8e850ede] \u001b[39m\u001b[92m+ nghttp2_jll v1.40.0+2\u001b[39m\n",
      " \u001b[90m [2a0f44e3] \u001b[39m\u001b[92m+ Base64\u001b[39m\n",
      " \u001b[90m [ade2ca70] \u001b[39m\u001b[92m+ Dates\u001b[39m\n",
      " \u001b[90m [8ba89e20] \u001b[39m\u001b[92m+ Distributed\u001b[39m\n",
      " \u001b[90m [7b1f6079] \u001b[39m\u001b[92m+ FileWatching\u001b[39m\n",
      " \u001b[90m [b77e0a4c] \u001b[39m\u001b[92m+ InteractiveUtils\u001b[39m\n",
      " \u001b[90m [76f85450] \u001b[39m\u001b[92m+ LibGit2\u001b[39m\n",
      " \u001b[90m [8f399da3] \u001b[39m\u001b[92m+ Libdl\u001b[39m\n",
      " \u001b[90m [56ddb016] \u001b[39m\u001b[92m+ Logging\u001b[39m\n",
      " \u001b[90m [d6f4376e] \u001b[39m\u001b[92m+ Markdown\u001b[39m\n",
      " \u001b[90m [a63ad114] \u001b[39m\u001b[92m+ Mmap\u001b[39m\n",
      " \u001b[90m [44cfe95a] \u001b[39m\u001b[92m+ Pkg\u001b[39m\n",
      " \u001b[90m [de0858da] \u001b[39m\u001b[92m+ Printf\u001b[39m\n",
      " \u001b[90m [3fa0cd96] \u001b[39m\u001b[92m+ REPL\u001b[39m\n",
      " \u001b[90m [9a3f8284] \u001b[39m\u001b[92m+ Random\u001b[39m\n",
      " \u001b[90m [ea8e919c] \u001b[39m\u001b[92m+ SHA\u001b[39m\n",
      " \u001b[90m [9e88b42a] \u001b[39m\u001b[92m+ Serialization\u001b[39m\n",
      " \u001b[90m [6462fe0b] \u001b[39m\u001b[92m+ Sockets\u001b[39m\n",
      " \u001b[90m [8dfed614] \u001b[39m\u001b[92m+ Test\u001b[39m\n",
      " \u001b[90m [cf7118a7] \u001b[39m\u001b[92m+ UUIDs\u001b[39m\n",
      " \u001b[90m [4ec0a83e] \u001b[39m\u001b[92m+ Unicode\u001b[39m\n",
      "\u001b[32m\u001b[1m  Resolving\u001b[22m\u001b[39m package versions...\n",
      "\u001b[32m\u001b[1mUpdating\u001b[22m\u001b[39m `~/code/Horizontal_Proper/Example/CentJulEnv/Project.toml`\n",
      " \u001b[90m [6e4b80f9] \u001b[39m\u001b[92m+ BenchmarkTools v1.3.2\u001b[39m\n",
      "\u001b[32m\u001b[1mUpdating\u001b[22m\u001b[39m `~/code/Horizontal_Proper/Example/CentJulEnv/Manifest.toml`\n",
      " \u001b[90m [6e4b80f9] \u001b[39m\u001b[92m+ BenchmarkTools v1.3.2\u001b[39m\n",
      " \u001b[90m [37e2e46d] \u001b[39m\u001b[92m+ LinearAlgebra\u001b[39m\n",
      " \u001b[90m [9abbd945] \u001b[39m\u001b[92m+ Profile\u001b[39m\n",
      " \u001b[90m [2f01184e] \u001b[39m\u001b[92m+ SparseArrays\u001b[39m\n",
      " \u001b[90m [10745b16] \u001b[39m\u001b[92m+ Statistics\u001b[39m\n",
      "\u001b[32m\u001b[1m  Resolving\u001b[22m\u001b[39m package versions...\n",
      "\u001b[32m\u001b[1m  Installed\u001b[22m\u001b[39m DataAPI ─ v1.13.0\n",
      "\u001b[32m\u001b[1m  Installed\u001b[22m\u001b[39m CSV ───── v0.8.2\n",
      "\u001b[32m\u001b[1mUpdating\u001b[22m\u001b[39m `~/code/Horizontal_Proper/Example/CentJulEnv/Project.toml`\n",
      " \u001b[90m [336ed68f] \u001b[39m\u001b[92m+ CSV v0.8.2\u001b[39m\n",
      "\u001b[32m\u001b[1mUpdating\u001b[22m\u001b[39m `~/code/Horizontal_Proper/Example/CentJulEnv/Manifest.toml`\n",
      " \u001b[90m [336ed68f] \u001b[39m\u001b[92m+ CSV v0.8.2\u001b[39m\n",
      " \u001b[90m [9a962f9c] \u001b[39m\u001b[92m+ DataAPI v1.13.0\u001b[39m\n",
      " \u001b[90m [e2d170a0] \u001b[39m\u001b[92m+ DataValueInterfaces v1.0.0\u001b[39m\n",
      " \u001b[90m [82899510] \u001b[39m\u001b[92m+ IteratorInterfaceExtensions v1.0.0\u001b[39m\n",
      " \u001b[90m [bac558e1] \u001b[39m\u001b[92m+ OrderedCollections v1.4.1\u001b[39m\n",
      " \u001b[90m [69de0a69] \u001b[39m\u001b[95m↓ Parsers v2.4.2 ⇒ v1.1.2\u001b[39m\n",
      " \u001b[90m [2dfb63ee] \u001b[39m\u001b[92m+ PooledArrays v0.5.3\u001b[39m\n",
      " \u001b[90m [91c51154] \u001b[39m\u001b[92m+ SentinelArrays v1.3.16\u001b[39m\n",
      " \u001b[90m [3783bdb8] \u001b[39m\u001b[92m+ TableTraits v1.0.1\u001b[39m\n",
      " \u001b[90m [bd369af6] \u001b[39m\u001b[92m+ Tables v1.10.0\u001b[39m\n",
      "\u001b[32m\u001b[1m  Resolving\u001b[22m\u001b[39m package versions...\n",
      "\u001b[32m\u001b[1m  Installed\u001b[22m\u001b[39m CategoricalArrays ─ v0.9.7\n",
      "\u001b[32m\u001b[1mUpdating\u001b[22m\u001b[39m `~/code/Horizontal_Proper/Example/CentJulEnv/Project.toml`\n",
      " \u001b[90m [a93c6f00] \u001b[39m\u001b[92m+ DataFrames v0.22.7\u001b[39m\n",
      "\u001b[32m\u001b[1mUpdating\u001b[22m\u001b[39m `~/code/Horizontal_Proper/Example/CentJulEnv/Manifest.toml`\n",
      " \u001b[90m [324d7699] \u001b[39m\u001b[92m+ CategoricalArrays v0.9.7\u001b[39m\n",
      " \u001b[90m [34da2185] \u001b[39m\u001b[92m+ Compat v3.46.0\u001b[39m\n",
      " \u001b[90m [a8cc5b0e] \u001b[39m\u001b[92m+ Crayons v4.0.4\u001b[39m\n",
      " \u001b[90m [a93c6f00] \u001b[39m\u001b[92m+ DataFrames v0.22.7\u001b[39m\n",
      " \u001b[90m [864edb3b] \u001b[39m\u001b[92m+ DataStructures v0.18.13\u001b[39m\n",
      " \u001b[90m [59287772] \u001b[39m\u001b[92m+ Formatting v0.4.2\u001b[39m\n",
      " \u001b[90m [41ab1584] \u001b[39m\u001b[92m+ InvertedIndices v1.1.0\u001b[39m\n",
      " \u001b[90m [e1d29d7a] \u001b[39m\u001b[92m+ Missings v0.4.5\u001b[39m\n",
      " \u001b[90m [08abe8d2] \u001b[39m\u001b[92m+ PrettyTables v0.11.1\u001b[39m\n",
      " \u001b[90m [189a3867] \u001b[39m\u001b[92m+ Reexport v1.2.2\u001b[39m\n",
      " \u001b[90m [a2af1166] \u001b[39m\u001b[92m+ SortingAlgorithms v0.3.1\u001b[39m\n",
      " \u001b[90m [856f2bd8] \u001b[39m\u001b[92m+ StructTypes v1.10.0\u001b[39m\n",
      " \u001b[90m [8bb1440f] \u001b[39m\u001b[92m+ DelimitedFiles\u001b[39m\n",
      " \u001b[90m [9fa8497b] \u001b[39m\u001b[92m+ Future\u001b[39m\n",
      " \u001b[90m [1a1011a3] \u001b[39m\u001b[92m+ SharedArrays\u001b[39m\n",
      "\u001b[32m\u001b[1m  Resolving\u001b[22m\u001b[39m package versions...\n",
      "\u001b[32m\u001b[1mUpdating\u001b[22m\u001b[39m `~/code/Horizontal_Proper/Example/CentJulEnv/Project.toml`\n",
      " \u001b[90m [864edb3b] \u001b[39m\u001b[92m+ DataStructures v0.18.13\u001b[39m\n",
      "\u001b[32m\u001b[1mNo Changes\u001b[22m\u001b[39m to `~/code/Horizontal_Proper/Example/CentJulEnv/Manifest.toml`\n",
      "\u001b[32m\u001b[1m  Resolving\u001b[22m\u001b[39m package versions...\n",
      "\u001b[32m\u001b[1mUpdating\u001b[22m\u001b[39m `~/code/Horizontal_Proper/Example/CentJulEnv/Project.toml`\n",
      " \u001b[90m [ade2ca70] \u001b[39m\u001b[92m+ Dates\u001b[39m\n",
      "\u001b[32m\u001b[1mNo Changes\u001b[22m\u001b[39m to `~/code/Horizontal_Proper/Example/CentJulEnv/Manifest.toml`\n",
      "\u001b[32m\u001b[1m  Resolving\u001b[22m\u001b[39m package versions...\n",
      "\u001b[32m\u001b[1mUpdating\u001b[22m\u001b[39m `~/code/Horizontal_Proper/Example/CentJulEnv/Project.toml`\n",
      " \u001b[90m [37e2e46d] \u001b[39m\u001b[92m+ LinearAlgebra\u001b[39m\n",
      "\u001b[32m\u001b[1mNo Changes\u001b[22m\u001b[39m to `~/code/Horizontal_Proper/Example/CentJulEnv/Manifest.toml`\n",
      "\u001b[32m\u001b[1m  Resolving\u001b[22m\u001b[39m package versions...\n",
      "\u001b[32m\u001b[1mUpdating\u001b[22m\u001b[39m `~/code/Horizontal_Proper/Example/CentJulEnv/Project.toml`\n",
      " \u001b[90m [b8f27783] \u001b[39m\u001b[92m+ MathOptInterface v0.10.9\u001b[39m\n",
      "\u001b[32m\u001b[1mUpdating\u001b[22m\u001b[39m `~/code/Horizontal_Proper/Example/CentJulEnv/Manifest.toml`\n",
      " \u001b[90m [6e34b625] \u001b[39m\u001b[92m+ Bzip2_jll v1.0.7+0\u001b[39m\n",
      " \u001b[90m [523fee87] \u001b[39m\u001b[92m+ CodecBzip2 v0.7.2\u001b[39m\n",
      " \u001b[90m [944b1d66] \u001b[39m\u001b[92m+ CodecZlib v0.7.0\u001b[39m\n",
      " \u001b[90m [b8f27783] \u001b[39m\u001b[92m+ MathOptInterface v0.10.9\u001b[39m\n",
      " \u001b[90m [d8a4904e] \u001b[39m\u001b[92m+ MutableArithmetics v0.3.3\u001b[39m\n",
      " \u001b[90m [3bb67fe8] \u001b[39m\u001b[92m+ TranscodingStreams v0.9.9\u001b[39m\n",
      "\u001b[32m\u001b[1m  Resolving\u001b[22m\u001b[39m package versions...\n",
      "\u001b[32m\u001b[1mUpdating\u001b[22m\u001b[39m `~/code/Horizontal_Proper/Example/CentJulEnv/Project.toml`\n",
      " \u001b[90m [fdba3010] \u001b[39m\u001b[92m+ MathProgBase v0.7.8\u001b[39m\n",
      "\u001b[32m\u001b[1mUpdating\u001b[22m\u001b[39m `~/code/Horizontal_Proper/Example/CentJulEnv/Manifest.toml`\n",
      " \u001b[90m [fdba3010] \u001b[39m\u001b[92m+ MathProgBase v0.7.8\u001b[39m\n",
      "\u001b[32m\u001b[1m  Resolving\u001b[22m\u001b[39m package versions...\n",
      "\u001b[32m\u001b[1mUpdating\u001b[22m\u001b[39m `~/code/Horizontal_Proper/Example/CentJulEnv/Project.toml`\n",
      " \u001b[90m [731186ca] \u001b[39m\u001b[92m+ RecursiveArrayTools v2.20.0\u001b[39m\n",
      "\u001b[32m\u001b[1mUpdating\u001b[22m\u001b[39m `~/code/Horizontal_Proper/Example/CentJulEnv/Manifest.toml`\n",
      " \u001b[90m [4fba245c] \u001b[39m\u001b[92m+ ArrayInterface v3.2.2\u001b[39m\n",
      " \u001b[90m [d360d2e6] \u001b[39m\u001b[92m+ ChainRulesCore v1.12.2\u001b[39m\n",
      " \u001b[90m [ffbed154] \u001b[39m\u001b[92m+ DocStringExtensions v0.8.6\u001b[39m\n",
      " \u001b[90m [1a297f60] \u001b[39m\u001b[92m+ FillArrays v0.12.8\u001b[39m\n",
      " \u001b[90m [615f187c] \u001b[39m\u001b[92m+ IfElse v0.1.1\u001b[39m\n",
      " \u001b[90m [1914dd2f] \u001b[39m\u001b[92m+ MacroTools v0.5.10\u001b[39m\n",
      " \u001b[90m [3cdcf5f2] \u001b[39m\u001b[92m+ RecipesBase v1.2.1\u001b[39m\n",
      " \u001b[90m [731186ca] \u001b[39m\u001b[92m+ RecursiveArrayTools v2.20.0\u001b[39m\n",
      " \u001b[90m [ae029012] \u001b[39m\u001b[92m+ Requires v1.3.0\u001b[39m\n",
      " \u001b[90m [aedffcd0] \u001b[39m\u001b[92m+ Static v0.4.0\u001b[39m\n",
      " \u001b[90m [90137ffa] \u001b[39m\u001b[92m+ StaticArrays v1.3.6\u001b[39m\n",
      " \u001b[90m [700de1a5] \u001b[39m\u001b[92m+ ZygoteRules v0.2.2\u001b[39m\n",
      "\u001b[32m\u001b[1m  Resolving\u001b[22m\u001b[39m package versions...\n",
      "\u001b[32m\u001b[1mUpdating\u001b[22m\u001b[39m `~/code/Horizontal_Proper/Example/CentJulEnv/Project.toml`\n",
      " \u001b[90m [10745b16] \u001b[39m\u001b[92m+ Statistics\u001b[39m\n",
      "\u001b[32m\u001b[1mNo Changes\u001b[22m\u001b[39m to `~/code/Horizontal_Proper/Example/CentJulEnv/Manifest.toml`\n",
      "\u001b[32m\u001b[1m  Resolving\u001b[22m\u001b[39m package versions...\n",
      "\u001b[32m\u001b[1mUpdating\u001b[22m\u001b[39m `~/code/Horizontal_Proper/Example/CentJulEnv/Project.toml`\n",
      " \u001b[90m [2913bbd2] \u001b[39m\u001b[92m+ StatsBase v0.33.21\u001b[39m\n",
      "\u001b[32m\u001b[1mUpdating\u001b[22m\u001b[39m `~/code/Horizontal_Proper/Example/CentJulEnv/Manifest.toml`\n",
      " \u001b[90m [9e997f8a] \u001b[39m\u001b[92m+ ChangesOfVariables v0.1.4\u001b[39m\n",
      " \u001b[90m [3587e190] \u001b[39m\u001b[92m+ InverseFunctions v0.1.8\u001b[39m\n",
      " \u001b[90m [92d709cd] \u001b[39m\u001b[92m+ IrrationalConstants v0.1.1\u001b[39m\n",
      " \u001b[90m [2ab3a3ac] \u001b[39m\u001b[92m+ LogExpFunctions v0.3.18\u001b[39m\n",
      " \u001b[90m [82ae8749] \u001b[39m\u001b[92m+ StatsAPI v1.5.0\u001b[39m\n",
      " \u001b[90m [2913bbd2] \u001b[39m\u001b[92m+ StatsBase v0.33.21\u001b[39m\n",
      "\u001b[32m\u001b[1m  Resolving\u001b[22m\u001b[39m package versions...\n",
      "\u001b[32m\u001b[1mUpdating\u001b[22m\u001b[39m `~/code/Horizontal_Proper/Example/CentJulEnv/Project.toml`\n",
      " \u001b[90m [ddb6d928] \u001b[39m\u001b[92m+ YAML v0.4.8\u001b[39m\n",
      "\u001b[32m\u001b[1mUpdating\u001b[22m\u001b[39m `~/code/Horizontal_Proper/Example/CentJulEnv/Manifest.toml`\n",
      " \u001b[90m [94ce4f54] \u001b[39m\u001b[92m+ Libiconv_jll v1.16.0+8\u001b[39m\n",
      " \u001b[90m [69024149] \u001b[39m\u001b[92m+ StringEncodings v0.3.5\u001b[39m\n",
      " \u001b[90m [ddb6d928] \u001b[39m\u001b[92m+ YAML v0.4.8\u001b[39m\n",
      "\u001b[32m\u001b[1m  Resolving\u001b[22m\u001b[39m package versions...\n",
      "\u001b[32m\u001b[1m  Installed\u001b[22m\u001b[39m Measures ──────── v0.3.2\n",
      "\u001b[32m\u001b[1m  Installed\u001b[22m\u001b[39m FFMPEG ────────── v0.2.4\n",
      "\u001b[32m\u001b[1m  Installed\u001b[22m\u001b[39m PlotUtils ─────── v1.0.15\n",
      "\u001b[32m\u001b[1m  Installed\u001b[22m\u001b[39m GeometryBasics ── v0.3.13\n",
      "\u001b[32m\u001b[1m  Installed\u001b[22m\u001b[39m IterTools ─────── v1.4.0\n",
      "\u001b[32m\u001b[1m  Installed\u001b[22m\u001b[39m RecipesPipeline ─ v0.3.7\n",
      "\u001b[32m\u001b[1m  Installed\u001b[22m\u001b[39m Latexify ──────── v0.15.16\n",
      "\u001b[32m\u001b[1m  Installed\u001b[22m\u001b[39m Plots ─────────── v1.15.2\n",
      "\u001b[32m\u001b[1mUpdating\u001b[22m\u001b[39m `~/code/Horizontal_Proper/Example/CentJulEnv/Project.toml`\n",
      " \u001b[90m [91a5bcdd] \u001b[39m\u001b[92m+ Plots v1.15.2\u001b[39m\n",
      "\u001b[32m\u001b[1mUpdating\u001b[22m\u001b[39m `~/code/Horizontal_Proper/Example/CentJulEnv/Manifest.toml`\n",
      " \u001b[90m [79e6a3ab] \u001b[39m\u001b[92m+ Adapt v3.4.0\u001b[39m\n",
      " \u001b[90m [b99e7846] \u001b[39m\u001b[92m+ BinaryProvider v0.5.10\u001b[39m\n",
      " \u001b[90m [35d6a980] \u001b[39m\u001b[92m+ ColorSchemes v3.19.0\u001b[39m\n",
      " \u001b[90m [3da002f7] \u001b[39m\u001b[92m+ ColorTypes v0.11.4\u001b[39m\n",
      " \u001b[90m [c3611d14] \u001b[39m\u001b[92m+ ColorVectorSpace v0.9.9\u001b[39m\n",
      " \u001b[90m [5ae59095] \u001b[39m\u001b[92m+ Colors v0.12.8\u001b[39m\n",
      " \u001b[90m [e66e0078] \u001b[39m\u001b[92m+ CompilerSupportLibraries_jll v0.3.4+0\u001b[39m\n",
      " \u001b[90m [d38c429a] \u001b[39m\u001b[92m+ Contour v0.5.7\u001b[39m\n",
      " \u001b[90m [5ae413db] \u001b[39m\u001b[92m+ EarCut_jll v2.1.5+1\u001b[39m\n",
      " \u001b[90m [c87230d0] \u001b[39m\u001b[92m+ FFMPEG v0.2.4\u001b[39m\n",
      " \u001b[90m [53c48c17] \u001b[39m\u001b[92m+ FixedPointNumbers v0.8.4\u001b[39m\n",
      " \u001b[90m [28b8d3ca] \u001b[39m\u001b[92m+ GR v0.52.0\u001b[39m\n",
      " \u001b[90m [5c1252a2] \u001b[39m\u001b[92m+ GeometryBasics v0.3.13\u001b[39m\n",
      " \u001b[90m [42e2da0e] \u001b[39m\u001b[92m+ Grisu v1.0.2\u001b[39m\n",
      " \u001b[90m [cd3eb016] \u001b[39m\u001b[92m+ HTTP v0.8.19\u001b[39m\n",
      " \u001b[90m [83e8ac13] \u001b[39m\u001b[92m+ IniFile v0.5.1\u001b[39m\n",
      " \u001b[90m [c8e1da08] \u001b[39m\u001b[92m+ IterTools v1.4.0\u001b[39m\n",
      " \u001b[90m [b964fa9f] \u001b[39m\u001b[92m+ LaTeXStrings v1.3.0\u001b[39m\n",
      " \u001b[90m [23fbe1c1] \u001b[39m\u001b[92m+ Latexify v0.15.16\u001b[39m\n",
      " \u001b[90m [442fdcdd] \u001b[39m\u001b[92m+ Measures v0.3.2\u001b[39m\n",
      " \u001b[90m [77ba4419] \u001b[39m\u001b[92m+ NaNMath v0.3.7\u001b[39m\n",
      " \u001b[90m [05823500] \u001b[39m\u001b[92m+ OpenLibm_jll v0.7.1+0\u001b[39m\n",
      " \u001b[90m [efe28fd5] \u001b[39m\u001b[92m+ OpenSpecFun_jll v0.5.3+4\u001b[39m\n",
      " \u001b[90m [ccf2f8ad] \u001b[39m\u001b[92m+ PlotThemes v2.0.1\u001b[39m\n",
      " \u001b[90m [995b91a9] \u001b[39m\u001b[92m+ PlotUtils v1.0.15\u001b[39m\n",
      " \u001b[90m [91a5bcdd] \u001b[39m\u001b[92m+ Plots v1.15.2\u001b[39m\n",
      " \u001b[90m [01d81517] \u001b[39m\u001b[92m+ RecipesPipeline v0.3.7\u001b[39m\n",
      " \u001b[90m [6c6a2e73] \u001b[39m\u001b[92m+ Scratch v1.1.1\u001b[39m\n",
      " \u001b[90m [992d4aef] \u001b[39m\u001b[92m+ Showoff v1.0.3\u001b[39m\n",
      " \u001b[90m [276daf66] \u001b[39m\u001b[92m+ SpecialFunctions v2.1.7\u001b[39m\n",
      " \u001b[90m [09ab397b] \u001b[39m\u001b[92m+ StructArrays v0.6.11\u001b[39m\n",
      " \u001b[90m [62fd8b95] \u001b[39m\u001b[92m+ TensorCore v0.1.1\u001b[39m\n",
      "\u001b[32m\u001b[1m   Building\u001b[22m\u001b[39m FFMPEG → `~/.julia/packages/FFMPEG/guN1x/deps/build.log`\n",
      "\u001b[32m\u001b[1m  Resolving\u001b[22m\u001b[39m package versions...\n",
      "\u001b[32m\u001b[1m  Installed\u001b[22m\u001b[39m ZipFile ─ v0.10.0\n",
      "\u001b[32m\u001b[1m  Installed\u001b[22m\u001b[39m XLSX ──── v0.8.4\n",
      "\u001b[32m\u001b[1mUpdating\u001b[22m\u001b[39m `~/code/Horizontal_Proper/Example/CentJulEnv/Project.toml`\n",
      " \u001b[90m [fdbf4ff8] \u001b[39m\u001b[92m+ XLSX v0.8.4\u001b[39m\n",
      "\u001b[32m\u001b[1mUpdating\u001b[22m\u001b[39m `~/code/Horizontal_Proper/Example/CentJulEnv/Manifest.toml`\n",
      " \u001b[90m [8f5d6c58] \u001b[39m\u001b[92m+ EzXML v1.1.0\u001b[39m\n",
      " \u001b[90m [fdbf4ff8] \u001b[39m\u001b[92m+ XLSX v0.8.4\u001b[39m\n",
      " \u001b[90m [02c8fc9c] \u001b[39m\u001b[92m+ XML2_jll v2.9.10+3\u001b[39m\n",
      " \u001b[90m [a5390f91] \u001b[39m\u001b[92m+ ZipFile v0.10.0\u001b[39m\n",
      "\u001b[32m\u001b[1m  Resolving\u001b[22m\u001b[39m package versions...\n",
      "\u001b[32m\u001b[1m  Installed\u001b[22m\u001b[39m MUMPS_seq_jll ─ v5.4.0+0\n",
      "\u001b[32m\u001b[1mUpdating\u001b[22m\u001b[39m `~/code/Horizontal_Proper/Example/CentJulEnv/Project.toml`\n",
      " \u001b[90m [9961bab8] \u001b[39m\u001b[92m+ Cbc v0.9.1\u001b[39m\n",
      "\u001b[32m\u001b[1mUpdating\u001b[22m\u001b[39m `~/code/Horizontal_Proper/Example/CentJulEnv/Manifest.toml`\n",
      " \u001b[90m [ae81ac8f] \u001b[39m\u001b[92m+ ASL_jll v0.1.2+0\u001b[39m\n",
      " \u001b[90m [fa961155] \u001b[39m\u001b[92m+ CEnum v0.4.2\u001b[39m\n",
      " \u001b[90m [9961bab8] \u001b[39m\u001b[92m+ Cbc v0.9.1\u001b[39m\n",
      " \u001b[90m [38041ee0] \u001b[39m\u001b[92m+ Cbc_jll v200.1000.500+1\u001b[39m\n",
      " \u001b[90m [3830e938] \u001b[39m\u001b[92m+ Cgl_jll v0.6000.200+0\u001b[39m\n",
      " \u001b[90m [06985876] \u001b[39m\u001b[92m+ Clp_jll v100.1700.600+0\u001b[39m\n",
      " \u001b[90m [be027038] \u001b[39m\u001b[92m+ CoinUtils_jll v2.11.4+2\u001b[39m\n",
      " \u001b[90m [d00139f3] \u001b[39m\u001b[92m+ METIS_jll v5.1.0+5\u001b[39m\n",
      " \u001b[90m [d7ed1dd3] \u001b[39m\u001b[92m+ MUMPS_seq_jll v5.4.0+0\u001b[39m\n",
      " \u001b[90m [656ef2d0] \u001b[39m\u001b[92m+ OpenBLAS32_jll v0.3.9+4\u001b[39m\n",
      " \u001b[90m [7da25872] \u001b[39m\u001b[92m+ Osi_jll v0.108.6+2\u001b[39m\n",
      "\u001b[32m\u001b[1m  Resolving\u001b[22m\u001b[39m package versions...\n",
      "\u001b[32m\u001b[1mUpdating\u001b[22m\u001b[39m `~/code/Horizontal_Proper/Example/CentJulEnv/Project.toml`\n",
      " \u001b[90m [e2554f3b] \u001b[39m\u001b[92m+ Clp v0.9.1\u001b[39m\n",
      "\u001b[32m\u001b[1mUpdating\u001b[22m\u001b[39m `~/code/Horizontal_Proper/Example/CentJulEnv/Manifest.toml`\n",
      " \u001b[90m [e2554f3b] \u001b[39m\u001b[92m+ Clp v0.9.1\u001b[39m\n",
      "\u001b[32m\u001b[1m  Resolving\u001b[22m\u001b[39m package versions...\n",
      "\u001b[32m\u001b[1mUpdating\u001b[22m\u001b[39m `~/code/Horizontal_Proper/Example/CentJulEnv/Project.toml`\n",
      " \u001b[90m [60bf3e95] \u001b[39m\u001b[92m+ GLPK v0.15.3\u001b[39m\n",
      "\u001b[32m\u001b[1mUpdating\u001b[22m\u001b[39m `~/code/Horizontal_Proper/Example/CentJulEnv/Manifest.toml`\n",
      " \u001b[90m [60bf3e95] \u001b[39m\u001b[92m+ GLPK v0.15.3\u001b[39m\n",
      " \u001b[90m [e8aa6df9] \u001b[39m\u001b[92m+ GLPK_jll v5.0.0+0\u001b[39m\n",
      " \u001b[90m [781609d7] \u001b[39m\u001b[92m+ GMP_jll v6.1.2+6\u001b[39m\n",
      "\u001b[32m\u001b[1m  Resolving\u001b[22m\u001b[39m package versions...\n",
      "\u001b[32m\u001b[1m  Installed\u001b[22m\u001b[39m HiGHS_jll ─ v1.1.0+0\n",
      "\u001b[32m\u001b[1m  Installed\u001b[22m\u001b[39m HiGHS ───── v0.3.0\n",
      "\u001b[32m\u001b[1mUpdating\u001b[22m\u001b[39m `~/code/Horizontal_Proper/Example/CentJulEnv/Project.toml`\n",
      " \u001b[90m [87dc4568] \u001b[39m\u001b[92m+ HiGHS v0.3.0\u001b[39m\n",
      "\u001b[32m\u001b[1mUpdating\u001b[22m\u001b[39m `~/code/Horizontal_Proper/Example/CentJulEnv/Manifest.toml`\n",
      " \u001b[90m [87dc4568] \u001b[39m\u001b[92m+ HiGHS v0.3.0\u001b[39m\n",
      " \u001b[90m [8fd58aa0] \u001b[39m\u001b[92m+ HiGHS_jll v1.1.0+0\u001b[39m\n",
      "\u001b[32m\u001b[1m  Resolving\u001b[22m\u001b[39m package versions...\n",
      "\u001b[32m\u001b[1m  Installed\u001b[22m\u001b[39m GR_jll ────── v0.58.1+0\n",
      "\u001b[32m\u001b[1m  Installed\u001b[22m\u001b[39m Qt5Base_jll ─ v5.15.2+0\n",
      "\u001b[32m\u001b[1m  Installed\u001b[22m\u001b[39m GLFW_jll ──── v3.3.4+0\n",
      "\u001b[32m\u001b[1m  Installed\u001b[22m\u001b[39m GR ────────── v0.57.5\n",
      "\u001b[32m\u001b[1mUpdating\u001b[22m\u001b[39m `~/code/Horizontal_Proper/Example/CentJulEnv/Project.toml`\n",
      " \u001b[90m [b6b21f68] \u001b[39m\u001b[92m+ Ipopt v0.9.1\u001b[39m\n",
      "\u001b[32m\u001b[1mUpdating\u001b[22m\u001b[39m `~/code/Horizontal_Proper/Example/CentJulEnv/Manifest.toml`\n",
      " \u001b[90m [6e34b625] \u001b[39m\u001b[95m↓ Bzip2_jll v1.0.7+0 ⇒ v1.0.6+5\u001b[39m\n",
      " \u001b[90m [83423d85] \u001b[39m\u001b[92m+ Cairo_jll v1.16.0+6\u001b[39m\n",
      " \u001b[90m [2e619515] \u001b[39m\u001b[92m+ Expat_jll v2.2.7+6\u001b[39m\n",
      " \u001b[90m [c87230d0] \u001b[39m\u001b[93m↑ FFMPEG v0.2.4 ⇒ v0.4.1\u001b[39m\n",
      " \u001b[90m [b22a6f82] \u001b[39m\u001b[92m+ FFMPEG_jll v4.3.1+4\u001b[39m\n",
      " \u001b[90m [a3f928ae] \u001b[39m\u001b[92m+ Fontconfig_jll v2.13.1+14\u001b[39m\n",
      " \u001b[90m [d7e528f0] \u001b[39m\u001b[92m+ FreeType2_jll v2.10.1+5\u001b[39m\n",
      " \u001b[90m [559328eb] \u001b[39m\u001b[92m+ FriBidi_jll v1.0.5+6\u001b[39m\n",
      " \u001b[90m [0656b61e] \u001b[39m\u001b[92m+ GLFW_jll v3.3.4+0\u001b[39m\n",
      " \u001b[90m [28b8d3ca] \u001b[39m\u001b[93m↑ GR v0.52.0 ⇒ v0.57.5\u001b[39m\n",
      " \u001b[90m [d2c73de3] \u001b[39m\u001b[92m+ GR_jll v0.58.1+0\u001b[39m\n",
      " \u001b[90m [78b55507] \u001b[39m\u001b[92m+ Gettext_jll v0.20.1+7\u001b[39m\n",
      " \u001b[90m [7746bdde] \u001b[39m\u001b[92m+ Glib_jll v2.59.0+4\u001b[39m\n",
      " \u001b[90m [cd3eb016] \u001b[39m\u001b[93m↑ HTTP v0.8.19 ⇒ v0.9.17\u001b[39m\n",
      " \u001b[90m [b6b21f68] \u001b[39m\u001b[92m+ Ipopt v0.9.1\u001b[39m\n",
      " \u001b[90m [9cc047cb] \u001b[39m\u001b[92m+ Ipopt_jll v3.13.4+2\u001b[39m\n",
      " \u001b[90m [aacddb02] \u001b[39m\u001b[92m+ JpegTurbo_jll v2.0.1+3\u001b[39m\n",
      " \u001b[90m [c1c5ebd0] \u001b[39m\u001b[92m+ LAME_jll v3.100.0+3\u001b[39m\n",
      " \u001b[90m [dd4b983a] \u001b[39m\u001b[92m+ LZO_jll v2.10.0+3\u001b[39m\n",
      " \u001b[90m [dd192d2f] \u001b[39m\u001b[92m+ LibVPX_jll v1.9.0+1\u001b[39m\n",
      " \u001b[90m [e9f186c6] \u001b[39m\u001b[92m+ Libffi_jll v3.2.1+4\u001b[39m\n",
      " \u001b[90m [d4300ac3] \u001b[39m\u001b[92m+ Libgcrypt_jll v1.8.5+4\u001b[39m\n",
      " \u001b[90m [7e76a0d4] \u001b[39m\u001b[92m+ Libglvnd_jll v1.3.0+3\u001b[39m\n",
      " \u001b[90m [7add5ba3] \u001b[39m\u001b[92m+ Libgpg_error_jll v1.36.0+3\u001b[39m\n",
      " \u001b[90m [4b2f31a3] \u001b[39m\u001b[92m+ Libmount_jll v2.34.0+3\u001b[39m\n",
      " \u001b[90m [89763e89] \u001b[39m\u001b[92m+ Libtiff_jll v4.1.0+2\u001b[39m\n",
      " \u001b[90m [38a345b3] \u001b[39m\u001b[92m+ Libuuid_jll v2.34.0+7\u001b[39m\n",
      " \u001b[90m [d7ed1dd3] \u001b[39m\u001b[95m↓ MUMPS_seq_jll v5.4.0+0 ⇒ v5.2.1+4\u001b[39m\n",
      " \u001b[90m [e7412a2a] \u001b[39m\u001b[92m+ Ogg_jll v1.3.4+2\u001b[39m\n",
      " \u001b[90m [458c3c95] \u001b[39m\u001b[92m+ OpenSSL_jll v1.1.1+6\u001b[39m\n",
      " \u001b[90m [91d4177d] \u001b[39m\u001b[92m+ Opus_jll v1.3.1+3\u001b[39m\n",
      " \u001b[90m [2f80f16e] \u001b[39m\u001b[92m+ PCRE_jll v8.42.0+4\u001b[39m\n",
      " \u001b[90m [30392449] \u001b[39m\u001b[92m+ Pixman_jll v0.40.0+0\u001b[39m\n",
      " \u001b[90m [ea2cea3b] \u001b[39m\u001b[92m+ Qt5Base_jll v5.15.2+0\u001b[39m\n",
      " \u001b[90m [5c2747f8] \u001b[39m\u001b[92m+ URIs v1.3.0\u001b[39m\n",
      " \u001b[90m [a2964d1f] \u001b[39m\u001b[92m+ Wayland_jll v1.17.0+4\u001b[39m\n",
      " \u001b[90m [2381bf8a] \u001b[39m\u001b[92m+ Wayland_protocols_jll v1.25.0+0\u001b[39m\n",
      " \u001b[90m [aed1982a] \u001b[39m\u001b[92m+ XSLT_jll v1.1.33+4\u001b[39m\n",
      " \u001b[90m [4f6342f7] \u001b[39m\u001b[92m+ Xorg_libX11_jll v1.6.9+4\u001b[39m\n",
      " \u001b[90m [0c0b7dd1] \u001b[39m\u001b[92m+ Xorg_libXau_jll v1.0.9+4\u001b[39m\n",
      " \u001b[90m [935fb764] \u001b[39m\u001b[92m+ Xorg_libXcursor_jll v1.2.0+4\u001b[39m\n",
      " \u001b[90m [a3789734] \u001b[39m\u001b[92m+ Xorg_libXdmcp_jll v1.1.3+4\u001b[39m\n",
      " \u001b[90m [1082639a] \u001b[39m\u001b[92m+ Xorg_libXext_jll v1.3.4+4\u001b[39m\n",
      " \u001b[90m [d091e8ba] \u001b[39m\u001b[92m+ Xorg_libXfixes_jll v5.0.3+4\u001b[39m\n",
      " \u001b[90m [a51aa0fd] \u001b[39m\u001b[92m+ Xorg_libXi_jll v1.7.10+4\u001b[39m\n",
      " \u001b[90m [d1454406] \u001b[39m\u001b[92m+ Xorg_libXinerama_jll v1.1.4+4\u001b[39m\n",
      " \u001b[90m [ec84b674] \u001b[39m\u001b[92m+ Xorg_libXrandr_jll v1.5.2+4\u001b[39m\n",
      " \u001b[90m [ea2f1a96] \u001b[39m\u001b[92m+ Xorg_libXrender_jll v0.9.10+4\u001b[39m\n",
      " \u001b[90m [14d82f49] \u001b[39m\u001b[92m+ Xorg_libpthread_stubs_jll v0.1.0+3\u001b[39m\n",
      " \u001b[90m [c7cfdc94] \u001b[39m\u001b[92m+ Xorg_libxcb_jll v1.13.0+3\u001b[39m\n",
      " \u001b[90m [cc61e674] \u001b[39m\u001b[92m+ Xorg_libxkbfile_jll v1.1.0+4\u001b[39m\n",
      " \u001b[90m [12413925] \u001b[39m\u001b[92m+ Xorg_xcb_util_image_jll v0.4.0+1\u001b[39m\n",
      " \u001b[90m [2def613f] \u001b[39m\u001b[92m+ Xorg_xcb_util_jll v0.4.0+1\u001b[39m\n",
      " \u001b[90m [975044d2] \u001b[39m\u001b[92m+ Xorg_xcb_util_keysyms_jll v0.4.0+1\u001b[39m\n",
      " \u001b[90m [0d47668e] \u001b[39m\u001b[92m+ Xorg_xcb_util_renderutil_jll v0.3.9+1\u001b[39m\n",
      " \u001b[90m [c22f9ab0] \u001b[39m\u001b[92m+ Xorg_xcb_util_wm_jll v0.4.1+1\u001b[39m\n",
      " \u001b[90m [35661453] \u001b[39m\u001b[92m+ Xorg_xkbcomp_jll v1.4.2+4\u001b[39m\n",
      " \u001b[90m [33bec58e] \u001b[39m\u001b[92m+ Xorg_xkeyboard_config_jll v2.27.0+4\u001b[39m\n",
      " \u001b[90m [c5fb5394] \u001b[39m\u001b[92m+ Xorg_xtrans_jll v1.4.0+3\u001b[39m\n",
      " \u001b[90m [3161d3a3] \u001b[39m\u001b[92m+ Zstd_jll v1.4.8+0\u001b[39m\n",
      " \u001b[90m [0ac62f75] \u001b[39m\u001b[92m+ libass_jll v0.14.0+4\u001b[39m\n",
      " \u001b[90m [f638f0a6] \u001b[39m\u001b[92m+ libfdk_aac_jll v0.1.6+4\u001b[39m\n",
      " \u001b[90m [b53b4c65] \u001b[39m\u001b[92m+ libpng_jll v1.6.37+6\u001b[39m\n",
      " \u001b[90m [f27f6e37] \u001b[39m\u001b[92m+ libvorbis_jll v1.3.6+6\u001b[39m\n",
      " \u001b[90m [1270edf5] \u001b[39m\u001b[92m+ x264_jll v2020.7.14+2\u001b[39m\n",
      " \u001b[90m [dfaa095f] \u001b[39m\u001b[92m+ x265_jll v3.0.0+3\u001b[39m\n",
      " \u001b[90m [d8fb68d0] \u001b[39m\u001b[92m+ xkbcommon_jll v0.9.1+5\u001b[39m\n",
      "\u001b[32m\u001b[1m   Building\u001b[22m\u001b[39m GR → `~/.julia/packages/GR/4DHy8/deps/build.log`\n",
      "\u001b[32m\u001b[1m  Resolving\u001b[22m\u001b[39m package versions...\n",
      "\u001b[32m\u001b[1m  Installed\u001b[22m\u001b[39m DiffRules ─── v1.12.2\n",
      "\u001b[32m\u001b[1m  Installed\u001b[22m\u001b[39m ForwardDiff ─ v0.10.33\n",
      "\u001b[32m\u001b[1mUpdating\u001b[22m\u001b[39m `~/code/Horizontal_Proper/Example/CentJulEnv/Project.toml`\n",
      " \u001b[90m [4076af6c] \u001b[39m\u001b[92m+ JuMP v0.22.3\u001b[39m\n",
      "\u001b[32m\u001b[1mUpdating\u001b[22m\u001b[39m `~/code/Horizontal_Proper/Example/CentJulEnv/Manifest.toml`\n",
      " \u001b[90m [49dc2e85] \u001b[39m\u001b[92m+ Calculus v0.5.1\u001b[39m\n",
      " \u001b[90m [bbf7d656] \u001b[39m\u001b[92m+ CommonSubexpressions v0.3.0\u001b[39m\n",
      " \u001b[90m [163ba53b] \u001b[39m\u001b[92m+ DiffResults v1.0.3\u001b[39m\n",
      " \u001b[90m [b552c78f] \u001b[39m\u001b[92m+ DiffRules v1.12.2\u001b[39m\n",
      " \u001b[90m [f6369f11] \u001b[39m\u001b[92m+ ForwardDiff v0.10.33\u001b[39m\n",
      " \u001b[90m [4076af6c] \u001b[39m\u001b[92m+ JuMP v0.22.3\u001b[39m\n",
      "\u001b[32m\u001b[1m  Resolving\u001b[22m\u001b[39m package versions...\n"
     ]
    },
    {
     "name": "stdout",
     "output_type": "stream",
     "text": [
      "Activating the Julia virtual environment\n"
     ]
    },
    {
     "name": "stderr",
     "output_type": "stream",
     "text": [
      "\u001b[32m\u001b[1mUpdating\u001b[22m\u001b[39m `~/code/Horizontal_Proper/Example/CentJulEnv/Project.toml`\n",
      " \u001b[90m [82193955] \u001b[39m\u001b[92m+ SCIP v0.10.0\u001b[39m\n",
      "\u001b[32m\u001b[1mUpdating\u001b[22m\u001b[39m `~/code/Horizontal_Proper/Example/CentJulEnv/Manifest.toml`\n",
      " \u001b[90m [82193955] \u001b[39m\u001b[92m+ SCIP v0.10.0\u001b[39m\n",
      " \u001b[90m [e5ac4fe4] \u001b[39m\u001b[92m+ SCIP_jll v0.1.3+0\u001b[39m\n",
      " \u001b[90m [508c9074] \u001b[39m\u001b[92m+ bliss_jll v0.73.0+1\u001b[39m\n"
     ]
    },
    {
     "name": "stdout",
     "output_type": "stream",
     "text": [
      "\u001b[32m\u001b[1mStatus\u001b[22m\u001b[39m `~/code/Horizontal_Proper/Example/CentJulEnv/Project.toml`\n",
      " \u001b[90m [6e4b80f9] \u001b[39m\u001b[37mBenchmarkTools v1.3.2\u001b[39m\n",
      " \u001b[90m [336ed68f] \u001b[39m\u001b[37mCSV v0.8.2\u001b[39m\n",
      " \u001b[90m [9961bab8] \u001b[39m\u001b[37mCbc v0.9.1\u001b[39m\n",
      " \u001b[90m [e2554f3b] \u001b[39m\u001b[37mClp v0.9.1\u001b[39m\n",
      " \u001b[90m [a93c6f00] \u001b[39m\u001b[37mDataFrames v0.22.7\u001b[39m\n",
      " \u001b[90m [864edb3b] \u001b[39m\u001b[37mDataStructures v0.18.13\u001b[39m\n",
      " \u001b[90m [60bf3e95] \u001b[39m\u001b[37mGLPK v0.15.3\u001b[39m\n",
      " \u001b[90m [87dc4568] \u001b[39m\u001b[37mHiGHS v0.3.0\u001b[39m\n",
      " \u001b[90m [7073ff75] \u001b[39m\u001b[37mIJulia v1.23.3\u001b[39m\n",
      " \u001b[90m [b6b21f68] \u001b[39m\u001b[37mIpopt v0.9.1\u001b[39m\n",
      " \u001b[90m [4076af6c] \u001b[39m\u001b[37mJuMP v0.22.3\u001b[39m\n",
      " \u001b[90m [b8f27783] \u001b[39m\u001b[37mMathOptInterface v0.10.9\u001b[39m\n",
      " \u001b[90m [fdba3010] \u001b[39m\u001b[37mMathProgBase v0.7.8\u001b[39m\n",
      " \u001b[90m [91a5bcdd] \u001b[39m\u001b[37mPlots v1.15.2\u001b[39m\n",
      " \u001b[90m [731186ca] \u001b[39m\u001b[37mRecursiveArrayTools v2.20.0\u001b[39m\n",
      " \u001b[90m [82193955] \u001b[39m\u001b[37mSCIP v0.10.0\u001b[39m\n",
      " \u001b[90m [2913bbd2] \u001b[39m\u001b[37mStatsBase v0.33.21\u001b[39m\n",
      " \u001b[90m [fdbf4ff8] \u001b[39m\u001b[37mXLSX v0.8.4\u001b[39m\n",
      " \u001b[90m [ddb6d928] \u001b[39m\u001b[37mYAML v0.4.8\u001b[39m\n",
      " \u001b[90m [ade2ca70] \u001b[39m\u001b[37mDates\u001b[39m\n",
      " \u001b[90m [37e2e46d] \u001b[39m\u001b[37mLinearAlgebra\u001b[39m\n",
      " \u001b[90m [10745b16] \u001b[39m\u001b[37mStatistics\u001b[39m\n"
     ]
    }
   ],
   "source": [
    "# activate julia environment in a controlled way\n",
    "julia_environment = \"../central_control_PyJuMP/Julia_src/activate.jl\"\n",
    "include(julia_environment)"
   ]
  },
  {
   "cell_type": "code",
   "execution_count": 2,
   "metadata": {},
   "outputs": [
    {
     "name": "stderr",
     "output_type": "stream",
     "text": [
      "┌ Info: Precompiling XLSX [fdbf4ff8-1666-58a4-91e7-1b58723a45e0]\n",
      "└ @ Base loading.jl:1278\n",
      "┌ Info: Precompiling CSV [336ed68f-0bac-5ca0-87d4-7b16caf5d00b]\n",
      "└ @ Base loading.jl:1278\n",
      "┌ Info: Precompiling GLPK [60bf3e95-4087-53dc-ae20-288a0d20c6a6]\n",
      "└ @ Base loading.jl:1278\n",
      "┌ Info: Precompiling DataFrames [a93c6f00-e57d-5684-b7b6-d8193f3e46c0]\n",
      "└ @ Base loading.jl:1278\n",
      "┌ Info: Precompiling JuMP [4076af6c-e467-56ae-b986-b466b2749572]\n",
      "└ @ Base loading.jl:1278\n"
     ]
    }
   ],
   "source": [
    "using XLSX\n",
    "using CSV\n",
    "using GLPK\n",
    "using DataFrames\n",
    "using JuMP"
   ]
  },
  {
   "cell_type": "code",
   "execution_count": 5,
   "metadata": {},
   "outputs": [
    {
     "name": "stdout",
     "output_type": "stream",
     "text": [
      "\u001b[32m\u001b[1mStatus\u001b[22m\u001b[39m `~/code/Horizontal_Proper/Example/CentJulEnv/Project.toml`\n",
      " \u001b[90m [6e4b80f9] \u001b[39m\u001b[37mBenchmarkTools v1.3.2\u001b[39m\n",
      " \u001b[90m [336ed68f] \u001b[39m\u001b[37mCSV v0.8.2\u001b[39m\n",
      " \u001b[90m [9961bab8] \u001b[39m\u001b[37mCbc v0.9.1\u001b[39m\n",
      " \u001b[90m [e2554f3b] \u001b[39m\u001b[37mClp v0.9.1\u001b[39m\n",
      " \u001b[90m [a93c6f00] \u001b[39m\u001b[37mDataFrames v0.22.7\u001b[39m\n",
      " \u001b[90m [864edb3b] \u001b[39m\u001b[37mDataStructures v0.18.13\u001b[39m\n",
      " \u001b[90m [60bf3e95] \u001b[39m\u001b[37mGLPK v0.15.3\u001b[39m\n",
      " \u001b[90m [87dc4568] \u001b[39m\u001b[37mHiGHS v0.3.0\u001b[39m\n",
      " \u001b[90m [7073ff75] \u001b[39m\u001b[37mIJulia v1.23.3\u001b[39m\n",
      " \u001b[90m [b6b21f68] \u001b[39m\u001b[37mIpopt v0.9.1\u001b[39m\n",
      " \u001b[90m [4076af6c] \u001b[39m\u001b[37mJuMP v0.22.3\u001b[39m\n",
      " \u001b[90m [b8f27783] \u001b[39m\u001b[37mMathOptInterface v0.10.9\u001b[39m\n",
      " \u001b[90m [fdba3010] \u001b[39m\u001b[37mMathProgBase v0.7.8\u001b[39m\n",
      " \u001b[90m [91a5bcdd] \u001b[39m\u001b[37mPlots v1.15.2\u001b[39m\n",
      " \u001b[90m [731186ca] \u001b[39m\u001b[37mRecursiveArrayTools v2.20.0\u001b[39m\n",
      " \u001b[90m [82193955] \u001b[39m\u001b[37mSCIP v0.10.0\u001b[39m\n",
      " \u001b[90m [2913bbd2] \u001b[39m\u001b[37mStatsBase v0.33.21\u001b[39m\n",
      " \u001b[90m [fdbf4ff8] \u001b[39m\u001b[37mXLSX v0.8.4\u001b[39m\n",
      " \u001b[90m [ddb6d928] \u001b[39m\u001b[37mYAML v0.4.8\u001b[39m\n",
      " \u001b[90m [ade2ca70] \u001b[39m\u001b[37mDates\u001b[39m\n",
      " \u001b[90m [37e2e46d] \u001b[39m\u001b[37mLinearAlgebra\u001b[39m\n",
      " \u001b[90m [10745b16] \u001b[39m\u001b[37mStatistics\u001b[39m\n"
     ]
    }
   ],
   "source": [
    "Pkg.status()\n"
   ]
  },
  {
   "cell_type": "markdown",
   "metadata": {},
   "source": [
    "#### The next code block reads the different files corresponding to shared candidate lines, internal candidate lines, shared existing lines, internal existing lines, generators, and load"
   ]
  },
  {
   "cell_type": "code",
   "execution_count": 3,
   "metadata": {},
   "outputs": [
    {
     "data": {
      "text/html": [
       "<table class=\"data-frame\"><thead><tr><th></th><th>Zone</th><th>Nodes_Total</th></tr><tr><th></th><th>Int64</th><th>Int64</th></tr></thead><tbody><p>3 rows × 2 columns</p><tr><th>1</th><td>1</td><td>14</td></tr><tr><th>2</th><td>2</td><td>30</td></tr><tr><th>3</th><td>3</td><td>5</td></tr></tbody></table>"
      ],
      "text/latex": [
       "\\begin{tabular}{r|cc}\n",
       "\t& Zone & Nodes\\_Total\\\\\n",
       "\t\\hline\n",
       "\t& Int64 & Int64\\\\\n",
       "\t\\hline\n",
       "\t1 & 1 & 14 \\\\\n",
       "\t2 & 2 & 30 \\\\\n",
       "\t3 & 3 & 5 \\\\\n",
       "\\end{tabular}\n"
      ],
      "text/plain": [
       "\u001b[1m3×2 DataFrame\u001b[0m\n",
       "\u001b[1m Row \u001b[0m│\u001b[1m Zone  \u001b[0m\u001b[1m Nodes_Total \u001b[0m\n",
       "\u001b[1m     \u001b[0m│\u001b[90m Int64 \u001b[0m\u001b[90m Int64       \u001b[0m\n",
       "─────┼────────────────────\n",
       "   1 │     1           14\n",
       "   2 │     2           30\n",
       "   3 │     3            5"
      ]
     },
     "execution_count": 3,
     "metadata": {},
     "output_type": "execute_result"
    }
   ],
   "source": [
    "shared_cand = DataFrame(XLSX.readtable(\"../Input_Data/CandLine.csv\", \"Taul1\", header=true)) #Dataframe of shared candidate lines\n",
    "int_cand =  DataFrame(XLSX.readtable(\"../Input_Data/CandLineInt.csv\", \"Taul1\", header=true)) #Dataframe of internal candidate lines\n",
    "shared_ex =  DataFrame(XLSX.readtable(\"../Input_Data/SharedEline.csv\", \"Taul1\", header=true)) #Dataframe of shared existing lines\n",
    "int_ex = DataFrame(XLSX.readtable(\"../Input_Data/Tran.csv\", \"Taul1\", header=true)) #Dataframe of internal existing lines\n",
    "gen =  DataFrame(XLSX.readtable(\"../Input_Data/Gen.csv\" , \"Taul1\", header=true)) #Dataframe of generators\n",
    "load =  DataFrame(XLSX.readtable(\"../Input_Data/Load.csv\", \"Taul1\", header=true)) #Dataframe of loads\n",
    "scen_prob = DataFrame(CSV.File(\"../Input_Data/Scenario_Probability.csv\", header=true)) #Dataframe of scenario probabilities\n",
    "zone_summary = DataFrame(CSV.File(\"../Input_Data/Zone_Summary.csv\", header=true)) #Dataframe of region-number of nodes"
   ]
  },
  {
   "cell_type": "markdown",
   "metadata": {},
   "source": [
    "#### The following code-section constructs several DataFrames for each zone or region, for loads within a particular zone, generators within a particular zone, shared candidate lines originating from or terminating within a particular zone, internal candidate lines within a particular zone, shared existing lines originating from or terminating within a particular zone, internal existing lines within a particular zone, marginal costs of generators within a particular zone, and two binary vectors for each zone, one for checking which all shared candidate lines belong to a particular zone and the other for checking which all shared existing lines belong to a particular zone."
   ]
  },
  {
   "cell_type": "code",
   "execution_count": 4,
   "metadata": {},
   "outputs": [
    {
     "data": {
      "text/plain": [
       "scen_weight (generic function with 1 method)"
      ]
     },
     "execution_count": 4,
     "metadata": {},
     "output_type": "execute_result"
    }
   ],
   "source": [
    "l(i,s) = load[load.zoneNum .== i, [1,2,s+2]] # load within zone i\n",
    "g(i) = gen[gen.zoneNum .== i, :]   # generators within zone i\n",
    "shared_c(i) = vcat(shared_cand[shared_cand.nodeZone1 .== i,:] , shared_cand[shared_cand.nodeZone2 .== i, :]) #shared candidate lines within zone i\n",
    "int_c(i) = int_cand[int_cand.zoneNum .== i, :]   # number of internal candidate lines within zone i\n",
    "shared_e(i) = vcat(shared_ex[shared_ex.nodeZone1 .== i,:] , shared_ex[shared_ex.nodeZone2 .== i, :]) #shared existing lines within zone i\n",
    "int_e(i) =int_ex[int_ex.zoneNum .== i, :]       # internal existing lines within zone i\n",
    "MC(i) = (g(i).C2 .* (g(i).PgMax .^ 2) .+ g(i).C1 .* g(i).PgMax .- g(i).C2 .*(g(i).PgMin .^ 2) .- g(i).C1.* g(i).PgMin) ./ (g(i).PgMax .- g(i).PgMin) #Marginal cost of generators within zone i\n",
    "bin_c(i) = (shared_cand.nodeZone1 .== i) + (shared_cand.nodeZone2 .== i) # A binary vector through which we can check if the shared candidate lines belong to zone i\n",
    "bin_e(i) = (shared_ex.nodeZone1 .== i) + (shared_ex.nodeZone2 .== i) # A binary vector through which we can check if the shared existing lines belong to zone i\n",
    "scen_weight(s) = scen_prob.scen_weight[scen_prob.scenario .== s,:]"
   ]
  },
  {
   "cell_type": "markdown",
   "metadata": {},
   "source": [
    "#### Constructing the optimization model with a specified solver"
   ]
  },
  {
   "cell_type": "code",
   "execution_count": 6,
   "metadata": {},
   "outputs": [
    {
     "data": {
      "text/plain": [
       "A JuMP Model\n",
       "Feasibility problem with:\n",
       "Variables: 0\n",
       "Model mode: AUTOMATIC\n",
       "CachingOptimizer state: EMPTY_OPTIMIZER\n",
       "Solver name: GLPK"
      ]
     },
     "execution_count": 6,
     "metadata": {},
     "output_type": "execute_result"
    }
   ],
   "source": [
    "Mod3 = Model(GLPK.Optimizer) #use different solver e.g. IPOPT, GLPK"
   ]
  },
  {
   "cell_type": "code",
   "execution_count": 7,
   "metadata": {},
   "outputs": [],
   "source": [
    "zone_number = 3; #number of zones to consider"
   ]
  },
  {
   "cell_type": "code",
   "execution_count": 8,
   "metadata": {},
   "outputs": [
    {
     "data": {
      "text/plain": [
       "7×4 Array{VariableRef,2}:\n",
       " int_ex_flow_3[1,1]  int_ex_flow_3[1,2]  …  int_ex_flow_3[1,4]\n",
       " int_ex_flow_3[2,1]  int_ex_flow_3[2,2]     int_ex_flow_3[2,4]\n",
       " int_ex_flow_3[3,1]  int_ex_flow_3[3,2]     int_ex_flow_3[3,4]\n",
       " int_ex_flow_3[4,1]  int_ex_flow_3[4,2]     int_ex_flow_3[4,4]\n",
       " int_ex_flow_3[5,1]  int_ex_flow_3[5,2]     int_ex_flow_3[5,4]\n",
       " int_ex_flow_3[6,1]  int_ex_flow_3[6,2]  …  int_ex_flow_3[6,4]\n",
       " int_ex_flow_3[7,1]  int_ex_flow_3[7,2]     int_ex_flow_3[7,4]"
      ]
     },
     "execution_count": 8,
     "metadata": {},
     "output_type": "execute_result"
    }
   ],
   "source": [
    "@variable(Mod3,0 <= gen_var_1[1:14,1:nrow(scen_prob)]) # generation at node 1\n",
    "@variable(Mod3,0 <= gen_var_2[1:30,1:nrow(scen_prob)]) # generation at node 2\n",
    "@variable(Mod3,0 <= gen_var_3[1:5,1:nrow(scen_prob)]) # generation at node 3\n",
    "\n",
    "@variable(Mod3,shared_line_decision_var[1:nrow(shared_cand)], Bin) #Decision variable for shared candidate lines\n",
    "\n",
    "@variable(Mod3,int_line_decision_var_1[1:nrow(int_c(1))], Bin) #Decision variable for internal candidate lines of zone 1 (Binary)\n",
    "@variable(Mod3,int_line_decision_var_2[1:nrow(int_c(2))], Bin) #Decision variable for internal candidate lines of zone 2 (Binary)\n",
    "@variable(Mod3,int_line_decision_var_3[1:nrow(int_c(3))], Bin) #Decision variable for internal candidate lines of zone 3 (Binary)\n",
    "\n",
    "@variable(Mod3,shared_cand_flow[1:nrow(shared_cand),1:nrow(scen_prob)])  #Power flowing on shared candidate lines \n",
    "\n",
    "@variable(Mod3, int_cand_flow_1[1:nrow(int_c(1)),1:nrow(scen_prob)]) #Power flowing on internal candidate lines of zone 1 \n",
    "@variable(Mod3, int_cand_flow_2[1:nrow(int_c(2)),1:nrow(scen_prob)]) #Power flowing on internal candidate lines of zone 2\n",
    "@variable(Mod3, int_cand_flow_3[1:nrow(int_c(3)),1:nrow(scen_prob)]) #Power flowing on internal candidate lines of zone 3\n",
    "\n",
    "@variable(Mod3, 0 <= node_voltage_phase_angle[i=1:nrow(zone_summary),j=1:zone_summary.Nodes_Total[i], 1:nrow(scen_prob)]<= 2*pi)\n",
    "\n",
    "@variable(Mod3, shared_ex_flow[1:nrow(shared_ex),1:nrow(scen_prob)])  #Power flowing on shared existing shared lines\n",
    "\n",
    "@variable(Mod3, int_ex_flow_1[1:nrow(int_e(1)),1:nrow(scen_prob)])  #Power flowing on internal existing lines of zone 1 \n",
    "@variable(Mod3, int_ex_flow_2[1:nrow(int_e(2)),1:nrow(scen_prob)])  #Power flowing on internal existing lines of zone 2\n",
    "@variable(Mod3, int_ex_flow_3[1:nrow(int_e(3)),1:nrow(scen_prob)])  #Power flowing on internal existing lines of zone 3\n"
   ]
  },
  {
   "cell_type": "code",
   "execution_count": 9,
   "metadata": {},
   "outputs": [
    {
     "data": {
      "text/plain": [
       "0"
      ]
     },
     "execution_count": 9,
     "metadata": {},
     "output_type": "execute_result"
    }
   ],
   "source": [
    "@expression(Mod3,total_cost,0)"
   ]
  },
  {
   "cell_type": "code",
   "execution_count": 10,
   "metadata": {},
   "outputs": [
    {
     "data": {
      "text/plain": [
       "4-element Array{GenericAffExpr{Float64,VariableRef},1}:\n",
       " 8.57573483 gen_var_1[1,1] + 13.75 gen_var_1[2,1]\n",
       " 8.57573483 gen_var_1[1,2] + 13.75 gen_var_1[2,2]\n",
       " 8.57573483 gen_var_1[1,3] + 13.75 gen_var_1[2,3]\n",
       " 8.57573483 gen_var_1[1,4] + 13.75 gen_var_1[2,4]"
      ]
     },
     "execution_count": 10,
     "metadata": {},
     "output_type": "execute_result"
    }
   ],
   "source": [
    "@expression(Mod3, gen_costNS1[n=1:14,s=1:nrow(scen_prob)], (gen_var_1[n,s] .* sum((g(1).gNodeID .== n) .* MC(1))))\n",
    "@expression(Mod3, gen_cost_prob_weightedS1[s=1:nrow(scen_prob)], (scen_weight(s)[1]).*sum(gen_costNS1[n,s] for n in 1:14))"
   ]
  },
  {
   "cell_type": "code",
   "execution_count": 11,
   "metadata": {},
   "outputs": [
    {
     "data": {
      "text/latex": [
       "$$ 8.57573483 gen\\_var\\_1_{1,1} + 13.75 gen\\_var\\_1_{2,1} + 8.57573483 gen\\_var\\_1_{1,2} + 13.75 gen\\_var\\_1_{2,2} + 8.57573483 gen\\_var\\_1_{1,3} + 13.75 gen\\_var\\_1_{2,3} + 8.57573483 gen\\_var\\_1_{1,4} + 13.75 gen\\_var\\_1_{2,4} $$"
      ],
      "text/plain": [
       "8.57573483 gen_var_1[1,1] + 13.75 gen_var_1[2,1] + 8.57573483 gen_var_1[1,2] + 13.75 gen_var_1[2,2] + 8.57573483 gen_var_1[1,3] + 13.75 gen_var_1[2,3] + 8.57573483 gen_var_1[1,4] + 13.75 gen_var_1[2,4]"
      ]
     },
     "execution_count": 11,
     "metadata": {},
     "output_type": "execute_result"
    }
   ],
   "source": [
    "@expression(Mod3, gen_cost_expected1, sum(gen_cost_prob_weightedS1[s] for s in 1:nrow(scen_prob)))\n",
    "Mod3[:total_cost] += gen_cost_expected1"
   ]
  },
  {
   "cell_type": "code",
   "execution_count": 12,
   "metadata": {},
   "outputs": [
    {
     "data": {
      "text/plain": [
       "30×4 Array{GenericAffExpr{Float64,VariableRef},2}:\n",
       " 3.6 gen_var_2[1,1]     3.6 gen_var_2[1,2]     …  3.6 gen_var_2[1,4]\n",
       " 3.15 gen_var_2[2,1]    3.15 gen_var_2[2,2]       3.15 gen_var_2[2,4]\n",
       " 0                      0                         0\n",
       " 0                      0                         0\n",
       " 0                      0                         0\n",
       " 0                      0                      …  0\n",
       " 0                      0                         0\n",
       " 0                      0                         0\n",
       " 0                      0                         0\n",
       " 0                      0                         0\n",
       " 0                      0                      …  0\n",
       " 0                      0                         0\n",
       " 3.5 gen_var_2[13,1]    3.5 gen_var_2[13,2]       3.5 gen_var_2[13,4]\n",
       " ⋮                                             ⋱  \n",
       " 0                      0                         0\n",
       " 0                      0                         0\n",
       " 0                      0                      …  0\n",
       " 3.667 gen_var_2[22,1]  3.667 gen_var_2[22,2]     3.667 gen_var_2[22,4]\n",
       " 3.75 gen_var_2[23,1]   3.75 gen_var_2[23,2]      3.75 gen_var_2[23,4]\n",
       " 0                      0                         0\n",
       " 0                      0                         0\n",
       " 0                      0                      …  0\n",
       " 4.375 gen_var_2[27,1]  4.375 gen_var_2[27,2]     4.375 gen_var_2[27,4]\n",
       " 0                      0                         0\n",
       " 0                      0                         0\n",
       " 0                      0                         0"
      ]
     },
     "execution_count": 12,
     "metadata": {},
     "output_type": "execute_result"
    }
   ],
   "source": [
    "@expression(Mod3, gen_costNS2[n=1:30,s=1:nrow(scen_prob)], (gen_var_2[n,s] .* sum((g(2).gNodeID .== n) .* MC(2))))"
   ]
  },
  {
   "cell_type": "code",
   "execution_count": 13,
   "metadata": {},
   "outputs": [
    {
     "data": {
      "text/plain": [
       "4-element Array{GenericAffExpr{Float64,VariableRef},1}:\n",
       " 0.9 gen_var_2[1,1] + 0.7875 gen_var_2[2,1] + 0.875 gen_var_2[13,1] + 0.91675 gen_var_2[22,1] + 0.9375 gen_var_2[23,1] + 1.09375 gen_var_2[27,1]\n",
       " 0.9 gen_var_2[1,2] + 0.7875 gen_var_2[2,2] + 0.875 gen_var_2[13,2] + 0.91675 gen_var_2[22,2] + 0.9375 gen_var_2[23,2] + 1.09375 gen_var_2[27,2]\n",
       " 0.9 gen_var_2[1,3] + 0.7875 gen_var_2[2,3] + 0.875 gen_var_2[13,3] + 0.91675 gen_var_2[22,3] + 0.9375 gen_var_2[23,3] + 1.09375 gen_var_2[27,3]\n",
       " 0.9 gen_var_2[1,4] + 0.7875 gen_var_2[2,4] + 0.875 gen_var_2[13,4] + 0.91675 gen_var_2[22,4] + 0.9375 gen_var_2[23,4] + 1.09375 gen_var_2[27,4]"
      ]
     },
     "execution_count": 13,
     "metadata": {},
     "output_type": "execute_result"
    }
   ],
   "source": [
    "@expression(Mod3, gen_cost_prob_weightedS2[s=1:nrow(scen_prob)], (scen_weight(s)[1]).*sum(gen_costNS2[n,s] for n in 1:30))"
   ]
  },
  {
   "cell_type": "code",
   "execution_count": 14,
   "metadata": {},
   "outputs": [
    {
     "data": {
      "text/latex": [
       "$$ 0.9 gen\\_var\\_2_{1,1} + 0.7875 gen\\_var\\_2_{2,1} + 0.875 gen\\_var\\_2_{13,1} + 0.91675 gen\\_var\\_2_{22,1} + 0.9375 gen\\_var\\_2_{23,1} + 1.09375 gen\\_var\\_2_{27,1} + 0.9 gen\\_var\\_2_{1,2} + 0.7875 gen\\_var\\_2_{2,2} + 0.875 gen\\_var\\_2_{13,2} + 0.91675 gen\\_var\\_2_{22,2} + 0.9375 gen\\_var\\_2_{23,2} + 1.09375 gen\\_var\\_2_{27,2} + 0.9 gen\\_var\\_2_{1,3} + 0.7875 gen\\_var\\_2_{2,3} + 0.875 gen\\_var\\_2_{13,3} + 0.91675 gen\\_var\\_2_{22,3} + 0.9375 gen\\_var\\_2_{23,3} + 1.09375 gen\\_var\\_2_{27,3} + 0.9 gen\\_var\\_2_{1,4} + 0.7875 gen\\_var\\_2_{2,4} + 0.875 gen\\_var\\_2_{13,4} + 0.91675 gen\\_var\\_2_{22,4} + 0.9375 gen\\_var\\_2_{23,4} + 1.09375 gen\\_var\\_2_{27,4} $$"
      ],
      "text/plain": [
       "0.9 gen_var_2[1,1] + 0.7875 gen_var_2[2,1] + 0.875 gen_var_2[13,1] + 0.91675 gen_var_2[22,1] + 0.9375 gen_var_2[23,1] + 1.09375 gen_var_2[27,1] + 0.9 gen_var_2[1,2] + 0.7875 gen_var_2[2,2] + 0.875 gen_var_2[13,2] + 0.91675 gen_var_2[22,2] + 0.9375 gen_var_2[23,2] + 1.09375 gen_var_2[27,2] + 0.9 gen_var_2[1,3] + 0.7875 gen_var_2[2,3] + 0.875 gen_var_2[13,3] + 0.91675 gen_var_2[22,3] + 0.9375 gen_var_2[23,3] + 1.09375 gen_var_2[27,3] + 0.9 gen_var_2[1,4] + 0.7875 gen_var_2[2,4] + 0.875 gen_var_2[13,4] + 0.91675 gen_var_2[22,4] + 0.9375 gen_var_2[23,4] + 1.09375 gen_var_2[27,4]"
      ]
     },
     "execution_count": 14,
     "metadata": {},
     "output_type": "execute_result"
    }
   ],
   "source": [
    "@expression(Mod3, gen_cost_expected2, sum(gen_cost_prob_weightedS2[s] for s in 1:nrow(scen_prob)))"
   ]
  },
  {
   "cell_type": "code",
   "execution_count": 15,
   "metadata": {},
   "outputs": [
    {
     "data": {
      "text/latex": [
       "$$ 8.57573483 gen\\_var\\_1_{1,1} + 13.75 gen\\_var\\_1_{2,1} + 8.57573483 gen\\_var\\_1_{1,2} + 13.75 gen\\_var\\_1_{2,2} + 8.57573483 gen\\_var\\_1_{1,3} + 13.75 gen\\_var\\_1_{2,3} + 8.57573483 gen\\_var\\_1_{1,4} + 13.75 gen\\_var\\_1_{2,4} + 0.9 gen\\_var\\_2_{1,1} + 0.7875 gen\\_var\\_2_{2,1} + 0.875 gen\\_var\\_2_{13,1} + 0.91675 gen\\_var\\_2_{22,1} + 0.9375 gen\\_var\\_2_{23,1} + 1.09375 gen\\_var\\_2_{27,1} + 0.9 gen\\_var\\_2_{1,2} + 0.7875 gen\\_var\\_2_{2,2} + 0.875 gen\\_var\\_2_{13,2} + 0.91675 gen\\_var\\_2_{22,2} + 0.9375 gen\\_var\\_2_{23,2} + 1.09375 gen\\_var\\_2_{27,2} + 0.9 gen\\_var\\_2_{1,3} + 0.7875 gen\\_var\\_2_{2,3} + 0.875 gen\\_var\\_2_{13,3} + 0.91675 gen\\_var\\_2_{22,3} + 0.9375 gen\\_var\\_2_{23,3} + 1.09375 gen\\_var\\_2_{27,3} + 0.9 gen\\_var\\_2_{1,4} + 0.7875 gen\\_var\\_2_{2,4} + 0.875 gen\\_var\\_2_{13,4} + 0.91675 gen\\_var\\_2_{22,4} + 0.9375 gen\\_var\\_2_{23,4} + 1.09375 gen\\_var\\_2_{27,4} $$"
      ],
      "text/plain": [
       "8.57573483 gen_var_1[1,1] + 13.75 gen_var_1[2,1] + 8.57573483 gen_var_1[1,2] + 13.75 gen_var_1[2,2] + 8.57573483 gen_var_1[1,3] + 13.75 gen_var_1[2,3] + 8.57573483 gen_var_1[1,4] + 13.75 gen_var_1[2,4] + 0.9 gen_var_2[1,1] + 0.7875 gen_var_2[2,1] + 0.875 gen_var_2[13,1] + 0.91675 gen_var_2[22,1] + 0.9375 gen_var_2[23,1] + 1.09375 gen_var_2[27,1] + 0.9 gen_var_2[1,2] + 0.7875 gen_var_2[2,2] + 0.875 gen_var_2[13,2] + 0.91675 gen_var_2[22,2] + 0.9375 gen_var_2[23,2] + 1.09375 gen_var_2[27,2] + 0.9 gen_var_2[1,3] + 0.7875 gen_var_2[2,3] + 0.875 gen_var_2[13,3] + 0.91675 gen_var_2[22,3] + 0.9375 gen_var_2[23,3] + 1.09375 gen_var_2[27,3] + 0.9 gen_var_2[1,4] + 0.7875 gen_var_2[2,4] + 0.875 gen_var_2[13,4] + 0.91675 gen_var_2[22,4] + 0.9375 gen_var_2[23,4] + 1.09375 gen_var_2[27,4]"
      ]
     },
     "execution_count": 15,
     "metadata": {},
     "output_type": "execute_result"
    }
   ],
   "source": [
    "Mod3[:total_cost]+=gen_cost_expected2"
   ]
  },
  {
   "cell_type": "code",
   "execution_count": 16,
   "metadata": {},
   "outputs": [
    {
     "data": {
      "text/plain": [
       "4-element Array{GenericAffExpr{Float64,VariableRef},1}:\n",
       " 4.07573483 gen_var_3[1,1] + 9.25 gen_var_3[2,1]\n",
       " 4.07573483 gen_var_3[1,2] + 9.25 gen_var_3[2,2]\n",
       " 4.07573483 gen_var_3[1,3] + 9.25 gen_var_3[2,3]\n",
       " 4.07573483 gen_var_3[1,4] + 9.25 gen_var_3[2,4]"
      ]
     },
     "execution_count": 16,
     "metadata": {},
     "output_type": "execute_result"
    }
   ],
   "source": [
    "@expression(Mod3, gen_costNS3[n=1:5,s=1:nrow(scen_prob)], (gen_var_3[n,s] .* sum((g(3).gNodeID .== n) .* MC(3))))\n",
    "@expression(Mod3, gen_cost_prob_weightedS3[s=1:nrow(scen_prob)], (scen_weight(s)[1]).*sum(gen_costNS3[n,s] for n in 1:5))"
   ]
  },
  {
   "cell_type": "code",
   "execution_count": 17,
   "metadata": {},
   "outputs": [
    {
     "data": {
      "text/latex": [
       "$$ 4.07573483 gen\\_var\\_3_{1,1} + 9.25 gen\\_var\\_3_{2,1} + 4.07573483 gen\\_var\\_3_{1,2} + 9.25 gen\\_var\\_3_{2,2} + 4.07573483 gen\\_var\\_3_{1,3} + 9.25 gen\\_var\\_3_{2,3} + 4.07573483 gen\\_var\\_3_{1,4} + 9.25 gen\\_var\\_3_{2,4} $$"
      ],
      "text/plain": [
       "4.07573483 gen_var_3[1,1] + 9.25 gen_var_3[2,1] + 4.07573483 gen_var_3[1,2] + 9.25 gen_var_3[2,2] + 4.07573483 gen_var_3[1,3] + 9.25 gen_var_3[2,3] + 4.07573483 gen_var_3[1,4] + 9.25 gen_var_3[2,4]"
      ]
     },
     "execution_count": 17,
     "metadata": {},
     "output_type": "execute_result"
    }
   ],
   "source": [
    "@expression(Mod3, gen_cost_expected3, sum(gen_cost_prob_weightedS3[s] for s in 1:nrow(scen_prob)))"
   ]
  },
  {
   "cell_type": "code",
   "execution_count": 18,
   "metadata": {},
   "outputs": [
    {
     "data": {
      "text/latex": [
       "$$ 8.57573483 gen\\_var\\_1_{1,1} + 13.75 gen\\_var\\_1_{2,1} + 8.57573483 gen\\_var\\_1_{1,2} + 13.75 gen\\_var\\_1_{2,2} + 8.57573483 gen\\_var\\_1_{1,3} + 13.75 gen\\_var\\_1_{2,3} + 8.57573483 gen\\_var\\_1_{1,4} + 13.75 gen\\_var\\_1_{2,4} + 0.9 gen\\_var\\_2_{1,1} + 0.7875 gen\\_var\\_2_{2,1} + 0.875 gen\\_var\\_2_{13,1} + 0.91675 gen\\_var\\_2_{22,1} + 0.9375 gen\\_var\\_2_{23,1} + 1.09375 gen\\_var\\_2_{27,1} + 0.9 gen\\_var\\_2_{1,2} + 0.7875 gen\\_var\\_2_{2,2} + 0.875 gen\\_var\\_2_{13,2} + 0.91675 gen\\_var\\_2_{22,2} + 0.9375 gen\\_var\\_2_{23,2} + 1.09375 gen\\_var\\_2_{27,2} + 0.9 gen\\_var\\_2_{1,3} + 0.7875 gen\\_var\\_2_{2,3} + 0.875 gen\\_var\\_2_{13,3} + 0.91675 gen\\_var\\_2_{22,3} + 0.9375 gen\\_var\\_2_{23,3} + 1.09375 gen\\_var\\_2_{27,3} + 0.9 gen\\_var\\_2_{1,4} + 0.7875 gen\\_var\\_2_{2,4} + 0.875 gen\\_var\\_2_{13,4} + 0.91675 gen\\_var\\_2_{22,4} + 0.9375 gen\\_var\\_2_{23,4} + 1.09375 gen\\_var\\_2_{27,4} + 4.07573483 gen\\_var\\_3_{1,1} + 9.25 gen\\_var\\_3_{2,1} + 4.07573483 gen\\_var\\_3_{1,2} + 9.25 gen\\_var\\_3_{2,2} + 4.07573483 gen\\_var\\_3_{1,3} + 9.25 gen\\_var\\_3_{2,3} + 4.07573483 gen\\_var\\_3_{1,4} + 9.25 gen\\_var\\_3_{2,4} $$"
      ],
      "text/plain": [
       "8.57573483 gen_var_1[1,1] + 13.75 gen_var_1[2,1] + 8.57573483 gen_var_1[1,2] + 13.75 gen_var_1[2,2] + 8.57573483 gen_var_1[1,3] + 13.75 gen_var_1[2,3] + 8.57573483 gen_var_1[1,4] + 13.75 gen_var_1[2,4] + 0.9 gen_var_2[1,1] + 0.7875 gen_var_2[2,1] + 0.875 gen_var_2[13,1] + 0.91675 gen_var_2[22,1] + 0.9375 gen_var_2[23,1] + 1.09375 gen_var_2[27,1] + 0.9 gen_var_2[1,2] + 0.7875 gen_var_2[2,2] + 0.875 gen_var_2[13,2] + 0.91675 gen_var_2[22,2] + 0.9375 gen_var_2[23,2] + 1.09375 gen_var_2[27,2] + 0.9 gen_var_2[1,3] + 0.7875 gen_var_2[2,3] + 0.875 gen_var_2[13,3] + 0.91675 gen_var_2[22,3] + 0.9375 gen_var_2[23,3] + 1.09375 gen_var_2[27,3] + 0.9 gen_var_2[1,4] + 0.7875 gen_var_2[2,4] + 0.875 gen_var_2[13,4] + 0.91675 gen_var_2[22,4] + 0.9375 gen_var_2[23,4] + 1.09375 gen_var_2[27,4] + 4.07573483 gen_var_3[1,1] + 9.25 gen_var_3[2,1] + 4.07573483 gen_var_3[1,2] + 9.25 gen_var_3[2,2] + 4.07573483 gen_var_3[1,3] + 9.25 gen_var_3[2,3] + 4.07573483 gen_var_3[1,4] + 9.25 gen_var_3[2,4]"
      ]
     },
     "execution_count": 18,
     "metadata": {},
     "output_type": "execute_result"
    }
   ],
   "source": [
    "Mod3[:total_cost]+=gen_cost_expected3"
   ]
  },
  {
   "cell_type": "code",
   "execution_count": 19,
   "metadata": {},
   "outputs": [
    {
     "data": {
      "text/latex": [
       "$$ 8.57573483 gen\\_var\\_1_{1,1} + 13.75 gen\\_var\\_1_{2,1} + 8.57573483 gen\\_var\\_1_{1,2} + 13.75 gen\\_var\\_1_{2,2} + 8.57573483 gen\\_var\\_1_{1,3} + 13.75 gen\\_var\\_1_{2,3} + 8.57573483 gen\\_var\\_1_{1,4} + 13.75 gen\\_var\\_1_{2,4} + 0.9 gen\\_var\\_2_{1,1} + 0.7875 gen\\_var\\_2_{2,1} + 0.875 gen\\_var\\_2_{13,1} + 0.91675 gen\\_var\\_2_{22,1} + 0.9375 gen\\_var\\_2_{23,1} + 1.09375 gen\\_var\\_2_{27,1} + 0.9 gen\\_var\\_2_{1,2} + 0.7875 gen\\_var\\_2_{2,2} + 0.875 gen\\_var\\_2_{13,2} + 0.91675 gen\\_var\\_2_{22,2} + 0.9375 gen\\_var\\_2_{23,2} + 1.09375 gen\\_var\\_2_{27,2} + 0.9 gen\\_var\\_2_{1,3} + 0.7875 gen\\_var\\_2_{2,3} + 0.875 gen\\_var\\_2_{13,3} + 0.91675 gen\\_var\\_2_{22,3} + 0.9375 gen\\_var\\_2_{23,3} + 1.09375 gen\\_var\\_2_{27,3} + 0.9 gen\\_var\\_2_{1,4} + 0.7875 gen\\_var\\_2_{2,4} + 0.875 gen\\_var\\_2_{13,4} + 0.91675 gen\\_var\\_2_{22,4} + 0.9375 gen\\_var\\_2_{23,4} + 1.09375 gen\\_var\\_2_{27,4} + 4.07573483 gen\\_var\\_3_{1,1} + 9.25 gen\\_var\\_3_{2,1} + 4.07573483 gen\\_var\\_3_{1,2} + 9.25 gen\\_var\\_3_{2,2} + 4.07573483 gen\\_var\\_3_{1,3} + 9.25 gen\\_var\\_3_{2,3} + 4.07573483 gen\\_var\\_3_{1,4} + 9.25 gen\\_var\\_3_{2,4} + 0.2410176361372405 shared\\_line\\_decision\\_var_{1} + 0.19594024895900847 shared\\_line\\_decision\\_var_{2} + 0.44297470440637654 shared\\_line\\_decision\\_var_{3} + 0.6532451422553538 shared\\_line\\_decision\\_var_{4} + 0.1533748593600621 shared\\_line\\_decision\\_var_{5} + 0.34289543567826486 shared\\_line\\_decision\\_var_{6} + 0.1533748593600621 int\\_line\\_decision\\_var\\_1_{1} + 0.34289543567826486 int\\_line\\_decision\\_var\\_1_{2} + 0.2519729832343877 int\\_line\\_decision\\_var\\_1_{3} + 0.21553427385490934 int\\_line\\_decision\\_var\\_1_{4} + 0.44297470440637654 int\\_line\\_decision\\_var\\_1_{5} + 6.532451422553539 int\\_line\\_decision\\_var\\_1_{6} + 1.5337485936006214 int\\_line\\_decision\\_var\\_1_{7} + 3.673879667981409 int\\_line\\_decision\\_var\\_1_{8} + 2.355399625886668 int\\_line\\_decision\\_var\\_1_{9} + 2.400268049747854 int\\_line\\_decision\\_var\\_1_{10} + 1.5337485936006214 int\\_line\\_decision\\_var\\_2_{1} + 3.7718497924609133 int\\_line\\_decision\\_var\\_2_{2} + 2.9579437162297695 int\\_line\\_decision\\_var\\_2_{3} + 1.175641493754051 int\\_line\\_decision\\_var\\_2_{4} + 4.429747044063765 int\\_line\\_decision\\_var\\_2_{5} + 6.532451422553539 int\\_line\\_decision\\_var\\_2_{6} + 1.5337485936006214 int\\_line\\_decision\\_var\\_2_{7} + 4.261700414858434 int\\_line\\_decision\\_var\\_2_{8} + 0.2410176361372405 int\\_line\\_decision\\_var\\_2_{9} + 0.26451933609466144 int\\_line\\_decision\\_var\\_2_{10} + 0.44297470440637654 int\\_line\\_decision\\_var\\_2_{11} + 0.6532451422553538 int\\_line\\_decision\\_var\\_2_{12} + 0.44297470440637654 int\\_line\\_decision\\_var\\_2_{13} + 0.6532451422553538 int\\_line\\_decision\\_var\\_2_{14} + 0.1533748593600621 int\\_line\\_decision\\_var\\_2_{15} + 0.323301410782364 int\\_line\\_decision\\_var\\_2_{16} + 0.3505711071087135 int\\_line\\_decision\\_var\\_2_{17} + 4.429747044063765 int\\_line\\_decision\\_var\\_2_{18} + 0.21910694194294586 int\\_line\\_decision\\_var\\_3_{1} + 0.22043278007888453 int\\_line\\_decision\\_var\\_3_{2} $$"
      ],
      "text/plain": [
       "8.57573483 gen_var_1[1,1] + 13.75 gen_var_1[2,1] + 8.57573483 gen_var_1[1,2] + 13.75 gen_var_1[2,2] + 8.57573483 gen_var_1[1,3] + 13.75 gen_var_1[2,3] + 8.57573483 gen_var_1[1,4] + 13.75 gen_var_1[2,4] + 0.9 gen_var_2[1,1] + 0.7875 gen_var_2[2,1] + 0.875 gen_var_2[13,1] + 0.91675 gen_var_2[22,1] + 0.9375 gen_var_2[23,1] + 1.09375 gen_var_2[27,1] + 0.9 gen_var_2[1,2] + 0.7875 gen_var_2[2,2] + 0.875 gen_var_2[13,2] + 0.91675 gen_var_2[22,2] + 0.9375 gen_var_2[23,2] + 1.09375 gen_var_2[27,2] + 0.9 gen_var_2[1,3] + 0.7875 gen_var_2[2,3] + 0.875 gen_var_2[13,3] + 0.91675 gen_var_2[22,3] + 0.9375 gen_var_2[23,3] + 1.09375 gen_var_2[27,3] + 0.9 gen_var_2[1,4] + 0.7875 gen_var_2[2,4] + 0.875 gen_var_2[13,4] + 0.91675 gen_var_2[22,4] + 0.9375 gen_var_2[23,4] + 1.09375 gen_var_2[27,4] + 4.07573483 gen_var_3[1,1] + 9.25 gen_var_3[2,1] + 4.07573483 gen_var_3[1,2] + 9.25 gen_var_3[2,2] + 4.07573483 gen_var_3[1,3] + 9.25 gen_var_3[2,3] + 4.07573483 gen_var_3[1,4] + 9.25 gen_var_3[2,4] + 0.2410176361372405 shared_line_decision_var[1] + 0.19594024895900847 shared_line_decision_var[2] + 0.44297470440637654 shared_line_decision_var[3] + 0.6532451422553538 shared_line_decision_var[4] + 0.1533748593600621 shared_line_decision_var[5] + 0.34289543567826486 shared_line_decision_var[6] + 0.1533748593600621 int_line_decision_var_1[1] + 0.34289543567826486 int_line_decision_var_1[2] + 0.2519729832343877 int_line_decision_var_1[3] + 0.21553427385490934 int_line_decision_var_1[4] + 0.44297470440637654 int_line_decision_var_1[5] + 6.532451422553539 int_line_decision_var_1[6] + 1.5337485936006214 int_line_decision_var_1[7] + 3.673879667981409 int_line_decision_var_1[8] + 2.355399625886668 int_line_decision_var_1[9] + 2.400268049747854 int_line_decision_var_1[10] + 1.5337485936006214 int_line_decision_var_2[1] + 3.7718497924609133 int_line_decision_var_2[2] + 2.9579437162297695 int_line_decision_var_2[3] + 1.175641493754051 int_line_decision_var_2[4] + 4.429747044063765 int_line_decision_var_2[5] + 6.532451422553539 int_line_decision_var_2[6] + 1.5337485936006214 int_line_decision_var_2[7] + 4.261700414858434 int_line_decision_var_2[8] + 0.2410176361372405 int_line_decision_var_2[9] + 0.26451933609466144 int_line_decision_var_2[10] + 0.44297470440637654 int_line_decision_var_2[11] + 0.6532451422553538 int_line_decision_var_2[12] + 0.44297470440637654 int_line_decision_var_2[13] + 0.6532451422553538 int_line_decision_var_2[14] + 0.1533748593600621 int_line_decision_var_2[15] + 0.323301410782364 int_line_decision_var_2[16] + 0.3505711071087135 int_line_decision_var_2[17] + 4.429747044063765 int_line_decision_var_2[18] + 0.21910694194294586 int_line_decision_var_3[1] + 0.22043278007888453 int_line_decision_var_3[2]"
      ]
     },
     "execution_count": 19,
     "metadata": {},
     "output_type": "execute_result"
    }
   ],
   "source": [
    "@expression(Mod3, investment_cost , (sum(shared_line_decision_var[c] .* shared_cand.costPerCap[c] .* shared_cand.interestRate[c] \n",
    "            .*((1 + shared_cand.interestRate[c]) .^ shared_cand.lifeTime[c]) ./ (((1 + shared_cand.interestRate[c]) .^ shared_cand.lifeTime[c])-1) for c in 1:nrow(shared_cand))\n",
    "            .+ sum(int_line_decision_var_1[c] .* int_c(1).costPerCap[c] .* int_c(1).interestRate[c] \n",
    "            .*((1 + int_c(1).interestRate[c]) .^ int_c(1).lifeTime[c]) ./ (((1 + int_c(1).interestRate[c]) .^ int_c(1).lifeTime[c])-1) for c in 1:nrow(int_c(1)))\n",
    "            .+ sum(int_line_decision_var_2[c] .* int_c(2).costPerCap[c] .* int_c(2).interestRate[c] \n",
    "            .*((1 + int_c(2).interestRate[c]) .^ int_c(2).lifeTime[c]) ./ (((1 + int_c(2).interestRate[c]) .^ int_c(2).lifeTime[c])-1) for c in 1:nrow(int_c(2)))\n",
    "            .+ sum(int_line_decision_var_3[c] .* int_c(3).costPerCap[c] .* int_c(3).interestRate[c] \n",
    "            .*((1 + int_c(3).interestRate[c]) .^ int_c(3).lifeTime[c]) ./ (((1 + int_c(3).interestRate[c]) .^ int_c(3).lifeTime[c])-1) for c in 1:nrow(int_c(3)))))\n",
    "Mod3[:total_cost]+=investment_cost"
   ]
  },
  {
   "cell_type": "code",
   "execution_count": 20,
   "metadata": {},
   "outputs": [],
   "source": [
    "#The first zone\n",
    "for n in 1:14\n",
    "    for s in 1:nrow(scen_prob)\n",
    "        # Power balance constraint for each node\n",
    "        @constraint(Mod3, sum(g(1).gNodeID .== n) .* gen_var_1[n,s] .+ sum(l(1,s)[:,3].* (l(1,s).lNodeID .== n))./100 .==\n",
    "        sum((shared_cand.tNodeID1 .== n) .*bin_c(1) .* shared_cand_flow[:,s]) .- sum((shared_cand.tNodeID2 .== n) .* bin_c(1) .* shared_cand_flow[:,s]) .+\n",
    "        sum((shared_ex.tNodeID1 .== n) .* bin_e(1) .* shared_ex_flow[:,s]) .- sum((shared_ex.tNodeID2 .== n) .* bin_e(1) .* shared_ex_flow[:,s]) .+\n",
    "        sum((int_c(1).tNodeID1 .== n) .* int_cand_flow_1[:,s]) .- sum((int_c(1).tNodeID2 .== n) .* int_cand_flow_1[:,s]) .+\n",
    "        sum((int_e(1).tNodeID1 .== n) .* int_ex_flow_1[:,s]) .- sum((int_e(1).tNodeID2 .== n) .* int_ex_flow_1[:,s]))\n",
    "        #Lower limit for generation of each node\n",
    "        @constraint(Mod3, sum(g(1).gNodeID .== n) .* gen_var_1[n,s] .<= sum((g(1).gNodeID .== n) .* g(1).PgMax)./100)\n",
    "        #Upper limit for generation of each node\n",
    "        @constraint(Mod3, sum((g(1).gNodeID .== n) .* g(1).PgMin)./100 .<= sum(g(1).gNodeID .== n) .* gen_var_1[n,s])\n",
    "    end\n",
    "end"
   ]
  },
  {
   "cell_type": "code",
   "execution_count": 21,
   "metadata": {},
   "outputs": [],
   "source": [
    "#The second zone\n",
    "for n in 1:30\n",
    "    for s in 1:nrow(scen_prob)\n",
    "        # Power balance constraint for each node\n",
    "        @constraint(Mod3, sum(g(2).gNodeID .== n) .* gen_var_2[n,s] .+ sum(l(2,s)[:,3] .* (l(2,s).lNodeID .== n))./100 .==\n",
    "        sum((shared_cand.tNodeID1 .== n) .*bin_c(2) .* shared_cand_flow[:,s]) .- sum((shared_cand.tNodeID2 .== n) .* bin_c(2) .* shared_cand_flow[:,s]) .+\n",
    "        sum((shared_ex.tNodeID1 .== n) .* bin_e(2) .* shared_ex_flow[:,s]) .- sum((shared_ex.tNodeID2 .== n) .* bin_e(2) .* shared_ex_flow[:,s]) .+\n",
    "        sum((int_c(2).tNodeID1 .== n) .* int_cand_flow_2[:,s]) .- sum((int_c(2).tNodeID2 .== n) .* int_cand_flow_2[:,s]) .+\n",
    "        sum((int_e(2).tNodeID1 .== n) .* int_ex_flow_2[:,s]) .- sum((int_e(2).tNodeID2 .== n) .* int_ex_flow_2[:,s]))\n",
    "        #Lower limit for generation of each node\n",
    "        @constraint(Mod3, sum(g(2).gNodeID .== n) .* gen_var_2[n,s] .<= sum((g(2).gNodeID .== n) .* g(2).PgMax)./100)\n",
    "        #Upper limit for generation of each node\n",
    "        @constraint(Mod3, sum((g(2).gNodeID .== n) .* g(2).PgMin)./100 .<= sum(g(2).gNodeID .== n) .* gen_var_2[n,s])\n",
    "    end\n",
    "end"
   ]
  },
  {
   "cell_type": "code",
   "execution_count": 22,
   "metadata": {},
   "outputs": [],
   "source": [
    "#The third zone\n",
    "for n in 1:5\n",
    "    for s in 1:nrow(scen_prob)\n",
    "        # Power balance constraint for each node\n",
    "        @constraint(Mod3, sum(g(3).gNodeID .== n) .* gen_var_3[n,s] .+ sum(l(3,s)[:,3] .* (l(3,s).lNodeID .== n))./100 .==\n",
    "        sum((shared_cand.tNodeID1 .== n) .*bin_c(3) .* shared_cand_flow[:,s]) .- sum((shared_cand.tNodeID2 .== n) .* bin_c(3) .* shared_cand_flow[:,s]) .+\n",
    "        sum((shared_ex.tNodeID1 .== n) .* bin_e(3) .* shared_ex_flow[:,s]) .- sum((shared_ex.tNodeID2 .== n) .* bin_e(3) .* shared_ex_flow[:,s]) .+\n",
    "        sum((int_c(3).tNodeID1 .== n) .* int_cand_flow_3[:,s]) .- sum((int_c(3).tNodeID2 .== n) .* int_cand_flow_3[:,s]) .+\n",
    "        sum((int_e(3).tNodeID1 .== n) .* int_ex_flow_3[:,s]) .- sum((int_e(3).tNodeID2 .== n) .* int_ex_flow_3[:,s]))\n",
    "        #Lower limit for generation of each node\n",
    "        @constraint(Mod3, sum(g(3).gNodeID .== n) .* gen_var_3[n,s] .<= sum((g(3).gNodeID .== n) .* g(3).PgMax)./100)\n",
    "        #Upper limit for generation of each node\n",
    "        @constraint(Mod3, sum((g(3).gNodeID .== n) .* g(3).PgMin)./100 .<= sum(g(3).gNodeID .== n) .* gen_var_3[n,s])\n",
    "    end\n",
    "end"
   ]
  },
  {
   "cell_type": "code",
   "execution_count": 23,
   "metadata": {},
   "outputs": [],
   "source": [
    "#Shared candidate lines\n",
    "M = 100 # this should be changed/translated to PU value...\n",
    "for c in 1:nrow(shared_cand)\n",
    "    for s in 1:nrow(scen_prob)\n",
    "        @constraint(Mod3,-M .* (1 .- shared_line_decision_var[c]) .<= shared_cand_flow[c,s] .- ((1 ./ shared_cand.reacT[c]) .* (node_voltage_phase_angle[shared_cand.nodeZone1[c],shared_cand.tNodeID1[c],s] .- node_voltage_phase_angle[shared_cand.nodeZone2[c],shared_cand.tNodeID2[c],s])))\n",
    "        @constraint(Mod3, shared_cand_flow[c,s] .- ((1 ./ shared_cand.reacT[c]) .* (node_voltage_phase_angle[shared_cand.nodeZone1[c],shared_cand.tNodeID1[c],s] .- node_voltage_phase_angle[shared_cand.nodeZone2[c],shared_cand.tNodeID2[c],s])) .<= M .* (1 .- shared_line_decision_var[c]))\n",
    "        #limiting the upper bound of power flow flowing within candidate shared lines\n",
    "        @constraint(Mod3, shared_cand_flow[c,s] .<= shared_line_decision_var[c] .*shared_cand.ptMax[c]./100)\n",
    "        #Limiting the lower bound of power flowing within the candidate shared lines\n",
    "        @constraint(Mod3, -(shared_cand.ptMax[c]./100) .* shared_line_decision_var[c] .<= shared_cand_flow[c,s])\n",
    "    end\n",
    "end"
   ]
  },
  {
   "cell_type": "code",
   "execution_count": 24,
   "metadata": {},
   "outputs": [],
   "source": [
    "#Shared existing lines\n",
    "for h in 1:nrow(shared_ex)\n",
    "    for s in 1:nrow(scen_prob)\n",
    "        @constraint(Mod3, shared_ex_flow[h,s] .== (1 ./ shared_ex.reacT[h]) .* (node_voltage_phase_angle[shared_ex.nodeZone1[h],shared_ex.tNodeID1[h],s] .- node_voltage_phase_angle[shared_ex.nodeZone2[h],shared_ex.tNodeID2[h],s]))\n",
    "        @constraint(Mod3, shared_ex_flow[h,s] .<= shared_ex. ptMax[h]./100)\n",
    "        @constraint(Mod3, -shared_ex.ptMax[h]./100 .<= shared_ex_flow[h,s])\n",
    "    end\n",
    "end"
   ]
  },
  {
   "cell_type": "code",
   "execution_count": 25,
   "metadata": {},
   "outputs": [],
   "source": [
    "#Zone 1 internal candidate lines\n",
    "for c in 1:nrow(int_c(1))\n",
    "    for s in 1:nrow(scen_prob)\n",
    "        @constraint(Mod3,-M .* (1 .- int_line_decision_var_1[c]) .<= int_cand_flow_1[c,s] .- ((1 ./ int_c(1).reacT[c]) .* (node_voltage_phase_angle[int_c(1).zoneNum[c],int_c(1).tNodeID1[c],s] .- node_voltage_phase_angle[int_c(1).zoneNum[c],int_c(1).tNodeID2[c],s])))\n",
    "        @constraint(Mod3, int_cand_flow_1[c,s] .- ((1 ./ int_c(1).reacT[c]) .* (node_voltage_phase_angle[int_c(1).zoneNum[c],int_c(1).tNodeID1[c],s] .- node_voltage_phase_angle[int_c(1).zoneNum[c],int_c(1).tNodeID2[c],s])) .<= M .* (1 .- int_line_decision_var_1[c]))\n",
    "        @constraint(Mod3, int_cand_flow_1[c,s] .<= int_line_decision_var_1[c] .* int_c(1).ptMax[c]./100)\n",
    "        @constraint(Mod3, -(int_c(1).ptMax[c]./100) .*int_line_decision_var_1[c] .<= int_cand_flow_1[c,s])\n",
    "    end\n",
    "end"
   ]
  },
  {
   "cell_type": "code",
   "execution_count": 26,
   "metadata": {},
   "outputs": [],
   "source": [
    "#Zone 2 internal candidate lines\n",
    "for c in 1:nrow(int_c(2))\n",
    "    for s in 1:nrow(scen_prob)\n",
    "        @constraint(Mod3,-M .* (1 .- int_line_decision_var_2[c]) .<= int_cand_flow_2[c,s] .- ((1 ./ int_c(2).reacT[c]) .* (node_voltage_phase_angle[int_c(2).zoneNum[c],int_c(2).tNodeID1[c],s] .- node_voltage_phase_angle[int_c(2).zoneNum[c],int_c(2).tNodeID2[c],s])))\n",
    "        @constraint(Mod3, int_cand_flow_2[c,s] .- ((1 ./ int_c(2).reacT[c]) .* (node_voltage_phase_angle[int_c(2).zoneNum[c],int_c(2).tNodeID1[c],s] .- node_voltage_phase_angle[int_c(2).zoneNum[c],int_c(2).tNodeID2[c],s])) .<= M .* (1 .- int_line_decision_var_2[c]))\n",
    "        @constraint(Mod3, int_cand_flow_2[c,s] .<= int_line_decision_var_2[c] .* int_c(2).ptMax[c]./100)\n",
    "        @constraint(Mod3, -(int_c(2).ptMax[c]./100) .*int_line_decision_var_2[c] .<= int_cand_flow_2[c,s])\n",
    "    end\n",
    "end"
   ]
  },
  {
   "cell_type": "code",
   "execution_count": 27,
   "metadata": {},
   "outputs": [],
   "source": [
    "#Zone 3 internal candidate lines\n",
    "for c in 1:nrow(int_c(3))\n",
    "    for s in 1:nrow(scen_prob)\n",
    "        @constraint(Mod3,-M .* (1 .- int_line_decision_var_3[c]) .<= int_cand_flow_3[c,s] .- ((1 ./ int_c(3).reacT[c]) .* (node_voltage_phase_angle[int_c(3).zoneNum[c],int_c(3).tNodeID1[c],s] .- node_voltage_phase_angle[int_c(3).zoneNum[c],int_c(3).tNodeID2[c],s])))\n",
    "        @constraint(Mod3, int_cand_flow_3[c,s] .- ((1 ./ int_c(3).reacT[c]) .* (node_voltage_phase_angle[int_c(3).zoneNum[c],int_c(3).tNodeID1[c],s] .- node_voltage_phase_angle[int_c(3).zoneNum[c],int_c(3).tNodeID2[c],s])) .<= M .* (1 .- int_line_decision_var_3[c]))\n",
    "        @constraint(Mod3, int_cand_flow_3[c,s] .<= int_line_decision_var_3[c] .* int_c(3).ptMax[c]./100)\n",
    "        @constraint(Mod3, -(int_c(3).ptMax[c]./100) .*int_line_decision_var_3[c] .<= int_cand_flow_3[c,s])\n",
    "    end\n",
    "end"
   ]
  },
  {
   "cell_type": "code",
   "execution_count": 28,
   "metadata": {},
   "outputs": [],
   "source": [
    "#Zone 1 internal existing lines\n",
    "for h in 1:nrow(int_e(1))\n",
    "    for s in 1:nrow(scen_prob)\n",
    "        @constraint(Mod3, int_ex_flow_1[h,s] .== (1 ./ int_e(1).reacT[h]) .* (node_voltage_phase_angle[int_e(1).zoneNum[h],int_e(1).tNodeID1[h],s] .- node_voltage_phase_angle[int_e(1).zoneNum[h],int_e(1).tNodeID2[h],s]))\n",
    "        @constraint(Mod3, int_ex_flow_1[h,s] .<= int_e(1).ptMax[h]./100)\n",
    "        @constraint(Mod3, -int_e(1).ptMax[h]./100 .<= int_ex_flow_1[h,s])\n",
    "    end\n",
    "end"
   ]
  },
  {
   "cell_type": "code",
   "execution_count": 29,
   "metadata": {},
   "outputs": [],
   "source": [
    "#Zone 2 internal existing lines\n",
    "for h in 1:nrow(int_e(2))\n",
    "    for s in 1:nrow(scen_prob)\n",
    "        @constraint(Mod3, int_ex_flow_2[h,s] .== (1 ./ int_e(2).reacT[h]) .* (node_voltage_phase_angle[int_e(2).zoneNum[h],int_e(2).tNodeID1[h],s] .- node_voltage_phase_angle[int_e(2).zoneNum[h],int_e(2).tNodeID2[h],s]))\n",
    "        @constraint(Mod3, int_ex_flow_2[h,s] .<= int_e(2).ptMax[h]./100)\n",
    "        @constraint(Mod3, -int_e(2).ptMax[h]./100 .<= int_ex_flow_2[h,s])\n",
    "    end\n",
    "end"
   ]
  },
  {
   "cell_type": "code",
   "execution_count": 30,
   "metadata": {},
   "outputs": [],
   "source": [
    "#Zone 3 internal existing lines\n",
    "for h in 1:nrow(int_e(3))\n",
    "    for s in 1:nrow(scen_prob)\n",
    "        @constraint(Mod3, int_ex_flow_3[h,s] .== (1 ./ int_e(3).reacT[h]) .* (node_voltage_phase_angle[int_e(3).zoneNum[h],int_e(3).tNodeID1[h],s] .- node_voltage_phase_angle[int_e(3).zoneNum[h],int_e(3).tNodeID2[h],s]))\n",
    "        @constraint(Mod3, int_ex_flow_3[h,s] .<= int_e(3).ptMax[h]./100)\n",
    "        @constraint(Mod3, -int_e(3).ptMax[h]./100 .<= int_ex_flow_3[h,s])\n",
    "    end\n",
    "end"
   ]
  },
  {
   "cell_type": "code",
   "execution_count": 31,
   "metadata": {},
   "outputs": [],
   "source": [
    "@objective(Mod3, Min, Mod3[:total_cost])\n",
    "optimize!(Mod3)"
   ]
  },
  {
   "cell_type": "code",
   "execution_count": 32,
   "metadata": {},
   "outputs": [
    {
     "data": {
      "text/plain": [
       "OPTIMAL::TerminationStatusCode = 1"
      ]
     },
     "execution_count": 32,
     "metadata": {},
     "output_type": "execute_result"
    }
   ],
   "source": [
    "termination_status(Mod3)"
   ]
  },
  {
   "cell_type": "code",
   "execution_count": 33,
   "metadata": {},
   "outputs": [
    {
     "data": {
      "text/plain": [
       "27.2982547052472"
      ]
     },
     "execution_count": 33,
     "metadata": {},
     "output_type": "execute_result"
    }
   ],
   "source": [
    "if termination_status(Mod3) == MOI.OPTIMAL\n",
    "    shared_line_decision = value.(shared_line_decision_var)\n",
    "    shared_cand_power = (value.(shared_cand_flow)) .* 100\n",
    "    node_voltage_phase_angle = value.(node_voltage_phase_angle)\n",
    "    shared_ex_power = (value.(shared_ex_flow)) .* 100\n",
    "    int_line_decision_1 = value.(int_line_decision_var_1)\n",
    "    int_line_decision_2 = value.(int_line_decision_var_2)\n",
    "    int_line_decision_3 = value.(int_line_decision_var_3)\n",
    "    int_line_flow_1 = (value.(int_cand_flow_1)) .* 100\n",
    "    int_line_flow_2 = (value.(int_cand_flow_2)) .* 100\n",
    "    int_line_flow_3 = (value.(int_cand_flow_3)) .* 100\n",
    "    generation_1 = (value.(gen_var_1)) .* 100\n",
    "    generation_2 = (value.(gen_var_2)) .* 100\n",
    "    generation_3 = (value.(gen_var_3)) .* 100\n",
    "    internal_existing_line_flow_1 = (value.(int_ex_flow_1)) .* 100\n",
    "    internal_existing_line_flow_2 = (value.(int_ex_flow_2)) .* 100\n",
    "    internal_existing_line_flow_3 = (value.(int_ex_flow_3)) .* 100\n",
    "    obj_value = objective_value(Mod3)\n",
    "end"
   ]
  },
  {
   "cell_type": "code",
   "execution_count": 34,
   "metadata": {},
   "outputs": [
    {
     "data": {
      "text/plain": [
       "6-element Array{Float64,1}:\n",
       " 0.0\n",
       " 0.0\n",
       " 0.0\n",
       " 1.0\n",
       " 1.0\n",
       " 0.0"
      ]
     },
     "execution_count": 34,
     "metadata": {},
     "output_type": "execute_result"
    }
   ],
   "source": [
    "shared_line_decision"
   ]
  },
  {
   "cell_type": "code",
   "execution_count": 35,
   "metadata": {},
   "outputs": [
    {
     "data": {
      "text/plain": [
       "6×4 Array{Float64,2}:\n",
       " -0.0     -0.0     -0.0     -0.0\n",
       " -0.0     -0.0     -0.0      0.0\n",
       " -0.0     -0.0     -0.0     -0.0\n",
       " 91.1514  84.4184  95.2955  43.7686\n",
       " 92.1652  62.7053  85.5807  35.2138\n",
       "  0.0     -0.0     -0.0     -0.0"
      ]
     },
     "execution_count": 35,
     "metadata": {},
     "output_type": "execute_result"
    }
   ],
   "source": [
    "shared_cand_power"
   ]
  },
  {
   "cell_type": "code",
   "execution_count": 36,
   "metadata": {},
   "outputs": [
    {
     "data": {
      "text/plain": [
       "JuMP.Containers.SparseAxisArray{Float64,3,Tuple{Int64,Int64,Int64}} with 196 entries:\n",
       "  [1, 1, 2 ]  =  0.0466216\n",
       "  [1, 11, 2]  =  0.151361\n",
       "  [1, 12, 4]  =  0.124647\n",
       "  [1, 14, 2]  =  0.178808\n",
       "  [1, 2, 1 ]  =  0.095336\n",
       "  [1, 4, 2 ]  =  0.0464514\n",
       "  [1, 5, 3 ]  =  0.0881079\n",
       "  [1, 8, 2 ]  =  0.118346\n",
       "  [2, 14, 4]  =  0.260723\n",
       "  [2, 22, 1]  =  0.425613\n",
       "  [2, 23, 2]  =  0.365958\n",
       "              ⋮\n",
       "  [2, 24, 3]  =  0.417782\n",
       "  [2, 26, 1]  =  0.475313\n",
       "  [2, 27, 1]  =  0.560085\n",
       "  [2, 3, 2 ]  =  0.418741\n",
       "  [2, 30, 2]  =  0.339507\n",
       "  [2, 4, 4 ]  =  0.232144\n",
       "  [2, 9, 1 ]  =  0.404866\n",
       "  [2, 9, 4 ]  =  0.172411\n",
       "  [3, 4, 2 ]  =  0.262369\n",
       "  [3, 4, 4 ]  =  0.145331"
      ]
     },
     "execution_count": 36,
     "metadata": {},
     "output_type": "execute_result"
    }
   ],
   "source": [
    "node_voltage_phase_angle"
   ]
  },
  {
   "cell_type": "code",
   "execution_count": 37,
   "metadata": {},
   "outputs": [
    {
     "data": {
      "text/plain": [
       "8×4 Array{Float64,2}:\n",
       "  49.786    40.3714   47.8922   20.9814\n",
       " -64.5571  -50.7171  -62.2156  -27.6916\n",
       " 100.0     100.0     100.0      58.5871\n",
       "  38.6976   35.4737   38.0971   20.0223\n",
       " -74.7264  -52.6075  -61.0791  -30.5716\n",
       "  60.388    35.8198   53.1297   24.5465\n",
       " 100.0      65.2039   97.0733   38.3456\n",
       " -44.7579  -36.5825  -46.1188  -12.0613"
      ]
     },
     "execution_count": 37,
     "metadata": {},
     "output_type": "execute_result"
    }
   ],
   "source": [
    "shared_ex_power"
   ]
  },
  {
   "cell_type": "code",
   "execution_count": 38,
   "metadata": {},
   "outputs": [
    {
     "data": {
      "text/plain": [
       "10-element Array{Float64,1}:\n",
       " 0.0\n",
       " 0.0\n",
       " 0.0\n",
       " 0.0\n",
       " 0.0\n",
       " 0.0\n",
       " 0.0\n",
       " 0.0\n",
       " 0.0\n",
       " 1.0"
      ]
     },
     "execution_count": 38,
     "metadata": {},
     "output_type": "execute_result"
    }
   ],
   "source": [
    "int_line_decision_1"
   ]
  },
  {
   "cell_type": "code",
   "execution_count": 39,
   "metadata": {},
   "outputs": [
    {
     "data": {
      "text/plain": [
       "18-element Array{Float64,1}:\n",
       " 1.0\n",
       " 0.0\n",
       " 0.0\n",
       " 0.0\n",
       " 0.0\n",
       " 0.0\n",
       " 0.0\n",
       " 0.0\n",
       " 0.0\n",
       " 1.0\n",
       " 1.0\n",
       " 0.0\n",
       " 0.0\n",
       " 1.0\n",
       " 0.0\n",
       " 1.0\n",
       " 0.0\n",
       " 0.0"
      ]
     },
     "execution_count": 39,
     "metadata": {},
     "output_type": "execute_result"
    }
   ],
   "source": [
    "int_line_decision_2"
   ]
  },
  {
   "cell_type": "code",
   "execution_count": 40,
   "metadata": {},
   "outputs": [
    {
     "data": {
      "text/plain": [
       "2-element Array{Float64,1}:\n",
       " 0.0\n",
       " 0.0"
      ]
     },
     "execution_count": 40,
     "metadata": {},
     "output_type": "execute_result"
    }
   ],
   "source": [
    "int_line_decision_3"
   ]
  },
  {
   "cell_type": "code",
   "execution_count": 41,
   "metadata": {},
   "outputs": [
    {
     "data": {
      "text/plain": [
       "27.2982547052472"
      ]
     },
     "execution_count": 41,
     "metadata": {},
     "output_type": "execute_result"
    }
   ],
   "source": [
    "obj_value"
   ]
  },
  {
   "cell_type": "code",
   "execution_count": 42,
   "metadata": {},
   "outputs": [
    {
     "data": {
      "text/plain": [
       "14×4 Array{Float64,2}:\n",
       " 118.063  4.71029  51.0623  0.0\n",
       "   0.0    0.0       0.0     0.0\n",
       "   0.0    0.0       0.0     0.0\n",
       "   0.0    0.0       0.0     0.0\n",
       "   0.0    0.0       0.0     0.0\n",
       "   0.0    0.0       0.0     0.0\n",
       "   0.0    0.0       0.0     0.0\n",
       "   0.0    0.0       0.0     0.0\n",
       "   0.0    0.0       0.0     0.0\n",
       "   0.0    0.0       0.0     0.0\n",
       "   0.0    0.0       0.0     0.0\n",
       "   0.0    0.0       0.0     0.0\n",
       "   0.0    0.0       0.0     0.0\n",
       "   0.0    0.0       0.0     0.0"
      ]
     },
     "execution_count": 42,
     "metadata": {},
     "output_type": "execute_result"
    }
   ],
   "source": [
    "generation_1"
   ]
  },
  {
   "cell_type": "code",
   "execution_count": 43,
   "metadata": {},
   "outputs": [
    {
     "name": "stdout",
     "output_type": "stream",
     "text": [
      "30×4 Array{Float64,2}:\n",
      "  0.0   0.0   0.0   0.0\n",
      " 14.2   4.6  51.9  47.3\n",
      "  0.0   0.0   0.0   0.0\n",
      "  0.0   0.0   0.0   0.0\n",
      "  0.0   0.0   0.0   0.0\n",
      "  0.0   0.0   0.0   0.0\n",
      "  0.0   0.0   0.0   0.0\n",
      "  0.0   0.0   0.0   0.0\n",
      "  0.0   0.0   0.0   0.0\n",
      "  0.0   0.0   0.0   0.0\n",
      "  0.0   0.0   0.0   0.0\n",
      "  0.0   0.0   0.0   0.0\n",
      " 40.0  40.0  40.0   0.0\n",
      "  0.0   0.0   0.0   0.0\n",
      "  0.0   0.0   0.0   0.0\n",
      "  0.0   0.0   0.0   0.0\n",
      "  0.0   0.0   0.0   0.0\n",
      "  0.0   0.0   0.0   0.0\n",
      "  0.0   0.0   0.0   0.0\n",
      "  0.0   0.0   0.0   0.0\n",
      "  0.0   0.0   0.0   0.0\n",
      " 50.0  50.0  50.0   0.0\n",
      " 30.0   0.0   0.0   0.0\n",
      "  0.0   0.0   0.0   0.0\n",
      "  0.0   0.0   0.0   0.0\n",
      "  0.0   0.0   0.0   0.0\n",
      " 55.0   0.0   0.0   0.0\n",
      "  0.0   0.0   0.0   0.0\n",
      "  0.0   0.0   0.0   0.0\n",
      "  0.0   0.0   0.0   0.0"
     ]
    }
   ],
   "source": [
    "show(stdout, \"text/plain\", generation_2)"
   ]
  },
  {
   "cell_type": "code",
   "execution_count": 44,
   "metadata": {},
   "outputs": [
    {
     "data": {
      "text/plain": [
       "5×4 Array{Float64,2}:\n",
       " 42.4154  0.0  0.0  0.0\n",
       "  0.0     0.0  0.0  0.0\n",
       "  0.0     0.0  0.0  0.0\n",
       "  0.0     0.0  0.0  0.0\n",
       "  0.0     0.0  0.0  0.0"
      ]
     },
     "execution_count": 44,
     "metadata": {},
     "output_type": "execute_result"
    }
   ],
   "source": [
    "generation_3"
   ]
  },
  {
   "cell_type": "code",
   "execution_count": 45,
   "metadata": {},
   "outputs": [
    {
     "data": {
      "text/plain": [
       "10×4 Array{Float64,2}:\n",
       " -0.0     -0.0      0.0      0.0\n",
       " -0.0     -0.0     -0.0     -0.0\n",
       " -0.0     -0.0     -0.0      0.0\n",
       " -0.0     -0.0     -0.0      0.0\n",
       "  0.0      0.0      0.0     -0.0\n",
       " -0.0      0.0     -0.0      0.0\n",
       " -0.0      0.0      0.0      0.0\n",
       " -0.0      0.0      0.0      0.0\n",
       "  0.0     -0.0     -0.0      0.0\n",
       " 39.7704  51.6737  49.9709  28.3685"
      ]
     },
     "execution_count": 45,
     "metadata": {},
     "output_type": "execute_result"
    }
   ],
   "source": [
    "int_line_flow_1"
   ]
  },
  {
   "cell_type": "code",
   "execution_count": 46,
   "metadata": {},
   "outputs": [
    {
     "data": {
      "text/plain": [
       "18×4 Array{Float64,2}:\n",
       " -65.6706  -51.2704   -78.7672  -38.2372\n",
       "  -0.0      -0.0       -0.0       0.0\n",
       "  -0.0       0.0       -0.0      -0.0\n",
       "   0.0       0.0        0.0       0.0\n",
       "  -0.0       0.0        0.0      -0.0\n",
       "  -0.0       0.0        0.0      -0.0\n",
       "  -0.0      -0.0       -0.0      -0.0\n",
       "   0.0       0.0        0.0       0.0\n",
       "   0.0       0.0        0.0       0.0\n",
       " -41.4845  -36.3283   -59.181   -30.0504\n",
       " -46.2175  -40.5114   -46.5053  -20.1975\n",
       "  -0.0      -0.0       -0.0       0.0\n",
       "  -0.0      -0.0       -0.0      -0.0\n",
       " -18.7456  -16.0081   -18.6725   -8.34003\n",
       "  -0.0      -0.0       -0.0      -0.0\n",
       " -10.6871   -8.05562  -10.3934   -5.28197\n",
       "  -0.0      -0.0       -0.0      -0.0\n",
       "  -0.0      -0.0        0.0       0.0"
      ]
     },
     "execution_count": 46,
     "metadata": {},
     "output_type": "execute_result"
    }
   ],
   "source": [
    "int_line_flow_2"
   ]
  },
  {
   "cell_type": "code",
   "execution_count": 47,
   "metadata": {},
   "outputs": [
    {
     "data": {
      "text/plain": [
       "2×4 Array{Float64,2}:\n",
       " -0.0  -0.0  -0.0  -0.0\n",
       "  0.0   0.0   0.0  -0.0"
      ]
     },
     "execution_count": 47,
     "metadata": {},
     "output_type": "execute_result"
    }
   ],
   "source": [
    "int_line_flow_3"
   ]
  },
  {
   "cell_type": "code",
   "execution_count": 48,
   "metadata": {},
   "outputs": [
    {
     "data": {
      "text/plain": [
       "20×4 Array{Float64,2}:\n",
       "  70.8603    12.077      39.23         3.58472\n",
       "  12.2464    -8.30051     0.724104    -5.78779\n",
       "  48.1568    19.9402     33.5963       9.5859\n",
       "   9.40803   -3.95628     1.77951     -2.7822\n",
       "  -8.4045   -14.757     -12.4208      -8.64398\n",
       " -46.0432   -27.1598    -37.0537     -13.9641\n",
       " -74.0964   -44.3688    -58.739      -24.0432\n",
       " -37.4154   -34.3796    -38.0961     -18.3159\n",
       " -11.6211   -11.7414    -12.3862      -6.35947\n",
       " -39.1569   -35.7526    -38.0386     -20.3526\n",
       "   5.88581    1.94982     2.54521      1.46572\n",
       " -35.9134   -26.5318    -30.1645     -15.3814\n",
       " -20.3293   -16.7706    -18.8194      -9.23701\n",
       "   0.0        0.0         0.0          0.0\n",
       "  12.3706     5.99176     9.79618      2.6654\n",
       " -57.9429   -46.417     -55.3858     -26.0323\n",
       " -35.3647   -24.7998    -31.5448     -12.7283\n",
       "  -2.38581   -0.199816    0.0797939   -0.590724\n",
       "  32.7131    23.0257     26.3397      13.6652\n",
       "  -1.11626   -0.494874   -2.60468      1.05321"
      ]
     },
     "execution_count": 48,
     "metadata": {},
     "output_type": "execute_result"
    }
   ],
   "source": [
    "internal_existing_line_flow_1"
   ]
  },
  {
   "cell_type": "code",
   "execution_count": 49,
   "metadata": {},
   "outputs": [
    {
     "data": {
      "text/plain": [
       "41×4 Array{Float64,2}:\n",
       "  -9.89323    -2.56512  -13.4613   -11.754\n",
       "   9.89323     2.56512   13.4613    11.754\n",
       "  24.0849     11.5686    29.8659    20.1352\n",
       " -45.3943    -33.1284   -42.2114   -14.068\n",
       "  22.8197     12.2362    28.4578    18.5499\n",
       "  52.2512     37.9476    57.7801    23.2153\n",
       "  -3.87524     3.56954   -4.12051   -5.48645\n",
       "  -0.894129  -11.6225    -4.19331    5.568\n",
       "  54.6057     32.0755    54.8619    24.2776\n",
       " -81.5917    -61.0469   -85.6542   -39.5589\n",
       "  24.288      14.7554    21.8657     7.40627\n",
       "  59.2747     40.8384    56.7942    29.8099\n",
       "  19.0153     11.7295    18.1179    10.526\n",
       "   ⋮                               \n",
       "  57.2608     49.9699    57.4996    25.6702\n",
       " -74.4309    -63.5617   -74.1407   -33.1148\n",
       " -16.5362    -12.7167   -11.3952     0.317542\n",
       " -13.416      -3.28325   -8.44374   -9.34902\n",
       "  10.2733      6.09009    8.71305    5.35874\n",
       " -11.8427     -1.54317   -6.25569   -6.16528\n",
       "   3.5         1.75       2.625      0.875\n",
       " -34.2462     -2.78466   -2.82934   -1.53636\n",
       "  -7.75383     9.28466   12.5793     4.78636\n",
       "   6.06472     3.03236    4.54854    1.51618\n",
       "   6.93528     3.46764    5.20146    1.73382\n",
       "   3.66472     1.83236    2.74854    0.91618"
      ]
     },
     "execution_count": 49,
     "metadata": {},
     "output_type": "execute_result"
    }
   ],
   "source": [
    "internal_existing_line_flow_2"
   ]
  },
  {
   "cell_type": "code",
   "execution_count": 50,
   "metadata": {},
   "outputs": [
    {
     "data": {
      "text/plain": [
       "7×4 Array{Float64,2}:\n",
       " -37.6226   -47.2224   -57.3219   -28.799\n",
       "   5.31155   -5.38517   -3.75725   -1.77256\n",
       "  19.6229     8.56056   14.0976     7.23625\n",
       "  23.7383    11.4369    17.8825     8.28208\n",
       " -40.5959   -41.4      -51.1723   -24.7709\n",
       "  24.6924    17.2578    22.7092     6.27495\n",
       " -38.1017   -29.2776   -38.998    -18.597"
      ]
     },
     "execution_count": 50,
     "metadata": {},
     "output_type": "execute_result"
    }
   ],
   "source": [
    "internal_existing_line_flow_3"
   ]
  },
  {
   "cell_type": "code",
   "execution_count": null,
   "metadata": {},
   "outputs": [],
   "source": []
  },
  {
   "cell_type": "code",
   "execution_count": null,
   "metadata": {},
   "outputs": [],
   "source": []
  }
 ],
 "metadata": {
  "kernelspec": {
   "display_name": "Julia 1.5.3",
   "language": "julia",
   "name": "julia-1.5"
  },
  "language_info": {
   "file_extension": ".jl",
   "mimetype": "application/julia",
   "name": "julia",
   "version": "1.5.3"
  }
 },
 "nbformat": 4,
 "nbformat_minor": 4
}
