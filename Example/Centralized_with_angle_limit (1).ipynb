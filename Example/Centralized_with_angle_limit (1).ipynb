{
 "cells": [
  {
   "cell_type": "markdown",
   "metadata": {},
   "source": [
    "# Centralized Solution of Multi-Regional Transmission Expansion Horizontal Investment Coordination Problem"
   ]
  },
  {
   "attachments": {},
   "cell_type": "markdown",
   "metadata": {},
   "source": [
    "This notebook contains code for a three zone test case. The case consists of an artificial merging of IEEE 14 nodes, IEEE 30 nodes, and a 5 node test system, respectively, for each zone. This notebook assumes there is a single entity (e.g. national planner) to solve the optimization problem centrally.\n",
    "Results from this notebook serve a benchmark for the decentralized algorithms. \n"
   ]
  },
  {
   "cell_type": "code",
   "execution_count": 117,
   "metadata": {},
   "outputs": [],
   "source": [
    "# Load the different package dependencies for Julia\n",
    "# Load or comment out the appropriate optimization engine (E.g. Gurobi, GLPK)\n",
    "\n",
    "import Pkg\n",
    "using Pkg\n",
    "using JuMP\n",
    "using GLPK\n",
    "using HiGHS\n",
    "#using Gurobi\n",
    "#using CPLEX\n",
    "#using Xpress\n",
    "#using Cbc\n",
    "#using Clp\n",
    "using XLSX\n",
    "using DataFrames\n",
    "using PrettyPrint"
   ]
  },
  {
   "attachments": {},
   "cell_type": "markdown",
   "metadata": {},
   "source": [
    "## Problem set up\n",
    "\n",
    "Set up the example problem by reading the input data files from the `../Input_Data/` folder, then separate the data frames for each zone.\n",
    "\n",
    "The input data includes: \n",
    "\n",
    "* `CandLine.csv` which contains information on shared _candidate lines_ between zones\n",
    "* `CandLineInt.csv` which contains information on internal _candidate lines_ within each zone\n",
    "* `SharedEline.csv` which contains information on existing _shared lines_ between zones\n",
    "* `Tran.csv` which contains information on existing transmission lines within each zone (i.e. as defined in the cited IEEE test systems)\n",
    "* `Gen.csv` which contains information on the generators as defined in the cited IEEE test systems\n",
    "* `Load.csv` which contains information on the loads as defined in the cited IEEE test systems\n",
    "\n",
    "After loading the input data, construct several DataFrames for each zone, i.e. for each set of lines, generators, loads, etc.\n"
   ]
  },
  {
   "cell_type": "code",
   "execution_count": 57,
   "metadata": {},
   "outputs": [
    {
     "data": {
      "text/html": [
       "<div><div style = \"float: left;\"><span>35×6 DataFrame</span></div><div style = \"float: right;\"><span style = \"font-style: italic;\">10 rows omitted</span></div><div style = \"clear: both;\"></div></div><div class = \"data-frame\" style = \"overflow-x: scroll;\"><table class = \"data-frame\" style = \"margin-bottom: 6px;\"><thead><tr class = \"header\"><th class = \"rowNumber\" style = \"font-weight: bold; text-align: right;\">Row</th><th style = \"text-align: left;\">zoneNum</th><th style = \"text-align: left;\">lNodeID</th><th style = \"text-align: left;\">P_load1</th><th style = \"text-align: left;\">P_load2</th><th style = \"text-align: left;\">P_load3</th><th style = \"text-align: left;\">P_load4</th></tr><tr class = \"subheader headerLastRow\"><th class = \"rowNumber\" style = \"font-weight: bold; text-align: right;\"></th><th title = \"Any\" style = \"text-align: left;\">Any</th><th title = \"Any\" style = \"text-align: left;\">Any</th><th title = \"Any\" style = \"text-align: left;\">Any</th><th title = \"Any\" style = \"text-align: left;\">Any</th><th title = \"Any\" style = \"text-align: left;\">Any</th><th title = \"Any\" style = \"text-align: left;\">Any</th></tr></thead><tbody><tr><td class = \"rowNumber\" style = \"font-weight: bold; text-align: right;\">1</td><td style = \"text-align: left;\">1</td><td style = \"text-align: left;\">2</td><td style = \"text-align: left;\">-21.7</td><td style = \"text-align: left;\">-10.85</td><td style = \"text-align: left;\">-16.275</td><td style = \"text-align: left;\">-5.425</td></tr><tr><td class = \"rowNumber\" style = \"font-weight: bold; text-align: right;\">2</td><td style = \"text-align: left;\">1</td><td style = \"text-align: left;\">3</td><td style = \"text-align: left;\">-94.2</td><td style = \"text-align: left;\">-47.1</td><td style = \"text-align: left;\">-70.65</td><td style = \"text-align: left;\">-23.55</td></tr><tr><td class = \"rowNumber\" style = \"font-weight: bold; text-align: right;\">3</td><td style = \"text-align: left;\">1</td><td style = \"text-align: left;\">4</td><td style = \"text-align: left;\">-47.8</td><td style = \"text-align: left;\">-23.9</td><td style = \"text-align: left;\">-35.85</td><td style = \"text-align: left;\">-11.95</td></tr><tr><td class = \"rowNumber\" style = \"font-weight: bold; text-align: right;\">4</td><td style = \"text-align: left;\">1</td><td style = \"text-align: left;\">5</td><td style = \"text-align: left;\">-7.6</td><td style = \"text-align: left;\">-3.8</td><td style = \"text-align: left;\">-5.7</td><td style = \"text-align: left;\">-1.9</td></tr><tr><td class = \"rowNumber\" style = \"font-weight: bold; text-align: right;\">5</td><td style = \"text-align: left;\">1</td><td style = \"text-align: left;\">6</td><td style = \"text-align: left;\">-11.2</td><td style = \"text-align: left;\">-5.6</td><td style = \"text-align: left;\">-8.4</td><td style = \"text-align: left;\">-2.8</td></tr><tr><td class = \"rowNumber\" style = \"font-weight: bold; text-align: right;\">6</td><td style = \"text-align: left;\">1</td><td style = \"text-align: left;\">9</td><td style = \"text-align: left;\">-29.5</td><td style = \"text-align: left;\">-14.75</td><td style = \"text-align: left;\">-22.125</td><td style = \"text-align: left;\">-7.375</td></tr><tr><td class = \"rowNumber\" style = \"font-weight: bold; text-align: right;\">7</td><td style = \"text-align: left;\">1</td><td style = \"text-align: left;\">10</td><td style = \"text-align: left;\">-9</td><td style = \"text-align: left;\">-4.5</td><td style = \"text-align: left;\">-6.75</td><td style = \"text-align: left;\">-2.25</td></tr><tr><td class = \"rowNumber\" style = \"font-weight: bold; text-align: right;\">8</td><td style = \"text-align: left;\">1</td><td style = \"text-align: left;\">11</td><td style = \"text-align: left;\">-3.5</td><td style = \"text-align: left;\">-1.75</td><td style = \"text-align: left;\">-2.625</td><td style = \"text-align: left;\">-0.875</td></tr><tr><td class = \"rowNumber\" style = \"font-weight: bold; text-align: right;\">9</td><td style = \"text-align: left;\">1</td><td style = \"text-align: left;\">12</td><td style = \"text-align: left;\">-6.1</td><td style = \"text-align: left;\">-3.05</td><td style = \"text-align: left;\">-4.575</td><td style = \"text-align: left;\">-1.525</td></tr><tr><td class = \"rowNumber\" style = \"font-weight: bold; text-align: right;\">10</td><td style = \"text-align: left;\">1</td><td style = \"text-align: left;\">13</td><td style = \"text-align: left;\">-13.5</td><td style = \"text-align: left;\">-6.75</td><td style = \"text-align: left;\">-10.125</td><td style = \"text-align: left;\">-3.375</td></tr><tr><td class = \"rowNumber\" style = \"font-weight: bold; text-align: right;\">11</td><td style = \"text-align: left;\">1</td><td style = \"text-align: left;\">14</td><td style = \"text-align: left;\">-14.9</td><td style = \"text-align: left;\">-7.45</td><td style = \"text-align: left;\">-11.175</td><td style = \"text-align: left;\">-3.725</td></tr><tr><td class = \"rowNumber\" style = \"font-weight: bold; text-align: right;\">12</td><td style = \"text-align: left;\">2</td><td style = \"text-align: left;\">2</td><td style = \"text-align: left;\">-21.7</td><td style = \"text-align: left;\">-10.85</td><td style = \"text-align: left;\">-16.275</td><td style = \"text-align: left;\">-5.425</td></tr><tr><td class = \"rowNumber\" style = \"font-weight: bold; text-align: right;\">13</td><td style = \"text-align: left;\">2</td><td style = \"text-align: left;\">3</td><td style = \"text-align: left;\">-2.4</td><td style = \"text-align: left;\">-1.2</td><td style = \"text-align: left;\">-1.8</td><td style = \"text-align: left;\">-0.6</td></tr><tr><td style = \"text-align: right;\">&vellip;</td><td style = \"text-align: right;\">&vellip;</td><td style = \"text-align: right;\">&vellip;</td><td style = \"text-align: right;\">&vellip;</td><td style = \"text-align: right;\">&vellip;</td><td style = \"text-align: right;\">&vellip;</td><td style = \"text-align: right;\">&vellip;</td></tr><tr><td class = \"rowNumber\" style = \"font-weight: bold; text-align: right;\">24</td><td style = \"text-align: left;\">2</td><td style = \"text-align: left;\">19</td><td style = \"text-align: left;\">-9.5</td><td style = \"text-align: left;\">-4.75</td><td style = \"text-align: left;\">-7.125</td><td style = \"text-align: left;\">-2.375</td></tr><tr><td class = \"rowNumber\" style = \"font-weight: bold; text-align: right;\">25</td><td style = \"text-align: left;\">2</td><td style = \"text-align: left;\">20</td><td style = \"text-align: left;\">-2.2</td><td style = \"text-align: left;\">-1.1</td><td style = \"text-align: left;\">-1.65</td><td style = \"text-align: left;\">-0.55</td></tr><tr><td class = \"rowNumber\" style = \"font-weight: bold; text-align: right;\">26</td><td style = \"text-align: left;\">2</td><td style = \"text-align: left;\">21</td><td style = \"text-align: left;\">-17.5</td><td style = \"text-align: left;\">-8.75</td><td style = \"text-align: left;\">-13.125</td><td style = \"text-align: left;\">-4.375</td></tr><tr><td class = \"rowNumber\" style = \"font-weight: bold; text-align: right;\">27</td><td style = \"text-align: left;\">2</td><td style = \"text-align: left;\">23</td><td style = \"text-align: left;\">-3.2</td><td style = \"text-align: left;\">-1.6</td><td style = \"text-align: left;\">-2.4</td><td style = \"text-align: left;\">-0.8</td></tr><tr><td class = \"rowNumber\" style = \"font-weight: bold; text-align: right;\">28</td><td style = \"text-align: left;\">2</td><td style = \"text-align: left;\">24</td><td style = \"text-align: left;\">-8.7</td><td style = \"text-align: left;\">-4.35</td><td style = \"text-align: left;\">-6.525</td><td style = \"text-align: left;\">-2.175</td></tr><tr><td class = \"rowNumber\" style = \"font-weight: bold; text-align: right;\">29</td><td style = \"text-align: left;\">2</td><td style = \"text-align: left;\">26</td><td style = \"text-align: left;\">-3.5</td><td style = \"text-align: left;\">-1.75</td><td style = \"text-align: left;\">-2.625</td><td style = \"text-align: left;\">-0.875</td></tr><tr><td class = \"rowNumber\" style = \"font-weight: bold; text-align: right;\">30</td><td style = \"text-align: left;\">2</td><td style = \"text-align: left;\">29</td><td style = \"text-align: left;\">-2.4</td><td style = \"text-align: left;\">-1.2</td><td style = \"text-align: left;\">-1.8</td><td style = \"text-align: left;\">-0.6</td></tr><tr><td class = \"rowNumber\" style = \"font-weight: bold; text-align: right;\">31</td><td style = \"text-align: left;\">2</td><td style = \"text-align: left;\">30</td><td style = \"text-align: left;\">-10.6</td><td style = \"text-align: left;\">-5.3</td><td style = \"text-align: left;\">-7.95</td><td style = \"text-align: left;\">-2.65</td></tr><tr><td class = \"rowNumber\" style = \"font-weight: bold; text-align: right;\">32</td><td style = \"text-align: left;\">3</td><td style = \"text-align: left;\">2</td><td style = \"text-align: left;\">-20</td><td style = \"text-align: left;\">-10</td><td style = \"text-align: left;\">-15</td><td style = \"text-align: left;\">-5</td></tr><tr><td class = \"rowNumber\" style = \"font-weight: bold; text-align: right;\">33</td><td style = \"text-align: left;\">3</td><td style = \"text-align: left;\">3</td><td style = \"text-align: left;\">-45</td><td style = \"text-align: left;\">-22.5</td><td style = \"text-align: left;\">-33.75</td><td style = \"text-align: left;\">-11.25</td></tr><tr><td class = \"rowNumber\" style = \"font-weight: bold; text-align: right;\">34</td><td style = \"text-align: left;\">3</td><td style = \"text-align: left;\">4</td><td style = \"text-align: left;\">-40</td><td style = \"text-align: left;\">-20</td><td style = \"text-align: left;\">-30</td><td style = \"text-align: left;\">-10</td></tr><tr><td class = \"rowNumber\" style = \"font-weight: bold; text-align: right;\">35</td><td style = \"text-align: left;\">3</td><td style = \"text-align: left;\">5</td><td style = \"text-align: left;\">-60</td><td style = \"text-align: left;\">-30</td><td style = \"text-align: left;\">-45</td><td style = \"text-align: left;\">-15</td></tr></tbody></table></div>"
      ],
      "text/latex": [
       "\\begin{tabular}{r|cccccc}\n",
       "\t& zoneNum & lNodeID & P\\_load1 & P\\_load2 & P\\_load3 & P\\_load4\\\\\n",
       "\t\\hline\n",
       "\t& Any & Any & Any & Any & Any & Any\\\\\n",
       "\t\\hline\n",
       "\t1 & 1 & 2 & -21.7 & -10.85 & -16.275 & -5.425 \\\\\n",
       "\t2 & 1 & 3 & -94.2 & -47.1 & -70.65 & -23.55 \\\\\n",
       "\t3 & 1 & 4 & -47.8 & -23.9 & -35.85 & -11.95 \\\\\n",
       "\t4 & 1 & 5 & -7.6 & -3.8 & -5.7 & -1.9 \\\\\n",
       "\t5 & 1 & 6 & -11.2 & -5.6 & -8.4 & -2.8 \\\\\n",
       "\t6 & 1 & 9 & -29.5 & -14.75 & -22.125 & -7.375 \\\\\n",
       "\t7 & 1 & 10 & -9 & -4.5 & -6.75 & -2.25 \\\\\n",
       "\t8 & 1 & 11 & -3.5 & -1.75 & -2.625 & -0.875 \\\\\n",
       "\t9 & 1 & 12 & -6.1 & -3.05 & -4.575 & -1.525 \\\\\n",
       "\t10 & 1 & 13 & -13.5 & -6.75 & -10.125 & -3.375 \\\\\n",
       "\t11 & 1 & 14 & -14.9 & -7.45 & -11.175 & -3.725 \\\\\n",
       "\t12 & 2 & 2 & -21.7 & -10.85 & -16.275 & -5.425 \\\\\n",
       "\t13 & 2 & 3 & -2.4 & -1.2 & -1.8 & -0.6 \\\\\n",
       "\t14 & 2 & 4 & -7.6 & -3.8 & -5.7 & -1.9 \\\\\n",
       "\t15 & 2 & 7 & -22.8 & -11.4 & -17.1 & -5.7 \\\\\n",
       "\t16 & 2 & 8 & -30 & -15 & -22.5 & -7.5 \\\\\n",
       "\t17 & 2 & 10 & -5.8 & -2.9 & -4.35 & -1.45 \\\\\n",
       "\t18 & 2 & 12 & -11.2 & -5.6 & -8.4 & -2.8 \\\\\n",
       "\t19 & 2 & 14 & -6.2 & -3.1 & -4.65 & -1.55 \\\\\n",
       "\t20 & 2 & 15 & -8.2 & -4.1 & -6.15 & -2.05 \\\\\n",
       "\t21 & 2 & 16 & -3.5 & -1.75 & -2.625 & -0.875 \\\\\n",
       "\t22 & 2 & 17 & -9 & -4.5 & -6.75 & -2.25 \\\\\n",
       "\t23 & 2 & 18 & -3.2 & -1.6 & -2.4 & -0.8 \\\\\n",
       "\t24 & 2 & 19 & -9.5 & -4.75 & -7.125 & -2.375 \\\\\n",
       "\t$\\dots$ & $\\dots$ & $\\dots$ & $\\dots$ & $\\dots$ & $\\dots$ & $\\dots$ \\\\\n",
       "\\end{tabular}\n"
      ],
      "text/plain": [
       "\u001b[1m35×6 DataFrame\u001b[0m\n",
       "\u001b[1m Row \u001b[0m│\u001b[1m zoneNum \u001b[0m\u001b[1m lNodeID \u001b[0m\u001b[1m P_load1 \u001b[0m\u001b[1m P_load2 \u001b[0m\u001b[1m P_load3 \u001b[0m\u001b[1m P_load4 \u001b[0m\n",
       "     │\u001b[90m Any     \u001b[0m\u001b[90m Any     \u001b[0m\u001b[90m Any     \u001b[0m\u001b[90m Any     \u001b[0m\u001b[90m Any     \u001b[0m\u001b[90m Any     \u001b[0m\n",
       "─────┼──────────────────────────────────────────────────────\n",
       "   1 │ 1        2        -21.7    -10.85   -16.275  -5.425\n",
       "   2 │ 1        3        -94.2    -47.1    -70.65   -23.55\n",
       "   3 │ 1        4        -47.8    -23.9    -35.85   -11.95\n",
       "   4 │ 1        5        -7.6     -3.8     -5.7     -1.9\n",
       "   5 │ 1        6        -11.2    -5.6     -8.4     -2.8\n",
       "   6 │ 1        9        -29.5    -14.75   -22.125  -7.375\n",
       "   7 │ 1        10       -9       -4.5     -6.75    -2.25\n",
       "   8 │ 1        11       -3.5     -1.75    -2.625   -0.875\n",
       "  ⋮  │    ⋮        ⋮        ⋮        ⋮        ⋮        ⋮\n",
       "  29 │ 2        26       -3.5     -1.75    -2.625   -0.875\n",
       "  30 │ 2        29       -2.4     -1.2     -1.8     -0.6\n",
       "  31 │ 2        30       -10.6    -5.3     -7.95    -2.65\n",
       "  32 │ 3        2        -20      -10      -15      -5\n",
       "  33 │ 3        3        -45      -22.5    -33.75   -11.25\n",
       "  34 │ 3        4        -40      -20      -30      -10\n",
       "  35 │ 3        5        -60      -30      -45      -15\n",
       "\u001b[36m                                             20 rows omitted\u001b[0m"
      ]
     },
     "metadata": {},
     "output_type": "display_data"
    }
   ],
   "source": [
    "# Read input files to set the problem\n",
    "\n",
    "shared_cand = DataFrame(XLSX.readtable(\"../Input_Data/CandLine.csv\", \"Taul1\", header=true)) #Dataframe of shared candidate lines\n",
    "int_cand =  DataFrame(XLSX.readtable(\"../Input_Data/CandLineInt.csv\", \"Taul1\", header=true)) #Dataframe of internal candidate lines\n",
    "shared_ex =  DataFrame(XLSX.readtable(\"../Input_Data/SharedEline.csv\", \"Taul1\", header=true)) #Dataframe of shared existing lines\n",
    "int_ex = DataFrame(XLSX.readtable(\"../Input_Data/Tran.csv\", \"Taul1\", header=true)) #Dataframe of internal existing lines\n",
    "gen =  DataFrame(XLSX.readtable(\"../Input_Data/Gen.csv\" , \"Taul1\", header=true)) #Dataframe of generators\n",
    "load =  DataFrame(XLSX.readtable(\"../Input_Data/Load.csv\", \"Taul1\", header=true)) #Dataframe of loads"
   ]
  },
  {
   "cell_type": "code",
   "execution_count": 58,
   "metadata": {},
   "outputs": [
    {
     "data": {
      "text/plain": [
       "bin_e (generic function with 1 method)"
      ]
     },
     "metadata": {},
     "output_type": "display_data"
    }
   ],
   "source": [
    "# Functionally define dataframes for each element of each zone\n",
    "# The left hand side is the singleton function that references the dataframe on the right hand side, e.g. l(1) is the load dataframe for zone 1\n",
    "\n",
    "l(i) = load[load.zoneNum .== i, :] # load within zone i\n",
    "g(i) = gen[gen.zoneNum .== i, :]   # generators within zone i\n",
    "shared_c(i) = vcat(shared_cand[shared_cand.nodeZone1 .== i,:] , shared_cand[shared_cand.nodeZone2 .== i, :]) #shared candidate lines within zone i\n",
    "int_c(i) = int_cand[int_cand.zoneNum .== i, :]   # number of internal candidate lines within zone i\n",
    "shared_e(i) = vcat(shared_ex[shared_ex.nodeZone1 .== i,:] , shared_ex[shared_ex.nodeZone2 .== i, :]) #shared existing lines within zone i\n",
    "int_e(i) =int_ex[int_ex.zoneNum .== i, :]       # internal existing lines within zone i\n",
    "MC(i) = (g(i).C2 .* (g(i).PgMax .^ 2) .+ g(i).C1 .* g(i).PgMax .- g(i).C2 .*(g(i).PgMin .^ 2) .- g(i).C1 .* g(i).PgMin) ./ (g(i).PgMax .- g(i).PgMin) #Marginal cost of generators within zone i\n",
    "bin_c(i) = (shared_cand.nodeZone1 .== i) + (shared_cand.nodeZone2 .== i) # A binary vector through which we can check if the shared candidate lines belong to zone i\n",
    "bin_e(i) = (shared_ex.nodeZone1 .== i) + (shared_ex.nodeZone2 .== i) # A binary vector through which we can check if the shared existing lines belong to zone i"
   ]
  },
  {
   "attachments": {},
   "cell_type": "markdown",
   "metadata": {},
   "source": [
    "## Build the Optimization Problem in JuMP\n",
    "\n",
    "Initialize the JuMP model object by calling `Model(ENGING.Optimizer)` where `ENGINE` is your optimization engine of choice. \n",
    "Some requirements for the optimization engine include:\n",
    "    1.\n",
    "    2. \n",
    "\n",
    "After initializing the model, we will add the variables, constraints, and objective function. \n",
    "Decision variables for the model (and their variable type) include:\n",
    "    * Generator dispatch (float)\n",
    "    * Decision on candidate shared lines (binary)\n",
    "    * Decision on candidate internal lines (binary)\n",
    "    * Power flow (float) and phase angle (float) on candidate shared lines\n",
    "    * Power flow (float) and phase angle (float) on candidate internal lines\n",
    "    * Power flow (float) and phase angle (float) on existing shared lines\n",
    "    * Power flow (float) and phase angle (float) on existing internal lines\n",
    "\n",
    "The objective function is the `total_cost` to build new lines and dispatch generation. The cost is defined as:\n",
    "\\[EQUATION GOES HERE\\]\n",
    "\n",
    "The constraints include: \n",
    "\\[EQUATIONS GO HERE\\]\n",
    "    "
   ]
  },
  {
   "cell_type": "code",
   "execution_count": 59,
   "metadata": {},
   "outputs": [
    {
     "data": {
      "text/plain": [
       "A JuMP Model\n",
       "Feasibility problem with:\n",
       "Variables: 0\n",
       "Model mode: AUTOMATIC\n",
       "CachingOptimizer state: EMPTY_OPTIMIZER\n",
       "Solver name: HiGHS"
      ]
     },
     "metadata": {},
     "output_type": "display_data"
    }
   ],
   "source": [
    "# initialize the JuMP model object and set the optimization engine\n",
    "# solvers = [Gurobi.Optimizer, Clp.Optimzer, Cbc.Optimizer, HiGHS.Optimizer, Ipopt.Optimizer, CPLEX.Optimizer, Xpress.Optimizer]\n",
    "\n",
    "\n",
    "Mod3 = Model(HiGHS.Optimizer)"
   ]
  },
  {
   "cell_type": "code",
   "execution_count": 7,
   "metadata": {},
   "outputs": [],
   "source": [
    "node_number = 3;"
   ]
  },
  {
   "cell_type": "code",
   "execution_count": 60,
   "metadata": {},
   "outputs": [
    {
     "data": {
      "text/plain": [
       "7×2 Matrix{VariableRef}:\n",
       " int_ex_angle_3[1,1]  int_ex_angle_3[1,2]\n",
       " int_ex_angle_3[2,1]  int_ex_angle_3[2,2]\n",
       " int_ex_angle_3[3,1]  int_ex_angle_3[3,2]\n",
       " int_ex_angle_3[4,1]  int_ex_angle_3[4,2]\n",
       " int_ex_angle_3[5,1]  int_ex_angle_3[5,2]\n",
       " int_ex_angle_3[6,1]  int_ex_angle_3[6,2]\n",
       " int_ex_angle_3[7,1]  int_ex_angle_3[7,2]"
      ]
     },
     "metadata": {},
     "output_type": "display_data"
    }
   ],
   "source": [
    "# Add the decision variables to the model\n",
    "\n",
    "# Decision variables for the power generation at each node\n",
    "@variable(Mod3,0 <= gen_var_1[1:14]) # generation at node 1\n",
    "@variable(Mod3,0 <= gen_var_2[1:30]) # generation at node 2\n",
    "@variable(Mod3,0 <= gen_var_3[1:5]) # generation at node 3\n",
    "\n",
    "# Decision variables for the candidate lines build/no build decision\n",
    "@variable(Mod3,shared_line_decision_var[1:nrow(shared_cand)], Bin) #Decision variable for shared candidate lines\n",
    "@variable(Mod3,int_line_decision_var_1[1:nrow(int_c(1))], Bin) #Decision variable for internal candidate lines of zone 1 (Binary)\n",
    "@variable(Mod3,int_line_decision_var_2[1:nrow(int_c(2))], Bin) #Decision variable for internal candidate lines of zone 2 (Binary)\n",
    "@variable(Mod3,int_line_decision_var_3[1:nrow(int_c(3))], Bin) #Decision variable for internal candidate lines of zone 3 (Binary)\n",
    "\n",
    "# Decision variables for the power flow on the candidate lines\n",
    "@variable(Mod3,shared_cand_flow[1:nrow(shared_cand)])  #Power flowing on shared candidate lines \n",
    "\n",
    "@variable(Mod3, int_cand_flow_1[1:nrow(int_c(1))]) #Power flowing on internal candidate lines of zone 1 \n",
    "@variable(Mod3, int_cand_flow_2[1:nrow(int_c(2))]) #Power flowing on internal candidate lines of zone 2\n",
    "@variable(Mod3, int_cand_flow_3[1:nrow(int_c(3))]) #Power flowing on internal candidate lines of zone 3\n",
    "\n",
    "# Decision variables for the phase angle of the candidate lines\n",
    "@variable(Mod3,0 <= shared_cand_angle[1:nrow(shared_cand),1:2]<= 2*pi) #Phase angle decision for shared candidate lines\n",
    "\n",
    "@variable(Mod3,0 <= int_cand_angle_1[1:nrow(int_c(1)),1:2]<= 2*pi) #Phase angle decision for internal candidate lines of zone 1 \n",
    "@variable(Mod3,0 <= int_cand_angle_2[1:nrow(int_c(2)),1:2]<= 2*pi) #Phase angle decision for internal candidate lines of zone 2\n",
    "@variable(Mod3,0 <= int_cand_angle_3[1:nrow(int_c(3)),1:2]<= 2*pi) #Phase angle decision for internal candidate lines of zone 3 \n",
    "\n",
    "# Decision variables for the power flow on the existing lines\n",
    "@variable(Mod3, shared_ex_flow[1:nrow(shared_ex)])  #Power flowing on shared existing shared lines\n",
    "\n",
    "@variable(Mod3, int_ex_flow_1[1:nrow(int_e(1))])  #Power flowing on internal existing lines of zone 1 \n",
    "@variable(Mod3, int_ex_flow_2[1:nrow(int_e(2))])  #Power flowing on internal existing lines of zone 2\n",
    "@variable(Mod3, int_ex_flow_3[1:nrow(int_e(3))])  #Power flowing on internal existing lines of zone 3\n",
    "\n",
    "# Decision variables for the phase angle of the existing lines\n",
    "@variable(Mod3,0 <= shared_ex_angle[1:nrow(shared_ex),1:2]<= 2*pi) #Phase angle for existing shared lines\n",
    "\n",
    "@variable(Mod3,0 <= int_ex_angle_1[1:nrow(int_e(1)),1:2]<= 2*pi) #Phase angle decision for existing internal lines of zone 1\n",
    "@variable(Mod3,0 <= int_ex_angle_2[1:nrow(int_e(2)),1:2]<= 2*pi) #Phase angle decision for existing internal lines of zone 2\n",
    "@variable(Mod3,0 <= int_ex_angle_3[1:nrow(int_e(3)),1:2]<= 2*pi) #Phase angle decision for existing internal lines of zone 3\n"
   ]
  },
  {
   "cell_type": "code",
   "execution_count": 61,
   "metadata": {},
   "outputs": [
    {
     "data": {
      "text/latex": [
       "$$ 34.30293932 gen\\_var\\_1_{1} + 55 gen\\_var\\_1_{2} + 3.6 gen\\_var\\_2_{1} + 3.15 gen\\_var\\_2_{2} + 3.5 gen\\_var\\_2_{13} + 3.667 gen\\_var\\_2_{22} + 3.75 gen\\_var\\_2_{23} + 4.375 gen\\_var\\_2_{27} + 16.30293932 gen\\_var\\_3_{1} + 37 gen\\_var\\_3_{2} + 0.2410176361372405 shared\\_line\\_decision\\_var_{1} + 0.19594024895900847 shared\\_line\\_decision\\_var_{2} + 0.44297470440637654 shared\\_line\\_decision\\_var_{3} + 0.6532451422553538 shared\\_line\\_decision\\_var_{4} + 0.1533748593600621 shared\\_line\\_decision\\_var_{5} + 0.34289543567826486 shared\\_line\\_decision\\_var_{6} + 0.1533748593600621 int\\_line\\_decision\\_var\\_1_{1} + 0.34289543567826486 int\\_line\\_decision\\_var\\_1_{2} + 0.2519729832343877 int\\_line\\_decision\\_var\\_1_{3} + 0.21553427385490934 int\\_line\\_decision\\_var\\_1_{4} + 0.44297470440637654 int\\_line\\_decision\\_var\\_1_{5} + 6.532451422553539 int\\_line\\_decision\\_var\\_1_{6} + 1.5337485936006214 int\\_line\\_decision\\_var\\_1_{7} + 3.673879667981409 int\\_line\\_decision\\_var\\_1_{8} + 2.355399625886668 int\\_line\\_decision\\_var\\_1_{9} + 2.400268049747854 int\\_line\\_decision\\_var\\_1_{10} + 1.5337485936006214 int\\_line\\_decision\\_var\\_2_{1} + 3.7718497924609133 int\\_line\\_decision\\_var\\_2_{2} + 2.9579437162297695 int\\_line\\_decision\\_var\\_2_{3} + 1.175641493754051 int\\_line\\_decision\\_var\\_2_{4} + 4.429747044063765 int\\_line\\_decision\\_var\\_2_{5} + 6.532451422553539 int\\_line\\_decision\\_var\\_2_{6} + 1.5337485936006214 int\\_line\\_decision\\_var\\_2_{7} + 4.261700414858434 int\\_line\\_decision\\_var\\_2_{8} + 0.2410176361372405 int\\_line\\_decision\\_var\\_2_{9} + 0.26451933609466144 int\\_line\\_decision\\_var\\_2_{10} + 0.44297470440637654 int\\_line\\_decision\\_var\\_2_{11} + 0.6532451422553538 int\\_line\\_decision\\_var\\_2_{12} + 0.44297470440637654 int\\_line\\_decision\\_var\\_2_{13} + 0.6532451422553538 int\\_line\\_decision\\_var\\_2_{14} + 0.1533748593600621 int\\_line\\_decision\\_var\\_2_{15} + 0.323301410782364 int\\_line\\_decision\\_var\\_2_{16} + 0.3505711071087135 int\\_line\\_decision\\_var\\_2_{17} + 4.429747044063765 int\\_line\\_decision\\_var\\_2_{18} + 0.21910694194294586 int\\_line\\_decision\\_var\\_3_{1} + 0.22043278007888453 int\\_line\\_decision\\_var\\_3_{2} $$"
      ],
      "text/plain": [
       "34.30293932 gen_var_1[1] + 55 gen_var_1[2] + 3.6 gen_var_2[1] + 3.15 gen_var_2[2] + 3.5 gen_var_2[13] + 3.667 gen_var_2[22] + 3.75 gen_var_2[23] + 4.375 gen_var_2[27] + 16.30293932 gen_var_3[1] + 37 gen_var_3[2] + 0.2410176361372405 shared_line_decision_var[1] + 0.19594024895900847 shared_line_decision_var[2] + 0.44297470440637654 shared_line_decision_var[3] + 0.6532451422553538 shared_line_decision_var[4] + 0.1533748593600621 shared_line_decision_var[5] + 0.34289543567826486 shared_line_decision_var[6] + 0.1533748593600621 int_line_decision_var_1[1] + 0.34289543567826486 int_line_decision_var_1[2] + 0.2519729832343877 int_line_decision_var_1[3] + 0.21553427385490934 int_line_decision_var_1[4] + 0.44297470440637654 int_line_decision_var_1[5] + 6.532451422553539 int_line_decision_var_1[6] + 1.5337485936006214 int_line_decision_var_1[7] + 3.673879667981409 int_line_decision_var_1[8] + 2.355399625886668 int_line_decision_var_1[9] + 2.400268049747854 int_line_decision_var_1[10] + 1.5337485936006214 int_line_decision_var_2[1] + 3.7718497924609133 int_line_decision_var_2[2] + 2.9579437162297695 int_line_decision_var_2[3] + 1.175641493754051 int_line_decision_var_2[4] + 4.429747044063765 int_line_decision_var_2[5] + 6.532451422553539 int_line_decision_var_2[6] + 1.5337485936006214 int_line_decision_var_2[7] + 4.261700414858434 int_line_decision_var_2[8] + 0.2410176361372405 int_line_decision_var_2[9] + 0.26451933609466144 int_line_decision_var_2[10] + 0.44297470440637654 int_line_decision_var_2[11] + 0.6532451422553538 int_line_decision_var_2[12] + 0.44297470440637654 int_line_decision_var_2[13] + 0.6532451422553538 int_line_decision_var_2[14] + 0.1533748593600621 int_line_decision_var_2[15] + 0.323301410782364 int_line_decision_var_2[16] + 0.3505711071087135 int_line_decision_var_2[17] + 4.429747044063765 int_line_decision_var_2[18] + 0.21910694194294586 int_line_decision_var_3[1] + 0.22043278007888453 int_line_decision_var_3[2]"
      ]
     },
     "metadata": {},
     "output_type": "display_data"
    }
   ],
   "source": [
    "# Build the total_cost objective function\n",
    "# todo fix the hard coded values for each zone and make it dynamic\n",
    "# todo move this block to after the constraints\n",
    "\n",
    "@expression(Mod3, total_cost , sum((gen_var_1[n] .* sum((g(1).gNodeID .== n) .* MC(1))) for n in 1:14)\n",
    "    .+ sum((gen_var_2[n] .* sum((g(2).gNodeID .== n) .* MC(2))) for n in 1:30)\n",
    "    .+ sum((gen_var_3[n] .* sum((g(3).gNodeID .== n) .* MC(3))) for n in 1:5)\n",
    "    .+ sum(shared_line_decision_var[c] .* shared_cand.costPerCap[c] .* shared_cand.interestRate[c] \n",
    "            .*((1 + shared_cand.interestRate[c]) .^ shared_cand.lifeTime[c]) ./ (((1 + shared_cand.interestRate[c]) .^ shared_cand.lifeTime[c])-1) for c in 1:nrow(shared_cand))\n",
    "    .+ sum(int_line_decision_var_1[c] .* int_c(1).costPerCap[c] .* int_c(1).interestRate[c] \n",
    "            .*((1 + int_c(1).interestRate[c]) .^ int_c(1).lifeTime[c]) ./ (((1 + int_c(1).interestRate[c]) .^ int_c(1).lifeTime[c])-1) for c in 1:nrow(int_c(1)))\n",
    "    .+ sum(int_line_decision_var_2[c] .* int_c(2).costPerCap[c] .* int_c(2).interestRate[c] \n",
    "            .*((1 + int_c(2).interestRate[c]) .^ int_c(2).lifeTime[c]) ./ (((1 + int_c(2).interestRate[c]) .^ int_c(2).lifeTime[c])-1) for c in 1:nrow(int_c(2)))\n",
    "    .+ sum(int_line_decision_var_3[c] .* int_c(3).costPerCap[c] .* int_c(3).interestRate[c] \n",
    "            .*((1 + int_c(3).interestRate[c]) .^ int_c(3).lifeTime[c]) ./ (((1 + int_c(3).interestRate[c]) .^ int_c(3).lifeTime[c])-1) for c in 1:nrow(int_c(3))))   "
   ]
  },
  {
   "cell_type": "code",
   "execution_count": 62,
   "metadata": {},
   "outputs": [],
   "source": [
    "# Define constraints for Zone 1\n",
    "# This includes nodal power balance constraints and upper and lower bound of connecting generators\n",
    "# There are 14 buses in Zone 1\n",
    "\n",
    "for n in 1:14\n",
    "        # Power balance constraint for each node\n",
    "    @constraint(Mod3, sum(g(1).gNodeID .== n) .* gen_var_1[n] .+ sum(l(1).P_load1 .* (l(1).lNodeID .== n)) .==\n",
    "        sum((shared_cand.tNodeID1 .== n) .*bin_c(1) .* shared_cand_flow) .- sum((shared_cand.tNodeID2 .== n) .* bin_c(1) .* shared_cand_flow) .+\n",
    "        sum((shared_ex.tNodeID1 .== n) .* bin_e(1) .* shared_ex_flow) .- sum((shared_ex.tNodeID2 .== n) .* bin_e(1) .* shared_ex_flow) .+\n",
    "        sum((int_c(1).tNodeID1 .== n) .* int_cand_flow_1) .- sum((int_c(1).tNodeID2 .== n) .* int_cand_flow_1) .+\n",
    "        sum((int_e(1).tNodeID1 .== n) .* int_ex_flow_1) .- sum((int_e(1).tNodeID2 .== n) .* int_ex_flow_1))\n",
    "        #Lower limit for generation of each node\n",
    "    @constraint(Mod3, sum(g(1).gNodeID .== n) .* gen_var_1[n] .<= sum((g(1).gNodeID .== n) .* g(1).PgMax))\n",
    "        #Upper limit for generation of each node\n",
    "    @constraint(Mod3, sum((g(1).gNodeID .== n) .* g(1).PgMin) .<= sum(g(1).gNodeID .== n) .* gen_var_1[n])\n",
    "end"
   ]
  },
  {
   "cell_type": "code",
   "execution_count": 63,
   "metadata": {},
   "outputs": [],
   "source": [
    "# Define constraints for Zone 2\n",
    "# This includes nodal power balance constraints and upper and lower bound of connecting generators\n",
    "# There are 30 buses in Zone 2\n",
    "\n",
    "for n in 1:30\n",
    "    # Power balance constraint for each node\n",
    "    @constraint(Mod3, sum(g(2).gNodeID .== n) .* gen_var_2[n] .+ sum(l(2).P_load1 .* (l(2).lNodeID .== n)) .==\n",
    "        sum((shared_cand.tNodeID1 .== n) .*bin_c(2) .* shared_cand_flow) .- sum((shared_cand.tNodeID2 .== n) .* bin_c(2) .* shared_cand_flow) .+\n",
    "        sum((shared_ex.tNodeID1 .== n) .* bin_e(2) .* shared_ex_flow) .- sum((shared_ex.tNodeID2 .== n) .* bin_e(2) .* shared_ex_flow) .+\n",
    "        sum((int_c(2).tNodeID1 .== n) .* int_cand_flow_2) .- sum((int_c(2).tNodeID2 .== n) .* int_cand_flow_2) .+\n",
    "        sum((int_e(2).tNodeID1 .== n) .* int_ex_flow_2) .- sum((int_e(2).tNodeID2 .== n) .* int_ex_flow_2))\n",
    "    \n",
    "    # Lower limit for generation of each node\n",
    "    @constraint(Mod3, sum(g(2).gNodeID .== n) .* gen_var_2[n] .<= sum((g(2).gNodeID .== n) .* g(2).PgMax))\n",
    "    \n",
    "    # Upper limit for generation of each node\n",
    "    @constraint(Mod3, sum((g(2).gNodeID .== n) .* g(2).PgMin) .<= sum(g(2).gNodeID .== n) .* gen_var_2[n])\n",
    "end"
   ]
  },
  {
   "cell_type": "code",
   "execution_count": 64,
   "metadata": {},
   "outputs": [],
   "source": [
    "# Define constraints for  Zone 3\n",
    "# This includes nodal power balance constraints and upper and lower bound of connecting generators\n",
    "# There are 5 buses in Zone 3\n",
    "\n",
    "for n in 1:5\n",
    "    # Power balance constraint for each node\n",
    "    @constraint(Mod3, sum(g(3).gNodeID .== n) .* gen_var_3[n] .+ sum(l(3).P_load1 .* (l(3).lNodeID .== n)) .==\n",
    "        sum((shared_cand.tNodeID1 .== n) .*bin_c(3) .* shared_cand_flow) .- sum((shared_cand.tNodeID2 .== n) .* bin_c(3) .* shared_cand_flow) .+\n",
    "        sum((shared_ex.tNodeID1 .== n) .* bin_e(3) .* shared_ex_flow) .- sum((shared_ex.tNodeID2 .== n) .* bin_e(3) .* shared_ex_flow) .+\n",
    "        sum((int_c(3).tNodeID1 .== n) .* int_cand_flow_3) .- sum((int_c(3).tNodeID2 .== n) .* int_cand_flow_3) .+\n",
    "        sum((int_e(3).tNodeID1 .== n) .* int_ex_flow_3) .- sum((int_e(3).tNodeID2 .== n) .* int_ex_flow_3))\n",
    "    \n",
    "    # Lower limit for generation of each node\n",
    "    @constraint(Mod3, sum(g(3).gNodeID .== n) .* gen_var_3[n] .<= sum((g(3).gNodeID .== n) .* g(3).PgMax))\n",
    "    \n",
    "    # Upper limit for generation of each node\n",
    "    @constraint(Mod3, sum((g(3).gNodeID .== n) .* g(3).PgMin) .<= sum(g(3).gNodeID .== n) .* gen_var_3[n])\n",
    "end"
   ]
  },
  {
   "cell_type": "code",
   "execution_count": 65,
   "metadata": {},
   "outputs": [],
   "source": [
    "# Deine constraints for the shared candidate lines\n",
    "# The parameter big M is used to ensure equality constraints are satisfied when the candidate line is selected. \n",
    "# Choosing M is an art with some hueristic approaches. We want the smallest M that is still large enough to ensure the constraints are satisfied.\n",
    "# For this problem, M should be related to the maximum power flow on the candidate line, assuming a 100 MW base power \n",
    "\n",
    "M = 500/100 \n",
    "for c in 1:nrow(shared_cand)\n",
    "    @constraint(Mod3,-M .* (1 .- shared_line_decision_var[c]) .<= shared_cand_flow[c] .- ((1 ./ shared_cand.reacT[c]) .* (shared_cand_angle[c,1] .- shared_cand_angle[c,2])))\n",
    "        \n",
    "    @constraint(Mod3, shared_cand_flow[c] .- ((1 ./ shared_cand.reacT[c]) .* (shared_cand_angle[c,1] .- shared_cand_angle[c,2])) .<= M .* (1 .- shared_line_decision_var[c]))\n",
    "    \n",
    "    # Upper bound of power flow flowing within candidate shared lines\n",
    "    @constraint(Mod3, shared_cand_flow[c] .<= shared_line_decision_var[c] .*shared_cand.ptMax[c])\n",
    "    \n",
    "    # Lower bound of power flowing within the candidate shared lines\n",
    "    @constraint(Mod3, -shared_cand.ptMax[c] .* shared_line_decision_var[c] .<= shared_cand_flow[c]) \n",
    "end"
   ]
  },
  {
   "cell_type": "code",
   "execution_count": 66,
   "metadata": {},
   "outputs": [],
   "source": [
    "# Define constraints for existing shared lines\n",
    "# These include power flow constraints and upper and lower bound of power flow on each line\n",
    "\n",
    "for h in 1:nrow(shared_ex)\n",
    "    @constraint(Mod3, shared_ex_flow[h] .== (1 ./ shared_ex.reacT[h]) .* (shared_ex_angle[h,1] .- shared_ex_angle[h,2]))\n",
    "    @constraint(Mod3, shared_ex_flow[h] .<= shared_ex. ptMax[h])\n",
    "    @constraint(Mod3, -shared_ex.ptMax[h] .<= shared_ex_flow[h])\n",
    "end"
   ]
  },
  {
   "cell_type": "code",
   "execution_count": 67,
   "metadata": {},
   "outputs": [],
   "source": [
    "# Define constraints for Zone 1 internal candidate lines\n",
    "# These include power flow constraints and upper and lower bound of power flow on each line\n",
    "# Note that we use the same parameter M as the shared candidate lines in this example. \n",
    "# In practice you may want to configure M differently for internal lines if they have different order of magnitude of power flow compared to shared lines\n",
    "\n",
    "for c in 1:nrow(int_c(1))\n",
    "    @constraint(Mod3,-M .* (1 .- int_line_decision_var_1[c]) .<= int_cand_flow_1[c] .- ((1 ./ int_c(1).reacT[c]) .* (int_cand_angle_1[c,1] .- int_cand_angle_1[c,2])))\n",
    "    @constraint(Mod3, int_cand_flow_1[c] .- ((1 ./ int_c(1).reacT[c]) .* (int_cand_angle_1[c,1] .- int_cand_angle_1[c,2])) .<= M .* (1 .- int_line_decision_var_1[c]))\n",
    "    @constraint(Mod3, int_cand_flow_1[c] .<= int_line_decision_var_1[c] .* int_c(1).ptMax[c])\n",
    "    @constraint(Mod3, -int_c(1).ptMax[c] .*int_line_decision_var_1[c] .<= int_cand_flow_1[c])\n",
    "end"
   ]
  },
  {
   "cell_type": "code",
   "execution_count": 68,
   "metadata": {},
   "outputs": [],
   "source": [
    "# Define constraints for Zone 2 internal candidate lines\n",
    "# These include power flow constraints and upper and lower bound of power flow on each line\n",
    "# Note that we use the same parameter M as the shared candidate lines in this example. \n",
    "# In practice you may want to configure M differently for internal lines if they have different order of magnitude of power flow compared to shared lines\n",
    "\n",
    "for c in 1:nrow(int_c(2))\n",
    "    @constraint(Mod3,-M .* (1 .- int_line_decision_var_2[c]) .<= int_cand_flow_2[c] .- ((1 ./ int_c(2).reacT[c]) .* (int_cand_angle_2[c,1] .- int_cand_angle_2[c,2])))\n",
    "    @constraint(Mod3, int_cand_flow_2[c] .- ((1 ./ int_c(2).reacT[c]) .* (int_cand_angle_2[c,1] .- int_cand_angle_2[c,2])) .<= M .* (1 .- int_line_decision_var_2[c]))\n",
    "    @constraint(Mod3, int_cand_flow_2[c] .<= int_line_decision_var_2[c] .* int_c(2).ptMax[c])\n",
    "    @constraint(Mod3, -int_c(2).ptMax[c] .*int_line_decision_var_2[c] .<= int_cand_flow_2[c])\n",
    "end"
   ]
  },
  {
   "cell_type": "code",
   "execution_count": 69,
   "metadata": {},
   "outputs": [],
   "source": [
    "# Define constraints for Zone 3 internal candidate lines\n",
    "# These include power flow constraints and upper and lower bound of power flow on each line\n",
    "# Note that we use the same parameter M as the shared candidate lines in this example. \n",
    "# In practice you may want to configure M differently for internal lines if they have different order of magnitude of power flow compared to shared lines\n",
    "\n",
    "for c in 1:nrow(int_c(3))\n",
    "    @constraint(Mod3,-M .* (1 .- int_line_decision_var_3[c]) .<= int_cand_flow_3[c] .- ((1 ./ int_c(3).reacT[c]) .* (int_cand_angle_3[c,1] .- int_cand_angle_3[c,2])))\n",
    "    @constraint(Mod3, int_cand_flow_3[c] .- ((1 ./ int_c(3).reacT[c]) .* (int_cand_angle_3[c,1] .- int_cand_angle_3[c,2])) .<= M .* (1 .- int_line_decision_var_3[c]))\n",
    "    @constraint(Mod3, int_cand_flow_3[c] .<= int_line_decision_var_3[c] .* int_c(3).ptMax[c])\n",
    "    @constraint(Mod3, -int_c(3).ptMax[c] .*int_line_decision_var_3[c] .<= int_cand_flow_3[c])\n",
    "end"
   ]
  },
  {
   "cell_type": "code",
   "execution_count": 70,
   "metadata": {},
   "outputs": [],
   "source": [
    "# Define constraints for Zone 1 internal existing lines\n",
    "# These include power flow constraints and upper and lower bound of power flow on each line\n",
    "\n",
    "for h in 1:nrow(int_e(1))\n",
    "    @constraint(Mod3, int_ex_flow_1[h] .== (1 ./ int_e(1).reacT[h]) .* (int_ex_angle_1[h,1] .- int_ex_angle_1[h,2]))\n",
    "    @constraint(Mod3, int_ex_flow_1[h] .<= int_e(1).ptMax[h])\n",
    "    @constraint(Mod3, -int_e(1).ptMax[h] .<= int_ex_flow_1[h])\n",
    "end"
   ]
  },
  {
   "cell_type": "code",
   "execution_count": 71,
   "metadata": {},
   "outputs": [],
   "source": [
    "# Define constraints for Zone 2 internal existing lines\n",
    "# These include power flow constraints and upper and lower bound of power flow on each line\n",
    "\n",
    "for h in 1:nrow(int_e(2))\n",
    "    @constraint(Mod3, int_ex_flow_2[h] .== (1 ./ int_e(2).reacT[h]) .* (int_ex_angle_2[h,1] .- int_ex_angle_2[h,2]))\n",
    "    @constraint(Mod3, int_ex_flow_2[h] .<= int_e(2).ptMax[h])\n",
    "    @constraint(Mod3, -int_e(2).ptMax[h] .<= int_ex_flow_2[h])\n",
    "    #@constraint(Mod3, (int_e(2).tNodeID1 .== 8) .* int_ex_angle_2[h,1] .== 0)\n",
    "    #@constraint(Mod3, (int_e(2).tNodeID2 .== 8) .* int_ex_angle_2[h,2] .== 0)\n",
    "end"
   ]
  },
  {
   "cell_type": "code",
   "execution_count": 92,
   "metadata": {},
   "outputs": [],
   "source": [
    "# Define constraints for Zone 3 internal existing lines\n",
    "# These include power flow constraints and upper and lower bound of power flow on each line\n",
    "\n",
    "for h in 1:nrow(int_e(3))\n",
    "    @constraint(Mod3, int_ex_flow_3[h] .== (1 ./ int_e(3).reacT[h]) .* (int_ex_angle_3[h,1] .- int_ex_angle_3[h,2]))\n",
    "    @constraint(Mod3, int_ex_flow_3[h] .<= int_e(3).ptMax[h])\n",
    "    @constraint(Mod3, -int_e(3).ptMax[h] .<= int_ex_flow_3[h])\n",
    "end"
   ]
  },
  {
   "cell_type": "code",
   "execution_count": 109,
   "metadata": {},
   "outputs": [
    {
     "name": "stdout",
     "output_type": "stream",
     "text": [
      "Presolving model\n",
      "267 rows, 372 cols, 911 nonzeros\n",
      "186 rows, 186 cols, 593 nonzeros\n",
      "168 rows, 169 cols, 549 nonzeros\n",
      "\n",
      "Solving MIP model with:\n",
      "   168 rows\n",
      "   169 cols (35 binary, 0 integer, 0 implied int., 134 continuous)\n",
      "   549 nonzeros\n",
      "\n",
      "        Nodes      |    B&B Tree     |            Objective Bounds              |  Dynamic Constraints |       Work      \n",
      "     Proc. InQueue |  Leaves   Expl. | BestBound       BestSol              Gap |   Cuts   InLp Confl. | LpIters     Time\n",
      "\n",
      "         0       0         0   0.00%   0.2519729832    inf                  inf        0      0      0         0     0.0s\n",
      " R       0       0         0   0.00%   5309.792138     5969.659925       11.05%        0      0      0       138     0.0s\n",
      " C       0       0         0   0.00%   5318.196572     5821.938201        8.65%      248     26      0       213     0.0s\n",
      " L       0       0         0   0.00%   5318.435564     5318.596585        0.00%      330     39      0       245     0.2s\n",
      "\n",
      "Solving report\n",
      "  Status            Optimal\n",
      "  Primal bound      5318.59658494\n",
      "  Dual bound        5318.43556407\n",
      "  Gap               0.00303% (tolerance: 0.01%)\n",
      "  Solution status   feasible\n",
      "                    5318.59658494 (objective)\n",
      "                    0 (bound viol.)\n",
      "                    0 (int. viol.)\n",
      "                    0 (row viol.)\n",
      "  Timing            0.17 (total)\n",
      "                    0.00 (presolve)\n",
      "                    0.00 (postsolve)\n",
      "  Nodes             1\n",
      "  LP iterations     506 (total)\n",
      "                    0 (strong br.)\n",
      "                    107 (separation)\n",
      "                    261 (heuristics)\n"
     ]
    }
   ],
   "source": [
    "# Collect the optimization problem and Solve\n",
    "\n",
    "@objective(Mod3, Min, total_cost)\n",
    "optimize!(Mod3)"
   ]
  },
  {
   "cell_type": "code",
   "execution_count": 118,
   "metadata": {},
   "outputs": [
    {
     "name": "stdout",
     "output_type": "stream",
     "text": [
      "Optimal solution found.\n",
      "{\n",
      "  \"shared_cand_phase_angle\" : Matrix{Float64}(),\n",
      "  \"shared_line_decision\" : [1.0, \n",
      "                            1.0, \n",
      "                            0.0, \n",
      "                            1.0, \n",
      "                            1.0, \n",
      "                            1.0],\n",
      "  \"int_line_decision_1\" : [0.0, 1.0, \n",
      "                           1.0, 0.0, \n",
      "                           0.0, 1.0, \n",
      "                           0.0, 0.0, \n",
      "                           0.0, 1.0],\n",
      "  \"int_line_flow_3\" : [-1.7763568394002505e-14, \n",
      "                       -0.0],\n",
      "  \"shared_ex_phase_angle\" : Matrix{Float64}(),\n",
      "  \"int_line_flow_2\" : [-83.8876543014631, \n",
      "                       -0.0, -1.4210854715202004e-14, \n",
      "                       -0.0, -0.0, \n",
      "                       -31.62146606532253, \n",
      "                       -30.715412716952954, \n",
      "                       -0.0, -0.0, \n",
      "                       -32.67387055215592, \n",
      "                       -47.7305062045773, \n",
      "                       -0.0, -0.0, \n",
      "                       -0.0, 19.086225112939207, \n",
      "                       -0.0, -0.0, \n",
      "                       -0.0],\n",
      "  \"generation_1\" : [135.72894330674228, \n",
      "                    0.0, 0.0, 0.0, \n",
      "                    0.0, 0.0, 0.0, \n",
      "                    0.0, 0.0, 0.0, \n",
      "                    0.0, 0.0, 0.0, \n",
      "                    0.0],\n",
      "  \"generation_2\" : [69.19999999999997, \n",
      "                    80.0, 0.0, 0.0, \n",
      "                    0.0, 0.0, 0.0, \n",
      "                    0.0, 0.0, 0.0, \n",
      "                    0.0, 0.0, 40.0, \n",
      "                    0.0, 0.0, 0.0, \n",
      "                    0.0, 0.0, 0.0, \n",
      "                    0.0, 0.0, 0.0, \n",
      "                    0.0, 0.0, 0.0, \n",
      "                    0.0, 0.0, 0.0, \n",
      "                    0.0, 0.0],\n",
      "  \"generation_3\" : [0.0, 0.0, 0.0, \n",
      "                    0.0, 0.0],\n",
      "  \"int_line_flow_1\" : [-0.0, 35.635125381009466, \n",
      "                       -36.135181200710754, \n",
      "                       -0.0, -0.0, \n",
      "                       -30.04583639622985, \n",
      "                       -0.0, -0.0, \n",
      "                  "
     ]
    },
    {
     "name": "stdout",
     "output_type": "stream",
     "text": [
      "     -0.0, 13.761720136141363],\n",
      "  \"shared_cand_power\" : [89.30176838277129, \n",
      "                         -28.170665832046208, \n",
      "                         -0.0, 100.0, \n",
      "                         38.03380936549386, \n",
      "                         -35.612139172086565],\n",
      "  \"obj_value\" : 5318.59658494212,\n",
      "  \"shared_ex_power\" : [23.271056693257723, \n",
      "                       -0.0, 0.0, \n",
      "                       -0.0, 67.98177077193387, \n",
      "                       30.178811950047162, \n",
      "                       -20.530543391876098, \n",
      "                       6.806531259561455],\n",
      "  \"int_line_decision_2\" : [1.0, 0.0, \n",
      "                           0.0, 0.0, \n",
      "                           0.0, 1.0, \n",
      "                           1.0, 0.0, \n",
      "                           0.0, 1.0, \n",
      "                           1.0, 0.0, \n",
      "                           0.0, 0.0, \n",
      "                           1.0, 0.0, \n",
      "                           0.0, 0.0],\n",
      "  \"int_line_decision_3\" : [0.0, 0.0],\n",
      "}"
     ]
    }
   ],
   "source": [
    "# Collect the results after the model has completed\n",
    "# TODO: This should be a dataframe or dictionary\n",
    "\n",
    "\n",
    "Centralized_with_angle_limit = Dict()   \n",
    "\n",
    "if termination_status(Mod3) == MOI.OPTIMAL\n",
    "    println(\"Optimal solution found.\")\n",
    "    Centralized_with_angle_limit[\"shared_line_decision\"] = value.(shared_line_decision_var)\n",
    "    Centralized_with_angle_limit[\"shared_cand_power\"] = value.(shared_cand_flow)\n",
    "    Centralized_with_angle_limit[\"shared_cand_phase_angle\"] = value.(shared_cand_angle)\n",
    "    Centralized_with_angle_limit[\"shared_ex_power\"] = value.(shared_ex_flow)\n",
    "    Centralized_with_angle_limit[\"shared_ex_phase_angle\"] = value.(shared_ex_angle)\n",
    "    Centralized_with_angle_limit[\"int_line_decision_1\"] = value.(int_line_decision_var_1)\n",
    "    Centralized_with_angle_limit[\"int_line_decision_2\"] = value.(int_line_decision_var_2)\n",
    "    Centralized_with_angle_limit[\"int_line_decision_3\"] = value.(int_line_decision_var_3)\n",
    "    Centralized_with_angle_limit[\"int_line_flow_1\"] = value.(int_cand_flow_1)\n",
    "    Centralized_with_angle_limit[\"int_line_flow_2\"] = value.(int_cand_flow_2)\n",
    "    Centralized_with_angle_limit[\"int_line_flow_3\"] = value.(int_cand_flow_3)\n",
    "    Centralized_with_angle_limit[\"generation_1\"] = value.(gen_var_1)\n",
    "    Centralized_with_angle_limit[\"generation_2\"] = value.(gen_var_2)\n",
    "    Centralized_with_angle_limit[\"generation_3\"] = value.(gen_var_3)\n",
    "    Centralized_with_angle_limit[\"obj_value\"] = objective_value(Mod3)\n",
    "\n",
    "    pprint(Centralized_with_angle_limit)\n",
    "else\n",
    "    println(\"Optimal solution not found.\")\n",
    "    value = JuMP.dual\n",
    "end\n",
    "\n"
   ]
  }
 ],
 "metadata": {
  "kernelspec": {
   "display_name": "Julia 1.8.3",
   "language": "julia",
   "name": "julia-1.8"
  },
  "language_info": {
   "file_extension": ".jl",
   "mimetype": "application/julia",
   "name": "julia",
   "version": "1.8.3"
  },
  "vscode": {
   "interpreter": {
    "hash": "403874d306cf060d661276ed11e97236eb32e90c8612e39c6ef404930152a095"
   }
  }
 },
 "nbformat": 4,
 "nbformat_minor": 4
}
