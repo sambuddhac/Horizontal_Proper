{
 "cells": [
  {
   "cell_type": "markdown",
   "metadata": {},
   "source": [
    "# Cooperative Solution of Multi-Regional Transmission Expansion Horizontal Investment Coordination Problem\n",
    "\n",
    "### This notebook contains codes for the three zone test case (consisting of the IEEE 14 nodes, IEEE 30 nodes, and a 5 node test system for each of the zones) under the assumption that the regional transmission planners all cooperate to achieve the maximum value of the social surplus of the broader region\n",
    "\n",
    "#### The first code block loads the different package dependencies to create the virtual environment in Julia"
   ]
  },
  {
   "cell_type": "code",
   "execution_count": 1,
   "metadata": {},
   "outputs": [
    {
     "name": "stderr",
     "output_type": "stream",
     "text": [
      "\u001b[32m\u001b[1m   Updating\u001b[22m\u001b[39m registry at `~/.julia/registries/General`\n",
      "\u001b[32m\u001b[1m  Resolving\u001b[22m\u001b[39m package versions...\n",
      "\u001b[32m\u001b[1mNo Changes\u001b[22m\u001b[39m to `~/.julia/environments/v1.5/Project.toml`\n",
      "\u001b[32m\u001b[1mNo Changes\u001b[22m\u001b[39m to `~/.julia/environments/v1.5/Manifest.toml`\n",
      "\u001b[32m\u001b[1m  Resolving\u001b[22m\u001b[39m package versions...\n",
      "\u001b[32m\u001b[1mNo Changes\u001b[22m\u001b[39m to `~/.julia/environments/v1.5/Project.toml`\n",
      "\u001b[32m\u001b[1mNo Changes\u001b[22m\u001b[39m to `~/.julia/environments/v1.5/Manifest.toml`\n",
      "\u001b[32m\u001b[1m  Resolving\u001b[22m\u001b[39m package versions...\n",
      "\u001b[32m\u001b[1mNo Changes\u001b[22m\u001b[39m to `~/.julia/environments/v1.5/Project.toml`\n",
      "\u001b[32m\u001b[1mNo Changes\u001b[22m\u001b[39m to `~/.julia/environments/v1.5/Manifest.toml`\n",
      "\u001b[32m\u001b[1m  Resolving\u001b[22m\u001b[39m package versions...\n",
      "\u001b[32m\u001b[1mNo Changes\u001b[22m\u001b[39m to `~/.julia/environments/v1.5/Project.toml`\n",
      "\u001b[32m\u001b[1mNo Changes\u001b[22m\u001b[39m to `~/.julia/environments/v1.5/Manifest.toml`\n",
      "\u001b[32m\u001b[1m  Resolving\u001b[22m\u001b[39m package versions...\n",
      "\u001b[32m\u001b[1mNo Changes\u001b[22m\u001b[39m to `~/.julia/environments/v1.5/Project.toml`\n",
      "\u001b[32m\u001b[1mNo Changes\u001b[22m\u001b[39m to `~/.julia/environments/v1.5/Manifest.toml`\n"
     ]
    }
   ],
   "source": [
    "import Pkg\n",
    "Pkg.add(\"GLPK\")\n",
    "Pkg.add(\"XLSX\")\n",
    "Pkg.add(\"SCIP\")\n",
    "Pkg.add(\"Ipopt\")\n",
    "Pkg.add(\"Cbc\")\n",
    "using Pkg\n",
    "using JuMP\n",
    "using GLPK\n",
    "using XLSX\n",
    "using SCIP\n",
    "using Ipopt\n",
    "using Cbc\n",
    "using DataFrames\n",
    "using DataFrames\n",
    "import Pkg; Pkg.add(\"HiGHS\")"
   ]
  },
  {
   "cell_type": "markdown",
   "metadata": {},
   "source": [
    "#### The next code block reads the different files corresponding to shared candidate lines, internal candidate lines, shared existing lines, internal existing lines, generators, and load"
   ]
  },
  {
   "cell_type": "code",
   "execution_count": 2,
   "metadata": {},
   "outputs": [
    {
     "data": {
      "text/html": [
       "<table class=\"data-frame\"><thead><tr><th></th><th>zoneNum</th><th>lNodeID</th><th>P_load1</th><th>P_load2</th><th>P_load3</th><th>P_load4</th></tr><tr><th></th><th>Any</th><th>Any</th><th>Any</th><th>Any</th><th>Any</th><th>Any</th></tr></thead><tbody><p>35 rows × 6 columns</p><tr><th>1</th><td>1</td><td>2</td><td>-21.7</td><td>-10.85</td><td>-16.275</td><td>-5.425</td></tr><tr><th>2</th><td>1</td><td>3</td><td>-94.2</td><td>-47.1</td><td>-70.65</td><td>-23.55</td></tr><tr><th>3</th><td>1</td><td>4</td><td>-47.8</td><td>-23.9</td><td>-35.85</td><td>-11.95</td></tr><tr><th>4</th><td>1</td><td>5</td><td>-7.6</td><td>-3.8</td><td>-5.7</td><td>-1.9</td></tr><tr><th>5</th><td>1</td><td>6</td><td>-11.2</td><td>-5.6</td><td>-8.4</td><td>-2.8</td></tr><tr><th>6</th><td>1</td><td>9</td><td>-29.5</td><td>-14.75</td><td>-22.125</td><td>-7.375</td></tr><tr><th>7</th><td>1</td><td>10</td><td>-9</td><td>-4.5</td><td>-6.75</td><td>-2.25</td></tr><tr><th>8</th><td>1</td><td>11</td><td>-3.5</td><td>-1.75</td><td>-2.625</td><td>-0.875</td></tr><tr><th>9</th><td>1</td><td>12</td><td>-6.1</td><td>-3.05</td><td>-4.575</td><td>-1.525</td></tr><tr><th>10</th><td>1</td><td>13</td><td>-13.5</td><td>-6.75</td><td>-10.125</td><td>-3.375</td></tr><tr><th>11</th><td>1</td><td>14</td><td>-14.9</td><td>-7.45</td><td>-11.175</td><td>-3.725</td></tr><tr><th>12</th><td>2</td><td>2</td><td>-21.7</td><td>-10.85</td><td>-16.275</td><td>-5.425</td></tr><tr><th>13</th><td>2</td><td>3</td><td>-2.4</td><td>-1.2</td><td>-1.8</td><td>-0.6</td></tr><tr><th>14</th><td>2</td><td>4</td><td>-7.6</td><td>-3.8</td><td>-5.7</td><td>-1.9</td></tr><tr><th>15</th><td>2</td><td>7</td><td>-22.8</td><td>-11.4</td><td>-17.1</td><td>-5.7</td></tr><tr><th>16</th><td>2</td><td>8</td><td>-30</td><td>-15</td><td>-22.5</td><td>-7.5</td></tr><tr><th>17</th><td>2</td><td>10</td><td>-5.8</td><td>-2.9</td><td>-4.35</td><td>-1.45</td></tr><tr><th>18</th><td>2</td><td>12</td><td>-11.2</td><td>-5.6</td><td>-8.4</td><td>-2.8</td></tr><tr><th>19</th><td>2</td><td>14</td><td>-6.2</td><td>-3.1</td><td>-4.65</td><td>-1.55</td></tr><tr><th>20</th><td>2</td><td>15</td><td>-8.2</td><td>-4.1</td><td>-6.15</td><td>-2.05</td></tr><tr><th>21</th><td>2</td><td>16</td><td>-3.5</td><td>-1.75</td><td>-2.625</td><td>-0.875</td></tr><tr><th>22</th><td>2</td><td>17</td><td>-9</td><td>-4.5</td><td>-6.75</td><td>-2.25</td></tr><tr><th>23</th><td>2</td><td>18</td><td>-3.2</td><td>-1.6</td><td>-2.4</td><td>-0.8</td></tr><tr><th>24</th><td>2</td><td>19</td><td>-9.5</td><td>-4.75</td><td>-7.125</td><td>-2.375</td></tr><tr><th>25</th><td>2</td><td>20</td><td>-2.2</td><td>-1.1</td><td>-1.65</td><td>-0.55</td></tr><tr><th>26</th><td>2</td><td>21</td><td>-17.5</td><td>-8.75</td><td>-13.125</td><td>-4.375</td></tr><tr><th>27</th><td>2</td><td>23</td><td>-3.2</td><td>-1.6</td><td>-2.4</td><td>-0.8</td></tr><tr><th>28</th><td>2</td><td>24</td><td>-8.7</td><td>-4.35</td><td>-6.525</td><td>-2.175</td></tr><tr><th>29</th><td>2</td><td>26</td><td>-3.5</td><td>-1.75</td><td>-2.625</td><td>-0.875</td></tr><tr><th>30</th><td>2</td><td>29</td><td>-2.4</td><td>-1.2</td><td>-1.8</td><td>-0.6</td></tr><tr><th>&vellip;</th><td>&vellip;</td><td>&vellip;</td><td>&vellip;</td><td>&vellip;</td><td>&vellip;</td><td>&vellip;</td></tr></tbody></table>"
      ],
      "text/latex": [
       "\\begin{tabular}{r|cccccc}\n",
       "\t& zoneNum & lNodeID & P\\_load1 & P\\_load2 & P\\_load3 & P\\_load4\\\\\n",
       "\t\\hline\n",
       "\t& Any & Any & Any & Any & Any & Any\\\\\n",
       "\t\\hline\n",
       "\t1 & 1 & 2 & -21.7 & -10.85 & -16.275 & -5.425 \\\\\n",
       "\t2 & 1 & 3 & -94.2 & -47.1 & -70.65 & -23.55 \\\\\n",
       "\t3 & 1 & 4 & -47.8 & -23.9 & -35.85 & -11.95 \\\\\n",
       "\t4 & 1 & 5 & -7.6 & -3.8 & -5.7 & -1.9 \\\\\n",
       "\t5 & 1 & 6 & -11.2 & -5.6 & -8.4 & -2.8 \\\\\n",
       "\t6 & 1 & 9 & -29.5 & -14.75 & -22.125 & -7.375 \\\\\n",
       "\t7 & 1 & 10 & -9 & -4.5 & -6.75 & -2.25 \\\\\n",
       "\t8 & 1 & 11 & -3.5 & -1.75 & -2.625 & -0.875 \\\\\n",
       "\t9 & 1 & 12 & -6.1 & -3.05 & -4.575 & -1.525 \\\\\n",
       "\t10 & 1 & 13 & -13.5 & -6.75 & -10.125 & -3.375 \\\\\n",
       "\t11 & 1 & 14 & -14.9 & -7.45 & -11.175 & -3.725 \\\\\n",
       "\t12 & 2 & 2 & -21.7 & -10.85 & -16.275 & -5.425 \\\\\n",
       "\t13 & 2 & 3 & -2.4 & -1.2 & -1.8 & -0.6 \\\\\n",
       "\t14 & 2 & 4 & -7.6 & -3.8 & -5.7 & -1.9 \\\\\n",
       "\t15 & 2 & 7 & -22.8 & -11.4 & -17.1 & -5.7 \\\\\n",
       "\t16 & 2 & 8 & -30 & -15 & -22.5 & -7.5 \\\\\n",
       "\t17 & 2 & 10 & -5.8 & -2.9 & -4.35 & -1.45 \\\\\n",
       "\t18 & 2 & 12 & -11.2 & -5.6 & -8.4 & -2.8 \\\\\n",
       "\t19 & 2 & 14 & -6.2 & -3.1 & -4.65 & -1.55 \\\\\n",
       "\t20 & 2 & 15 & -8.2 & -4.1 & -6.15 & -2.05 \\\\\n",
       "\t21 & 2 & 16 & -3.5 & -1.75 & -2.625 & -0.875 \\\\\n",
       "\t22 & 2 & 17 & -9 & -4.5 & -6.75 & -2.25 \\\\\n",
       "\t23 & 2 & 18 & -3.2 & -1.6 & -2.4 & -0.8 \\\\\n",
       "\t24 & 2 & 19 & -9.5 & -4.75 & -7.125 & -2.375 \\\\\n",
       "\t25 & 2 & 20 & -2.2 & -1.1 & -1.65 & -0.55 \\\\\n",
       "\t26 & 2 & 21 & -17.5 & -8.75 & -13.125 & -4.375 \\\\\n",
       "\t27 & 2 & 23 & -3.2 & -1.6 & -2.4 & -0.8 \\\\\n",
       "\t28 & 2 & 24 & -8.7 & -4.35 & -6.525 & -2.175 \\\\\n",
       "\t29 & 2 & 26 & -3.5 & -1.75 & -2.625 & -0.875 \\\\\n",
       "\t30 & 2 & 29 & -2.4 & -1.2 & -1.8 & -0.6 \\\\\n",
       "\t$\\dots$ & $\\dots$ & $\\dots$ & $\\dots$ & $\\dots$ & $\\dots$ & $\\dots$ \\\\\n",
       "\\end{tabular}\n"
      ],
      "text/plain": [
       "\u001b[1m35×6 DataFrame\u001b[0m\n",
       "\u001b[1m Row \u001b[0m│\u001b[1m zoneNum \u001b[0m\u001b[1m lNodeID \u001b[0m\u001b[1m P_load1 \u001b[0m\u001b[1m P_load2 \u001b[0m\u001b[1m P_load3 \u001b[0m\u001b[1m P_load4 \u001b[0m\n",
       "\u001b[1m     \u001b[0m│\u001b[90m Any     \u001b[0m\u001b[90m Any     \u001b[0m\u001b[90m Any     \u001b[0m\u001b[90m Any     \u001b[0m\u001b[90m Any     \u001b[0m\u001b[90m Any     \u001b[0m\n",
       "─────┼──────────────────────────────────────────────────────\n",
       "   1 │ 1        2        -21.7    -10.85   -16.275  -5.425\n",
       "   2 │ 1        3        -94.2    -47.1    -70.65   -23.55\n",
       "   3 │ 1        4        -47.8    -23.9    -35.85   -11.95\n",
       "   4 │ 1        5        -7.6     -3.8     -5.7     -1.9\n",
       "   5 │ 1        6        -11.2    -5.6     -8.4     -2.8\n",
       "   6 │ 1        9        -29.5    -14.75   -22.125  -7.375\n",
       "   7 │ 1        10       -9       -4.5     -6.75    -2.25\n",
       "   8 │ 1        11       -3.5     -1.75    -2.625   -0.875\n",
       "   9 │ 1        12       -6.1     -3.05    -4.575   -1.525\n",
       "  10 │ 1        13       -13.5    -6.75    -10.125  -3.375\n",
       "  11 │ 1        14       -14.9    -7.45    -11.175  -3.725\n",
       "  ⋮  │    ⋮        ⋮        ⋮        ⋮        ⋮        ⋮\n",
       "  26 │ 2        21       -17.5    -8.75    -13.125  -4.375\n",
       "  27 │ 2        23       -3.2     -1.6     -2.4     -0.8\n",
       "  28 │ 2        24       -8.7     -4.35    -6.525   -2.175\n",
       "  29 │ 2        26       -3.5     -1.75    -2.625   -0.875\n",
       "  30 │ 2        29       -2.4     -1.2     -1.8     -0.6\n",
       "  31 │ 2        30       -10.6    -5.3     -7.95    -2.65\n",
       "  32 │ 3        2        -20      -10      -15      -5\n",
       "  33 │ 3        3        -45      -22.5    -33.75   -11.25\n",
       "  34 │ 3        4        -40      -20      -30      -10\n",
       "  35 │ 3        5        -60      -30      -45      -15\n",
       "\u001b[36m                                             14 rows omitted\u001b[0m"
      ]
     },
     "execution_count": 2,
     "metadata": {},
     "output_type": "execute_result"
    }
   ],
   "source": [
    "shared_cand = DataFrame(XLSX.readtable(\"../Input_Data/CandLine.csv\", \"Taul1\", header=true)...) #Dataframe of shared candidate lines\n",
    "int_cand =  DataFrame(XLSX.readtable(\"../Input_Data/CandLineInt.csv\", \"Taul1\", header=true)...) #Dataframe of internal candidate lines\n",
    "shared_ex =  DataFrame(XLSX.readtable(\"../Input_Data/SharedEline.csv\", \"Taul1\", header=true)...) #Dataframe of shared existing lines\n",
    "int_ex = DataFrame(XLSX.readtable(\"../Input_Data/Tran.csv\", \"Taul1\", header=true)...) #Dataframe of internal existing lines\n",
    "gen =  DataFrame(XLSX.readtable(\"../Input_Data/Gen.csv\" , \"Taul1\", header=true)...) #Dataframe of generators\n",
    "load =  DataFrame(XLSX.readtable(\"../Input_Data/Load.csv\", \"Taul1\", header=true)...) #Dataframe of loads\n",
    "##An example of the load dataframe can be found as follows"
   ]
  },
  {
   "cell_type": "markdown",
   "metadata": {},
   "source": [
    "#### The following code-section constructs several DataFrames for each zone or region, for loads within a particular zone, generators within a particular zone, shared candidate lines originating from or terminating within a particular zone, internal candidate lines within a particular zone, shared existing lines originating from or terminating within a particular zone, internal existing lines within a particular zone, marginal costs of generators within a particular zone, and two binary vectors for each zone, one for checking which all shared candidate lines belong to a particular zone and the other for checking which all shared existing lines belong to a particular zone."
   ]
  },
  {
   "cell_type": "code",
   "execution_count": 3,
   "metadata": {},
   "outputs": [
    {
     "data": {
      "text/plain": [
       "bin_e (generic function with 1 method)"
      ]
     },
     "execution_count": 3,
     "metadata": {},
     "output_type": "execute_result"
    }
   ],
   "source": [
    "l(i) = load[load.zoneNum .== i, :] # load within zone i\n",
    "g(i) = gen[gen.zoneNum .== i, :]   # generators within zone i\n",
    "shared_c(i) = vcat(shared_cand[shared_cand.nodeZone1 .== i,:] , shared_cand[shared_cand.nodeZone2 .== i, :]) #shared candidate lines within zone i\n",
    "int_c(i) = int_cand[int_cand.zoneNum .== i, :]   # number of internal candidate lines within zone i\n",
    "shared_e(i) = vcat(shared_ex[shared_ex.nodeZone1 .== i,:] , shared_ex[shared_ex.nodeZone2 .== i, :]) #shared existing lines within zone i\n",
    "int_e(i) =int_ex[int_ex.zoneNum .== i, :]       # internal existing lines within zone i\n",
    "MC(i) = (g(i).C2 .* (g(i).PgMax .^ 2) .+ g(i).C1 .* g(i).PgMax .- g(i).C2 .*(g(i).PgMin .^ 2) .- g(i).C1 .* g(i).PgMin) ./ (g(i).PgMax .- g(i).PgMin) #Marginal cost of generators within zone i\n",
    "bin_c(i) = (shared_cand.nodeZone1 .== i) + (shared_cand.nodeZone2 .== i) # A binary vector through which we can check if the shared candidate lines belong to zone i\n",
    "bin_e(i) = (shared_ex.nodeZone1 .== i) + (shared_ex.nodeZone2 .== i) # A binary vector through which we can check if the shared existing lines belong to zone i"
   ]
  },
  {
   "cell_type": "markdown",
   "metadata": {},
   "source": [
    "#### Constructing the optimization model with a specified solver"
   ]
  },
  {
   "cell_type": "code",
   "execution_count": 4,
   "metadata": {},
   "outputs": [
    {
     "data": {
      "text/latex": [
       "$$ \\begin{alignat*}{1}\\text{feasibility}\\\\\n",
       "\\text{Subject to} \\quad\\end{alignat*}\n",
       " $$"
      ],
      "text/plain": [
       "A JuMP Model\n",
       "Feasibility problem with:\n",
       "Variables: 0\n",
       "Model mode: AUTOMATIC\n",
       "CachingOptimizer state: EMPTY_OPTIMIZER\n",
       "Solver name: GLPK"
      ]
     },
     "execution_count": 4,
     "metadata": {},
     "output_type": "execute_result"
    }
   ],
   "source": [
    "Mod3 = Model(GLPK.Optimizer)"
   ]
  },
  {
   "cell_type": "code",
   "execution_count": 5,
   "metadata": {},
   "outputs": [],
   "source": [
    "node_number = 3;"
   ]
  },
  {
   "cell_type": "code",
   "execution_count": 6,
   "metadata": {},
   "outputs": [
    {
     "data": {
      "text/plain": [
       "7×2 Array{VariableRef,2}:\n",
       " int_ex_angle_3[1,1]  int_ex_angle_3[1,2]\n",
       " int_ex_angle_3[2,1]  int_ex_angle_3[2,2]\n",
       " int_ex_angle_3[3,1]  int_ex_angle_3[3,2]\n",
       " int_ex_angle_3[4,1]  int_ex_angle_3[4,2]\n",
       " int_ex_angle_3[5,1]  int_ex_angle_3[5,2]\n",
       " int_ex_angle_3[6,1]  int_ex_angle_3[6,2]\n",
       " int_ex_angle_3[7,1]  int_ex_angle_3[7,2]"
      ]
     },
     "execution_count": 6,
     "metadata": {},
     "output_type": "execute_result"
    }
   ],
   "source": [
    "@variable(Mod3,0 <= gen_var_1[1:14]) # generation at node 1\n",
    "@variable(Mod3,0 <= gen_var_2[1:30]) # generation at node 2\n",
    "@variable(Mod3,0 <= gen_var_3[1:5]) # generation at node 3\n",
    "\n",
    "@variable(Mod3,shared_line_decision_var_1[1:nrow(shared_cand)], Bin) #Decision variable for shared candidate lines\n",
    "@variable(Mod3,shared_line_decision_var_2[1:nrow(shared_cand)], Bin) #Decision variable for shared candidate lines\n",
    "@variable(Mod3,shared_line_decision_var_3[1:nrow(shared_cand)], Bin) #Decision variable for shared candidate lines\n",
    "\n",
    "@variable(Mod3,int_line_decision_var_1[1:nrow(int_c(1))], Bin) #Decision variable for internal candidate lines of zone 1 (Binary)\n",
    "@variable(Mod3,int_line_decision_var_2[1:nrow(int_c(2))], Bin) #Decision variable for internal candidate lines of zone 2 (Binary)\n",
    "@variable(Mod3,int_line_decision_var_3[1:nrow(int_c(3))], Bin) #Decision variable for internal candidate lines of zone 3 (Binary)\n",
    "\n",
    "@variable(Mod3,shared_cand_flow[1:nrow(shared_cand)])  #Power flowing on shared candidate lines \n",
    "\n",
    "@variable(Mod3,int_cand_flow_1[1:nrow(int_c(1))]) #Power flowing on internal candidate lines of zone 1 \n",
    "@variable(Mod3,int_cand_flow_2[1:nrow(int_c(2))]) #Power flowing on internal candidate lines of zone 2\n",
    "@variable(Mod3,int_cand_flow_3[1:nrow(int_c(3))]) #Power flowing on internal candidate lines of zone 3\n",
    "\n",
    "@variable(Mod3,0 <= shared_cand_angle[1:nrow(shared_cand),1:2]) #Phase angle decision for shared candidate lines\n",
    "\n",
    "@variable(Mod3,0 <= int_cand_angle_1[1:nrow(int_c(1)),1:2]) #Phase angle decision for internal candidate lines of zone 1 \n",
    "@variable(Mod3,0 <= int_cand_angle_2[1:nrow(int_c(2)),1:2]) #Phase angle decision for internal candidate lines of zone 2\n",
    "@variable(Mod3,0 <= int_cand_angle_3[1:nrow(int_c(3)),1:2]) #Phase angle decision for internal candidate lines of zone 3 \n",
    "\n",
    "@variable(Mod3,shared_ex_flow[1:nrow(shared_ex)])  #Power flowing on shared existing shared lines\n",
    "\n",
    "@variable(Mod3,int_ex_flow_1[1:nrow(int_e(1))])  #Power flowing on internal existing lines of zone 1 \n",
    "@variable(Mod3,int_ex_flow_2[1:nrow(int_e(2))])  #Power flowing on internal existing lines of zone 2\n",
    "@variable(Mod3,int_ex_flow_3[1:nrow(int_e(3))])  #Power flowing on internal existing lines of zone 3\n",
    "\n",
    "@variable(Mod3,0 <= shared_ex_angle[1:nrow(shared_ex),1:2]) #Phase angle for existing shared lines\n",
    "\n",
    "@variable(Mod3,0 <= int_ex_angle_1[1:nrow(int_e(1)),1:2]) #Phase angle decision for existing internal lines of zone 1\n",
    "@variable(Mod3,0 <= int_ex_angle_2[1:nrow(int_e(2)),1:2]) #Phase angle decision for existing internal lines of zone 2\n",
    "@variable(Mod3,0 <= int_ex_angle_3[1:nrow(int_e(3)),1:2]) #Phase angle decision for existing internal lines of zone 3\n"
   ]
  },
  {
   "cell_type": "code",
   "execution_count": 7,
   "metadata": {},
   "outputs": [
    {
     "data": {
      "text/latex": [
       "$$ 34.30293932 gen\\_var\\_1_{1} + 55 gen\\_var\\_1_{2} + 3.6 gen\\_var\\_2_{1} + 3.15 gen\\_var\\_2_{2} + 3.5 gen\\_var\\_2_{13} + 3.667 gen\\_var\\_2_{22} + 3.75 gen\\_var\\_2_{23} + 4.375 gen\\_var\\_2_{27} + 16.30293932 gen\\_var\\_3_{1} + 37 gen\\_var\\_3_{2} + 0.2410176361372405 shared\\_line\\_decision\\_var\\_1_{1} + 0.19594024895900847 shared\\_line\\_decision\\_var\\_1_{2} + 0.44297470440637654 shared\\_line\\_decision\\_var\\_1_{3} + 0.6532451422553538 shared\\_line\\_decision\\_var\\_1_{4} + 0.6532451422553538 shared\\_line\\_decision\\_var\\_2_{4} + 0.1533748593600621 shared\\_line\\_decision\\_var\\_2_{5} + 0.34289543567826486 shared\\_line\\_decision\\_var\\_2_{6} + 0.2410176361372405 shared\\_line\\_decision\\_var\\_3_{1} + 0.19594024895900847 shared\\_line\\_decision\\_var\\_3_{2} + 0.44297470440637654 shared\\_line\\_decision\\_var\\_3_{3} + 0.1533748593600621 shared\\_line\\_decision\\_var\\_3_{5} + 0.34289543567826486 shared\\_line\\_decision\\_var\\_3_{6} + 0.1533748593600621 int\\_line\\_decision\\_var\\_1_{1} + 0.34289543567826486 int\\_line\\_decision\\_var\\_1_{2} + 0.2519729832343877 int\\_line\\_decision\\_var\\_1_{3} + 0.21553427385490934 int\\_line\\_decision\\_var\\_1_{4} + 0.44297470440637654 int\\_line\\_decision\\_var\\_1_{5} + 6.532451422553539 int\\_line\\_decision\\_var\\_1_{6} + 1.5337485936006214 int\\_line\\_decision\\_var\\_1_{7} + 3.673879667981409 int\\_line\\_decision\\_var\\_1_{8} + 2.355399625886668 int\\_line\\_decision\\_var\\_1_{9} + 2.400268049747854 int\\_line\\_decision\\_var\\_1_{10} + 1.5337485936006214 int\\_line\\_decision\\_var\\_2_{1} + 3.7718497924609133 int\\_line\\_decision\\_var\\_2_{2} + 2.9579437162297695 int\\_line\\_decision\\_var\\_2_{3} + 1.175641493754051 int\\_line\\_decision\\_var\\_2_{4} + 4.429747044063765 int\\_line\\_decision\\_var\\_2_{5} + 6.532451422553539 int\\_line\\_decision\\_var\\_2_{6} + 1.5337485936006214 int\\_line\\_decision\\_var\\_2_{7} + 4.261700414858434 int\\_line\\_decision\\_var\\_2_{8} + 0.2410176361372405 int\\_line\\_decision\\_var\\_2_{9} + 0.26451933609466144 int\\_line\\_decision\\_var\\_2_{10} + 0.44297470440637654 int\\_line\\_decision\\_var\\_2_{11} + 0.6532451422553538 int\\_line\\_decision\\_var\\_2_{12} + 0.44297470440637654 int\\_line\\_decision\\_var\\_2_{13} + 0.6532451422553538 int\\_line\\_decision\\_var\\_2_{14} + 0.1533748593600621 int\\_line\\_decision\\_var\\_2_{15} + 0.323301410782364 int\\_line\\_decision\\_var\\_2_{16} + 0.3505711071087135 int\\_line\\_decision\\_var\\_2_{17} + 4.429747044063765 int\\_line\\_decision\\_var\\_2_{18} + 0.21910694194294586 int\\_line\\_decision\\_var\\_3_{1} + 0.22043278007888453 int\\_line\\_decision\\_var\\_3_{2} $$"
      ],
      "text/plain": [
       "34.30293932 gen_var_1[1] + 55 gen_var_1[2] + 3.6 gen_var_2[1] + 3.15 gen_var_2[2] + 3.5 gen_var_2[13] + 3.667 gen_var_2[22] + 3.75 gen_var_2[23] + 4.375 gen_var_2[27] + 16.30293932 gen_var_3[1] + 37 gen_var_3[2] + 0.2410176361372405 shared_line_decision_var_1[1] + 0.19594024895900847 shared_line_decision_var_1[2] + 0.44297470440637654 shared_line_decision_var_1[3] + 0.6532451422553538 shared_line_decision_var_1[4] + 0.6532451422553538 shared_line_decision_var_2[4] + 0.1533748593600621 shared_line_decision_var_2[5] + 0.34289543567826486 shared_line_decision_var_2[6] + 0.2410176361372405 shared_line_decision_var_3[1] + 0.19594024895900847 shared_line_decision_var_3[2] + 0.44297470440637654 shared_line_decision_var_3[3] + 0.1533748593600621 shared_line_decision_var_3[5] + 0.34289543567826486 shared_line_decision_var_3[6] + 0.1533748593600621 int_line_decision_var_1[1] + 0.34289543567826486 int_line_decision_var_1[2] + 0.2519729832343877 int_line_decision_var_1[3] + 0.21553427385490934 int_line_decision_var_1[4] + 0.44297470440637654 int_line_decision_var_1[5] + 6.532451422553539 int_line_decision_var_1[6] + 1.5337485936006214 int_line_decision_var_1[7] + 3.673879667981409 int_line_decision_var_1[8] + 2.355399625886668 int_line_decision_var_1[9] + 2.400268049747854 int_line_decision_var_1[10] + 1.5337485936006214 int_line_decision_var_2[1] + 3.7718497924609133 int_line_decision_var_2[2] + 2.9579437162297695 int_line_decision_var_2[3] + 1.175641493754051 int_line_decision_var_2[4] + 4.429747044063765 int_line_decision_var_2[5] + 6.532451422553539 int_line_decision_var_2[6] + 1.5337485936006214 int_line_decision_var_2[7] + 4.261700414858434 int_line_decision_var_2[8] + 0.2410176361372405 int_line_decision_var_2[9] + 0.26451933609466144 int_line_decision_var_2[10] + 0.44297470440637654 int_line_decision_var_2[11] + 0.6532451422553538 int_line_decision_var_2[12] + 0.44297470440637654 int_line_decision_var_2[13] + 0.6532451422553538 int_line_decision_var_2[14] + 0.1533748593600621 int_line_decision_var_2[15] + 0.323301410782364 int_line_decision_var_2[16] + 0.3505711071087135 int_line_decision_var_2[17] + 4.429747044063765 int_line_decision_var_2[18] + 0.21910694194294586 int_line_decision_var_3[1] + 0.22043278007888453 int_line_decision_var_3[2]"
      ]
     },
     "execution_count": 7,
     "metadata": {},
     "output_type": "execute_result"
    }
   ],
   "source": [
    "@expression(Mod3, total_cost , sum((gen_var_1[n] .* sum((g(1).gNodeID .== n) .* MC(1))) for n in 1:14)\n",
    "    .+ sum((gen_var_2[n] .* sum((g(2).gNodeID .== n) .* MC(2))) for n in 1:30)\n",
    "    .+ sum((gen_var_3[n] .* sum((g(3).gNodeID .== n) .* MC(3))) for n in 1:5)\n",
    "    .+ sum(bin_c(1)[c] .* shared_line_decision_var_1[c] .* shared_cand.costPerCap[c] .* shared_cand.interestRate[c] \n",
    "            .*((1 + shared_cand.interestRate[c]) .^ shared_cand.lifeTime[c]) ./ (((1 + shared_cand.interestRate[c]) .^ shared_cand.lifeTime[c])-1) for c in 1:nrow(shared_cand))\n",
    "    .+ sum(bin_c(2)[c] .* shared_line_decision_var_2[c] .* shared_cand.costPerCap[c] .* shared_cand.interestRate[c] \n",
    "            .*((1 + shared_cand.interestRate[c]) .^ shared_cand.lifeTime[c]) ./ (((1 + shared_cand.interestRate[c]) .^ shared_cand.lifeTime[c])-1) for c in 1:nrow(shared_cand))\n",
    "    .+ sum(bin_c(3)[c] .* shared_line_decision_var_3[c] .* shared_cand.costPerCap[c] .* shared_cand.interestRate[c] \n",
    "            .*((1 + shared_cand.interestRate[c]) .^ shared_cand.lifeTime[c]) ./ (((1 + shared_cand.interestRate[c]) .^ shared_cand.lifeTime[c])-1) for c in 1:nrow(shared_cand))\n",
    "    .+ sum(int_line_decision_var_1[c] .* int_c(1).costPerCap[c] .* int_c(1).interestRate[c] \n",
    "            .*((1 + int_c(1).interestRate[c]) .^ int_c(1).lifeTime[c]) ./ (((1 + int_c(1).interestRate[c]) .^ int_c(1).lifeTime[c])-1) for c in 1:nrow(int_c(1)))\n",
    "    .+ sum(int_line_decision_var_2[c] .* int_c(2).costPerCap[c] .* int_c(2).interestRate[c] \n",
    "            .*((1 + int_c(2).interestRate[c]) .^ int_c(2).lifeTime[c]) ./ (((1 + int_c(2).interestRate[c]) .^ int_c(2).lifeTime[c])-1) for c in 1:nrow(int_c(2)))\n",
    "    .+ sum(int_line_decision_var_3[c] .* int_c(3).costPerCap[c] .* int_c(3).interestRate[c] \n",
    "            .*((1 + int_c(3).interestRate[c]) .^ int_c(3).lifeTime[c]) ./ (((1 + int_c(3).interestRate[c]) .^ int_c(3).lifeTime[c])-1) for c in 1:nrow(int_c(3))))   "
   ]
  },
  {
   "cell_type": "code",
   "execution_count": 8,
   "metadata": {},
   "outputs": [],
   "source": [
    "#The first zone\n",
    "for n in 1:14\n",
    "        # Power balance constraint for each node\n",
    "    @constraint(Mod3, sum(g(1).gNodeID .== n) .* gen_var_1[n] .+ sum(l(1).P_load1 .* (l(1).lNodeID .== n)) .==\n",
    "        sum((shared_cand.tNodeID1 .== n) .*bin_c(1) .* shared_cand_flow) .- sum((shared_cand.tNodeID2 .== n) .* bin_c(1) .* shared_cand_flow) .+\n",
    "        sum((shared_ex.tNodeID1 .== n) .* bin_e(1) .* shared_ex_flow) .- sum((shared_ex.tNodeID2 .== n) .* bin_e(1) .* shared_ex_flow) .+\n",
    "        sum((int_c(1).tNodeID1 .== n) .* int_cand_flow_1) .- sum((int_c(1).tNodeID2 .== n) .* int_cand_flow_1) .+\n",
    "        sum((int_e(1).tNodeID1 .== n) .* int_ex_flow_1) .- sum((int_e(1).tNodeID2 .== n) .* int_ex_flow_1))\n",
    "        #Lower limit for generation of each node\n",
    "    @constraint(Mod3, sum(g(1).gNodeID .== n) .* gen_var_1[n] .<= sum((g(1).gNodeID .== n) .* g(1).PgMax))\n",
    "        #Upper limit for generation of each node\n",
    "    @constraint(Mod3, sum((g(1).gNodeID .== n) .* g(1).PgMin) .<= sum(g(1).gNodeID .== n) .* gen_var_1[n])\n",
    "end"
   ]
  },
  {
   "cell_type": "code",
   "execution_count": 9,
   "metadata": {},
   "outputs": [],
   "source": [
    "#The second zone\n",
    "for n in 1:30\n",
    "        # Power balance constraint for each node\n",
    "    @constraint(Mod3, sum(g(2).gNodeID .== n) .* gen_var_2[n] .+ sum(l(2).P_load1 .* (l(2).lNodeID .== n)) .==\n",
    "        sum((shared_cand.tNodeID1 .== n) .*bin_c(2) .* shared_cand_flow) .- sum((shared_cand.tNodeID2 .== n) .* bin_c(2) .* shared_cand_flow) .+\n",
    "        sum((shared_ex.tNodeID1 .== n) .* bin_e(2) .* shared_ex_flow) .- sum((shared_ex.tNodeID2 .== n) .* bin_e(2) .* shared_ex_flow) .+\n",
    "        sum((int_c(2).tNodeID1 .== n) .* int_cand_flow_2) .- sum((int_c(2).tNodeID2 .== n) .* int_cand_flow_2) .+\n",
    "        sum((int_e(2).tNodeID1 .== n) .* int_ex_flow_2) .- sum((int_e(2).tNodeID2 .== n) .* int_ex_flow_2))\n",
    "        #Lower limit for generation of each node\n",
    "    @constraint(Mod3, sum(g(2).gNodeID .== n) .* gen_var_2[n] .<= sum((g(2).gNodeID .== n) .* g(2).PgMax))\n",
    "        #Upper limit for generation of each node\n",
    "    @constraint(Mod3, sum((g(2).gNodeID .== n) .* g(2).PgMin) .<= sum(g(2).gNodeID .== n) .* gen_var_2[n])\n",
    "end"
   ]
  },
  {
   "cell_type": "code",
   "execution_count": 10,
   "metadata": {},
   "outputs": [],
   "source": [
    "#The third zone\n",
    "for n in 1:5\n",
    "        # Power balance constraint for each node\n",
    "    @constraint(Mod3, sum(g(3).gNodeID .== n) .* gen_var_3[n] .+ sum(l(3).P_load1 .* (l(3).lNodeID .== n)) .==\n",
    "        sum((shared_cand.tNodeID1 .== n) .*bin_c(3) .* shared_cand_flow) .- sum((shared_cand.tNodeID2 .== n) .* bin_c(3) .* shared_cand_flow) .+\n",
    "        sum((shared_ex.tNodeID1 .== n) .* bin_e(3) .* shared_ex_flow) .- sum((shared_ex.tNodeID2 .== n) .* bin_e(3) .* shared_ex_flow) .+\n",
    "        sum((int_c(3).tNodeID1 .== n) .* int_cand_flow_3) .- sum((int_c(3).tNodeID2 .== n) .* int_cand_flow_3) .+\n",
    "        sum((int_e(3).tNodeID1 .== n) .* int_ex_flow_3) .- sum((int_e(3).tNodeID2 .== n) .* int_ex_flow_3))\n",
    "        #Lower limit for generation of each node\n",
    "    @constraint(Mod3, sum(g(3).gNodeID .== n) .* gen_var_3[n] .<= sum((g(3).gNodeID .== n) .* g(3).PgMax))\n",
    "        #Upper limit for generation of each node\n",
    "    @constraint(Mod3, sum((g(3).gNodeID .== n) .* g(3).PgMin) .<= sum(g(3).gNodeID .== n) .* gen_var_3[n])\n",
    "end"
   ]
  },
  {
   "cell_type": "code",
   "execution_count": 11,
   "metadata": {},
   "outputs": [],
   "source": [
    "#Shared candidate lines\n",
    "M = 100\n",
    "for c in 1:nrow(shared_cand)\n",
    "    @constraint(Mod3,-M .* (1 .- bin_c(1) .* shared_line_decision_var_1[c]) .<= bin_c(1) .* shared_cand_flow[c] .- bin_c(1) .* ((1 ./ shared_cand.reacT[c]) .* (shared_cand_angle[c,1] .- shared_cand_angle[c,2])))\n",
    "    @constraint(Mod3,-M .* (1 .- bin_c(2) .* shared_line_decision_var_2[c]) .<= bin_c(2) .* shared_cand_flow[c] .- bin_c(2) .* ((1 ./ shared_cand.reacT[c]) .* (shared_cand_angle[c,1] .- shared_cand_angle[c,2])))\n",
    "    @constraint(Mod3,-M .* (1 .- bin_c(3) .* shared_line_decision_var_3[c]) .<= bin_c(3) .* shared_cand_flow[c] .- bin_c(3) .* ((1 ./ shared_cand.reacT[c]) .* (shared_cand_angle[c,1] .- shared_cand_angle[c,2])))\n",
    "        \n",
    "    @constraint(Mod3, bin_c(1) .* shared_cand_flow[c] .- bin_c(1) .* ((1 ./ shared_cand.reacT[c]) .* (shared_cand_angle[c,1] .- shared_cand_angle[c,2])) .<= M .* (1 .- bin_c(1) .* shared_line_decision_var_1[c]))\n",
    "    @constraint(Mod3, bin_c(2) .* shared_cand_flow[c] .- bin_c(2) .* ((1 ./ shared_cand.reacT[c]) .* (shared_cand_angle[c,1] .- shared_cand_angle[c,2])) .<= M .* (1 .- bin_c(2) .* shared_line_decision_var_2[c]))\n",
    "    @constraint(Mod3, bin_c(3) .* shared_cand_flow[c] .- bin_c(3) .* ((1 ./ shared_cand.reacT[c]) .* (shared_cand_angle[c,1] .- shared_cand_angle[c,2])) .<= M .* (1 .- bin_c(3) .* shared_line_decision_var_3[c]))\n",
    "        #limiting the upper bound of power flow flowing within candidate shared lines\n",
    "    @constraint(Mod3, bin_c(1) .* shared_cand_flow[c] .<= bin_c(1) .* shared_line_decision_var_1[c] .*shared_cand.ptMax[c])\n",
    "    @constraint(Mod3, bin_c(2) .* shared_cand_flow[c] .<= bin_c(2) .* shared_line_decision_var_2[c] .*shared_cand.ptMax[c])\n",
    "    @constraint(Mod3, bin_c(3) .* shared_cand_flow[c] .<= bin_c(3) .* shared_line_decision_var_3[c] .*shared_cand.ptMax[c])\n",
    "        #Limiting the lower bound of power flowing within the candidate shared lines\n",
    "    @constraint(Mod3, -shared_cand.ptMax[c] .* bin_c(1) .* shared_line_decision_var_1[c] .<= bin_c(1) .* shared_cand_flow[c])\n",
    "    @constraint(Mod3, -shared_cand.ptMax[c] .* bin_c(2) .* shared_line_decision_var_2[c] .<= bin_c(2) .* shared_cand_flow[c])\n",
    "    @constraint(Mod3, -shared_cand.ptMax[c] .* bin_c(3) .* shared_line_decision_var_3[c] .<= bin_c(3) .* shared_cand_flow[c])\n",
    " \n",
    "end"
   ]
  },
  {
   "cell_type": "code",
   "execution_count": 12,
   "metadata": {},
   "outputs": [],
   "source": [
    "#Shared existing lines\n",
    "for h in 1:nrow(shared_ex)\n",
    "    @constraint(Mod3, shared_ex_flow[h] .== (1 ./ shared_ex.reacT[h]) .* (shared_ex_angle[h,1] .- shared_ex_angle[h,2]))\n",
    "    @constraint(Mod3, shared_ex_flow[h] .<= shared_ex. ptMax[h])\n",
    "    @constraint(Mod3, -shared_ex.ptMax[h] .<= shared_ex_flow[h])\n",
    "    #@constraint(Mod3, (shared_ex.nodeZone1 .== 2) .* (shared_ex.tNodeID1 .== 8) .* shared_ex_angle[h,1] .== 0)\n",
    "    #@constraint(Mod3, (shared_ex.nodeZone2 .== 2) .*(shared_ex.tNodeID2 .== 8) .* shared_ex_angle[h,2] .== 0)\n",
    "end"
   ]
  },
  {
   "cell_type": "code",
   "execution_count": 13,
   "metadata": {},
   "outputs": [],
   "source": [
    "#Zone 1 internal candidate lines\n",
    "for c in 1:nrow(int_c(1))\n",
    "    @constraint(Mod3,-M .* (1 .- int_line_decision_var_1[c]) .<= int_cand_flow_1[c] .- ((1 ./ int_c(1).reacT[c]) .* (int_cand_angle_1[c,1] .- int_cand_angle_1[c,2])))\n",
    "    @constraint(Mod3, int_cand_flow_1[c] .- ((1 ./ int_c(1).reacT[c]) .* (int_cand_angle_1[c,1] .- int_cand_angle_1[c,2])) .<= M .* (1 .- int_line_decision_var_1[c]))\n",
    "    @constraint(Mod3, int_cand_flow_1[c] .<= int_line_decision_var_1[c] .* int_c(1).ptMax[c])\n",
    "    @constraint(Mod3, -int_c(1).ptMax[c] .*int_line_decision_var_1[c] .<= int_cand_flow_1[c])\n",
    "end"
   ]
  },
  {
   "cell_type": "code",
   "execution_count": 14,
   "metadata": {},
   "outputs": [],
   "source": [
    "#Zone 2 internal candidate lines\n",
    "for c in 1:nrow(int_c(2))\n",
    "    @constraint(Mod3,-M .* (1 .- int_line_decision_var_2[c]) .<= int_cand_flow_2[c] .- ((1 ./ int_c(2).reacT[c]) .* (int_cand_angle_2[c,1] .- int_cand_angle_2[c,2])))\n",
    "    @constraint(Mod3, int_cand_flow_2[c] .- ((1 ./ int_c(2).reacT[c]) .* (int_cand_angle_2[c,1] .- int_cand_angle_2[c,2])) .<= M .* (1 .- int_line_decision_var_2[c]))\n",
    "    @constraint(Mod3, int_cand_flow_2[c] .<= int_line_decision_var_2[c] .* int_c(2).ptMax[c])\n",
    "    @constraint(Mod3, -int_c(2).ptMax[c] .*int_line_decision_var_2[c] .<= int_cand_flow_2[c])\n",
    "    #@constraint(Mod3, (int_c(2).tNodeID1 .== 8) .* int_cand_angle_2[c,1] .== 0)\n",
    "    #@constraint(Mod3, (int_c(2).tNodeID2 .== 8) .* int_cand_angle_2[c,2] .== 0)\n",
    "end"
   ]
  },
  {
   "cell_type": "code",
   "execution_count": 15,
   "metadata": {},
   "outputs": [],
   "source": [
    "#Zone 3 internal candidate lines\n",
    "for c in 1:nrow(int_c(3))\n",
    "    @constraint(Mod3,-M .* (1 .- int_line_decision_var_3[c]) .<= int_cand_flow_3[c] .- ((1 ./ int_c(3).reacT[c]) .* (int_cand_angle_3[c,1] .- int_cand_angle_3[c,2])))\n",
    "    @constraint(Mod3, int_cand_flow_3[c] .- ((1 ./ int_c(3).reacT[c]) .* (int_cand_angle_3[c,1] .- int_cand_angle_3[c,2])) .<= M .* (1 .- int_line_decision_var_3[c]))\n",
    "    @constraint(Mod3, int_cand_flow_3[c] .<= int_line_decision_var_3[c] .* int_c(3).ptMax[c])\n",
    "    @constraint(Mod3, -int_c(3).ptMax[c] .*int_line_decision_var_3[c] .<= int_cand_flow_3[c])\n",
    "end"
   ]
  },
  {
   "cell_type": "code",
   "execution_count": 16,
   "metadata": {},
   "outputs": [],
   "source": [
    "#Zone 1 internal existing lines\n",
    "for h in 1:nrow(int_e(1))\n",
    "    @constraint(Mod3, int_ex_flow_1[h] .== (1 ./ int_e(1).reacT[h]) .* (int_ex_angle_1[h,1] .- int_ex_angle_1[h,2]))\n",
    "    @constraint(Mod3, int_ex_flow_1[h] .<= int_e(1).ptMax[h])\n",
    "    @constraint(Mod3, -int_e(1).ptMax[h] .<= int_ex_flow_1[h])\n",
    "end"
   ]
  },
  {
   "cell_type": "code",
   "execution_count": 17,
   "metadata": {},
   "outputs": [],
   "source": [
    "#Zone 2 internal existing lines\n",
    "for h in 1:nrow(int_e(2))\n",
    "    @constraint(Mod3, int_ex_flow_2[h] .== (1 ./ int_e(2).reacT[h]) .* (int_ex_angle_2[h,1] .- int_ex_angle_2[h,2]))\n",
    "    @constraint(Mod3, int_ex_flow_2[h] .<= int_e(2).ptMax[h])\n",
    "    @constraint(Mod3, -int_e(2).ptMax[h] .<= int_ex_flow_2[h])\n",
    "    #@constraint(Mod3, (int_e(2).tNodeID1 .== 8) .* int_ex_angle_2[h,1] .== 0)\n",
    "    #@constraint(Mod3, (int_e(2).tNodeID2 .== 8) .* int_ex_angle_2[h,2] .== 0)\n",
    "end"
   ]
  },
  {
   "cell_type": "code",
   "execution_count": 18,
   "metadata": {},
   "outputs": [],
   "source": [
    "#Zone 3 internal existing lines\n",
    "for h in 1:nrow(int_e(3))\n",
    "    @constraint(Mod3, int_ex_flow_3[h] .== (1 ./ int_e(3).reacT[h]) .* (int_ex_angle_3[h,1] .- int_ex_angle_3[h,2]))\n",
    "    @constraint(Mod3, int_ex_flow_3[h] .<= int_e(3).ptMax[h])\n",
    "    @constraint(Mod3, -int_e(3).ptMax[h] .<= int_ex_flow_3[h])\n",
    "end"
   ]
  },
  {
   "cell_type": "code",
   "execution_count": 19,
   "metadata": {},
   "outputs": [],
   "source": [
    "@objective(Mod3, Min, total_cost)\n",
    "optimize!(Mod3)"
   ]
  },
  {
   "cell_type": "code",
   "execution_count": 20,
   "metadata": {},
   "outputs": [
    {
     "data": {
      "text/plain": [
       "2667.2764567175504"
      ]
     },
     "execution_count": 20,
     "metadata": {},
     "output_type": "execute_result"
    }
   ],
   "source": [
    "if termination_status(Mod3) == MOI.OPTIMAL\n",
    "    shared_line_decision_1 = value.(shared_line_decision_var_1)\n",
    "    shared_line_decision_2 = value.(shared_line_decision_var_2)\n",
    "    shared_line_decision_3 = value.(shared_line_decision_var_3)\n",
    "    shared_cand_power = value.(shared_cand_flow)\n",
    "    shared_cand_phase_angle = value.(shared_cand_angle)\n",
    "    shared_ex_power = value.(shared_ex_flow)\n",
    "    shared_ex_phase_angle = value.(shared_ex_angle)\n",
    "    int_line_decision_1 = value.(int_line_decision_var_1)\n",
    "    int_line_decision_2 = value.(int_line_decision_var_2)\n",
    "    int_line_decision_3 = value.(int_line_decision_var_3)\n",
    "    obj_value = objective_value(Mod3)\n",
    "end"
   ]
  },
  {
   "cell_type": "code",
   "execution_count": 21,
   "metadata": {},
   "outputs": [
    {
     "data": {
      "text/plain": [
       "6-element Array{Float64,1}:\n",
       " 0.0\n",
       " 0.0\n",
       " 0.0\n",
       " 1.0\n",
       " 0.0\n",
       " 0.0"
      ]
     },
     "execution_count": 21,
     "metadata": {},
     "output_type": "execute_result"
    }
   ],
   "source": [
    "shared_line_decision_1"
   ]
  },
  {
   "cell_type": "code",
   "execution_count": 22,
   "metadata": {},
   "outputs": [
    {
     "data": {
      "text/plain": [
       "6-element Array{Float64,1}:\n",
       " 0.0\n",
       " 0.0\n",
       " 0.0\n",
       " 1.0\n",
       " 0.0\n",
       " 0.0"
      ]
     },
     "execution_count": 22,
     "metadata": {},
     "output_type": "execute_result"
    }
   ],
   "source": [
    "shared_line_decision_2"
   ]
  },
  {
   "cell_type": "code",
   "execution_count": 23,
   "metadata": {},
   "outputs": [
    {
     "data": {
      "text/plain": [
       "6-element Array{Float64,1}:\n",
       " 0.0\n",
       " 0.0\n",
       " 0.0\n",
       " 1.0\n",
       " 0.0\n",
       " 0.0"
      ]
     },
     "execution_count": 23,
     "metadata": {},
     "output_type": "execute_result"
    }
   ],
   "source": [
    "shared_line_decision_3"
   ]
  },
  {
   "cell_type": "code",
   "execution_count": 24,
   "metadata": {},
   "outputs": [
    {
     "data": {
      "text/plain": [
       "6-element Array{Float64,1}:\n",
       "   0.0\n",
       "   0.0\n",
       "   0.0\n",
       " 100.0\n",
       "   0.0\n",
       "   0.0"
      ]
     },
     "execution_count": 24,
     "metadata": {},
     "output_type": "execute_result"
    }
   ],
   "source": [
    "shared_cand_power"
   ]
  },
  {
   "cell_type": "code",
   "execution_count": 25,
   "metadata": {},
   "outputs": [
    {
     "data": {
      "text/plain": [
       "6×2 Array{Float64,2}:\n",
       "  0.0    0.0\n",
       "  0.0    0.0\n",
       " 19.797  0.0\n",
       "  5.75   0.0\n",
       "  0.0    0.0\n",
       "  0.0    0.0"
      ]
     },
     "execution_count": 25,
     "metadata": {},
     "output_type": "execute_result"
    }
   ],
   "source": [
    "shared_cand_phase_angle"
   ]
  },
  {
   "cell_type": "code",
   "execution_count": 26,
   "metadata": {},
   "outputs": [
    {
     "data": {
      "text/plain": [
       "8×2 Array{Float64,2}:\n",
       " 27.0    0.0\n",
       "  0.0   32.92\n",
       "  0.0   20.8\n",
       "  0.0    0.0\n",
       "  5.99   0.0\n",
       " 20.0    0.0\n",
       "  6.6    0.0\n",
       "  7.28   0.0"
      ]
     },
     "execution_count": 26,
     "metadata": {},
     "output_type": "execute_result"
    }
   ],
   "source": [
    "shared_ex_phase_angle"
   ]
  },
  {
   "cell_type": "code",
   "execution_count": 27,
   "metadata": {},
   "outputs": [
    {
     "data": {
      "text/plain": [
       "8-element Array{Float64,1}:\n",
       "  100.0\n",
       " -100.0\n",
       " -100.0\n",
       "    0.0\n",
       "  100.0\n",
       "  100.0\n",
       "   60.0\n",
       "   35.0"
      ]
     },
     "execution_count": 27,
     "metadata": {},
     "output_type": "execute_result"
    }
   ],
   "source": [
    "shared_ex_power"
   ]
  },
  {
   "cell_type": "code",
   "execution_count": 28,
   "metadata": {},
   "outputs": [
    {
     "data": {
      "text/plain": [
       "10-element Array{Float64,1}:\n",
       " 0.0\n",
       " 0.0\n",
       " 0.0\n",
       " 0.0\n",
       " 0.0\n",
       " 0.0\n",
       " 0.0\n",
       " 0.0\n",
       " 0.0\n",
       " 0.0"
      ]
     },
     "execution_count": 28,
     "metadata": {},
     "output_type": "execute_result"
    }
   ],
   "source": [
    "int_line_decision_1"
   ]
  },
  {
   "cell_type": "code",
   "execution_count": 29,
   "metadata": {},
   "outputs": [
    {
     "data": {
      "text/plain": [
       "18-element Array{Float64,1}:\n",
       " 0.0\n",
       " 0.0\n",
       " 0.0\n",
       " 0.0\n",
       " 0.0\n",
       " 0.0\n",
       " 0.0\n",
       " 0.0\n",
       " 0.0\n",
       " 0.0\n",
       " 0.0\n",
       " 0.0\n",
       " 0.0\n",
       " 1.0\n",
       " 0.0\n",
       " 1.0\n",
       " 0.0\n",
       " 0.0"
      ]
     },
     "execution_count": 29,
     "metadata": {},
     "output_type": "execute_result"
    }
   ],
   "source": [
    "int_line_decision_2"
   ]
  },
  {
   "cell_type": "code",
   "execution_count": 30,
   "metadata": {},
   "outputs": [
    {
     "data": {
      "text/plain": [
       "2-element Array{Float64,1}:\n",
       " 0.0\n",
       " 0.0"
      ]
     },
     "execution_count": 30,
     "metadata": {},
     "output_type": "execute_result"
    }
   ],
   "source": [
    "int_line_decision_3"
   ]
  },
  {
   "cell_type": "code",
   "execution_count": 31,
   "metadata": {},
   "outputs": [
    {
     "data": {
      "text/plain": [
       "10-element BitArray{1}:\n",
       " 0\n",
       " 0\n",
       " 0\n",
       " 0\n",
       " 0\n",
       " 0\n",
       " 0\n",
       " 0\n",
       " 0\n",
       " 0"
      ]
     },
     "execution_count": 31,
     "metadata": {},
     "output_type": "execute_result"
    }
   ],
   "source": [
    "(int_c(1).tNodeID1 .== 7)\n",
    "(int_c(1).tNodeID2 .== 7)        "
   ]
  },
  {
   "cell_type": "code",
   "execution_count": 32,
   "metadata": {},
   "outputs": [
    {
     "data": {
      "text/plain": [
       "6-element Array{Int64,1}:\n",
       " 1\n",
       " 1\n",
       " 1\n",
       " 1\n",
       " 0\n",
       " 0"
      ]
     },
     "execution_count": 32,
     "metadata": {},
     "output_type": "execute_result"
    }
   ],
   "source": [
    "bin_c(1)"
   ]
  },
  {
   "cell_type": "code",
   "execution_count": 33,
   "metadata": {},
   "outputs": [
    {
     "data": {
      "text/plain": [
       "6-element Array{Int64,1}:\n",
       " 0\n",
       " 0\n",
       " 0\n",
       " 1\n",
       " 1\n",
       " 1"
      ]
     },
     "execution_count": 33,
     "metadata": {},
     "output_type": "execute_result"
    }
   ],
   "source": [
    "bin_c(2)"
   ]
  },
  {
   "cell_type": "code",
   "execution_count": 34,
   "metadata": {},
   "outputs": [
    {
     "data": {
      "text/html": [
       "<table class=\"data-frame\"><thead><tr><th></th><th>Sernum</th><th>tNodeID1</th><th>nodeZone1</th><th>tNodeID2</th><th>nodeZone2</th><th>reacT</th><th>ptMax</th><th>lifeTime</th><th>interestRate</th></tr><tr><th></th><th>Any</th><th>Any</th><th>Any</th><th>Any</th><th>Any</th><th>Any</th><th>Any</th><th>Any</th><th>Any</th></tr></thead><tbody><p>6 rows × 11 columns (omitted printing of 2 columns)</p><tr><th>1</th><td>1</td><td>1</td><td>1</td><td>2</td><td>3</td><td>0.05917</td><td>100</td><td>50</td><td>0.05</td></tr><tr><th>2</th><td>2</td><td>5</td><td>3</td><td>2</td><td>1</td><td>0.22304</td><td>100</td><td>57</td><td>0.045</td></tr><tr><th>3</th><td>3</td><td>10</td><td>1</td><td>4</td><td>3</td><td>0.19797</td><td>100</td><td>29</td><td>0.03</td></tr><tr><th>4</th><td>4</td><td>19</td><td>2</td><td>14</td><td>1</td><td>0.0575</td><td>100</td><td>35</td><td>0.1</td></tr><tr><th>5</th><td>5</td><td>23</td><td>2</td><td>4</td><td>3</td><td>0.1652</td><td>100</td><td>50</td><td>0.05</td></tr><tr><th>6</th><td>6</td><td>2</td><td>3</td><td>15</td><td>2</td><td>0.1737</td><td>100</td><td>57</td><td>0.045</td></tr></tbody></table>"
      ],
      "text/latex": [
       "\\begin{tabular}{r|cccccccccc}\n",
       "\t& Sernum & tNodeID1 & nodeZone1 & tNodeID2 & nodeZone2 & reacT & ptMax & lifeTime & interestRate & \\\\\n",
       "\t\\hline\n",
       "\t& Any & Any & Any & Any & Any & Any & Any & Any & Any & \\\\\n",
       "\t\\hline\n",
       "\t1 & 1 & 1 & 1 & 2 & 3 & 0.05917 & 100 & 50 & 0.05 & $\\dots$ \\\\\n",
       "\t2 & 2 & 5 & 3 & 2 & 1 & 0.22304 & 100 & 57 & 0.045 & $\\dots$ \\\\\n",
       "\t3 & 3 & 10 & 1 & 4 & 3 & 0.19797 & 100 & 29 & 0.03 & $\\dots$ \\\\\n",
       "\t4 & 4 & 19 & 2 & 14 & 1 & 0.0575 & 100 & 35 & 0.1 & $\\dots$ \\\\\n",
       "\t5 & 5 & 23 & 2 & 4 & 3 & 0.1652 & 100 & 50 & 0.05 & $\\dots$ \\\\\n",
       "\t6 & 6 & 2 & 3 & 15 & 2 & 0.1737 & 100 & 57 & 0.045 & $\\dots$ \\\\\n",
       "\\end{tabular}\n"
      ],
      "text/plain": [
       "\u001b[1m6×11 DataFrame\u001b[0m\n",
       "\u001b[1m Row \u001b[0m│\u001b[1m Sernum \u001b[0m\u001b[1m tNodeID1 \u001b[0m\u001b[1m nodeZone1 \u001b[0m\u001b[1m tNodeID2 \u001b[0m\u001b[1m nodeZone2 \u001b[0m\u001b[1m reacT   \u001b[0m\u001b[1m ptMax \u001b[0m\u001b[1m lifeT\u001b[0m ⋯\n",
       "\u001b[1m     \u001b[0m│\u001b[90m Any    \u001b[0m\u001b[90m Any      \u001b[0m\u001b[90m Any       \u001b[0m\u001b[90m Any      \u001b[0m\u001b[90m Any       \u001b[0m\u001b[90m Any     \u001b[0m\u001b[90m Any   \u001b[0m\u001b[90m Any  \u001b[0m ⋯\n",
       "─────┼──────────────────────────────────────────────────────────────────────────\n",
       "   1 │ 1       1         1          2         3          0.05917  100    50    ⋯\n",
       "   2 │ 2       5         3          2         1          0.22304  100    57\n",
       "   3 │ 3       10        1          4         3          0.19797  100    29\n",
       "   4 │ 4       19        2          14        1          0.0575   100    35\n",
       "   5 │ 5       23        2          4         3          0.1652   100    50    ⋯\n",
       "   6 │ 6       2         3          15        2          0.1737   100    57\n",
       "\u001b[36m                                                               4 columns omitted\u001b[0m"
      ]
     },
     "execution_count": 34,
     "metadata": {},
     "output_type": "execute_result"
    }
   ],
   "source": [
    "shared_cand"
   ]
  },
  {
   "cell_type": "code",
   "execution_count": null,
   "metadata": {},
   "outputs": [],
   "source": []
  }
 ],
 "metadata": {
  "kernelspec": {
   "display_name": "Julia 1.5.3",
   "language": "julia",
   "name": "julia-1.5"
  },
  "language_info": {
   "file_extension": ".jl",
   "mimetype": "application/julia",
   "name": "julia",
   "version": "1.5.3"
  }
 },
 "nbformat": 4,
 "nbformat_minor": 4
}
