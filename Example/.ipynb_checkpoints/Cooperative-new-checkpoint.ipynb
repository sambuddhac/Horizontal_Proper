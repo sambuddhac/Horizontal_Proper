{
 "cells": [
  {
   "cell_type": "markdown",
   "metadata": {},
   "source": [
    "# Cooperative Solution of Multi-Regional Transmission Expansion Horizontal Investment Coordination Problem\n",
    "\n",
    "### This notebook contains codes for the three zone test case (consisting of the IEEE 14 nodes, IEEE 30 nodes, and a 5 node test system for each of the zones) under the assumption that the regional transmission planners all cooperate to achieve the maximum value of the social surplus of the broader region\n",
    "\n",
    "#### The first code block loads the different package dependencies to create the virtual environment in Julia"
   ]
  },
  {
   "cell_type": "code",
   "execution_count": 1,
   "metadata": {},
   "outputs": [
    {
     "name": "stderr",
     "output_type": "stream",
     "text": [
      "\u001b[32m\u001b[1m   Updating\u001b[22m\u001b[39m registry at `~/.julia/registries/General`\n",
      "######################################################################### 100.0%\n",
      "\u001b[32m\u001b[1m  Resolving\u001b[22m\u001b[39m package versions...\n",
      "\u001b[32m\u001b[1mNo Changes\u001b[22m\u001b[39m to `~/.julia/environments/v1.5/Project.toml`\n",
      "\u001b[32m\u001b[1mNo Changes\u001b[22m\u001b[39m to `~/.julia/environments/v1.5/Manifest.toml`\n",
      "\u001b[32m\u001b[1m  Resolving\u001b[22m\u001b[39m package versions...\n",
      "\u001b[32m\u001b[1mNo Changes\u001b[22m\u001b[39m to `~/.julia/environments/v1.5/Project.toml`\n",
      "\u001b[32m\u001b[1mNo Changes\u001b[22m\u001b[39m to `~/.julia/environments/v1.5/Manifest.toml`\n",
      "\u001b[32m\u001b[1m  Resolving\u001b[22m\u001b[39m package versions...\n",
      "\u001b[32m\u001b[1mNo Changes\u001b[22m\u001b[39m to `~/.julia/environments/v1.5/Project.toml`\n",
      "\u001b[32m\u001b[1mNo Changes\u001b[22m\u001b[39m to `~/.julia/environments/v1.5/Manifest.toml`\n",
      "\u001b[32m\u001b[1m  Resolving\u001b[22m\u001b[39m package versions...\n",
      "\u001b[32m\u001b[1mNo Changes\u001b[22m\u001b[39m to `~/.julia/environments/v1.5/Project.toml`\n",
      "\u001b[32m\u001b[1mNo Changes\u001b[22m\u001b[39m to `~/.julia/environments/v1.5/Manifest.toml`\n",
      "\u001b[32m\u001b[1m  Resolving\u001b[22m\u001b[39m package versions...\n",
      "\u001b[32m\u001b[1mNo Changes\u001b[22m\u001b[39m to `~/.julia/environments/v1.5/Project.toml`\n",
      "\u001b[32m\u001b[1mNo Changes\u001b[22m\u001b[39m to `~/.julia/environments/v1.5/Manifest.toml`\n",
      "\u001b[32m\u001b[1m  Resolving\u001b[22m\u001b[39m package versions...\n",
      "\u001b[32m\u001b[1mNo Changes\u001b[22m\u001b[39m to `~/.julia/environments/v1.5/Project.toml`\n",
      "\u001b[32m\u001b[1mNo Changes\u001b[22m\u001b[39m to `~/.julia/environments/v1.5/Manifest.toml`\n",
      "\u001b[32m\u001b[1m  Resolving\u001b[22m\u001b[39m package versions...\n",
      "\u001b[32m\u001b[1mNo Changes\u001b[22m\u001b[39m to `~/.julia/environments/v1.5/Project.toml`\n",
      "\u001b[32m\u001b[1mNo Changes\u001b[22m\u001b[39m to `~/.julia/environments/v1.5/Manifest.toml`\n"
     ]
    }
   ],
   "source": [
    "import Pkg\n",
    "Pkg.add(\"HiGHS\")\n",
    "Pkg.add(\"Gurobi\")\n",
    "Pkg.add(\"GLPK\")\n",
    "Pkg.add(\"XLSX\")\n",
    "Pkg.add(\"SCIP\")\n",
    "Pkg.add(\"Ipopt\")\n",
    "Pkg.add(\"Cbc\")\n",
    "using Pkg\n",
    "using JuMP\n",
    "using GLPK\n",
    "using XLSX\n",
    "using SCIP\n",
    "using Gurobi\n",
    "using Ipopt\n",
    "using CSV\n",
    "using Cbc\n",
    "using DataFrames"
   ]
  },
  {
   "cell_type": "markdown",
   "metadata": {},
   "source": [
    "#### The next code block reads the different files corresponding to shared candidate lines, internal candidate lines, shared existing lines, internal existing lines, generators, and load"
   ]
  },
  {
   "cell_type": "code",
   "execution_count": 2,
   "metadata": {},
   "outputs": [
    {
     "data": {
      "text/html": [
       "<table class=\"data-frame\"><thead><tr><th></th><th>scenario</th><th>scen_weight</th></tr><tr><th></th><th>Int64</th><th>Float64</th></tr></thead><tbody><p>4 rows × 2 columns</p><tr><th>1</th><td>1</td><td>0.25</td></tr><tr><th>2</th><td>2</td><td>0.25</td></tr><tr><th>3</th><td>3</td><td>0.25</td></tr><tr><th>4</th><td>4</td><td>0.25</td></tr></tbody></table>"
      ],
      "text/latex": [
       "\\begin{tabular}{r|cc}\n",
       "\t& scenario & scen\\_weight\\\\\n",
       "\t\\hline\n",
       "\t& Int64 & Float64\\\\\n",
       "\t\\hline\n",
       "\t1 & 1 & 0.25 \\\\\n",
       "\t2 & 2 & 0.25 \\\\\n",
       "\t3 & 3 & 0.25 \\\\\n",
       "\t4 & 4 & 0.25 \\\\\n",
       "\\end{tabular}\n"
      ],
      "text/plain": [
       "\u001b[1m4×2 DataFrame\u001b[0m\n",
       "\u001b[1m Row \u001b[0m│\u001b[1m scenario \u001b[0m\u001b[1m scen_weight \u001b[0m\n",
       "\u001b[1m     \u001b[0m│\u001b[90m Int64    \u001b[0m\u001b[90m Float64     \u001b[0m\n",
       "─────┼───────────────────────\n",
       "   1 │        1         0.25\n",
       "   2 │        2         0.25\n",
       "   3 │        3         0.25\n",
       "   4 │        4         0.25"
      ]
     },
     "execution_count": 2,
     "metadata": {},
     "output_type": "execute_result"
    }
   ],
   "source": [
    "shared_cand = DataFrame(XLSX.readtable(\"../Input_Data/CandLine.csv\", \"Taul1\", header=true)...) #Dataframe of shared candidate lines\n",
    "int_cand =  DataFrame(XLSX.readtable(\"../Input_Data/CandLineInt.csv\", \"Taul1\", header=true)...) #Dataframe of internal candidate lines\n",
    "shared_ex =  DataFrame(XLSX.readtable(\"../Input_Data/SharedEline.csv\", \"Taul1\", header=true)...) #Dataframe of shared existing lines\n",
    "int_ex = DataFrame(XLSX.readtable(\"../Input_Data/Tran.csv\", \"Taul1\", header=true)...) #Dataframe of internal existing lines\n",
    "gen =  DataFrame(XLSX.readtable(\"../Input_Data/Gen.csv\" , \"Taul1\", header=true)...) #Dataframe of generators\n",
    "load =  DataFrame(XLSX.readtable(\"../Input_Data/Load.csv\", \"Taul1\", header=true)...) #Dataframe of loads\n",
    "scen_prob = DataFrame(CSV.File(\"../Input_Data/Scenario_Probability.csv\", header=true)) #Dataframe of scenario probabilities\n",
    "##An example of the load dataframe can be found as follows"
   ]
  },
  {
   "cell_type": "markdown",
   "metadata": {},
   "source": [
    "#### The following code-section constructs several DataFrames for each zone or region, for loads within a particular zone, generators within a particular zone, shared candidate lines originating from or terminating within a particular zone, internal candidate lines within a particular zone, shared existing lines originating from or terminating within a particular zone, internal existing lines within a particular zone, marginal costs of generators within a particular zone, and two binary vectors for each zone, one for checking which all shared candidate lines belong to a particular zone and the other for checking which all shared existing lines belong to a particular zone."
   ]
  },
  {
   "cell_type": "code",
   "execution_count": 3,
   "metadata": {},
   "outputs": [
    {
     "data": {
      "text/plain": [
       "scen_weight (generic function with 1 method)"
      ]
     },
     "execution_count": 3,
     "metadata": {},
     "output_type": "execute_result"
    }
   ],
   "source": [
    "l(i,s) = load[load.zoneNum .== i, [1,2,s+2]] # load within zone i\n",
    "g(i) = gen[gen.zoneNum .== i, :]   # generators within zone i\n",
    "shared_c(i) = vcat(shared_cand[shared_cand.nodeZone1 .== i,:] , shared_cand[shared_cand.nodeZone2 .== i, :]) #shared candidate lines within zone i\n",
    "int_c(i) = int_cand[int_cand.zoneNum .== i, :]   # number of internal candidate lines within zone i\n",
    "shared_e(i) = vcat(shared_ex[shared_ex.nodeZone1 .== i,:] , shared_ex[shared_ex.nodeZone2 .== i, :]) #shared existing lines within zone i\n",
    "int_e(i) =int_ex[int_ex.zoneNum .== i, :]       # internal existing lines within zone i\n",
    "MC(i) = (g(i).C2 .* (g(i).PgMax .^ 2) .+ g(i).C1 .* g(i).PgMax .- g(i).C2 .*(g(i).PgMin .^ 2) .- g(i).C1 .* g(i).PgMin) ./ (g(i).PgMax .- g(i).PgMin) #Marginal cost of generators within zone i\n",
    "bin_c(i) = (shared_cand.nodeZone1 .== i) + (shared_cand.nodeZone2 .== i) # A binary vector through which we can check if the shared candidate lines belong to zone i\n",
    "bin_e(i) = (shared_ex.nodeZone1 .== i) + (shared_ex.nodeZone2 .== i) # A binary vector through which we can check if the shared existing lines belong to zone i\n",
    "scen_weight(s) = scen_prob.scen_weight[scen_prob.scenario .== s,:]"
   ]
  },
  {
   "cell_type": "markdown",
   "metadata": {},
   "source": [
    "#### Constructing the optimization model with a specified solver"
   ]
  },
  {
   "cell_type": "code",
   "execution_count": 4,
   "metadata": {},
   "outputs": [
    {
     "name": "stdout",
     "output_type": "stream",
     "text": [
      "Academic license - for non-commercial use only - expires 2023-09-07\n"
     ]
    },
    {
     "data": {
      "text/latex": [
       "$$ \\begin{alignat*}{1}\\text{feasibility}\\\\\n",
       "\\text{Subject to} \\quad\\end{alignat*}\n",
       " $$"
      ],
      "text/plain": [
       "A JuMP Model\n",
       "Feasibility problem with:\n",
       "Variables: 0\n",
       "Model mode: AUTOMATIC\n",
       "CachingOptimizer state: EMPTY_OPTIMIZER\n",
       "Solver name: Gurobi"
      ]
     },
     "execution_count": 4,
     "metadata": {},
     "output_type": "execute_result"
    }
   ],
   "source": [
    "Mod3 = Model(Gurobi.Optimizer)"
   ]
  },
  {
   "cell_type": "code",
   "execution_count": 5,
   "metadata": {},
   "outputs": [],
   "source": [
    "zone_number = 3;"
   ]
  },
  {
   "cell_type": "code",
   "execution_count": 6,
   "metadata": {},
   "outputs": [
    {
     "data": {
      "text/plain": [
       "7×4×2 Array{VariableRef,3}:\n",
       "[:, :, 1] =\n",
       " int_ex_angle_3[1,1,1]  int_ex_angle_3[1,2,1]  …  int_ex_angle_3[1,4,1]\n",
       " int_ex_angle_3[2,1,1]  int_ex_angle_3[2,2,1]     int_ex_angle_3[2,4,1]\n",
       " int_ex_angle_3[3,1,1]  int_ex_angle_3[3,2,1]     int_ex_angle_3[3,4,1]\n",
       " int_ex_angle_3[4,1,1]  int_ex_angle_3[4,2,1]     int_ex_angle_3[4,4,1]\n",
       " int_ex_angle_3[5,1,1]  int_ex_angle_3[5,2,1]     int_ex_angle_3[5,4,1]\n",
       " int_ex_angle_3[6,1,1]  int_ex_angle_3[6,2,1]  …  int_ex_angle_3[6,4,1]\n",
       " int_ex_angle_3[7,1,1]  int_ex_angle_3[7,2,1]     int_ex_angle_3[7,4,1]\n",
       "\n",
       "[:, :, 2] =\n",
       " int_ex_angle_3[1,1,2]  int_ex_angle_3[1,2,2]  …  int_ex_angle_3[1,4,2]\n",
       " int_ex_angle_3[2,1,2]  int_ex_angle_3[2,2,2]     int_ex_angle_3[2,4,2]\n",
       " int_ex_angle_3[3,1,2]  int_ex_angle_3[3,2,2]     int_ex_angle_3[3,4,2]\n",
       " int_ex_angle_3[4,1,2]  int_ex_angle_3[4,2,2]     int_ex_angle_3[4,4,2]\n",
       " int_ex_angle_3[5,1,2]  int_ex_angle_3[5,2,2]     int_ex_angle_3[5,4,2]\n",
       " int_ex_angle_3[6,1,2]  int_ex_angle_3[6,2,2]  …  int_ex_angle_3[6,4,2]\n",
       " int_ex_angle_3[7,1,2]  int_ex_angle_3[7,2,2]     int_ex_angle_3[7,4,2]"
      ]
     },
     "execution_count": 6,
     "metadata": {},
     "output_type": "execute_result"
    }
   ],
   "source": [
    "@variable(Mod3,0 <= gen_var_1[1:14, 1:nrow(scen_prob)]) # generation at node 1\n",
    "@variable(Mod3,0 <= gen_var_2[1:30, 1:nrow(scen_prob)]) # generation at node 2\n",
    "@variable(Mod3,0 <= gen_var_3[1:5, 1:nrow(scen_prob)]) # generation at node 3\n",
    "\n",
    "@variable(Mod3,shared_line_decision_var_1[1:nrow(shared_cand)], Bin) #Decision variable for shared candidate lines\n",
    "@variable(Mod3,shared_line_decision_var_2[1:nrow(shared_cand)], Bin) #Decision variable for shared candidate lines\n",
    "@variable(Mod3,shared_line_decision_var_3[1:nrow(shared_cand)], Bin) #Decision variable for shared candidate lines\n",
    "\n",
    "@variable(Mod3,int_line_decision_var_1[1:nrow(int_c(1))], Bin) #Decision variable for internal candidate lines of zone 1 (Binary)\n",
    "@variable(Mod3,int_line_decision_var_2[1:nrow(int_c(2))], Bin) #Decision variable for internal candidate lines of zone 2 (Binary)\n",
    "@variable(Mod3,int_line_decision_var_3[1:nrow(int_c(3))], Bin) #Decision variable for internal candidate lines of zone 3 (Binary)\n",
    "\n",
    "@variable(Mod3,shared_cand_flow[1:nrow(shared_cand),1:nrow(scen_prob)])  #Power flowing on shared candidate lines \n",
    "\n",
    "@variable(Mod3,int_cand_flow_1[1:nrow(int_c(1)),1:nrow(scen_prob)]) #Power flowing on internal candidate lines of zone 1 \n",
    "@variable(Mod3,int_cand_flow_2[1:nrow(int_c(2)),1:nrow(scen_prob)]) #Power flowing on internal candidate lines of zone 2\n",
    "@variable(Mod3,int_cand_flow_3[1:nrow(int_c(3)),1:nrow(scen_prob)]) #Power flowing on internal candidate lines of zone 3\n",
    "\n",
    "@variable(Mod3,0 <= shared_cand_angle[1:nrow(shared_cand),1:nrow(scen_prob),1:2]) #Phase angle decision for shared candidate lines\n",
    "\n",
    "@variable(Mod3,0 <= int_cand_angle_1[1:nrow(int_c(1)),1:nrow(scen_prob),1:2]) #Phase angle decision for internal candidate lines of zone 1 \n",
    "@variable(Mod3,0 <= int_cand_angle_2[1:nrow(int_c(2)),1:nrow(scen_prob),1:2]) #Phase angle decision for internal candidate lines of zone 2\n",
    "@variable(Mod3,0 <= int_cand_angle_3[1:nrow(int_c(3)),1:nrow(scen_prob),1:2]) #Phase angle decision for internal candidate lines of zone 3 \n",
    "\n",
    "@variable(Mod3,shared_ex_flow[1:nrow(shared_ex),1:nrow(scen_prob)])  #Power flowing on shared existing shared lines\n",
    "\n",
    "@variable(Mod3,int_ex_flow_1[1:nrow(int_e(1)),1:nrow(scen_prob)])  #Power flowing on internal existing lines of zone 1 \n",
    "@variable(Mod3,int_ex_flow_2[1:nrow(int_e(2)),1:nrow(scen_prob)])  #Power flowing on internal existing lines of zone 2\n",
    "@variable(Mod3,int_ex_flow_3[1:nrow(int_e(3)),1:nrow(scen_prob)])  #Power flowing on internal existing lines of zone 3\n",
    "\n",
    "@variable(Mod3,0 <= shared_ex_angle[1:nrow(shared_ex),1:nrow(scen_prob),1:2]) #Phase angle for existing shared lines\n",
    "\n",
    "@variable(Mod3,0 <= int_ex_angle_1[1:nrow(int_e(1)),1:nrow(scen_prob),1:2]) #Phase angle decision for existing internal lines of zone 1\n",
    "@variable(Mod3,0 <= int_ex_angle_2[1:nrow(int_e(2)),1:nrow(scen_prob),1:2]) #Phase angle decision for existing internal lines of zone 2\n",
    "@variable(Mod3,0 <= int_ex_angle_3[1:nrow(int_e(3)),1:nrow(scen_prob),1:2]) #Phase angle decision for existing internal lines of zone 3\n"
   ]
  },
  {
   "cell_type": "code",
   "execution_count": 8,
   "metadata": {},
   "outputs": [
    {
     "data": {
      "text/plain": [
       "0"
      ]
     },
     "execution_count": 8,
     "metadata": {},
     "output_type": "execute_result"
    }
   ],
   "source": [
    "@expression(Mod3,total_cost,0)"
   ]
  },
  {
   "cell_type": "code",
   "execution_count": 9,
   "metadata": {},
   "outputs": [
    {
     "data": {
      "text/plain": [
       "14×4 Array{GenericAffExpr{Float64,VariableRef},2}:\n",
       " 34.30293932 gen_var_1[1,1]  …  34.30293932 gen_var_1[1,4]\n",
       " 55 gen_var_1[2,1]              55 gen_var_1[2,4]\n",
       " 0                              0\n",
       " 0                              0\n",
       " 0                              0\n",
       " 0                           …  0\n",
       " 0                              0\n",
       " 0                              0\n",
       " 0                              0\n",
       " 0                              0\n",
       " 0                           …  0\n",
       " 0                              0\n",
       " 0                              0\n",
       " 0                              0"
      ]
     },
     "execution_count": 9,
     "metadata": {},
     "output_type": "execute_result"
    }
   ],
   "source": [
    "@expression(Mod3, gen_costNS1[n=1:14,s=1:nrow(scen_prob)], (gen_var_1[n,s] .* sum((g(1).gNodeID .== n) .* MC(1))))"
   ]
  },
  {
   "cell_type": "code",
   "execution_count": 10,
   "metadata": {},
   "outputs": [
    {
     "data": {
      "text/plain": [
       "4-element Array{GenericAffExpr{Float64,VariableRef},1}:\n",
       " 8.57573483 gen_var_1[1,1] + 13.75 gen_var_1[2,1]\n",
       " 8.57573483 gen_var_1[1,2] + 13.75 gen_var_1[2,2]\n",
       " 8.57573483 gen_var_1[1,3] + 13.75 gen_var_1[2,3]\n",
       " 8.57573483 gen_var_1[1,4] + 13.75 gen_var_1[2,4]"
      ]
     },
     "execution_count": 10,
     "metadata": {},
     "output_type": "execute_result"
    }
   ],
   "source": [
    "@expression(Mod3, gen_cost_prob_weightedS1[s=1:nrow(scen_prob)], (scen_weight(s)[1]).*sum(gen_costNS1[n,s] for n in 1:14))"
   ]
  },
  {
   "cell_type": "code",
   "execution_count": 11,
   "metadata": {},
   "outputs": [
    {
     "data": {
      "text/latex": [
       "$$ 8.57573483 gen\\_var\\_1_{1,1} + 13.75 gen\\_var\\_1_{2,1} + 8.57573483 gen\\_var\\_1_{1,2} + 13.75 gen\\_var\\_1_{2,2} + 8.57573483 gen\\_var\\_1_{1,3} + 13.75 gen\\_var\\_1_{2,3} + 8.57573483 gen\\_var\\_1_{1,4} + 13.75 gen\\_var\\_1_{2,4} $$"
      ],
      "text/plain": [
       "8.57573483 gen_var_1[1,1] + 13.75 gen_var_1[2,1] + 8.57573483 gen_var_1[1,2] + 13.75 gen_var_1[2,2] + 8.57573483 gen_var_1[1,3] + 13.75 gen_var_1[2,3] + 8.57573483 gen_var_1[1,4] + 13.75 gen_var_1[2,4]"
      ]
     },
     "execution_count": 11,
     "metadata": {},
     "output_type": "execute_result"
    }
   ],
   "source": [
    "@expression(Mod3, gen_cost_expected1, sum(gen_cost_prob_weightedS1[s] for s in 1:nrow(scen_prob)))\n",
    "Mod3[:total_cost] += gen_cost_expected1"
   ]
  },
  {
   "cell_type": "code",
   "execution_count": 12,
   "metadata": {},
   "outputs": [
    {
     "data": {
      "text/plain": [
       "30×4 Array{GenericAffExpr{Float64,VariableRef},2}:\n",
       " 3.6 gen_var_2[1,1]     3.6 gen_var_2[1,2]     …  3.6 gen_var_2[1,4]\n",
       " 3.15 gen_var_2[2,1]    3.15 gen_var_2[2,2]       3.15 gen_var_2[2,4]\n",
       " 0                      0                         0\n",
       " 0                      0                         0\n",
       " 0                      0                         0\n",
       " 0                      0                      …  0\n",
       " 0                      0                         0\n",
       " 0                      0                         0\n",
       " 0                      0                         0\n",
       " 0                      0                         0\n",
       " 0                      0                      …  0\n",
       " 0                      0                         0\n",
       " 3.5 gen_var_2[13,1]    3.5 gen_var_2[13,2]       3.5 gen_var_2[13,4]\n",
       " ⋮                                             ⋱  \n",
       " 0                      0                         0\n",
       " 0                      0                         0\n",
       " 0                      0                      …  0\n",
       " 3.667 gen_var_2[22,1]  3.667 gen_var_2[22,2]     3.667 gen_var_2[22,4]\n",
       " 3.75 gen_var_2[23,1]   3.75 gen_var_2[23,2]      3.75 gen_var_2[23,4]\n",
       " 0                      0                         0\n",
       " 0                      0                         0\n",
       " 0                      0                      …  0\n",
       " 4.375 gen_var_2[27,1]  4.375 gen_var_2[27,2]     4.375 gen_var_2[27,4]\n",
       " 0                      0                         0\n",
       " 0                      0                         0\n",
       " 0                      0                         0"
      ]
     },
     "execution_count": 12,
     "metadata": {},
     "output_type": "execute_result"
    }
   ],
   "source": [
    "@expression(Mod3, gen_costNS2[n=1:30,s=1:nrow(scen_prob)], (gen_var_2[n,s] .* sum((g(2).gNodeID .== n) .* MC(2))))"
   ]
  },
  {
   "cell_type": "code",
   "execution_count": 13,
   "metadata": {},
   "outputs": [
    {
     "data": {
      "text/plain": [
       "4-element Array{GenericAffExpr{Float64,VariableRef},1}:\n",
       " 0.9 gen_var_2[1,1] + 0.7875 gen_var_2[2,1] + 0.875 gen_var_2[13,1] + 0.91675 gen_var_2[22,1] + 0.9375 gen_var_2[23,1] + 1.09375 gen_var_2[27,1]\n",
       " 0.9 gen_var_2[1,2] + 0.7875 gen_var_2[2,2] + 0.875 gen_var_2[13,2] + 0.91675 gen_var_2[22,2] + 0.9375 gen_var_2[23,2] + 1.09375 gen_var_2[27,2]\n",
       " 0.9 gen_var_2[1,3] + 0.7875 gen_var_2[2,3] + 0.875 gen_var_2[13,3] + 0.91675 gen_var_2[22,3] + 0.9375 gen_var_2[23,3] + 1.09375 gen_var_2[27,3]\n",
       " 0.9 gen_var_2[1,4] + 0.7875 gen_var_2[2,4] + 0.875 gen_var_2[13,4] + 0.91675 gen_var_2[22,4] + 0.9375 gen_var_2[23,4] + 1.09375 gen_var_2[27,4]"
      ]
     },
     "execution_count": 13,
     "metadata": {},
     "output_type": "execute_result"
    }
   ],
   "source": [
    "@expression(Mod3, gen_cost_prob_weightedS2[s=1:nrow(scen_prob)], (scen_weight(s)[1]).*sum(gen_costNS2[n,s] for n in 1:30))"
   ]
  },
  {
   "cell_type": "code",
   "execution_count": 14,
   "metadata": {},
   "outputs": [
    {
     "data": {
      "text/latex": [
       "$$ 8.57573483 gen\\_var\\_1_{1,1} + 13.75 gen\\_var\\_1_{2,1} + 8.57573483 gen\\_var\\_1_{1,2} + 13.75 gen\\_var\\_1_{2,2} + 8.57573483 gen\\_var\\_1_{1,3} + 13.75 gen\\_var\\_1_{2,3} + 8.57573483 gen\\_var\\_1_{1,4} + 13.75 gen\\_var\\_1_{2,4} + 0.9 gen\\_var\\_2_{1,1} + 0.7875 gen\\_var\\_2_{2,1} + 0.875 gen\\_var\\_2_{13,1} + 0.91675 gen\\_var\\_2_{22,1} + 0.9375 gen\\_var\\_2_{23,1} + 1.09375 gen\\_var\\_2_{27,1} + 0.9 gen\\_var\\_2_{1,2} + 0.7875 gen\\_var\\_2_{2,2} + 0.875 gen\\_var\\_2_{13,2} + 0.91675 gen\\_var\\_2_{22,2} + 0.9375 gen\\_var\\_2_{23,2} + 1.09375 gen\\_var\\_2_{27,2} + 0.9 gen\\_var\\_2_{1,3} + 0.7875 gen\\_var\\_2_{2,3} + 0.875 gen\\_var\\_2_{13,3} + 0.91675 gen\\_var\\_2_{22,3} + 0.9375 gen\\_var\\_2_{23,3} + 1.09375 gen\\_var\\_2_{27,3} + 0.9 gen\\_var\\_2_{1,4} + 0.7875 gen\\_var\\_2_{2,4} + 0.875 gen\\_var\\_2_{13,4} + 0.91675 gen\\_var\\_2_{22,4} + 0.9375 gen\\_var\\_2_{23,4} + 1.09375 gen\\_var\\_2_{27,4} $$"
      ],
      "text/plain": [
       "8.57573483 gen_var_1[1,1] + 13.75 gen_var_1[2,1] + 8.57573483 gen_var_1[1,2] + 13.75 gen_var_1[2,2] + 8.57573483 gen_var_1[1,3] + 13.75 gen_var_1[2,3] + 8.57573483 gen_var_1[1,4] + 13.75 gen_var_1[2,4] + 0.9 gen_var_2[1,1] + 0.7875 gen_var_2[2,1] + 0.875 gen_var_2[13,1] + 0.91675 gen_var_2[22,1] + 0.9375 gen_var_2[23,1] + 1.09375 gen_var_2[27,1] + 0.9 gen_var_2[1,2] + 0.7875 gen_var_2[2,2] + 0.875 gen_var_2[13,2] + 0.91675 gen_var_2[22,2] + 0.9375 gen_var_2[23,2] + 1.09375 gen_var_2[27,2] + 0.9 gen_var_2[1,3] + 0.7875 gen_var_2[2,3] + 0.875 gen_var_2[13,3] + 0.91675 gen_var_2[22,3] + 0.9375 gen_var_2[23,3] + 1.09375 gen_var_2[27,3] + 0.9 gen_var_2[1,4] + 0.7875 gen_var_2[2,4] + 0.875 gen_var_2[13,4] + 0.91675 gen_var_2[22,4] + 0.9375 gen_var_2[23,4] + 1.09375 gen_var_2[27,4]"
      ]
     },
     "execution_count": 14,
     "metadata": {},
     "output_type": "execute_result"
    }
   ],
   "source": [
    "@expression(Mod3, gen_cost_expected2, sum(gen_cost_prob_weightedS2[s] for s in 1:nrow(scen_prob)))\n",
    "Mod3[:total_cost] += gen_cost_expected2"
   ]
  },
  {
   "cell_type": "code",
   "execution_count": 15,
   "metadata": {},
   "outputs": [
    {
     "data": {
      "text/plain": [
       "5×4 Array{GenericAffExpr{Float64,VariableRef},2}:\n",
       " 16.30293932 gen_var_3[1,1]  …  16.30293932 gen_var_3[1,4]\n",
       " 37 gen_var_3[2,1]              37 gen_var_3[2,4]\n",
       " 0                              0\n",
       " 0                              0\n",
       " 0                              0"
      ]
     },
     "execution_count": 15,
     "metadata": {},
     "output_type": "execute_result"
    }
   ],
   "source": [
    "@expression(Mod3, gen_costNS3[n=1:5,s=1:nrow(scen_prob)], (gen_var_3[n,s] .* sum((g(3).gNodeID .== n) .* MC(3))))"
   ]
  },
  {
   "cell_type": "code",
   "execution_count": 16,
   "metadata": {},
   "outputs": [
    {
     "data": {
      "text/plain": [
       "4-element Array{GenericAffExpr{Float64,VariableRef},1}:\n",
       " 4.07573483 gen_var_3[1,1] + 9.25 gen_var_3[2,1]\n",
       " 4.07573483 gen_var_3[1,2] + 9.25 gen_var_3[2,2]\n",
       " 4.07573483 gen_var_3[1,3] + 9.25 gen_var_3[2,3]\n",
       " 4.07573483 gen_var_3[1,4] + 9.25 gen_var_3[2,4]"
      ]
     },
     "execution_count": 16,
     "metadata": {},
     "output_type": "execute_result"
    }
   ],
   "source": [
    "@expression(Mod3, gen_cost_prob_weightedS3[s=1:nrow(scen_prob)], (scen_weight(s)[1]).*sum(gen_costNS3[n,s] for n in 1:5))"
   ]
  },
  {
   "cell_type": "code",
   "execution_count": 17,
   "metadata": {},
   "outputs": [
    {
     "data": {
      "text/latex": [
       "$$ 8.57573483 gen\\_var\\_1_{1,1} + 13.75 gen\\_var\\_1_{2,1} + 8.57573483 gen\\_var\\_1_{1,2} + 13.75 gen\\_var\\_1_{2,2} + 8.57573483 gen\\_var\\_1_{1,3} + 13.75 gen\\_var\\_1_{2,3} + 8.57573483 gen\\_var\\_1_{1,4} + 13.75 gen\\_var\\_1_{2,4} + 0.9 gen\\_var\\_2_{1,1} + 0.7875 gen\\_var\\_2_{2,1} + 0.875 gen\\_var\\_2_{13,1} + 0.91675 gen\\_var\\_2_{22,1} + 0.9375 gen\\_var\\_2_{23,1} + 1.09375 gen\\_var\\_2_{27,1} + 0.9 gen\\_var\\_2_{1,2} + 0.7875 gen\\_var\\_2_{2,2} + 0.875 gen\\_var\\_2_{13,2} + 0.91675 gen\\_var\\_2_{22,2} + 0.9375 gen\\_var\\_2_{23,2} + 1.09375 gen\\_var\\_2_{27,2} + 0.9 gen\\_var\\_2_{1,3} + 0.7875 gen\\_var\\_2_{2,3} + 0.875 gen\\_var\\_2_{13,3} + 0.91675 gen\\_var\\_2_{22,3} + 0.9375 gen\\_var\\_2_{23,3} + 1.09375 gen\\_var\\_2_{27,3} + 0.9 gen\\_var\\_2_{1,4} + 0.7875 gen\\_var\\_2_{2,4} + 0.875 gen\\_var\\_2_{13,4} + 0.91675 gen\\_var\\_2_{22,4} + 0.9375 gen\\_var\\_2_{23,4} + 1.09375 gen\\_var\\_2_{27,4} + 4.07573483 gen\\_var\\_3_{1,1} + 9.25 gen\\_var\\_3_{2,1} + 4.07573483 gen\\_var\\_3_{1,2} + 9.25 gen\\_var\\_3_{2,2} + 4.07573483 gen\\_var\\_3_{1,3} + 9.25 gen\\_var\\_3_{2,3} + 4.07573483 gen\\_var\\_3_{1,4} + 9.25 gen\\_var\\_3_{2,4} $$"
      ],
      "text/plain": [
       "8.57573483 gen_var_1[1,1] + 13.75 gen_var_1[2,1] + 8.57573483 gen_var_1[1,2] + 13.75 gen_var_1[2,2] + 8.57573483 gen_var_1[1,3] + 13.75 gen_var_1[2,3] + 8.57573483 gen_var_1[1,4] + 13.75 gen_var_1[2,4] + 0.9 gen_var_2[1,1] + 0.7875 gen_var_2[2,1] + 0.875 gen_var_2[13,1] + 0.91675 gen_var_2[22,1] + 0.9375 gen_var_2[23,1] + 1.09375 gen_var_2[27,1] + 0.9 gen_var_2[1,2] + 0.7875 gen_var_2[2,2] + 0.875 gen_var_2[13,2] + 0.91675 gen_var_2[22,2] + 0.9375 gen_var_2[23,2] + 1.09375 gen_var_2[27,2] + 0.9 gen_var_2[1,3] + 0.7875 gen_var_2[2,3] + 0.875 gen_var_2[13,3] + 0.91675 gen_var_2[22,3] + 0.9375 gen_var_2[23,3] + 1.09375 gen_var_2[27,3] + 0.9 gen_var_2[1,4] + 0.7875 gen_var_2[2,4] + 0.875 gen_var_2[13,4] + 0.91675 gen_var_2[22,4] + 0.9375 gen_var_2[23,4] + 1.09375 gen_var_2[27,4] + 4.07573483 gen_var_3[1,1] + 9.25 gen_var_3[2,1] + 4.07573483 gen_var_3[1,2] + 9.25 gen_var_3[2,2] + 4.07573483 gen_var_3[1,3] + 9.25 gen_var_3[2,3] + 4.07573483 gen_var_3[1,4] + 9.25 gen_var_3[2,4]"
      ]
     },
     "execution_count": 17,
     "metadata": {},
     "output_type": "execute_result"
    }
   ],
   "source": [
    "@expression(Mod3, gen_cost_expected3, sum(gen_cost_prob_weightedS3[s] for s in 1:nrow(scen_prob)))\n",
    "Mod3[:total_cost] += gen_cost_expected3"
   ]
  },
  {
   "cell_type": "code",
   "execution_count": 18,
   "metadata": {},
   "outputs": [
    {
     "data": {
      "text/latex": [
       "$$ 8.57573483 gen\\_var\\_1_{1,1} + 13.75 gen\\_var\\_1_{2,1} + 8.57573483 gen\\_var\\_1_{1,2} + 13.75 gen\\_var\\_1_{2,2} + 8.57573483 gen\\_var\\_1_{1,3} + 13.75 gen\\_var\\_1_{2,3} + 8.57573483 gen\\_var\\_1_{1,4} + 13.75 gen\\_var\\_1_{2,4} + 0.9 gen\\_var\\_2_{1,1} + 0.7875 gen\\_var\\_2_{2,1} + 0.875 gen\\_var\\_2_{13,1} + 0.91675 gen\\_var\\_2_{22,1} + 0.9375 gen\\_var\\_2_{23,1} + 1.09375 gen\\_var\\_2_{27,1} + 0.9 gen\\_var\\_2_{1,2} + 0.7875 gen\\_var\\_2_{2,2} + 0.875 gen\\_var\\_2_{13,2} + 0.91675 gen\\_var\\_2_{22,2} + 0.9375 gen\\_var\\_2_{23,2} + 1.09375 gen\\_var\\_2_{27,2} + 0.9 gen\\_var\\_2_{1,3} + 0.7875 gen\\_var\\_2_{2,3} + 0.875 gen\\_var\\_2_{13,3} + 0.91675 gen\\_var\\_2_{22,3} + 0.9375 gen\\_var\\_2_{23,3} + 1.09375 gen\\_var\\_2_{27,3} + 0.9 gen\\_var\\_2_{1,4} + 0.7875 gen\\_var\\_2_{2,4} + 0.875 gen\\_var\\_2_{13,4} + 0.91675 gen\\_var\\_2_{22,4} + 0.9375 gen\\_var\\_2_{23,4} + 1.09375 gen\\_var\\_2_{27,4} + 4.07573483 gen\\_var\\_3_{1,1} + 9.25 gen\\_var\\_3_{2,1} + 4.07573483 gen\\_var\\_3_{1,2} + 9.25 gen\\_var\\_3_{2,2} + 4.07573483 gen\\_var\\_3_{1,3} + 9.25 gen\\_var\\_3_{2,3} + 4.07573483 gen\\_var\\_3_{1,4} + 9.25 gen\\_var\\_3_{2,4} + 0.2410176361372405 shared\\_line\\_decision\\_var\\_1_{1} + 0.19594024895900847 shared\\_line\\_decision\\_var\\_1_{2} + 0.44297470440637654 shared\\_line\\_decision\\_var\\_1_{3} + 0.6532451422553538 shared\\_line\\_decision\\_var\\_1_{4} + 0.6532451422553538 shared\\_line\\_decision\\_var\\_2_{4} + 0.1533748593600621 shared\\_line\\_decision\\_var\\_2_{5} + 0.34289543567826486 shared\\_line\\_decision\\_var\\_2_{6} + 0.2410176361372405 shared\\_line\\_decision\\_var\\_3_{1} + 0.19594024895900847 shared\\_line\\_decision\\_var\\_3_{2} + 0.44297470440637654 shared\\_line\\_decision\\_var\\_3_{3} + 0.1533748593600621 shared\\_line\\_decision\\_var\\_3_{5} + 0.34289543567826486 shared\\_line\\_decision\\_var\\_3_{6} + 0.1533748593600621 int\\_line\\_decision\\_var\\_1_{1} + 0.34289543567826486 int\\_line\\_decision\\_var\\_1_{2} + 0.2519729832343877 int\\_line\\_decision\\_var\\_1_{3} + 0.21553427385490934 int\\_line\\_decision\\_var\\_1_{4} + 0.44297470440637654 int\\_line\\_decision\\_var\\_1_{5} + 6.532451422553539 int\\_line\\_decision\\_var\\_1_{6} + 1.5337485936006214 int\\_line\\_decision\\_var\\_1_{7} + 3.673879667981409 int\\_line\\_decision\\_var\\_1_{8} + 2.355399625886668 int\\_line\\_decision\\_var\\_1_{9} + 2.400268049747854 int\\_line\\_decision\\_var\\_1_{10} + 1.5337485936006214 int\\_line\\_decision\\_var\\_2_{1} + 3.7718497924609133 int\\_line\\_decision\\_var\\_2_{2} + 2.9579437162297695 int\\_line\\_decision\\_var\\_2_{3} + 1.175641493754051 int\\_line\\_decision\\_var\\_2_{4} + 4.429747044063765 int\\_line\\_decision\\_var\\_2_{5} + 6.532451422553539 int\\_line\\_decision\\_var\\_2_{6} + 1.5337485936006214 int\\_line\\_decision\\_var\\_2_{7} + 4.261700414858434 int\\_line\\_decision\\_var\\_2_{8} + 0.2410176361372405 int\\_line\\_decision\\_var\\_2_{9} + 0.26451933609466144 int\\_line\\_decision\\_var\\_2_{10} + 0.44297470440637654 int\\_line\\_decision\\_var\\_2_{11} + 0.6532451422553538 int\\_line\\_decision\\_var\\_2_{12} + 0.44297470440637654 int\\_line\\_decision\\_var\\_2_{13} + 0.6532451422553538 int\\_line\\_decision\\_var\\_2_{14} + 0.1533748593600621 int\\_line\\_decision\\_var\\_2_{15} + 0.323301410782364 int\\_line\\_decision\\_var\\_2_{16} + 0.3505711071087135 int\\_line\\_decision\\_var\\_2_{17} + 4.429747044063765 int\\_line\\_decision\\_var\\_2_{18} + 0.21910694194294586 int\\_line\\_decision\\_var\\_3_{1} + 0.22043278007888453 int\\_line\\_decision\\_var\\_3_{2} $$"
      ],
      "text/plain": [
       "8.57573483 gen_var_1[1,1] + 13.75 gen_var_1[2,1] + 8.57573483 gen_var_1[1,2] + 13.75 gen_var_1[2,2] + 8.57573483 gen_var_1[1,3] + 13.75 gen_var_1[2,3] + 8.57573483 gen_var_1[1,4] + 13.75 gen_var_1[2,4] + 0.9 gen_var_2[1,1] + 0.7875 gen_var_2[2,1] + 0.875 gen_var_2[13,1] + 0.91675 gen_var_2[22,1] + 0.9375 gen_var_2[23,1] + 1.09375 gen_var_2[27,1] + 0.9 gen_var_2[1,2] + 0.7875 gen_var_2[2,2] + 0.875 gen_var_2[13,2] + 0.91675 gen_var_2[22,2] + 0.9375 gen_var_2[23,2] + 1.09375 gen_var_2[27,2] + 0.9 gen_var_2[1,3] + 0.7875 gen_var_2[2,3] + 0.875 gen_var_2[13,3] + 0.91675 gen_var_2[22,3] + 0.9375 gen_var_2[23,3] + 1.09375 gen_var_2[27,3] + 0.9 gen_var_2[1,4] + 0.7875 gen_var_2[2,4] + 0.875 gen_var_2[13,4] + 0.91675 gen_var_2[22,4] + 0.9375 gen_var_2[23,4] + 1.09375 gen_var_2[27,4] + 4.07573483 gen_var_3[1,1] + 9.25 gen_var_3[2,1] + 4.07573483 gen_var_3[1,2] + 9.25 gen_var_3[2,2] + 4.07573483 gen_var_3[1,3] + 9.25 gen_var_3[2,3] + 4.07573483 gen_var_3[1,4] + 9.25 gen_var_3[2,4] + 0.2410176361372405 shared_line_decision_var_1[1] + 0.19594024895900847 shared_line_decision_var_1[2] + 0.44297470440637654 shared_line_decision_var_1[3] + 0.6532451422553538 shared_line_decision_var_1[4] + 0.6532451422553538 shared_line_decision_var_2[4] + 0.1533748593600621 shared_line_decision_var_2[5] + 0.34289543567826486 shared_line_decision_var_2[6] + 0.2410176361372405 shared_line_decision_var_3[1] + 0.19594024895900847 shared_line_decision_var_3[2] + 0.44297470440637654 shared_line_decision_var_3[3] + 0.1533748593600621 shared_line_decision_var_3[5] + 0.34289543567826486 shared_line_decision_var_3[6] + 0.1533748593600621 int_line_decision_var_1[1] + 0.34289543567826486 int_line_decision_var_1[2] + 0.2519729832343877 int_line_decision_var_1[3] + 0.21553427385490934 int_line_decision_var_1[4] + 0.44297470440637654 int_line_decision_var_1[5] + 6.532451422553539 int_line_decision_var_1[6] + 1.5337485936006214 int_line_decision_var_1[7] + 3.673879667981409 int_line_decision_var_1[8] + 2.355399625886668 int_line_decision_var_1[9] + 2.400268049747854 int_line_decision_var_1[10] + 1.5337485936006214 int_line_decision_var_2[1] + 3.7718497924609133 int_line_decision_var_2[2] + 2.9579437162297695 int_line_decision_var_2[3] + 1.175641493754051 int_line_decision_var_2[4] + 4.429747044063765 int_line_decision_var_2[5] + 6.532451422553539 int_line_decision_var_2[6] + 1.5337485936006214 int_line_decision_var_2[7] + 4.261700414858434 int_line_decision_var_2[8] + 0.2410176361372405 int_line_decision_var_2[9] + 0.26451933609466144 int_line_decision_var_2[10] + 0.44297470440637654 int_line_decision_var_2[11] + 0.6532451422553538 int_line_decision_var_2[12] + 0.44297470440637654 int_line_decision_var_2[13] + 0.6532451422553538 int_line_decision_var_2[14] + 0.1533748593600621 int_line_decision_var_2[15] + 0.323301410782364 int_line_decision_var_2[16] + 0.3505711071087135 int_line_decision_var_2[17] + 4.429747044063765 int_line_decision_var_2[18] + 0.21910694194294586 int_line_decision_var_3[1] + 0.22043278007888453 int_line_decision_var_3[2]"
      ]
     },
     "execution_count": 18,
     "metadata": {},
     "output_type": "execute_result"
    }
   ],
   "source": [
    "@expression(Mod3, investment_cost , sum(bin_c(1)[c] .* shared_line_decision_var_1[c] .* shared_cand.costPerCap[c] .* shared_cand.interestRate[c] \n",
    "            .*((1 + shared_cand.interestRate[c]) .^ shared_cand.lifeTime[c]) ./ (((1 + shared_cand.interestRate[c]) .^ shared_cand.lifeTime[c])-1) for c in 1:nrow(shared_cand))\n",
    "    .+ sum(bin_c(2)[c] .* shared_line_decision_var_2[c] .* shared_cand.costPerCap[c] .* shared_cand.interestRate[c] \n",
    "            .*((1 + shared_cand.interestRate[c]) .^ shared_cand.lifeTime[c]) ./ (((1 + shared_cand.interestRate[c]) .^ shared_cand.lifeTime[c])-1) for c in 1:nrow(shared_cand))\n",
    "    .+ sum(bin_c(3)[c] .* shared_line_decision_var_3[c] .* shared_cand.costPerCap[c] .* shared_cand.interestRate[c] \n",
    "            .*((1 + shared_cand.interestRate[c]) .^ shared_cand.lifeTime[c]) ./ (((1 + shared_cand.interestRate[c]) .^ shared_cand.lifeTime[c])-1) for c in 1:nrow(shared_cand))\n",
    "    .+ sum(int_line_decision_var_1[c] .* int_c(1).costPerCap[c] .* int_c(1).interestRate[c] \n",
    "            .*((1 + int_c(1).interestRate[c]) .^ int_c(1).lifeTime[c]) ./ (((1 + int_c(1).interestRate[c]) .^ int_c(1).lifeTime[c])-1) for c in 1:nrow(int_c(1)))\n",
    "    .+ sum(int_line_decision_var_2[c] .* int_c(2).costPerCap[c] .* int_c(2).interestRate[c] \n",
    "            .*((1 + int_c(2).interestRate[c]) .^ int_c(2).lifeTime[c]) ./ (((1 + int_c(2).interestRate[c]) .^ int_c(2).lifeTime[c])-1) for c in 1:nrow(int_c(2)))\n",
    "    .+ sum(int_line_decision_var_3[c] .* int_c(3).costPerCap[c] .* int_c(3).interestRate[c] \n",
    "            .*((1 + int_c(3).interestRate[c]) .^ int_c(3).lifeTime[c]) ./ (((1 + int_c(3).interestRate[c]) .^ int_c(3).lifeTime[c])-1) for c in 1:nrow(int_c(3))))\n",
    "Mod3[:total_cost]+=investment_cost"
   ]
  },
  {
   "cell_type": "code",
   "execution_count": 8,
   "metadata": {},
   "outputs": [],
   "source": [
    "#The first zone\n",
    "for n in 1:14\n",
    "    for s in 1:nrow(scen_prob)\n",
    "        # Power balance constraint for each node\n",
    "        @constraint(Mod3, sum(g(1).gNodeID .== n) .* gen_var_1[n,s] .+ sum(l(1,s)[:,3].* (l(1,s).lNodeID .== n)) .==\n",
    "        sum((shared_cand.tNodeID1 .== n) .*bin_c(1) .* shared_cand_flow[:,s]) .- sum((shared_cand.tNodeID2 .== n) .* bin_c(1) .* shared_cand_flow[:,s]) .+\n",
    "        sum((shared_ex.tNodeID1 .== n) .* bin_e(1) .* shared_ex_flow[:,s]) .- sum((shared_ex.tNodeID2 .== n) .* bin_e(1) .* shared_ex_flow[:,s]) .+\n",
    "        sum((int_c(1).tNodeID1 .== n) .* int_cand_flow_1[:,s]) .- sum((int_c(1).tNodeID2 .== n) .* int_cand_flow_1[:,s]) .+\n",
    "        sum((int_e(1).tNodeID1 .== n) .* int_ex_flow_1[:,s]) .- sum((int_e(1).tNodeID2 .== n) .* int_ex_flow_1[:,s]))\n",
    "        #Lower limit for generation of each node\n",
    "        @constraint(Mod3, sum(g(1).gNodeID .== n) .* gen_var_1[n,s] .<= sum((g(1).gNodeID .== n) .* g(1).PgMax))\n",
    "        #Upper limit for generation of each node\n",
    "        @constraint(Mod3, sum((g(1).gNodeID .== n) .* g(1).PgMin) .<= sum(g(1).gNodeID .== n) .* gen_var_1[n,s])\n",
    "    end\n",
    "end"
   ]
  },
  {
   "cell_type": "code",
   "execution_count": 9,
   "metadata": {},
   "outputs": [],
   "source": [
    "#The second zone\n",
    "for n in 1:30\n",
    "    for s in 1:nrow(scen_prob)\n",
    "        # Power balance constraint for each node\n",
    "        @constraint(Mod3, sum(g(2).gNodeID .== n) .* gen_var_2[n,s] .+ sum(l(2,s)[:,3] .* (l(2,s).lNodeID .== n)) .==\n",
    "        sum((shared_cand.tNodeID1 .== n) .*bin_c(2) .* shared_cand_flow[:,s]) .- sum((shared_cand.tNodeID2 .== n) .* bin_c(2) .* shared_cand_flow[:,s]) .+\n",
    "        sum((shared_ex.tNodeID1 .== n) .* bin_e(2) .* shared_ex_flow[:,s]) .- sum((shared_ex.tNodeID2 .== n) .* bin_e(2) .* shared_ex_flow[:,s]) .+\n",
    "        sum((int_c(2).tNodeID1 .== n) .* int_cand_flow_2[:,s]) .- sum((int_c(2).tNodeID2 .== n) .* int_cand_flow_2[:,s]) .+\n",
    "        sum((int_e(2).tNodeID1 .== n) .* int_ex_flow_2[:,s]) .- sum((int_e(2).tNodeID2 .== n) .* int_ex_flow_2[:,s]))\n",
    "        #Lower limit for generation of each node\n",
    "        @constraint(Mod3, sum(g(2).gNodeID .== n) .* gen_var_2[n,s] .<= sum((g(2).gNodeID .== n) .* g(2).PgMax))\n",
    "        #Upper limit for generation of each node\n",
    "        @constraint(Mod3, sum((g(2).gNodeID .== n) .* g(2).PgMin) .<= sum(g(2).gNodeID .== n) .* gen_var_2[n,s])\n",
    "    end\n",
    "end"
   ]
  },
  {
   "cell_type": "code",
   "execution_count": 10,
   "metadata": {},
   "outputs": [],
   "source": [
    "#The third zone\n",
    "for n in 1:5\n",
    "    for s in 1:nrow(scen_prob)\n",
    "        # Power balance constraint for each node\n",
    "        @constraint(Mod3, sum(g(3).gNodeID .== n) .* gen_var_3[n,s] .+ sum(l(3,s)[:,3] .* (l(3,s).lNodeID .== n)) .==\n",
    "        sum((shared_cand.tNodeID1 .== n) .*bin_c(3) .* shared_cand_flow[:,s]) .- sum((shared_cand.tNodeID2 .== n) .* bin_c(3) .* shared_cand_flow[:,s]) .+\n",
    "        sum((shared_ex.tNodeID1 .== n) .* bin_e(3) .* shared_ex_flow[:,s]) .- sum((shared_ex.tNodeID2 .== n) .* bin_e(3) .* shared_ex_flow[:,s]) .+\n",
    "        sum((int_c(3).tNodeID1 .== n) .* int_cand_flow_3[:,s]) .- sum((int_c(3).tNodeID2 .== n) .* int_cand_flow_3[:,s]) .+\n",
    "        sum((int_e(3).tNodeID1 .== n) .* int_ex_flow_3[:,s]) .- sum((int_e(3).tNodeID2 .== n) .* int_ex_flow_3[:,s]))\n",
    "        #Lower limit for generation of each node\n",
    "        @constraint(Mod3, sum(g(3).gNodeID .== n) .* gen_var_3[n,s] .<= sum((g(3).gNodeID .== n) .* g(3).PgMax))\n",
    "        #Upper limit for generation of each node\n",
    "        @constraint(Mod3, sum((g(3).gNodeID .== n) .* g(3).PgMin) .<= sum(g(3).gNodeID .== n) .* gen_var_3[n,s])\n",
    "    end\n",
    "end"
   ]
  },
  {
   "cell_type": "code",
   "execution_count": 11,
   "metadata": {},
   "outputs": [],
   "source": [
    "#Shared candidate lines\n",
    "M = 100\n",
    "for c in 1:nrow(shared_cand)\n",
    "    for s in 1:nrow(scen_prob)\n",
    "        @constraint(Mod3,-M .* (1 .- bin_c(1) .* shared_line_decision_var_1[c]) .<= bin_c(1) .* shared_cand_flow[c,s] .- bin_c(1) .* ((1 ./ shared_cand.reacT[c]) .* (shared_cand_angle[c,s,1] .- shared_cand_angle[c,s,2])))\n",
    "        @constraint(Mod3,-M .* (1 .- bin_c(2) .* shared_line_decision_var_2[c]) .<= bin_c(2) .* shared_cand_flow[c,s] .- bin_c(2) .* ((1 ./ shared_cand.reacT[c]) .* (shared_cand_angle[c,s,1] .- shared_cand_angle[c,s,2])))\n",
    "        @constraint(Mod3,-M .* (1 .- bin_c(3) .* shared_line_decision_var_3[c]) .<= bin_c(3) .* shared_cand_flow[c,s] .- bin_c(3) .* ((1 ./ shared_cand.reacT[c]) .* (shared_cand_angle[c,s,1] .- shared_cand_angle[c,s,2])))\n",
    "        \n",
    "        @constraint(Mod3, bin_c(1) .* shared_cand_flow[c,s] .- bin_c(1) .* ((1 ./ shared_cand.reacT[c]) .* (shared_cand_angle[c,s,1] .- shared_cand_angle[c,s,2])) .<= M .* (1 .- bin_c(1) .* shared_line_decision_var_1[c]))\n",
    "        @constraint(Mod3, bin_c(2) .* shared_cand_flow[c,s] .- bin_c(2) .* ((1 ./ shared_cand.reacT[c]) .* (shared_cand_angle[c,s,1] .- shared_cand_angle[c,s,2])) .<= M .* (1 .- bin_c(2) .* shared_line_decision_var_2[c]))\n",
    "        @constraint(Mod3, bin_c(3) .* shared_cand_flow[c,s] .- bin_c(3) .* ((1 ./ shared_cand.reacT[c]) .* (shared_cand_angle[c,s,1] .- shared_cand_angle[c,s,2])) .<= M .* (1 .- bin_c(3) .* shared_line_decision_var_3[c]))\n",
    "        #limiting the upper bound of power flow flowing within candidate shared lines\n",
    "        @constraint(Mod3, bin_c(1) .* shared_cand_flow[c,s] .<= bin_c(1) .* shared_line_decision_var_1[c] .*shared_cand.ptMax[c])\n",
    "        @constraint(Mod3, bin_c(2) .* shared_cand_flow[c,s] .<= bin_c(2) .* shared_line_decision_var_2[c] .*shared_cand.ptMax[c])\n",
    "        @constraint(Mod3, bin_c(3) .* shared_cand_flow[c,s] .<= bin_c(3) .* shared_line_decision_var_3[c] .*shared_cand.ptMax[c])\n",
    "        #Limiting the lower bound of power flowing within the candidate shared lines\n",
    "        @constraint(Mod3, -shared_cand.ptMax[c] .* bin_c(1) .* shared_line_decision_var_1[c] .<= bin_c(1) .* shared_cand_flow[c,s])\n",
    "        @constraint(Mod3, -shared_cand.ptMax[c] .* bin_c(2) .* shared_line_decision_var_2[c] .<= bin_c(2) .* shared_cand_flow[c,s])\n",
    "        @constraint(Mod3, -shared_cand.ptMax[c] .* bin_c(3) .* shared_line_decision_var_3[c] .<= bin_c(3) .* shared_cand_flow[c,s])\n",
    "    end\n",
    " \n",
    "end"
   ]
  },
  {
   "cell_type": "code",
   "execution_count": 12,
   "metadata": {},
   "outputs": [],
   "source": [
    "#Shared existing lines\n",
    "for h in 1:nrow(shared_ex)\n",
    "    for s in 1:nrow(scen_prob)\n",
    "        @constraint(Mod3, shared_ex_flow[h,s] .== (1 ./ shared_ex.reacT[h]) .* (shared_ex_angle[h,s,1] .- shared_ex_angle[h,s,2]))\n",
    "        @constraint(Mod3, shared_ex_flow[h,s] .<= shared_ex. ptMax[h])\n",
    "        @constraint(Mod3, -shared_ex.ptMax[h] .<= shared_ex_flow[h,s])\n",
    "        #@constraint(Mod3, (shared_ex.nodeZone1 .== 2) .* (shared_ex.tNodeID1 .== 8) .* shared_ex_angle[h,1] .== 0)\n",
    "        #@constraint(Mod3, (shared_ex.nodeZone2 .== 2) .*(shared_ex.tNodeID2 .== 8) .* shared_ex_angle[h,2] .== 0)\n",
    "    end\n",
    "end"
   ]
  },
  {
   "cell_type": "code",
   "execution_count": 13,
   "metadata": {},
   "outputs": [],
   "source": [
    "#Zone 1 internal candidate lines\n",
    "for c in 1:nrow(int_c(1))\n",
    "    for s in 1:nrow(scen_prob)\n",
    "        @constraint(Mod3,-M .* (1 .- int_line_decision_var_1[c]) .<= int_cand_flow_1[c,s] .- ((1 ./ int_c(1).reacT[c]) .* (int_cand_angle_1[c,s,1] .- int_cand_angle_1[c,s,2])))\n",
    "        @constraint(Mod3, int_cand_flow_1[c,s] .- ((1 ./ int_c(1).reacT[c]) .* (int_cand_angle_1[c,s,1] .- int_cand_angle_1[c,s,2])) .<= M .* (1 .- int_line_decision_var_1[c]))\n",
    "        @constraint(Mod3, int_cand_flow_1[c,s] .<= int_line_decision_var_1[c] .* int_c(1).ptMax[c])\n",
    "        @constraint(Mod3, -int_c(1).ptMax[c] .*int_line_decision_var_1[c] .<= int_cand_flow_1[c,s])\n",
    "    end\n",
    "end"
   ]
  },
  {
   "cell_type": "code",
   "execution_count": 14,
   "metadata": {},
   "outputs": [],
   "source": [
    "#Zone 2 internal candidate lines\n",
    "for c in 1:nrow(int_c(2))\n",
    "    for s in 1:nrow(scen_prob)\n",
    "        @constraint(Mod3,-M .* (1 .- int_line_decision_var_2[c]) .<= int_cand_flow_2[c,s] .- ((1 ./ int_c(2).reacT[c]) .* (int_cand_angle_2[c,s,1] .- int_cand_angle_2[c,s,2])))\n",
    "        @constraint(Mod3, int_cand_flow_2[c,s] .- ((1 ./ int_c(2).reacT[c]) .* (int_cand_angle_2[c,s,1] .- int_cand_angle_2[c,s,2])) .<= M .* (1 .- int_line_decision_var_2[c]))\n",
    "        @constraint(Mod3, int_cand_flow_2[c,s] .<= int_line_decision_var_2[c] .* int_c(2).ptMax[c])\n",
    "        @constraint(Mod3, -int_c(2).ptMax[c] .*int_line_decision_var_2[c] .<= int_cand_flow_2[c,s])\n",
    "        #@constraint(Mod3, (int_c(2).tNodeID1 .== 8) .* int_cand_angle_2[c,1] .== 0)\n",
    "        #@constraint(Mod3, (int_c(2).tNodeID2 .== 8) .* int_cand_angle_2[c,2] .== 0)\n",
    "    end\n",
    "end"
   ]
  },
  {
   "cell_type": "code",
   "execution_count": 15,
   "metadata": {},
   "outputs": [],
   "source": [
    "#Zone 3 internal candidate lines\n",
    "for c in 1:nrow(int_c(3))\n",
    "    for s in 1:nrow(scen_prob)\n",
    "        @constraint(Mod3,-M .* (1 .- int_line_decision_var_3[c]) .<= int_cand_flow_3[c] .- ((1 ./ int_c(3).reacT[c]) .* (int_cand_angle_3[c,1] .- int_cand_angle_3[c,2])))\n",
    "        @constraint(Mod3, int_cand_flow_3[c] .- ((1 ./ int_c(3).reacT[c]) .* (int_cand_angle_3[c,1] .- int_cand_angle_3[c,2])) .<= M .* (1 .- int_line_decision_var_3[c]))\n",
    "        @constraint(Mod3, int_cand_flow_3[c] .<= int_line_decision_var_3[c] .* int_c(3).ptMax[c])\n",
    "        @constraint(Mod3, -int_c(3).ptMax[c] .*int_line_decision_var_3[c] .<= int_cand_flow_3[c])\n",
    "    end\n",
    "end"
   ]
  },
  {
   "cell_type": "code",
   "execution_count": 16,
   "metadata": {},
   "outputs": [],
   "source": [
    "#Zone 1 internal existing lines\n",
    "for h in 1:nrow(int_e(1))\n",
    "    for s in 1:nrow(scen_prob)\n",
    "        @constraint(Mod3, int_ex_flow_1[h] .== (1 ./ int_e(1).reacT[h]) .* (int_ex_angle_1[h,1] .- int_ex_angle_1[h,2]))\n",
    "        @constraint(Mod3, int_ex_flow_1[h] .<= int_e(1).ptMax[h])\n",
    "        @constraint(Mod3, -int_e(1).ptMax[h] .<= int_ex_flow_1[h])\n",
    "    end\n",
    "end"
   ]
  },
  {
   "cell_type": "code",
   "execution_count": 17,
   "metadata": {},
   "outputs": [],
   "source": [
    "#Zone 2 internal existing lines\n",
    "for h in 1:nrow(int_e(2))\n",
    "    for s in 1:nrow(scen_prob)\n",
    "        @constraint(Mod3, int_ex_flow_2[h] .== (1 ./ int_e(2).reacT[h]) .* (int_ex_angle_2[h,1] .- int_ex_angle_2[h,2]))\n",
    "        @constraint(Mod3, int_ex_flow_2[h] .<= int_e(2).ptMax[h])\n",
    "        @constraint(Mod3, -int_e(2).ptMax[h] .<= int_ex_flow_2[h])\n",
    "        #@constraint(Mod3, (int_e(2).tNodeID1 .== 8) .* int_ex_angle_2[h,1] .== 0)\n",
    "        #@constraint(Mod3, (int_e(2).tNodeID2 .== 8) .* int_ex_angle_2[h,2] .== 0)\n",
    "    end\n",
    "end"
   ]
  },
  {
   "cell_type": "code",
   "execution_count": 18,
   "metadata": {},
   "outputs": [],
   "source": [
    "#Zone 3 internal existing lines\n",
    "for h in 1:nrow(int_e(3))\n",
    "    for s in 1:nrow(scen_prob)\n",
    "        @constraint(Mod3, int_ex_flow_3[h] .== (1 ./ int_e(3).reacT[h]) .* (int_ex_angle_3[h,1] .- int_ex_angle_3[h,2]))\n",
    "        @constraint(Mod3, int_ex_flow_3[h] .<= int_e(3).ptMax[h])\n",
    "        @constraint(Mod3, -int_e(3).ptMax[h] .<= int_ex_flow_3[h])\n",
    "    end\n",
    "end"
   ]
  },
  {
   "cell_type": "code",
   "execution_count": 19,
   "metadata": {},
   "outputs": [],
   "source": [
    "@objective(Mod3, Min, Mod3[:total_cost])\n",
    "optimize!(Mod3)"
   ]
  },
  {
   "cell_type": "code",
   "execution_count": 20,
   "metadata": {},
   "outputs": [
    {
     "data": {
      "text/plain": [
       "2667.2764567175504"
      ]
     },
     "execution_count": 20,
     "metadata": {},
     "output_type": "execute_result"
    }
   ],
   "source": [
    "if termination_status(Mod3) == MOI.OPTIMAL\n",
    "    shared_line_decision_1 = value.(shared_line_decision_var_1)\n",
    "    shared_line_decision_2 = value.(shared_line_decision_var_2)\n",
    "    shared_line_decision_3 = value.(shared_line_decision_var_3)\n",
    "    shared_cand_power = value.(shared_cand_flow)\n",
    "    shared_cand_phase_angle = value.(shared_cand_angle)\n",
    "    shared_ex_power = value.(shared_ex_flow)\n",
    "    shared_ex_phase_angle = value.(shared_ex_angle)\n",
    "    int_line_decision_1 = value.(int_line_decision_var_1)\n",
    "    int_line_decision_2 = value.(int_line_decision_var_2)\n",
    "    int_line_decision_3 = value.(int_line_decision_var_3)\n",
    "    obj_value = objective_value(Mod3)\n",
    "end"
   ]
  },
  {
   "cell_type": "code",
   "execution_count": 21,
   "metadata": {},
   "outputs": [
    {
     "data": {
      "text/plain": [
       "6-element Array{Float64,1}:\n",
       " 0.0\n",
       " 0.0\n",
       " 0.0\n",
       " 1.0\n",
       " 0.0\n",
       " 0.0"
      ]
     },
     "execution_count": 21,
     "metadata": {},
     "output_type": "execute_result"
    }
   ],
   "source": [
    "shared_line_decision_1"
   ]
  },
  {
   "cell_type": "code",
   "execution_count": 22,
   "metadata": {},
   "outputs": [
    {
     "data": {
      "text/plain": [
       "6-element Array{Float64,1}:\n",
       " 0.0\n",
       " 0.0\n",
       " 0.0\n",
       " 1.0\n",
       " 0.0\n",
       " 0.0"
      ]
     },
     "execution_count": 22,
     "metadata": {},
     "output_type": "execute_result"
    }
   ],
   "source": [
    "shared_line_decision_2"
   ]
  },
  {
   "cell_type": "code",
   "execution_count": 23,
   "metadata": {},
   "outputs": [
    {
     "data": {
      "text/plain": [
       "6-element Array{Float64,1}:\n",
       " 0.0\n",
       " 0.0\n",
       " 0.0\n",
       " 1.0\n",
       " 0.0\n",
       " 0.0"
      ]
     },
     "execution_count": 23,
     "metadata": {},
     "output_type": "execute_result"
    }
   ],
   "source": [
    "shared_line_decision_3"
   ]
  },
  {
   "cell_type": "code",
   "execution_count": 24,
   "metadata": {},
   "outputs": [
    {
     "data": {
      "text/plain": [
       "6-element Array{Float64,1}:\n",
       "   0.0\n",
       "   0.0\n",
       "   0.0\n",
       " 100.0\n",
       "   0.0\n",
       "   0.0"
      ]
     },
     "execution_count": 24,
     "metadata": {},
     "output_type": "execute_result"
    }
   ],
   "source": [
    "shared_cand_power"
   ]
  },
  {
   "cell_type": "code",
   "execution_count": 25,
   "metadata": {},
   "outputs": [
    {
     "data": {
      "text/plain": [
       "6×2 Array{Float64,2}:\n",
       "  0.0    0.0\n",
       "  0.0    0.0\n",
       " 19.797  0.0\n",
       "  5.75   0.0\n",
       "  0.0    0.0\n",
       "  0.0    0.0"
      ]
     },
     "execution_count": 25,
     "metadata": {},
     "output_type": "execute_result"
    }
   ],
   "source": [
    "shared_cand_phase_angle"
   ]
  },
  {
   "cell_type": "code",
   "execution_count": 26,
   "metadata": {},
   "outputs": [
    {
     "data": {
      "text/plain": [
       "8×2 Array{Float64,2}:\n",
       " 27.0    0.0\n",
       "  0.0   32.92\n",
       "  0.0   20.8\n",
       "  0.0    0.0\n",
       "  5.99   0.0\n",
       " 20.0    0.0\n",
       "  6.6    0.0\n",
       "  7.28   0.0"
      ]
     },
     "execution_count": 26,
     "metadata": {},
     "output_type": "execute_result"
    }
   ],
   "source": [
    "shared_ex_phase_angle"
   ]
  },
  {
   "cell_type": "code",
   "execution_count": 27,
   "metadata": {},
   "outputs": [
    {
     "data": {
      "text/plain": [
       "8-element Array{Float64,1}:\n",
       "  100.0\n",
       " -100.0\n",
       " -100.0\n",
       "    0.0\n",
       "  100.0\n",
       "  100.0\n",
       "   60.0\n",
       "   35.0"
      ]
     },
     "execution_count": 27,
     "metadata": {},
     "output_type": "execute_result"
    }
   ],
   "source": [
    "shared_ex_power"
   ]
  },
  {
   "cell_type": "code",
   "execution_count": 28,
   "metadata": {},
   "outputs": [
    {
     "data": {
      "text/plain": [
       "10-element Array{Float64,1}:\n",
       " 0.0\n",
       " 0.0\n",
       " 0.0\n",
       " 0.0\n",
       " 0.0\n",
       " 0.0\n",
       " 0.0\n",
       " 0.0\n",
       " 0.0\n",
       " 0.0"
      ]
     },
     "execution_count": 28,
     "metadata": {},
     "output_type": "execute_result"
    }
   ],
   "source": [
    "int_line_decision_1"
   ]
  },
  {
   "cell_type": "code",
   "execution_count": 29,
   "metadata": {},
   "outputs": [
    {
     "data": {
      "text/plain": [
       "18-element Array{Float64,1}:\n",
       " 0.0\n",
       " 0.0\n",
       " 0.0\n",
       " 0.0\n",
       " 0.0\n",
       " 0.0\n",
       " 0.0\n",
       " 0.0\n",
       " 0.0\n",
       " 0.0\n",
       " 0.0\n",
       " 0.0\n",
       " 0.0\n",
       " 1.0\n",
       " 0.0\n",
       " 1.0\n",
       " 0.0\n",
       " 0.0"
      ]
     },
     "execution_count": 29,
     "metadata": {},
     "output_type": "execute_result"
    }
   ],
   "source": [
    "int_line_decision_2"
   ]
  },
  {
   "cell_type": "code",
   "execution_count": 30,
   "metadata": {},
   "outputs": [
    {
     "data": {
      "text/plain": [
       "2-element Array{Float64,1}:\n",
       " 0.0\n",
       " 0.0"
      ]
     },
     "execution_count": 30,
     "metadata": {},
     "output_type": "execute_result"
    }
   ],
   "source": [
    "int_line_decision_3"
   ]
  },
  {
   "cell_type": "code",
   "execution_count": 31,
   "metadata": {},
   "outputs": [
    {
     "data": {
      "text/plain": [
       "10-element BitArray{1}:\n",
       " 0\n",
       " 0\n",
       " 0\n",
       " 0\n",
       " 0\n",
       " 0\n",
       " 0\n",
       " 0\n",
       " 0\n",
       " 0"
      ]
     },
     "execution_count": 31,
     "metadata": {},
     "output_type": "execute_result"
    }
   ],
   "source": [
    "(int_c(1).tNodeID1 .== 7)\n",
    "(int_c(1).tNodeID2 .== 7)        "
   ]
  },
  {
   "cell_type": "code",
   "execution_count": 32,
   "metadata": {},
   "outputs": [
    {
     "data": {
      "text/plain": [
       "6-element Array{Int64,1}:\n",
       " 1\n",
       " 1\n",
       " 1\n",
       " 1\n",
       " 0\n",
       " 0"
      ]
     },
     "execution_count": 32,
     "metadata": {},
     "output_type": "execute_result"
    }
   ],
   "source": [
    "bin_c(1)"
   ]
  },
  {
   "cell_type": "code",
   "execution_count": 33,
   "metadata": {},
   "outputs": [
    {
     "data": {
      "text/plain": [
       "6-element Array{Int64,1}:\n",
       " 0\n",
       " 0\n",
       " 0\n",
       " 1\n",
       " 1\n",
       " 1"
      ]
     },
     "execution_count": 33,
     "metadata": {},
     "output_type": "execute_result"
    }
   ],
   "source": [
    "bin_c(2)"
   ]
  },
  {
   "cell_type": "code",
   "execution_count": 34,
   "metadata": {},
   "outputs": [
    {
     "data": {
      "text/html": [
       "<table class=\"data-frame\"><thead><tr><th></th><th>Sernum</th><th>tNodeID1</th><th>nodeZone1</th><th>tNodeID2</th><th>nodeZone2</th><th>reacT</th><th>ptMax</th><th>lifeTime</th><th>interestRate</th></tr><tr><th></th><th>Any</th><th>Any</th><th>Any</th><th>Any</th><th>Any</th><th>Any</th><th>Any</th><th>Any</th><th>Any</th></tr></thead><tbody><p>6 rows × 11 columns (omitted printing of 2 columns)</p><tr><th>1</th><td>1</td><td>1</td><td>1</td><td>2</td><td>3</td><td>0.05917</td><td>100</td><td>50</td><td>0.05</td></tr><tr><th>2</th><td>2</td><td>5</td><td>3</td><td>2</td><td>1</td><td>0.22304</td><td>100</td><td>57</td><td>0.045</td></tr><tr><th>3</th><td>3</td><td>10</td><td>1</td><td>4</td><td>3</td><td>0.19797</td><td>100</td><td>29</td><td>0.03</td></tr><tr><th>4</th><td>4</td><td>19</td><td>2</td><td>14</td><td>1</td><td>0.0575</td><td>100</td><td>35</td><td>0.1</td></tr><tr><th>5</th><td>5</td><td>23</td><td>2</td><td>4</td><td>3</td><td>0.1652</td><td>100</td><td>50</td><td>0.05</td></tr><tr><th>6</th><td>6</td><td>2</td><td>3</td><td>15</td><td>2</td><td>0.1737</td><td>100</td><td>57</td><td>0.045</td></tr></tbody></table>"
      ],
      "text/latex": [
       "\\begin{tabular}{r|cccccccccc}\n",
       "\t& Sernum & tNodeID1 & nodeZone1 & tNodeID2 & nodeZone2 & reacT & ptMax & lifeTime & interestRate & \\\\\n",
       "\t\\hline\n",
       "\t& Any & Any & Any & Any & Any & Any & Any & Any & Any & \\\\\n",
       "\t\\hline\n",
       "\t1 & 1 & 1 & 1 & 2 & 3 & 0.05917 & 100 & 50 & 0.05 & $\\dots$ \\\\\n",
       "\t2 & 2 & 5 & 3 & 2 & 1 & 0.22304 & 100 & 57 & 0.045 & $\\dots$ \\\\\n",
       "\t3 & 3 & 10 & 1 & 4 & 3 & 0.19797 & 100 & 29 & 0.03 & $\\dots$ \\\\\n",
       "\t4 & 4 & 19 & 2 & 14 & 1 & 0.0575 & 100 & 35 & 0.1 & $\\dots$ \\\\\n",
       "\t5 & 5 & 23 & 2 & 4 & 3 & 0.1652 & 100 & 50 & 0.05 & $\\dots$ \\\\\n",
       "\t6 & 6 & 2 & 3 & 15 & 2 & 0.1737 & 100 & 57 & 0.045 & $\\dots$ \\\\\n",
       "\\end{tabular}\n"
      ],
      "text/plain": [
       "\u001b[1m6×11 DataFrame\u001b[0m\n",
       "\u001b[1m Row \u001b[0m│\u001b[1m Sernum \u001b[0m\u001b[1m tNodeID1 \u001b[0m\u001b[1m nodeZone1 \u001b[0m\u001b[1m tNodeID2 \u001b[0m\u001b[1m nodeZone2 \u001b[0m\u001b[1m reacT   \u001b[0m\u001b[1m ptMax \u001b[0m\u001b[1m lifeT\u001b[0m ⋯\n",
       "\u001b[1m     \u001b[0m│\u001b[90m Any    \u001b[0m\u001b[90m Any      \u001b[0m\u001b[90m Any       \u001b[0m\u001b[90m Any      \u001b[0m\u001b[90m Any       \u001b[0m\u001b[90m Any     \u001b[0m\u001b[90m Any   \u001b[0m\u001b[90m Any  \u001b[0m ⋯\n",
       "─────┼──────────────────────────────────────────────────────────────────────────\n",
       "   1 │ 1       1         1          2         3          0.05917  100    50    ⋯\n",
       "   2 │ 2       5         3          2         1          0.22304  100    57\n",
       "   3 │ 3       10        1          4         3          0.19797  100    29\n",
       "   4 │ 4       19        2          14        1          0.0575   100    35\n",
       "   5 │ 5       23        2          4         3          0.1652   100    50    ⋯\n",
       "   6 │ 6       2         3          15        2          0.1737   100    57\n",
       "\u001b[36m                                                               4 columns omitted\u001b[0m"
      ]
     },
     "execution_count": 34,
     "metadata": {},
     "output_type": "execute_result"
    }
   ],
   "source": [
    "shared_cand"
   ]
  },
  {
   "cell_type": "code",
   "execution_count": null,
   "metadata": {},
   "outputs": [],
   "source": []
  }
 ],
 "metadata": {
  "kernelspec": {
   "display_name": "Julia 1.5.3",
   "language": "julia",
   "name": "julia-1.5"
  },
  "language_info": {
   "file_extension": ".jl",
   "mimetype": "application/julia",
   "name": "julia",
   "version": "1.5.3"
  }
 },
 "nbformat": 4,
 "nbformat_minor": 4
}
