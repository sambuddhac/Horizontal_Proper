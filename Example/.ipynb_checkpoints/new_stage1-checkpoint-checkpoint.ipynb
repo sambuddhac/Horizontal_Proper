{
 "cells": [
  {
   "cell_type": "code",
   "execution_count": 2,
   "metadata": {},
   "outputs": [],
   "source": [
    "using Pkg\n",
    "Pkg.add(\"GLPK\")\n",
    "Pkg.add(\"XLSX\")\n",
    "using JuMP\n",
    "using GLPK\n",
    "using XLSX\n",
    "using DataFrames"
   ]
  },
  {
   "cell_type": "markdown",
   "metadata": {},
   "source": [
    "First, the data from excel files are called and saved in dataframe formats."
   ]
  },
  {
   "cell_type": "code",
   "execution_count": 1,
   "metadata": {},
   "outputs": [
    {
     "ename": "LoadError",
     "evalue": "UndefVarError: XLSX not defined",
     "output_type": "error",
     "traceback": [
      "UndefVarError: XLSX not defined",
      "",
      "Stacktrace:",
      " [1] top-level scope at In[1]:1",
      " [2] include_string(::Function, ::Module, ::String, ::String) at ./loading.jl:1091"
     ]
    }
   ],
   "source": [
    "shared_cand = DataFrame(XLSX.readtable(\"../CandLine.xlsx\", \"Taul1\", header=true)...) #Dataframe of shared candidate lines\n",
    "int_cand =  DataFrame(XLSX.readtable(\"../CandLineInt.xlsx\", \"Taul1\", header=true)...) #Dataframe of internal candidate lines\n",
    "shared_ex =  DataFrame(XLSX.readtable(\"../SharedEline.xlsx\", \"Taul1\", header=true)...) #Dataframe of shared existing lines\n",
    "int_ex = DataFrame(XLSX.readtable(\"../Tran.xlsx\", \"Taul1\", header=true)...) #Dataframe of internal existing lines\n",
    "gen =  DataFrame(XLSX.readtable(\"../Gen.xlsx\" , \"Taul1\", header=true)...) #Dataframe of generators\n",
    "load =  DataFrame(XLSX.readtable(\"../Load.xlsx\", \"Taul1\", header=true)...) #Dataframe of loads\n",
    "##An example of the load dataframe can be found as follows"
   ]
  },
  {
   "cell_type": "markdown",
   "metadata": {},
   "source": [
    "Then, some functions are defined which can separate the lines, generators, and zones of each zone"
   ]
  },
  {
   "cell_type": "code",
   "execution_count": 3,
   "metadata": {},
   "outputs": [
    {
     "data": {
      "text/plain": [
       "bin_e (generic function with 1 method)"
      ]
     },
     "execution_count": 3,
     "metadata": {},
     "output_type": "execute_result"
    }
   ],
   "source": [
    "l(i) = load[load.zoneNum .== i, :] # load within zone i\n",
    "g(i) = gen[gen.zoneNum .== i, :]   # generators within zone i\n",
    "shared_c(i) = vcat(shared_cand[shared_cand.nodeZone1 .== i,:] , shared_cand[shared_cand.nodeZone2 .== i, :]) #shared candidate lines within zone i\n",
    "int_c(i) = int_cand[int_cand.zoneNum .== i, :]   # number of internal candidate lines within zone i\n",
    "shared_e(i) = vcat(shared_ex[shared_ex.nodeZone1 .== i,:] , shared_ex[shared_ex.nodeZone2 .== i, :]) #shared existing lines within zone i\n",
    "int_e(i) =int_ex[int_ex.zoneNum .== i, :]       # internal existing lines within zone i\n",
    "MC(i) = (g(i).C2 .* (g(i).PgMax .^ 2) .+ g(i).C1 .* g(i).PgMax .- g(i).C2 .*(g(i).PgMin .^ 2) .- g(i).C1 .* g(i).PgMin) ./ (g(i).PgMax .- g(i).PgMin) #Marginal cost of generators within zone i\n",
    "bin_c(i) = (shared_cand.nodeZone1 .== i) + (shared_cand.nodeZone2 .== i) # A binary vector through which we can check if the shared candidate lines belong to zone i\n",
    "bin_e(i) = (shared_ex.nodeZone1 .== i) + (shared_ex.nodeZone2 .== i) # A binary vector through which we can check if the shared existing lines belong to zone i"
   ]
  },
  {
   "cell_type": "markdown",
   "metadata": {},
   "source": [
    "As an example, the following shows the shared candidate lines that belong to zone 1:"
   ]
  },
  {
   "cell_type": "code",
   "execution_count": 4,
   "metadata": {},
   "outputs": [
    {
     "data": {
      "text/html": [
       "<table class=\"data-frame\"><thead><tr><th></th><th>Sernum</th><th>tNodeID1</th><th>nodeZone1</th><th>tNodeID2</th><th>nodeZone2</th><th>reacT</th><th>ptMax</th><th>lifeTime</th><th>interestRate</th></tr><tr><th></th><th>Any</th><th>Any</th><th>Any</th><th>Any</th><th>Any</th><th>Any</th><th>Any</th><th>Any</th><th>Any</th></tr></thead><tbody><p>4 rows × 11 columns (omitted printing of 2 columns)</p><tr><th>1</th><td>1</td><td>1</td><td>1</td><td>2</td><td>3</td><td>0.05917</td><td>100</td><td>50</td><td>0.05</td></tr><tr><th>2</th><td>3</td><td>10</td><td>1</td><td>4</td><td>3</td><td>0.19797</td><td>100</td><td>29</td><td>0.03</td></tr><tr><th>3</th><td>2</td><td>5</td><td>3</td><td>2</td><td>1</td><td>0.22304</td><td>100</td><td>57</td><td>0.045</td></tr><tr><th>4</th><td>4</td><td>19</td><td>2</td><td>14</td><td>1</td><td>0.0575</td><td>100</td><td>35</td><td>0.1</td></tr></tbody></table>"
      ],
      "text/latex": [
       "\\begin{tabular}{r|cccccccccc}\n",
       "\t& Sernum & tNodeID1 & nodeZone1 & tNodeID2 & nodeZone2 & reacT & ptMax & lifeTime & interestRate & \\\\\n",
       "\t\\hline\n",
       "\t& Any & Any & Any & Any & Any & Any & Any & Any & Any & \\\\\n",
       "\t\\hline\n",
       "\t1 & 1 & 1 & 1 & 2 & 3 & 0.05917 & 100 & 50 & 0.05 & $\\dots$ \\\\\n",
       "\t2 & 3 & 10 & 1 & 4 & 3 & 0.19797 & 100 & 29 & 0.03 & $\\dots$ \\\\\n",
       "\t3 & 2 & 5 & 3 & 2 & 1 & 0.22304 & 100 & 57 & 0.045 & $\\dots$ \\\\\n",
       "\t4 & 4 & 19 & 2 & 14 & 1 & 0.0575 & 100 & 35 & 0.1 & $\\dots$ \\\\\n",
       "\\end{tabular}\n"
      ],
      "text/plain": [
       "\u001b[1m4×11 DataFrame\u001b[0m\n",
       "\u001b[1m Row \u001b[0m│\u001b[1m Sernum \u001b[0m\u001b[1m tNodeID1 \u001b[0m\u001b[1m nodeZone1 \u001b[0m\u001b[1m tNodeID2 \u001b[0m\u001b[1m nodeZone2 \u001b[0m\u001b[1m reacT   \u001b[0m\u001b[1m ptMax \u001b[0m\u001b[1m lifeT\u001b[0m ⋯\n",
       "\u001b[1m     \u001b[0m│\u001b[90m Any    \u001b[0m\u001b[90m Any      \u001b[0m\u001b[90m Any       \u001b[0m\u001b[90m Any      \u001b[0m\u001b[90m Any       \u001b[0m\u001b[90m Any     \u001b[0m\u001b[90m Any   \u001b[0m\u001b[90m Any  \u001b[0m ⋯\n",
       "─────┼──────────────────────────────────────────────────────────────────────────\n",
       "   1 │ 1       1         1          2         3          0.05917  100    50    ⋯\n",
       "   2 │ 3       10        1          4         3          0.19797  100    29\n",
       "   3 │ 2       5         3          2         1          0.22304  100    57\n",
       "   4 │ 4       19        2          14        1          0.0575   100    35\n",
       "\u001b[36m                                                               4 columns omitted\u001b[0m"
      ]
     },
     "execution_count": 4,
     "metadata": {},
     "output_type": "execute_result"
    }
   ],
   "source": [
    "shared_c(1)"
   ]
  },
  {
   "cell_type": "markdown",
   "metadata": {},
   "source": [
    "The folowing section shows the optimization problem that needs to be run by each transmission planner (TP). The optimization problem is written as a function of (i = the zone number, N = the number of nodes within zone i, flag = (if flag = 1, then we have binary decision variables, otherwise we have a relaxed problem), cand_zeta = the penalty vector associated with the candidate shared lines'phase angles, ex_zeta =the penalty vector associated with the existing shared lines'phase angles, cand_pi = the penalty vector associated with the candidate shared lines binary variables"
   ]
  },
  {
   "cell_type": "code",
   "execution_count": 5,
   "metadata": {},
   "outputs": [
    {
     "data": {
      "text/plain": [
       "milp_hor_dist (generic function with 1 method)"
      ]
     },
     "execution_count": 5,
     "metadata": {},
     "output_type": "execute_result"
    }
   ],
   "source": [
    "function milp_hor_dist(i, N, flag, cand_zeta, ex_zeta, cand_pi)\n",
    "    \n",
    "    #Defining the model:\n",
    "    \n",
    "    Mod1 = Model(GLPK.Optimizer)\n",
    "    \n",
    "    #Defining variables\n",
    "    \n",
    "    @variable(Mod1,0 <= gen_var[1:N]) # generation at each node\n",
    "    @variable(Mod1,0 <= shared_line_decision_var[1:nrow(shared_cand)] <= 1) #Decision variable for shared candidate lines\n",
    "    @variable(Mod1,0 <= int_line_decision_var[1:nrow(int_c(i))] <= 1) #Decision variable\n",
    "    @variable(Mod1,shared_cand_flow[1:nrow(shared_cand)])  #Power flowing on shared candidate lines \n",
    "    @variable(Mod1,int_cand_flow[1:nrow(int_c(i))]) #Power flowing on internal candidate lines \n",
    "    @variable(Mod1,0 <= shared_cand_angle[1:nrow(shared_cand),1:2]) #Phase angle decision for shared candidate lines\n",
    "    @variable(Mod1,0 <= int_cand_angle[1:nrow(int_c(i)),1:2]) #Phase angle decision for existing shared lines\n",
    "    @variable(Mod1,shared_ex_flow[1:nrow(shared_ex)])  #Power flowing on shared existing shared lines\n",
    "    @variable(Mod1,int_ex_flow[1:nrow(int_e(i))])  #Power flowing on internal existing lines\n",
    "    @variable(Mod1,0 <= shared_ex_angle[1:nrow(shared_ex),1:2]) #Phase angle for existing shared lines\n",
    "    @variable(Mod1,0 <= int_ex_angle[1:nrow(int_e(i)),1:2])\n",
    "    #Phase angle decision for internal existing lines\n",
    "    #For those variables that have two columns:\n",
    "    #The first column is fromnode\n",
    "    #The second column is tonode\n",
    "    \n",
    "    \n",
    "    #Defining the objective function\n",
    "    @expression(Mod1, total_cost , sum((gen_var[n] .* sum((g(i).gNodeID .== n) .* MC(i))) for n in 1:N)\n",
    "        .+ sum(shared_cand_angle[c,1] .* cand_zeta[c,1] .+ shared_cand_angle[c,2] .* cand_zeta[c,2] .+ \n",
    "                cand_pi[c] .* shared_line_decision_var[c] .+  shared_line_decision_var[c] .* shared_cand.costPerCap[c] .* shared_cand.interestRate[c] \n",
    "                .*((1 + shared_cand.interestRate[c]) .^ shared_cand.lifeTime[c]) ./ (((1 + shared_cand.interestRate[c]) .^ shared_cand.lifeTime[c])-1) for c in 1:nrow(shared_cand))\n",
    "        .+ sum(int_line_decision_var[c] .* int_c(i).costPerCap[c] .* int_c(i).interestRate[c] \n",
    "                .*((1 + int_c(i).interestRate[c]) .^ int_c(i).lifeTime[c]) ./ (((1 + int_c(i).interestRate[c]) .^ int_c(i).lifeTime[c])-1) for c in 1:nrow(int_c(i)))\n",
    "        .+ sum(shared_ex_angle[h,1] .* ex_zeta[h,1] .+ shared_ex_angle[h,2] .* ex_zeta[h,2] for h in 1:nrow(shared_ex)))\n",
    "    \n",
    "    for n in 1:N\n",
    "        # Power balance constraint for each node\n",
    "        @constraint(Mod1, sum(g(i).gNodeID .== n) .* gen_var[n] .+ sum(l(i).P_load1 .* (l(i).lNodeID .== n)) .==\n",
    "            sum((shared_cand.tNodeID1 .== n) .*bin_c(i) .* shared_cand_flow) .- sum((shared_cand.tNodeID2 .== n) .* bin_c(i) .* shared_cand_flow) .+\n",
    "            sum((shared_ex.tNodeID1 .== n) .* bin_e(i) .* shared_ex_flow) .- sum((shared_ex.tNodeID2 .== n) .* bin_e(i) .* shared_ex_flow) .+\n",
    "            sum((int_c(i).tNodeID1 .== n) .* int_cand_flow) .- sum((int_c(i).tNodeID2 .== n) .* int_cand_flow) .+\n",
    "            sum((int_e(i).tNodeID1 .== n) .* int_ex_flow) .- sum((int_e(i).tNodeID2 .== n) .* int_ex_flow))\n",
    "        #Lower limit for generation of each node\n",
    "        @constraint(Mod1, sum(g(i).gNodeID .== n) .* gen_var[n] .<= sum((g(i).gNodeID .== n) .* g(i).PgMax))\n",
    "        #Upper limit for generation of each node\n",
    "        @constraint(Mod1, sum((g(i).gNodeID .== n) .* g(i).PgMin) .<= sum(g(i).gNodeID .== n) .* gen_var[n])\n",
    "    end\n",
    "    \n",
    "    M=100 #Big number\n",
    "    \n",
    "    #Constraints elated to the candidate shared lines:\n",
    "    for c in 1:nrow(shared_cand) \n",
    "        if flag==1 \n",
    "            #If flag = 1, our decision variables for constructing candidate shared lines would be binary\n",
    "            @constraint(Mod1, shared_line_decision_var[c] in MOI.Integer())\n",
    "        end\n",
    "        #Associating the power flowing within the line with the phase angles of nodes:\n",
    "        @constraint(Mod1,-M .* (1 .- bin_c(i) .* shared_line_decision_var[c]) .<= bin_c(i) .* shared_cand_flow[c] .- ((1 ./ shared_cand.reacT[c]) .* (bin_c(i) .* shared_cand_angle[c,1] .- bin_c(i) .* shared_cand_angle[c,2])))\n",
    "        \n",
    "        @constraint(Mod1, bin_c(i) .* shared_cand_flow[c] .- ((1 ./ shared_cand.reacT[c]) .* (bin_c(i) .* shared_cand_angle[c,1] .- bin_c(i) .* shared_cand_angle[c,2])) .<= M .* (1 .- bin_c(i) .* shared_line_decision_var[c]))\n",
    "        #limiting the upper bound of power flow flowing within candidate shared lines\n",
    "        @constraint(Mod1, shared_cand_flow[c] .<= bin_c(i) .* shared_line_decision_var[c] .* bin_c(i) .* shared_cand.ptMax[c])\n",
    "        #Limiting the lower bound of power flowing within the candidate shared lines\n",
    "        @constraint(Mod1, -shared_cand.ptMax[c] .* bin_c(i) .* shared_line_decision_var[c] .<= bin_c(i) .* shared_cand_flow[c])\n",
    "    end\n",
    "    \n",
    "    #The same constraints related to the candidate internal lines:\n",
    "    for c in 1:nrow(int_c(i))\n",
    "        if flag==1\n",
    "            @constraint(Mod1, int_line_decision_var[c] in MOI.Integer())\n",
    "        end\n",
    "        @constraint(Mod1,-M .* (1 .- int_line_decision_var[c]) .<= int_cand_flow[c] .- ((1 ./ int_c(i).reacT[c]) .* (int_cand_angle[c,1] .- int_cand_angle[c,2])))\n",
    "        @constraint(Mod1, int_cand_flow[c] .- ((1 ./ int_c(i).reacT[c]) .* (int_cand_angle[c,1] .- int_cand_angle[c,2])) .<= M .* (1 .- int_line_decision_var[c]))\n",
    "        @constraint(Mod1, int_cand_flow[c] .<= int_line_decision_var[c] .* int_c(i).ptMax[c])\n",
    "        @constraint(Mod1, -int_c(i).ptMax[c] .*int_line_decision_var[c] .<= int_cand_flow[c])\n",
    "    end\n",
    "    \n",
    "    #The same constraints related to the shared existing lines:\n",
    "    for h in 1:nrow(shared_ex)\n",
    "        @constraint(Mod1, bin_e(i) .* shared_ex_flow[h] .== (1 ./ shared_ex.reacT[h]) .* (bin_e(i) .* shared_ex_angle[h,1] .- bin_e(i) .* shared_ex_angle[h,2]))\n",
    "        @constraint(Mod1, shared_ex_flow[h] .<= bin_e(i) .* shared_ex. ptMax[h])\n",
    "        @constraint(Mod1, bin_e(i) .* -shared_ex.ptMax[h] .<= bin_e(i) .* shared_ex_flow[h])\n",
    "    end\n",
    "    #The same constraints related to the internal existing lines:\n",
    "    \n",
    "    for h in 1:nrow(int_e(i))\n",
    "        @constraint(Mod1, int_ex_flow[h] .== (1 ./ int_e(i).reacT[h]) .* (int_ex_angle[h,1] .- int_ex_angle[h,2]))\n",
    "        @constraint(Mod1, int_ex_flow[h] .<= int_e(i).ptMax[h])\n",
    "        @constraint(Mod1, -int_e(i).ptMax[h] .<= int_ex_flow[h])\n",
    "    end\n",
    "    \n",
    "    #The model objective is to minimize the total cost:\n",
    "    \n",
    "    @objective(Mod1, Min, total_cost)\n",
    "    optimize!(Mod1)\n",
    "    if termination_status(Mod1) == MOI.OPTIMAL #If the solution is optimal then it returns the variables\n",
    "    \n",
    "        shared_line_decision = value.(shared_line_decision_var)\n",
    "        shared_cand_power = value.(shared_cand_flow)\n",
    "        shared_cand_phase_angle = value.(shared_cand_angle)\n",
    "        shared_ex_power = value.(shared_ex_flow)\n",
    "        shared_ex_phase_angle = value.(shared_ex_angle)\n",
    "        gen_power = value.(gen_var)\n",
    "        int_line_decision = value.(int_line_decision_var)\n",
    "        int_cand_power = value.(int_cand_flow)\n",
    "        int_cand_phase_angle = value.(int_cand_angle)\n",
    "        obj_value = objective_value(Mod1)\n",
    "        [obj_value, shared_line_decision, shared_cand_power,shared_cand_phase_angle,shared_ex_power,shared_ex_phase_angle,gen_power, int_line_decision, int_cand_power, int_cand_phase_angle]\n",
    "\n",
    "    end\n",
    "end"
   ]
  },
  {
   "cell_type": "markdown",
   "metadata": {},
   "source": [
    "The second optimization problem should be solved by the marketoverseer or the transmission planner coordinator (TPC). The problem defines as a function of (fleg = 1 if we want to get binary decision variables for line construction, cand_zeta = the penalty vector associated with the candidate shared lines'phase angles, ex_zeta  = the penalty vector associated with the existing shared lines'phase angles, cand_pi = the penalty vector associated with the candidate shared lines binary variables  "
   ]
  },
  {
   "cell_type": "code",
   "execution_count": 6,
   "metadata": {},
   "outputs": [
    {
     "data": {
      "text/plain": [
       "market_overseer (generic function with 1 method)"
      ]
     },
     "execution_count": 6,
     "metadata": {},
     "output_type": "execute_result"
    }
   ],
   "source": [
    "function market_overseer(flag, cand_zeta, ex_zeta, cand_pi)\n",
    "    \n",
    "    #Model\n",
    "    Mod2 = Model(GLPK.Optimizer)\n",
    "    \n",
    "    #Variables for shared candidate lines\n",
    "    \n",
    "    @variable(Mod2,0 <= shared_line_decision_var[1:nrow(shared_cand)] <= 1) #Decision variables\n",
    "    @variable(Mod2,shared_cand_flow[1:nrow(shared_cand)]) #Flow within shared candidate lines\n",
    "    @variable(Mod2,0 <= shared_cand_angle[1:nrow(shared_cand),1:2]) #Phase angles of shared candidate lines\n",
    "\n",
    "    #Variables for existing candidate lines\n",
    "    @variable(Mod2,shared_ex_flow[1:nrow(shared_ex)]) #Flow within shared existing lines\n",
    "    @variable(Mod2,0 <= shared_ex_angle[1:nrow(shared_ex),1:2]) #Phase angles of shared existing lines\n",
    "    \n",
    "    #Objective function\n",
    "    @expression(Mod2, mo_obj, sum(shared_cand_angle[c,1] .* cand_zeta[c,1] .+ shared_cand_angle[c,2] .* cand_zeta[c,2] .+ \n",
    "                cand_pi[c] .* shared_line_decision_var[c] for c in 1:nrow(shared_cand)) .+\n",
    "                sum(shared_ex_angle[h,1] .* ex_zeta[h,1] .+ shared_ex_angle[h,2] .* ex_zeta[h,2] for h in 1:nrow(shared_ex)))\n",
    "    \n",
    "    M=100\n",
    "    \n",
    "    #Constraints related to the shared candidate lines:\n",
    "    for c in 1:nrow(shared_cand)\n",
    "        if flag==1\n",
    "            @constraint(Mod2, shared_line_decision_var[c] in MOI.Integer())\n",
    "        end\n",
    "        \n",
    "        # Constraints that associate power flow with the phase angles of the nodes\n",
    "        @constraint(Mod2,-M .* (1 .- shared_line_decision_var[c]) .<= shared_cand_flow[c] .- ((1 ./ shared_cand.reacT[c]) .* (shared_cand_angle[c,1] .- shared_cand_angle[c,2])))\n",
    "        @constraint(Mod2, shared_cand_flow[c] .- ((1 ./ shared_cand.reacT[c]) .* (shared_cand_angle[c,1] .- shared_cand_angle[c,2])) .<= M .* (1 .- shared_line_decision_var[c]))\n",
    "    end \n",
    "    #The same constraints related to the shared candidate lines:\n",
    "    for h in 1:nrow(shared_ex)\n",
    "        @constraint(Mod2, shared_ex_flow[h] .== (1 ./ shared_ex.reacT[h]) .* (shared_ex_angle[h,1] .- shared_ex_angle[h,2]))\n",
    "    end\n",
    "    \n",
    "    @objective(Mod2, Max, mo_obj)\n",
    "    optimize!(Mod2)\n",
    "    \n",
    "    if termination_status(Mod2) == MOI.OPTIMAL\n",
    "    \n",
    "        shared_line_decision = value.(shared_line_decision_var)\n",
    "        shared_cand_power = value.(shared_cand_flow)\n",
    "        shared_cand_phase_angle = value.(shared_cand_angle)\n",
    "        shared_ex_power = value.(shared_ex_flow)\n",
    "        shared_ex_phase_angle = value.(shared_ex_angle)\n",
    "        obj_value = objective_value(Mod2)\n",
    "\n",
    "        [obj_value, shared_line_decision, shared_cand_power,shared_cand_phase_angle,shared_ex_power,shared_ex_phase_angle]\n",
    "    end\n",
    "end\n",
    "    \n",
    "    "
   ]
  },
  {
   "cell_type": "markdown",
   "metadata": {},
   "source": [
    "In the following section, we define the initial values for penalty parameters"
   ]
  },
  {
   "cell_type": "code",
   "execution_count": 7,
   "metadata": {},
   "outputs": [
    {
     "data": {
      "text/plain": [
       "2000×8×2 Array{Float64, 3}:\n",
       "[:, :, 1] =\n",
       " 0.0  0.0  0.0  0.0  0.0  0.0  0.0  0.0\n",
       " 0.0  0.0  0.0  0.0  0.0  0.0  0.0  0.0\n",
       " 0.0  0.0  0.0  0.0  0.0  0.0  0.0  0.0\n",
       " 0.0  0.0  0.0  0.0  0.0  0.0  0.0  0.0\n",
       " 0.0  0.0  0.0  0.0  0.0  0.0  0.0  0.0\n",
       " 0.0  0.0  0.0  0.0  0.0  0.0  0.0  0.0\n",
       " 0.0  0.0  0.0  0.0  0.0  0.0  0.0  0.0\n",
       " 0.0  0.0  0.0  0.0  0.0  0.0  0.0  0.0\n",
       " 0.0  0.0  0.0  0.0  0.0  0.0  0.0  0.0\n",
       " 0.0  0.0  0.0  0.0  0.0  0.0  0.0  0.0\n",
       " 0.0  0.0  0.0  0.0  0.0  0.0  0.0  0.0\n",
       " 0.0  0.0  0.0  0.0  0.0  0.0  0.0  0.0\n",
       " 0.0  0.0  0.0  0.0  0.0  0.0  0.0  0.0\n",
       " ⋮                        ⋮         \n",
       " 0.0  0.0  0.0  0.0  0.0  0.0  0.0  0.0\n",
       " 0.0  0.0  0.0  0.0  0.0  0.0  0.0  0.0\n",
       " 0.0  0.0  0.0  0.0  0.0  0.0  0.0  0.0\n",
       " 0.0  0.0  0.0  0.0  0.0  0.0  0.0  0.0\n",
       " 0.0  0.0  0.0  0.0  0.0  0.0  0.0  0.0\n",
       " 0.0  0.0  0.0  0.0  0.0  0.0  0.0  0.0\n",
       " 0.0  0.0  0.0  0.0  0.0  0.0  0.0  0.0\n",
       " 0.0  0.0  0.0  0.0  0.0  0.0  0.0  0.0\n",
       " 0.0  0.0  0.0  0.0  0.0  0.0  0.0  0.0\n",
       " 0.0  0.0  0.0  0.0  0.0  0.0  0.0  0.0\n",
       " 0.0  0.0  0.0  0.0  0.0  0.0  0.0  0.0\n",
       " 0.0  0.0  0.0  0.0  0.0  0.0  0.0  0.0\n",
       "\n",
       "[:, :, 2] =\n",
       " 0.0  0.0  0.0  0.0  0.0  0.0  0.0  0.0\n",
       " 0.0  0.0  0.0  0.0  0.0  0.0  0.0  0.0\n",
       " 0.0  0.0  0.0  0.0  0.0  0.0  0.0  0.0\n",
       " 0.0  0.0  0.0  0.0  0.0  0.0  0.0  0.0\n",
       " 0.0  0.0  0.0  0.0  0.0  0.0  0.0  0.0\n",
       " 0.0  0.0  0.0  0.0  0.0  0.0  0.0  0.0\n",
       " 0.0  0.0  0.0  0.0  0.0  0.0  0.0  0.0\n",
       " 0.0  0.0  0.0  0.0  0.0  0.0  0.0  0.0\n",
       " 0.0  0.0  0.0  0.0  0.0  0.0  0.0  0.0\n",
       " 0.0  0.0  0.0  0.0  0.0  0.0  0.0  0.0\n",
       " 0.0  0.0  0.0  0.0  0.0  0.0  0.0  0.0\n",
       " 0.0  0.0  0.0  0.0  0.0  0.0  0.0  0.0\n",
       " 0.0  0.0  0.0  0.0  0.0  0.0  0.0  0.0\n",
       " ⋮                        ⋮         \n",
       " 0.0  0.0  0.0  0.0  0.0  0.0  0.0  0.0\n",
       " 0.0  0.0  0.0  0.0  0.0  0.0  0.0  0.0\n",
       " 0.0  0.0  0.0  0.0  0.0  0.0  0.0  0.0\n",
       " 0.0  0.0  0.0  0.0  0.0  0.0  0.0  0.0\n",
       " 0.0  0.0  0.0  0.0  0.0  0.0  0.0  0.0\n",
       " 0.0  0.0  0.0  0.0  0.0  0.0  0.0  0.0\n",
       " 0.0  0.0  0.0  0.0  0.0  0.0  0.0  0.0\n",
       " 0.0  0.0  0.0  0.0  0.0  0.0  0.0  0.0\n",
       " 0.0  0.0  0.0  0.0  0.0  0.0  0.0  0.0\n",
       " 0.0  0.0  0.0  0.0  0.0  0.0  0.0  0.0\n",
       " 0.0  0.0  0.0  0.0  0.0  0.0  0.0  0.0\n",
       " 0.0  0.0  0.0  0.0  0.0  0.0  0.0  0.0"
      ]
     },
     "execution_count": 7,
     "metadata": {},
     "output_type": "execute_result"
    }
   ],
   "source": [
    "cand_pi_1= zeros(2000,nrow(shared_cand))\n",
    "cand_zeta_1 = zeros(2000,nrow(shared_cand),2) #from 1 to 2\n",
    "ex_zeta_1 = zeros(2000,nrow(shared_ex),2)\n",
    "\n",
    "cand_pi_2 = zeros(2000,nrow(shared_cand))\n",
    "cand_zeta_2 = zeros(2000,nrow(shared_cand),2) #from 1 to 2\n",
    "ex_zeta_2 = zeros(2000,nrow(shared_ex),2)\n",
    "\n",
    "cand_pi_3 = zeros(2000,nrow(shared_cand))\n",
    "cand_zeta_3 = zeros(2000,nrow(shared_cand),2) #from 1 to 2\n",
    "ex_zeta_3 = zeros(2000,nrow(shared_ex),2)\n",
    "\n",
    "cand_pi_mo = zeros(2000,nrow(shared_cand))\n",
    "cand_zeta_mo = zeros(2000,nrow(shared_cand),2) #from 1 to 2\n",
    "ex_zeta_mo = zeros(2000,nrow(shared_ex),2)"
   ]
  },
  {
   "cell_type": "code",
   "execution_count": 8,
   "metadata": {},
   "outputs": [
    {
     "data": {
      "text/plain": [
       "8-element Vector{Float64}:\n",
       " 0.001\n",
       " 0.001\n",
       " 0.001\n",
       " 0.001\n",
       " 0.001\n",
       " 0.001\n",
       " 0.001\n",
       " 0.001"
      ]
     },
     "execution_count": 8,
     "metadata": {},
     "output_type": "execute_result"
    }
   ],
   "source": [
    "#Some initial values\n",
    "f=1.1\n",
    "u=0.001\n",
    "low=0.001\n",
    "\n",
    "r1_bin=0.001 * ones(nrow(shared_cand))\n",
    "r1= 0.001 * ones(nrow(shared_cand))\n",
    "r2_bin= 0.001 * ones(nrow(shared_cand))\n",
    "r2=0.001 * ones(nrow(shared_cand))\n",
    "r3_bin=0.001 * ones(nrow(shared_cand))\n",
    "r3=0.001 * ones(nrow(shared_cand))\n",
    "r_mo_bin=0.001 * ones(nrow(shared_cand))\n",
    "r_mo=0.001 * ones(nrow(shared_cand))\n",
    "r_e_1 = 0.001 * ones(nrow(shared_ex))\n",
    "r_e_2 = 0.001 * ones(nrow(shared_ex))\n",
    "r_e_3 = 0.001 * ones(nrow(shared_ex))     "
   ]
  },
  {
   "cell_type": "code",
   "execution_count": 9,
   "metadata": {},
   "outputs": [
    {
     "name": "stdout",
     "output_type": "stream",
     "text": [
      "*31.2598609880454248e-5[0.0, 0.0, 0.0, 0.0, 0.0, 0.0][0.0, -2.842170943040401e-14, 7.105427357601002e-15, 0.0, 0.0, 0.0][0.0, 0.0, 0.0, 0.0, 0.0, 0.0][0.0, 0.0, 0.0, 5.684341886080802e-14, 0.0, 4.2632564145606005e-14][0.0, 0.0, 0.0, 0.0, 0.0, 1.0][0.0, 0.0, 0.0, 0.0, 0.0, -100.0][0.0, 0.0, 0.0, 0.0, 0.0, 0.0][0.0, 0.0, 0.0, 0.0, 0.0, 0.0][0.0 0.0; 0.0 4.114999999999999; 0.0 0.0; 0.0 0.0; 0.0 3.534100000000003; 0.0 0.0; 0.0 0.0; 0.0 0.0][0.0 -3.453237695794087e-14; 0.0 32.919999999999995; 0.0 0.0; 0.0 0.0; 0.0 0.0; 0.0 18.499999999999996; 1.5631940186722202e-15 0.0; 0.0 0.0][0.0 0.0; 0.0 0.0; 0.0 0.0; 0.0 0.0; 0.0 2.0965; 0.0 0.0; 0.0 0.0; 0.0 20.8]"
     ]
    }
   ],
   "source": [
    "for j in 2:1000     # It considers 1000 iteration\n",
    "    if f > 0.00002  # f is our criterion showing the convergence of our problem\n",
    "        #Solving the optimization problem for zone 1\n",
    "        R1_1_u = milp_hor_dist(1, 14, 1, cand_zeta_1[j,:,:], ex_zeta_1[j,:,:], cand_pi_1[j,:])\n",
    "        #Solving the optimization problem for zone 2\n",
    "        R1_2_u = milp_hor_dist(2, 30, 1, cand_zeta_2[j,:,:], ex_zeta_2[j,:,:], cand_pi_2[j,:])\n",
    "        #Solving the optimization problem for zone 3\n",
    "        R1_3_u = milp_hor_dist(3, 5, 1, cand_zeta_3[j,:,:], ex_zeta_3[j,:,:], cand_pi_3[j,:])\n",
    "        #Solving the relaxed optimization problem for zone 1\n",
    "        R1_1_l = milp_hor_dist(1, 14, 0, cand_zeta_1[j,:,:], ex_zeta_1[j,:,:], cand_pi_1[j,:])\n",
    "        #Solving the relaxed optimization problem for zone 2\n",
    "        R1_2_l = milp_hor_dist(2, 30, 0, cand_zeta_2[j,:,:], ex_zeta_2[j,:,:], cand_pi_2[j,:])\n",
    "        #Solving the relaxed optimization problem for zone 3\n",
    "        R1_3_l = milp_hor_dist(3, 5, 0, cand_zeta_3[j,:,:], ex_zeta_3[j,:,:], cand_pi_3[j,:])\n",
    "        #Solving the optimization problem of the market overseer\n",
    "        R2_u = market_overseer(1, cand_zeta_mo[j,:,:], ex_zeta_mo[j,:,:] ,cand_pi_mo[j,:])\n",
    "        #Solving the relaxed optimization problem of the market overseer\n",
    "        R2_l = market_overseer(0, cand_zeta_mo[j,:,:], ex_zeta_mo[j,:,:] ,cand_pi_mo[j,:])\n",
    "        \n",
    "        #Updating cand_zeta for each zone and MO based on the results of shared candidate lines' phase angles\n",
    "        cand_zeta_1[j+1,:,:] .=  cand_zeta_1[j,:,:] .+ bin_c(1) .* (1 * (R1_1_u[4] .- R2_u[4]))\n",
    "        cand_zeta_2[j+1,:,:] .=  cand_zeta_2[j,:,:] .+ bin_c(2) .* (1 * (R1_2_u[4] .- R2_u[4])) \n",
    "        cand_zeta_3[j+1,:,:] .= cand_zeta_3[j,:,:] .+ bin_c(3) .* (1 * (R1_3_u[4] .- R2_u[4]))\n",
    "        cand_zeta_mo[j+1,:,:] .= -(cand_zeta_1[j+1,:,:] .+ cand_zeta_2[j+1,:,:] .+ cand_zeta_3[j+1,:,:]) ./ 2\n",
    "\n",
    "        #Updating cand_pi for each zone and MO based on the results of shared candidate lines' decision variables\n",
    "        cand_pi_1[j+1,:] .= cand_pi_1[j,:] .+ bin_c(1) .* (2 * (R1_1_u[2] .- R2_u[2]))\n",
    "        cand_pi_2[j+1,:] .= cand_pi_2[j,:] .+ bin_c(2) .* (2 * (R1_2_u[2] .- R2_u[2])) \n",
    "        cand_pi_3[j+1,:] .= cand_pi_3[j,:] .+ bin_c(3) .* (2 * (R1_3_u[2] .- R2_u[2]))\n",
    "        cand_pi_mo[j+1,:] .= -(cand_pi_1[j+1,:] .+ cand_pi_2[j+1,:] .+ cand_pi_3[j+1,:]) ./ 2\n",
    "        \n",
    "        #Updating cand_zeta for each zone and MO based on the results of existing candidate lines' phase angles\n",
    "        ex_zeta_1[j+1,:,:] .=  ex_zeta_1[j,:,:] .+ bin_e(1) .* (1 * (R1_1_u[6] .- R2_u[6])) \n",
    "        ex_zeta_2[j+1,:,:] .=  ex_zeta_2[j,:,:] .+ bin_e(2) .* (1 * (R1_2_u[6] .- R2_u[6])) \n",
    "        ex_zeta_3[j+1,:,:] .=  ex_zeta_3[j,:,:] .+ bin_e(3) .* (1 * (R1_3_u[6] .- R2_u[6]))\n",
    "        ex_zeta_mo[j+1,:,:] .= -(ex_zeta_1[j+1,:,:] .+ ex_zeta_2[j+1,:,:] .+ ex_zeta_3[j+1,:,:]) ./ 2\n",
    "\n",
    "        #u = the sum of objective values after solving the zonal optimization problem\n",
    "        u = R1_1_u[1] + R1_2_u[1] + R1_3_u[1] + R2_u[1]\n",
    "        \n",
    "        #low = the sum of objective values after solving the relaxed zonal optimization problem\n",
    "        low = R1_1_l[1] + R1_2_l[1] + R1_3_l[1] + R2_l[1]\n",
    "        #Stopping criterion\n",
    "        f = 1 - (low / u) \n",
    "        r1_bin = R1_1_u[2]\n",
    "        r1 = R1_1_u[3]\n",
    "        r2_bin = R1_2_u[2]\n",
    "        r2 = R1_2_u[3]\n",
    "        r3_bin = R1_3_u[2]\n",
    "        r3 = R1_3_u[3]\n",
    "        r_mo_bin = R2_u[2]\n",
    "        r_mo = R2_u[3]\n",
    "        r_e_1 = R1_1_u[6]\n",
    "        r_e_2 = R1_2_u[6]\n",
    "        r_e_3 = R1_3_u[6]\n",
    "        print('*') \n",
    "        \n",
    "    else\n",
    "        #If our criterion is met, then print these values:\n",
    "        print(j)\n",
    "        print(f) #criterion\n",
    "        print(r1_bin) #binary decisions of shared candidate lines (zone 1)\n",
    "        print(r1) # power flow of shared candidate lines (zone 1)\n",
    "        print(r2_bin) #binary decisions of shared candidate lines (zone 2)\n",
    "        print(r2) # power flow of shared candidate lines (zone 2)\n",
    "        print(r3_bin) #binary decisions of shared candidate lines (zone 3)\n",
    "        print(r3) # power flow of shared candidate lines (zone 3)\n",
    "        print(r_mo_bin)  #binary decisions of shared candidate lines (MO)\n",
    "        print(r_mo) # power flow of shared candidate lines (MO)\n",
    "        print(r_e_1) # power flow of existing candidate lines (zone 1)\n",
    "        print(r_e_2)  # power flow of existing candidate lines (zone 2)\n",
    "        print(r_e_3) # power flow of existing candidate lines (zone 3)\n",
    "        break\n",
    "    end\n",
    "end\n",
    "\n"
   ]
  },
  {
   "cell_type": "code",
   "execution_count": 10,
   "metadata": {},
   "outputs": [
    {
     "data": {
      "text/plain": [
       "1.2598609880454248e-5"
      ]
     },
     "execution_count": 10,
     "metadata": {},
     "output_type": "execute_result"
    }
   ],
   "source": [
    "f"
   ]
  },
  {
   "cell_type": "code",
   "execution_count": 11,
   "metadata": {},
   "outputs": [
    {
     "data": {
      "text/plain": [
       "6-element Vector{Float64}:\n",
       " 0.0\n",
       " 0.0\n",
       " 0.0\n",
       " 0.0\n",
       " 0.0\n",
       " 1.0"
      ]
     },
     "execution_count": 11,
     "metadata": {},
     "output_type": "execute_result"
    }
   ],
   "source": [
    "r3_bin"
   ]
  },
  {
   "cell_type": "code",
   "execution_count": 12,
   "metadata": {},
   "outputs": [
    {
     "data": {
      "text/plain": [
       "6-element Vector{Float64}:\n",
       " 0.0\n",
       " 0.0\n",
       " 0.0\n",
       " 0.0\n",
       " 0.0\n",
       " 0.0"
      ]
     },
     "execution_count": 12,
     "metadata": {},
     "output_type": "execute_result"
    }
   ],
   "source": [
    "r_mo_bin"
   ]
  },
  {
   "cell_type": "code",
   "execution_count": 13,
   "metadata": {},
   "outputs": [
    {
     "data": {
      "text/plain": [
       "6-element Vector{Float64}:\n",
       " 0.0\n",
       " 0.0\n",
       " 0.0\n",
       " 0.0\n",
       " 0.0\n",
       " 0.0"
      ]
     },
     "execution_count": 13,
     "metadata": {},
     "output_type": "execute_result"
    }
   ],
   "source": [
    "r1_bin"
   ]
  },
  {
   "cell_type": "code",
   "execution_count": 14,
   "metadata": {},
   "outputs": [
    {
     "data": {
      "text/plain": [
       "6-element Vector{Float64}:\n",
       " 0.0\n",
       " 0.0\n",
       " 0.0\n",
       " 0.0\n",
       " 0.0\n",
       " 0.0"
      ]
     },
     "execution_count": 14,
     "metadata": {},
     "output_type": "execute_result"
    }
   ],
   "source": [
    "r2_bin"
   ]
  },
  {
   "cell_type": "code",
   "execution_count": 15,
   "metadata": {},
   "outputs": [
    {
     "data": {
      "text/plain": [
       "8×2 Matrix{Float64}:\n",
       " 0.0  0.0\n",
       " 0.0  4.115\n",
       " 0.0  0.0\n",
       " 0.0  0.0\n",
       " 0.0  3.5341\n",
       " 0.0  0.0\n",
       " 0.0  0.0\n",
       " 0.0  0.0"
      ]
     },
     "execution_count": 15,
     "metadata": {},
     "output_type": "execute_result"
    }
   ],
   "source": [
    "r_e_1"
   ]
  },
  {
   "cell_type": "code",
   "execution_count": 16,
   "metadata": {},
   "outputs": [
    {
     "data": {
      "text/plain": [
       "8×2 Matrix{Float64}:\n",
       " 0.0   0.0\n",
       " 0.0   0.0\n",
       " 0.0   0.0\n",
       " 0.0   0.0\n",
       " 0.0   2.0965\n",
       " 0.0   0.0\n",
       " 0.0   0.0\n",
       " 0.0  20.8"
      ]
     },
     "execution_count": 16,
     "metadata": {},
     "output_type": "execute_result"
    }
   ],
   "source": [
    "r_e_3"
   ]
  },
  {
   "cell_type": "code",
   "execution_count": null,
   "metadata": {},
   "outputs": [],
   "source": []
  }
 ],
 "metadata": {
  "kernelspec": {
   "display_name": "Julia 1.5.3",
   "language": "julia",
   "name": "julia-1.5"
  },
  "language_info": {
   "file_extension": ".jl",
   "mimetype": "application/julia",
   "name": "julia",
   "version": "1.5.3"
  }
 },
 "nbformat": 4,
 "nbformat_minor": 4
}
