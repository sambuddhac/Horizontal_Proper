{
 "cells": [
  {
   "cell_type": "code",
   "execution_count": 2,
   "metadata": {},
   "outputs": [
    {
     "name": "stderr",
     "output_type": "stream",
     "text": [
      "\u001b[32m\u001b[1m   Updating\u001b[22m\u001b[39m registry at `~/.julia/registries/General`\n",
      "######################################################################### 100.0%\n",
      "\u001b[32m\u001b[1m  Resolving\u001b[22m\u001b[39m package versions...\n",
      "\u001b[32m\u001b[1mUpdating\u001b[22m\u001b[39m `~/.julia/environments/v1.5/Project.toml`\n",
      " \u001b[90m [87dc4568] \u001b[39m\u001b[92m+ HiGHS v0.2.3\u001b[39m\n",
      "\u001b[32m\u001b[1mUpdating\u001b[22m\u001b[39m `~/.julia/environments/v1.5/Manifest.toml`\n",
      " \u001b[90m [87dc4568] \u001b[39m\u001b[92m+ HiGHS v0.2.3\u001b[39m\n",
      " \u001b[90m [8fd58aa0] \u001b[39m\u001b[92m+ HiGHS_jll v0.3.2+0\u001b[39m\n",
      "┌ Info: Precompiling HiGHS [87dc4568-4c63-4d18-b0c0-bb2238e4078b]\n",
      "└ @ Base loading.jl:1278\n"
     ]
    }
   ],
   "source": [
    "using Pkg\n",
    "using JuMP\n",
    "using Gurobi\n",
    "#using GLPK\n",
    "using XLSX\n",
    "using DataFrames\n",
    "import Pkg; Pkg.add(\"HiGHS\")\n",
    "using HiGHS"
   ]
  },
  {
   "cell_type": "code",
   "execution_count": null,
   "metadata": {},
   "outputs": [],
   "source": []
  },
  {
   "cell_type": "code",
   "execution_count": 3,
   "metadata": {},
   "outputs": [],
   "source": [
    "using LinearAlgebra"
   ]
  },
  {
   "cell_type": "code",
   "execution_count": 4,
   "metadata": {},
   "outputs": [
    {
     "data": {
      "text/html": [
       "<table class=\"data-frame\"><thead><tr><th></th><th>zoneNum</th><th>lNodeID</th><th>P_load1</th><th>P_load2</th><th>P_load3</th><th>P_load4</th></tr><tr><th></th><th>Any</th><th>Any</th><th>Any</th><th>Any</th><th>Any</th><th>Any</th></tr></thead><tbody><p>35 rows × 6 columns</p><tr><th>1</th><td>1</td><td>2</td><td>-21.7</td><td>-10.85</td><td>-16.275</td><td>-5.425</td></tr><tr><th>2</th><td>1</td><td>3</td><td>-94.2</td><td>-47.1</td><td>-70.65</td><td>-23.55</td></tr><tr><th>3</th><td>1</td><td>4</td><td>-47.8</td><td>-23.9</td><td>-35.85</td><td>-11.95</td></tr><tr><th>4</th><td>1</td><td>5</td><td>-7.6</td><td>-3.8</td><td>-5.7</td><td>-1.9</td></tr><tr><th>5</th><td>1</td><td>6</td><td>-11.2</td><td>-5.6</td><td>-8.4</td><td>-2.8</td></tr><tr><th>6</th><td>1</td><td>9</td><td>-29.5</td><td>-14.75</td><td>-22.125</td><td>-7.375</td></tr><tr><th>7</th><td>1</td><td>10</td><td>-9</td><td>-4.5</td><td>-6.75</td><td>-2.25</td></tr><tr><th>8</th><td>1</td><td>11</td><td>-3.5</td><td>-1.75</td><td>-2.625</td><td>-0.875</td></tr><tr><th>9</th><td>1</td><td>12</td><td>-6.1</td><td>-3.05</td><td>-4.575</td><td>-1.525</td></tr><tr><th>10</th><td>1</td><td>13</td><td>-13.5</td><td>-6.75</td><td>-10.125</td><td>-3.375</td></tr><tr><th>11</th><td>1</td><td>14</td><td>-14.9</td><td>-7.45</td><td>-11.175</td><td>-3.725</td></tr><tr><th>12</th><td>2</td><td>2</td><td>-21.7</td><td>-10.85</td><td>-16.275</td><td>-5.425</td></tr><tr><th>13</th><td>2</td><td>3</td><td>-2.4</td><td>-1.2</td><td>-1.8</td><td>-0.6</td></tr><tr><th>14</th><td>2</td><td>4</td><td>-7.6</td><td>-3.8</td><td>-5.7</td><td>-1.9</td></tr><tr><th>15</th><td>2</td><td>7</td><td>-22.8</td><td>-11.4</td><td>-17.1</td><td>-5.7</td></tr><tr><th>16</th><td>2</td><td>8</td><td>-30</td><td>-15</td><td>-22.5</td><td>-7.5</td></tr><tr><th>17</th><td>2</td><td>10</td><td>-5.8</td><td>-2.9</td><td>-4.35</td><td>-1.45</td></tr><tr><th>18</th><td>2</td><td>12</td><td>-11.2</td><td>-5.6</td><td>-8.4</td><td>-2.8</td></tr><tr><th>19</th><td>2</td><td>14</td><td>-6.2</td><td>-3.1</td><td>-4.65</td><td>-1.55</td></tr><tr><th>20</th><td>2</td><td>15</td><td>-8.2</td><td>-4.1</td><td>-6.15</td><td>-2.05</td></tr><tr><th>21</th><td>2</td><td>16</td><td>-3.5</td><td>-1.75</td><td>-2.625</td><td>-0.875</td></tr><tr><th>22</th><td>2</td><td>17</td><td>-9</td><td>-4.5</td><td>-6.75</td><td>-2.25</td></tr><tr><th>23</th><td>2</td><td>18</td><td>-3.2</td><td>-1.6</td><td>-2.4</td><td>-0.8</td></tr><tr><th>24</th><td>2</td><td>19</td><td>-9.5</td><td>-4.75</td><td>-7.125</td><td>-2.375</td></tr><tr><th>25</th><td>2</td><td>20</td><td>-2.2</td><td>-1.1</td><td>-1.65</td><td>-0.55</td></tr><tr><th>26</th><td>2</td><td>21</td><td>-17.5</td><td>-8.75</td><td>-13.125</td><td>-4.375</td></tr><tr><th>27</th><td>2</td><td>23</td><td>-3.2</td><td>-1.6</td><td>-2.4</td><td>-0.8</td></tr><tr><th>28</th><td>2</td><td>24</td><td>-8.7</td><td>-4.35</td><td>-6.525</td><td>-2.175</td></tr><tr><th>29</th><td>2</td><td>26</td><td>-3.5</td><td>-1.75</td><td>-2.625</td><td>-0.875</td></tr><tr><th>30</th><td>2</td><td>29</td><td>-2.4</td><td>-1.2</td><td>-1.8</td><td>-0.6</td></tr><tr><th>&vellip;</th><td>&vellip;</td><td>&vellip;</td><td>&vellip;</td><td>&vellip;</td><td>&vellip;</td><td>&vellip;</td></tr></tbody></table>"
      ],
      "text/latex": [
       "\\begin{tabular}{r|cccccc}\n",
       "\t& zoneNum & lNodeID & P\\_load1 & P\\_load2 & P\\_load3 & P\\_load4\\\\\n",
       "\t\\hline\n",
       "\t& Any & Any & Any & Any & Any & Any\\\\\n",
       "\t\\hline\n",
       "\t1 & 1 & 2 & -21.7 & -10.85 & -16.275 & -5.425 \\\\\n",
       "\t2 & 1 & 3 & -94.2 & -47.1 & -70.65 & -23.55 \\\\\n",
       "\t3 & 1 & 4 & -47.8 & -23.9 & -35.85 & -11.95 \\\\\n",
       "\t4 & 1 & 5 & -7.6 & -3.8 & -5.7 & -1.9 \\\\\n",
       "\t5 & 1 & 6 & -11.2 & -5.6 & -8.4 & -2.8 \\\\\n",
       "\t6 & 1 & 9 & -29.5 & -14.75 & -22.125 & -7.375 \\\\\n",
       "\t7 & 1 & 10 & -9 & -4.5 & -6.75 & -2.25 \\\\\n",
       "\t8 & 1 & 11 & -3.5 & -1.75 & -2.625 & -0.875 \\\\\n",
       "\t9 & 1 & 12 & -6.1 & -3.05 & -4.575 & -1.525 \\\\\n",
       "\t10 & 1 & 13 & -13.5 & -6.75 & -10.125 & -3.375 \\\\\n",
       "\t11 & 1 & 14 & -14.9 & -7.45 & -11.175 & -3.725 \\\\\n",
       "\t12 & 2 & 2 & -21.7 & -10.85 & -16.275 & -5.425 \\\\\n",
       "\t13 & 2 & 3 & -2.4 & -1.2 & -1.8 & -0.6 \\\\\n",
       "\t14 & 2 & 4 & -7.6 & -3.8 & -5.7 & -1.9 \\\\\n",
       "\t15 & 2 & 7 & -22.8 & -11.4 & -17.1 & -5.7 \\\\\n",
       "\t16 & 2 & 8 & -30 & -15 & -22.5 & -7.5 \\\\\n",
       "\t17 & 2 & 10 & -5.8 & -2.9 & -4.35 & -1.45 \\\\\n",
       "\t18 & 2 & 12 & -11.2 & -5.6 & -8.4 & -2.8 \\\\\n",
       "\t19 & 2 & 14 & -6.2 & -3.1 & -4.65 & -1.55 \\\\\n",
       "\t20 & 2 & 15 & -8.2 & -4.1 & -6.15 & -2.05 \\\\\n",
       "\t21 & 2 & 16 & -3.5 & -1.75 & -2.625 & -0.875 \\\\\n",
       "\t22 & 2 & 17 & -9 & -4.5 & -6.75 & -2.25 \\\\\n",
       "\t23 & 2 & 18 & -3.2 & -1.6 & -2.4 & -0.8 \\\\\n",
       "\t24 & 2 & 19 & -9.5 & -4.75 & -7.125 & -2.375 \\\\\n",
       "\t25 & 2 & 20 & -2.2 & -1.1 & -1.65 & -0.55 \\\\\n",
       "\t26 & 2 & 21 & -17.5 & -8.75 & -13.125 & -4.375 \\\\\n",
       "\t27 & 2 & 23 & -3.2 & -1.6 & -2.4 & -0.8 \\\\\n",
       "\t28 & 2 & 24 & -8.7 & -4.35 & -6.525 & -2.175 \\\\\n",
       "\t29 & 2 & 26 & -3.5 & -1.75 & -2.625 & -0.875 \\\\\n",
       "\t30 & 2 & 29 & -2.4 & -1.2 & -1.8 & -0.6 \\\\\n",
       "\t$\\dots$ & $\\dots$ & $\\dots$ & $\\dots$ & $\\dots$ & $\\dots$ & $\\dots$ \\\\\n",
       "\\end{tabular}\n"
      ],
      "text/plain": [
       "\u001b[1m35×6 DataFrame\u001b[0m\n",
       "\u001b[1m Row \u001b[0m│\u001b[1m zoneNum \u001b[0m\u001b[1m lNodeID \u001b[0m\u001b[1m P_load1 \u001b[0m\u001b[1m P_load2 \u001b[0m\u001b[1m P_load3 \u001b[0m\u001b[1m P_load4 \u001b[0m\n",
       "\u001b[1m     \u001b[0m│\u001b[90m Any     \u001b[0m\u001b[90m Any     \u001b[0m\u001b[90m Any     \u001b[0m\u001b[90m Any     \u001b[0m\u001b[90m Any     \u001b[0m\u001b[90m Any     \u001b[0m\n",
       "─────┼──────────────────────────────────────────────────────\n",
       "   1 │ 1        2        -21.7    -10.85   -16.275  -5.425\n",
       "   2 │ 1        3        -94.2    -47.1    -70.65   -23.55\n",
       "   3 │ 1        4        -47.8    -23.9    -35.85   -11.95\n",
       "   4 │ 1        5        -7.6     -3.8     -5.7     -1.9\n",
       "   5 │ 1        6        -11.2    -5.6     -8.4     -2.8\n",
       "   6 │ 1        9        -29.5    -14.75   -22.125  -7.375\n",
       "   7 │ 1        10       -9       -4.5     -6.75    -2.25\n",
       "   8 │ 1        11       -3.5     -1.75    -2.625   -0.875\n",
       "   9 │ 1        12       -6.1     -3.05    -4.575   -1.525\n",
       "  10 │ 1        13       -13.5    -6.75    -10.125  -3.375\n",
       "  11 │ 1        14       -14.9    -7.45    -11.175  -3.725\n",
       "  ⋮  │    ⋮        ⋮        ⋮        ⋮        ⋮        ⋮\n",
       "  26 │ 2        21       -17.5    -8.75    -13.125  -4.375\n",
       "  27 │ 2        23       -3.2     -1.6     -2.4     -0.8\n",
       "  28 │ 2        24       -8.7     -4.35    -6.525   -2.175\n",
       "  29 │ 2        26       -3.5     -1.75    -2.625   -0.875\n",
       "  30 │ 2        29       -2.4     -1.2     -1.8     -0.6\n",
       "  31 │ 2        30       -10.6    -5.3     -7.95    -2.65\n",
       "  32 │ 3        2        -20      -10      -15      -5\n",
       "  33 │ 3        3        -45      -22.5    -33.75   -11.25\n",
       "  34 │ 3        4        -40      -20      -30      -10\n",
       "  35 │ 3        5        -60      -30      -45      -15\n",
       "\u001b[36m                                             14 rows omitted\u001b[0m"
      ]
     },
     "execution_count": 4,
     "metadata": {},
     "output_type": "execute_result"
    }
   ],
   "source": [
    "shared_cand = DataFrame(XLSX.readtable(\"../Input_Data/CandLine.csv\", \"Taul1\", header=true)...) #Dataframe of shared candidate lines\n",
    "int_cand =  DataFrame(XLSX.readtable(\"../Input_Data/CandLineInt.csv\", \"Taul1\", header=true)...) #Dataframe of internal candidate lines\n",
    "shared_ex =  DataFrame(XLSX.readtable(\"../Input_Data/SharedEline.csv\", \"Taul1\", header=true)...) #Dataframe of shared existing lines\n",
    "int_ex = DataFrame(XLSX.readtable(\"../Input_Data/Tran.csv\", \"Taul1\", header=true)...) #Dataframe of internal existing lines\n",
    "gen =  DataFrame(XLSX.readtable(\"../Input_Data/Gen.csv\" , \"Taul1\", header=true)...) #Dataframe of generators\n",
    "load =  DataFrame(XLSX.readtable(\"../Input_Data/Load.csv\", \"Taul1\", header=true)...) #Dataframe of loads\n",
    "##An example of the load dataframe can be found as follows"
   ]
  },
  {
   "cell_type": "code",
   "execution_count": 5,
   "metadata": {},
   "outputs": [
    {
     "data": {
      "text/plain": [
       "ex_to (generic function with 1 method)"
      ]
     },
     "execution_count": 5,
     "metadata": {},
     "output_type": "execute_result"
    }
   ],
   "source": [
    "cand_from(i) = (shared_cand.nodeZone1 .== i)\n",
    "cand_to(i) = (shared_cand.nodeZone2 .== i)\n",
    "ex_from(i) = (shared_ex.nodeZone1 .== i)\n",
    "ex_to(i) = (shared_ex.nodeZone2 .== i)"
   ]
  },
  {
   "cell_type": "code",
   "execution_count": 6,
   "metadata": {},
   "outputs": [
    {
     "data": {
      "text/plain": [
       "bin_e (generic function with 1 method)"
      ]
     },
     "execution_count": 6,
     "metadata": {},
     "output_type": "execute_result"
    }
   ],
   "source": [
    "l(i) = load[load.zoneNum .== i, :] # load within zone i\n",
    "g(i) = gen[gen.zoneNum .== i, :]   # generators within zone i\n",
    "shared_c(i) = vcat(shared_cand[shared_cand.nodeZone1 .== i,:] , shared_cand[shared_cand.nodeZone2 .== i, :]) #shared candidate lines within zone i\n",
    "int_c(i) = int_cand[int_cand.zoneNum .== i, :]   # number of internal candidate lines within zone i\n",
    "shared_e(i) = vcat(shared_ex[shared_ex.nodeZone1 .== i,:] , shared_ex[shared_ex.nodeZone2 .== i, :]) #shared existing lines within zone i\n",
    "int_e(i) =int_ex[int_ex.zoneNum .== i, :]       # internal existing lines within zone i\n",
    "MC(i) = (g(i).C2 .* (g(i).PgMax .^ 2) .+ g(i).C1 .* g(i).PgMax .- g(i).C2 .*(g(i).PgMin .^ 2) .- g(i).C1 .* g(i).PgMin) ./ (g(i).PgMax .- g(i).PgMin) #Marginal cost of generators within zone i\n",
    "bin_c(i) = (shared_cand.nodeZone1 .== i) + (shared_cand.nodeZone2 .== i) # A binary vector through which we can check if the shared candidate lines belong to zone i\n",
    "bin_e(i) = (shared_ex.nodeZone1 .== i) + (shared_ex.nodeZone2 .== i) # A binary vector through which we can check if the shared existing lines belong to zone i"
   ]
  },
  {
   "cell_type": "code",
   "execution_count": 7,
   "metadata": {},
   "outputs": [
    {
     "data": {
      "text/plain": [
       "m (generic function with 1 method)"
      ]
     },
     "execution_count": 7,
     "metadata": {},
     "output_type": "execute_result"
    }
   ],
   "source": [
    "m(i) = setdiff([1,2,3], [i])"
   ]
  },
  {
   "cell_type": "code",
   "execution_count": 8,
   "metadata": {},
   "outputs": [
    {
     "data": {
      "text/plain": [
       "zonal_app (generic function with 1 method)"
      ]
     },
     "execution_count": 8,
     "metadata": {},
     "output_type": "execute_result"
    }
   ],
   "source": [
    "function zonal_app(i, N, cand_lambda, ex_lambda,shared_line_decision_var, int_line_decision_var,\n",
    "        shared_cand_angle_self, shared_ex_angle_self, shared_cand_angle_1, shared_ex_angle_1, \n",
    "        shared_cand_angle_2, shared_ex_angle_2)\n",
    "    \n",
    "    Mod4 = Model(Gurobi.Optimizer)\n",
    "    \n",
    "    \n",
    "    @variable(Mod4,0 <= gen_var[1:N]) # generation at each node\n",
    "    @variable(Mod4,shared_cand_flow[1:nrow(shared_cand)])  #Power flowing into shared candidate lines \n",
    "    @variable(Mod4,int_cand_flow[1:nrow(int_c(i))]) #Power flowing into internal candidate lines \n",
    "    @variable(Mod4,0 <= shared_cand_angle[1:nrow(shared_cand),1:2]<= 2*pi) #Phase angle decision for shared candidate lines\n",
    "    @variable(Mod4,0 <= int_cand_angle[1:nrow(int_c(i)),1:2]<= 2*pi) #Phase angle decision for internal candidate lines\n",
    "    @variable(Mod4,shared_ex_flow[1:nrow(shared_ex)])  #Power flowing on shared existing shared lines\n",
    "    @variable(Mod4,int_ex_flow[1:nrow(int_e(i))])  #Power flowing on internal existing lines\n",
    "    @variable(Mod4,0 <= shared_ex_angle[1:nrow(shared_ex),1:2]<= 2*pi) #Phase angle for existing shared lines\n",
    "    @variable(Mod4,0 <= int_ex_angle[1:nrow(int_e(i)),1:2]<= 2*pi) #Phase angle for internal existing lines\n",
    "    \n",
    "    omega = 0.36;\n",
    "    eta = 0.6;\n",
    "    \n",
    "    @expression(Mod4, total_cost, sum((gen_var[n] .* sum((g(i).gNodeID .== n) .* MC(i))) for n in 1:N)\n",
    "        .+ sum(sum(eta * shared_ex_angle[h,1] .* (shared_ex_angle_self[h,1] .- shared_ex_angle_1[h,1]) .+\n",
    "            eta * shared_ex_angle[h,1] .* (shared_ex_angle_self[h,1] .- shared_ex_angle_2[h,1]) .+\n",
    "            eta * shared_ex_angle[h,2] .* (shared_ex_angle_self[h,2] .- shared_ex_angle_1[h,2]) .+\n",
    "            eta * shared_ex_angle[h,2] .* (shared_ex_angle_self[h,2] .- shared_ex_angle_2[h,2]) .+\n",
    "            shared_ex_angle[h,1] .* ex_lambda[h,1] .+ \n",
    "            shared_ex_angle[h,2] .* ex_lambda[h,2] for h in 1:nrow(shared_ex))) .+\n",
    "            sum(sum((omega /2) * (shared_ex_angle[:,1] .- shared_ex_angle_self[:,1]) .^ 2)) .+\n",
    "            sum(sum((omega /2) * (shared_ex_angle[:,2] .- shared_ex_angle_self[:,2]) .^ 2))\n",
    "        .+ sum(sum(eta * shared_cand_angle[c,1] .* (shared_cand_angle_self[c,1] .- shared_cand_angle_1[c,1]) .+\n",
    "            eta * shared_cand_angle[c,1] .* (shared_cand_angle_self[c,1] .- shared_cand_angle_2[c,1]) .+\n",
    "            eta * shared_cand_angle[c,2] .* (shared_cand_angle_self[c,2] .- shared_cand_angle_1[c,2]) .+\n",
    "            eta * shared_cand_angle[c,2] .* (shared_cand_angle_self[c,2] .- shared_cand_angle_2[c,2]) .+\n",
    "            shared_cand_angle[c,1] .* cand_lambda[c,1] .+ \n",
    "            shared_cand_angle[c,2] .* cand_lambda[c,2] for c in 1:nrow(shared_cand))) .+\n",
    "            sum(sum((omega /2) * (shared_cand_angle[:,1] .- shared_cand_angle_self[:,1]) .^ 2)) .+\n",
    "            sum(sum((omega /2) * (shared_cand_angle[:,2] .- shared_cand_angle_self[:,2]) .^ 2)))\n",
    "            \n",
    "            \n",
    "            \n",
    "            \n",
    "    for n in 1:N\n",
    "        # Power balance constraint for each node\n",
    "        @constraint(Mod4, sum(g(i).gNodeID .== n) .* gen_var[n] .+ sum(l(i).P_load1 .* (l(i).lNodeID .== n)) .==\n",
    "            sum((shared_cand.tNodeID1 .== n) .*bin_c(i) .* shared_cand_flow) .- sum((shared_cand.tNodeID2 .== n) .* bin_c(i) .* shared_cand_flow) .+\n",
    "            sum((shared_ex.tNodeID1 .== n) .* bin_e(i) .* shared_ex_flow) .- sum((shared_ex.tNodeID2 .== n) .* bin_e(i) .* shared_ex_flow) .+\n",
    "            sum((int_c(i).tNodeID1 .== n) .* int_cand_flow) .- sum((int_c(i).tNodeID2 .== n) .* int_cand_flow) .+\n",
    "            sum((int_e(i).tNodeID1 .== n) .* int_ex_flow) .- sum((int_e(i).tNodeID2 .== n) .* int_ex_flow))\n",
    "        #Lower limit for generation of each node\n",
    "        @constraint(Mod4, sum(g(i).gNodeID .== n) .* gen_var[n] .<= sum((g(i).gNodeID .== n) .* g(i).PgMax))\n",
    "        #Upper limit for generation of each node\n",
    "        @constraint(Mod4, sum((g(i).gNodeID .== n) .* g(i).PgMin) .<= sum(g(i).gNodeID .== n) .* gen_var[n])\n",
    "    end\n",
    "    \n",
    "    M=1000 #Big number\n",
    "    \n",
    "    #Constraints elated to the candidate shared lines:\n",
    "    for c in 1:nrow(shared_cand) \n",
    "        #Associating the power flowing within the line with the phase angles of nodes:\n",
    "        @constraint(Mod4,-M .* (1 .- bin_c(i) .* shared_line_decision_var[c]) .<= bin_c(i) .* shared_cand_flow[c] .- ((1 ./ shared_cand.reacT[c]) .* (bin_c(i) .* shared_cand_angle[c,1] .- bin_c(i) .* shared_cand_angle[c,2])))\n",
    "        \n",
    "        @constraint(Mod4, bin_c(i) .* shared_cand_flow[c] .- ((1 ./ shared_cand.reacT[c]) .* (bin_c(i) .* shared_cand_angle[c,1] .- bin_c(i) .* shared_cand_angle[c,2])) .<= M .* (1 .- bin_c(i) .* shared_line_decision_var[c]))\n",
    "        #limiting the upper bound of power flow flowing within candidate shared lines\n",
    "        @constraint(Mod4, bin_c(i) .* shared_cand_flow[c] .<= bin_c(i) .* shared_line_decision_var[c] .* shared_cand.ptMax[c])\n",
    "        #Limiting the lower bound of power flowing within the candidate shared lines\n",
    "        @constraint(Mod4, -shared_cand.ptMax[c] .* bin_c(i) .* shared_line_decision_var[c] .<= bin_c(i) .* shared_cand_flow[c])\n",
    "        @constraint(Mod4, shared_cand_angle[5,2] .== 0)\n",
    "    end\n",
    "    \n",
    "    #The same constraints related to the candidate internal lines:\n",
    "    for c in 1:nrow(int_c(i))\n",
    "        @constraint(Mod4,-M .* (1 .- int_line_decision_var[c]) .<= int_cand_flow[c] .- ((1 ./ int_c(i).reacT[c]) .* (int_cand_angle[c,1] .- int_cand_angle[c,2])))\n",
    "        @constraint(Mod4, int_cand_flow[c] .- ((1 ./ int_c(i).reacT[c]) .* (int_cand_angle[c,1] .- int_cand_angle[c,2])) .<= M .* (1 .- int_line_decision_var[c]))\n",
    "        @constraint(Mod4, int_cand_flow[c] .<= int_line_decision_var[c] .* int_c(i).ptMax[c])\n",
    "        @constraint(Mod4, -int_c(i).ptMax[c] .*int_line_decision_var[c] .<= int_cand_flow[c])\n",
    "    end\n",
    "    \n",
    "    #The same constraints related to the shared existing lines:\n",
    "    for h in 1:nrow(shared_ex)\n",
    "        @constraint(Mod4, bin_e(i) .* shared_ex_flow[h] .== (1 ./ shared_ex.reacT[h]) .* (bin_e(i) .* shared_ex_angle[h,1] .- bin_e(i) .* shared_ex_angle[h,2]))\n",
    "        @constraint(Mod4, bin_e(i) .* shared_ex_flow[h] .<= bin_e(i) .* shared_ex. ptMax[h])\n",
    "        @constraint(Mod4, bin_e(i) .* -shared_ex.ptMax[h] .<= bin_e(i) .* shared_ex_flow[h])\n",
    "        @constraint(Mod4, shared_ex_angle[1,2] .== 0)\n",
    "        @constraint(Mod4, shared_ex_angle[7,2] .== 0)\n",
    "\n",
    "    end\n",
    "    #The same constraints related to the internal existing lines:\n",
    "    \n",
    "    for h in 1:nrow(int_e(i))\n",
    "        @constraint(Mod4, int_ex_flow[h] .== (1 ./ int_e(i).reacT[h]) .* (int_ex_angle[h,1] .- int_ex_angle[h,2]))\n",
    "        @constraint(Mod4, int_ex_flow[h] .<= int_e(i).ptMax[h])\n",
    "        @constraint(Mod4, -int_e(i).ptMax[h] .<= int_ex_flow[h])\n",
    "    end\n",
    "    \n",
    "    #The model objective is to minimize the total cost:\n",
    "    \n",
    "    @objective(Mod4, Min, total_cost)\n",
    "    optimize!(Mod4)\n",
    "    if termination_status(Mod4) == MOI.OPTIMAL #If the solution is optimal then it returns the variables\n",
    "    \n",
    "        shared_cand_power = value.(shared_cand_flow)\n",
    "        shared_cand_phase_angle = value.(shared_cand_angle)\n",
    "        shared_ex_power = value.(shared_ex_flow)\n",
    "        shared_ex_phase_angle = value.(shared_ex_angle)\n",
    "        gen_power = value.(gen_var)\n",
    "        int_cand_power = value.(int_cand_flow)\n",
    "        int_cand_phase_angle = value.(int_cand_angle)\n",
    "        obj_value = objective_value(Mod4)\n",
    "        [obj_value, shared_cand_power,shared_cand_phase_angle,shared_ex_power,shared_ex_phase_angle,gen_power, int_cand_power, int_cand_phase_angle]\n",
    "\n",
    "    end\n",
    "end\n",
    "    \n",
    "    "
   ]
  },
  {
   "cell_type": "code",
   "execution_count": 9,
   "metadata": {},
   "outputs": [
    {
     "data": {
      "text/plain": [
       "2-element Array{Float64,1}:\n",
       " 0.0\n",
       " 0.0"
      ]
     },
     "execution_count": 9,
     "metadata": {},
     "output_type": "execute_result"
    }
   ],
   "source": [
    "f=ones(12000)\n",
    "cand_lambda_1= zeros(12000,nrow(shared_cand),2)\n",
    "ex_lambda_1 = zeros(12000,nrow(shared_ex),2)\n",
    "cand_lambda_2= zeros(12000,nrow(shared_cand),2)\n",
    "ex_lambda_2 = zeros(12000,nrow(shared_ex),2)\n",
    "cand_lambda_3= zeros(12000,nrow(shared_cand),2)\n",
    "ex_lambda_3 = zeros(12000,nrow(shared_ex),2)\n",
    "cand_angle_1 = zeros(12000,nrow(shared_cand),2)\n",
    "c_angle_1 = zeros(12000,nrow(shared_cand),2)\n",
    "cand_angle_2 = zeros(12000,nrow(shared_cand),2)\n",
    "c_angle_2 = zeros(12000,nrow(shared_cand),2)\n",
    "cand_angle_3 = zeros(12000,nrow(shared_cand),2)\n",
    "c_angle_3 = zeros(12000,nrow(shared_cand),2)\n",
    "\n",
    "ex_angle_1 = zeros(12000,nrow(shared_ex),2)\n",
    "e_angle_1 = zeros(12000,nrow(shared_ex),2)\n",
    "ex_angle_2 = zeros(12000,nrow(shared_ex),2)\n",
    "e_angle_2 = zeros(12000,nrow(shared_ex),2)\n",
    "ex_angle_3 = zeros(12000,nrow(shared_ex),2)\n",
    "e_angle_3 = zeros(12000,nrow(shared_ex),2)\n",
    "\n",
    "cand_flow_1 =zeros(12000,nrow(shared_cand))\n",
    "cand_flow_2 =zeros(12000,nrow(shared_cand))\n",
    "cand_flow_3 =zeros(12000,nrow(shared_cand))\n",
    "ex_flow_1 = zeros(12000,nrow(shared_ex))\n",
    "ex_flow_2 = zeros(12000,nrow(shared_ex))\n",
    "ex_flow_3 = zeros(12000,nrow(shared_ex))\n",
    "\n",
    "\n",
    "\n",
    "shared_line_decision_var_m =  \n",
    "[0.0\n",
    " 0.0\n",
    " 0.0\n",
    " 1.0\n",
    " 1.0\n",
    " 1.0]\n",
    "int_line_decision_var_1 =\n",
    "[ 0.0\n",
    " 1.0\n",
    " 1.0\n",
    " 0.0\n",
    " 1.0\n",
    " 1.0\n",
    " 0.0\n",
    " 0.0\n",
    " 0.0\n",
    " 1.0]\n",
    "int_line_decision_var_2 =\n",
    "[1.0\n",
    " 0.0\n",
    " 0.0\n",
    " 0.0\n",
    " 0.0\n",
    " 1.0\n",
    " 1.0\n",
    " 0.0\n",
    " 0.0\n",
    " 1.0\n",
    " 1.0\n",
    " 0.0\n",
    " 0.0\n",
    " 0.0\n",
    " 1.0\n",
    " 0.0\n",
    " 0.0\n",
    " 0.0]\n",
    "int_line_decision_var_3 =\n",
    "[0.0\n",
    " 0.0]"
   ]
  },
  {
   "cell_type": "code",
   "execution_count": 10,
   "metadata": {},
   "outputs": [
    {
     "ename": "LoadError",
     "evalue": "The solver does not support an objective function of type MathOptInterface.ScalarQuadraticFunction{Float64}.",
     "output_type": "error",
     "traceback": [
      "The solver does not support an objective function of type MathOptInterface.ScalarQuadraticFunction{Float64}.",
      "",
      "Stacktrace:",
      " [1] error(::String, ::Type{T} where T, ::String) at ./error.jl:42",
      " [2] set_objective_function(::Model, ::MathOptInterface.ScalarQuadraticFunction{Float64}) at /Users/sc87/.julia/packages/JuMP/y5vgk/src/objective.jl:96",
      " [3] set_objective_function at /Users/sc87/.julia/packages/JuMP/y5vgk/src/objective.jl:110 [inlined]",
      " [4] set_objective(::Model, ::MathOptInterface.OptimizationSense, ::GenericQuadExpr{Float64,VariableRef}) at /Users/sc87/.julia/packages/JuMP/y5vgk/src/objective.jl:148",
      " [5] macro expansion at /Users/sc87/.julia/packages/JuMP/y5vgk/src/macros.jl:929 [inlined]",
      " [6] zonal_app(::Int64, ::Int64, ::Array{Float64,2}, ::Array{Float64,2}, ::Array{Float64,1}, ::Array{Float64,1}, ::Array{Float64,2}, ::Array{Float64,2}, ::Array{Float64,2}, ::Array{Float64,2}, ::Array{Float64,2}, ::Array{Float64,2}) at ./In[8]:97",
      " [7] top-level scope at ./In[10]:5",
      " [8] include_string(::Function, ::Module, ::String, ::String) at ./loading.jl:1091"
     ]
    }
   ],
   "source": [
    "    j = 2\n",
    "    for j in 2:500    # It considers 1000 iteration\n",
    "        if abs(f[j-1]) > 0.00000001  \n",
    "         \n",
    "            R_1 = zonal_app(1, 14, cand_lambda_1[j,:,:], ex_lambda_1[j,:,:],shared_line_decision_var_m, int_line_decision_var_1,\n",
    "            cand_angle_1[j-1,:,:], ex_angle_1[j-1,:,:], cand_angle_2[j-1,:,:],  ex_angle_2[j-1,:,:], \n",
    "            cand_angle_3[j-1,:,:], ex_angle_3[j-1,:,:])\n",
    "        \n",
    "            R_2 = zonal_app(2, 30, cand_lambda_2[j,:,:], ex_lambda_2[j,:,:],shared_line_decision_var_m, int_line_decision_var_2,\n",
    "            cand_angle_2[j-1,:,:], ex_angle_2[j-1,:,:], cand_angle_1[j-1,:,:], ex_angle_1[j-1,:,:], \n",
    "            cand_angle_3[j-1,:,:], ex_angle_3[j-1,:,:])       \n",
    "        \n",
    "            R_3 = zonal_app(3, 5, cand_lambda_3[j,:,:], ex_lambda_3[j,:,:],shared_line_decision_var_m, int_line_decision_var_3,\n",
    "            cand_angle_3[j-1,:,:], ex_angle_3[j-1,:,:], cand_angle_1[j-1,:,:],  ex_angle_1[j-1,:,:], \n",
    "            cand_angle_2[j-1,:,:], ex_angle_2[j-1,:,:])\n",
    "        \n",
    "        \n",
    "            cand_lambda_1[j+1,:,:] .= cand_lambda_1[j,:,:] .+ 0.1 * (R_1[3] .- (R_2[3] .+ R_3[3]) ./2)\n",
    "            cand_lambda_2[j+1,:,:] .= cand_lambda_2[j,:,:] .+ 0.1 * (R_2[3] .- (R_1[3] .+ R_3[3]) ./2)\n",
    "            cand_lambda_3[j+1,:,:] .= cand_lambda_3[j,:,:] .+ 0.1 * (R_3[3] .- (R_1[3] .+ R_2[3]) ./2)\n",
    "        \n",
    "        \n",
    "    \n",
    "            ex_lambda_1[j+1,:,:] .= ex_lambda_1[j,:,:] .+ 0.1 * (R_1[5] .- (R_2[5] .+ R_3[5]) ./2)\n",
    "            ex_lambda_2[j+1,:,:] .= ex_lambda_2[j,:,:] .+ 0.1 * (R_2[5] .- (R_1[5] .+ R_3[5]) ./2)\n",
    "            ex_lambda_3[j+1,:,:] .= ex_lambda_3[j,:,:] .+ 0.1 * (R_3[5] .- (R_1[5] .+ R_2[5]) ./2)\n",
    "        \n",
    "            f[j] = sum(sum((R_1[3] .- (R_2[3]./2 .+ R_3[3]./2)).^ 2)) +\n",
    "                    sum(sum((R_2[3] .- (R_1[3]./2 .+ R_3[3]./2)).^ 2)) +\n",
    "                    sum(sum((R_3[3] .- (R_1[3]./2 .+ R_2[3]./2)).^ 2)) +\n",
    "                    sum(sum((R_1[5] .- (R_2[5]./2 .+ R_3[5]./2)).^ 2)) +\n",
    "                    sum(sum((R_2[5] .- (R_1[5]./2 .+ R_3[5]./2)).^ 2)) +\n",
    "                    sum(sum((R_3[5] .- (R_2[5]./2 .+ R_1[5]./2)).^ 2))\n",
    "        \n",
    "            c_angle_1 = R_1[3]\n",
    "            c_angle_2 = R_2[3]\n",
    "            c_angle_3 = R_3[3]\n",
    "        \n",
    "            e_angle_1 = R_1[5]\n",
    "            e_angle_2 = R_2[5]\n",
    "            e_angle_3 = R_3[5]\n",
    "            \n",
    "            cand_flow_1 = R_1[2]\n",
    "            cand_flow_2 = R_2[2]\n",
    "            cand_flow_3 = R_3[2]\n",
    "        \n",
    "            ex_flow_1 = R_1[4]\n",
    "            ex_flow_2 = R_2[4]\n",
    "            ex_flow_3 = R_3[4]\n",
    "            \n",
    "            \n",
    "            h= R_2[1] + R_1[1] + R_3[1]\n",
    "            \n",
    "            if isdefined(Main, :IJulia)\n",
    "                Main.IJulia.stdio_bytes[] = 0\n",
    "            end\n",
    "        \n",
    "            print('*') \n",
    "        \n",
    "        else\n",
    "            print(c_angle_1)\n",
    "            print(c_angle_2)\n",
    "            print(c_angle_3)\n",
    "            print(e_angle_1)\n",
    "            print(e_angle_2)\n",
    "            print(e_angle_3)\n",
    "        end\n",
    "    end\n",
    "    "
   ]
  },
  {
   "cell_type": "code",
   "execution_count": 12,
   "metadata": {},
   "outputs": [
    {
     "data": {
      "text/plain": [
       "1.0"
      ]
     },
     "execution_count": 12,
     "metadata": {},
     "output_type": "execute_result"
    }
   ],
   "source": [
    "f[1000]"
   ]
  },
  {
   "cell_type": "code",
   "execution_count": 13,
   "metadata": {},
   "outputs": [
    {
     "data": {
      "text/plain": [
       "6×2 Array{Float64,2}:\n",
       " 0.0         0.0\n",
       " 0.0         0.0\n",
       " 0.0         0.0\n",
       " 5.75        3.2761e-11\n",
       " 4.57527     0.0\n",
       " 6.36737e-6  4.35137"
      ]
     },
     "execution_count": 13,
     "metadata": {},
     "output_type": "execute_result"
    }
   ],
   "source": [
    "c_angle_1"
   ]
  },
  {
   "cell_type": "code",
   "execution_count": 14,
   "metadata": {},
   "outputs": [
    {
     "data": {
      "text/plain": [
       "6×2 Array{Float64,2}:\n",
       " 0.0         0.0\n",
       " 0.0         0.0\n",
       " 0.0         0.0\n",
       " 5.74999     2.09518e-5\n",
       " 4.57527     0.0\n",
       " 1.26038e-5  4.35137"
      ]
     },
     "execution_count": 14,
     "metadata": {},
     "output_type": "execute_result"
    }
   ],
   "source": [
    "c_angle_2"
   ]
  },
  {
   "cell_type": "code",
   "execution_count": 15,
   "metadata": {},
   "outputs": [
    {
     "data": {
      "text/plain": [
       "6×2 Array{Float64,2}:\n",
       " 0.0          0.0\n",
       " 0.0          0.0\n",
       " 0.0          0.0\n",
       " 5.74999      1.73342e-5\n",
       " 4.57641      0.0\n",
       " 8.61728e-11  4.35246"
      ]
     },
     "execution_count": 15,
     "metadata": {},
     "output_type": "execute_result"
    }
   ],
   "source": [
    "c_angle_3"
   ]
  },
  {
   "cell_type": "code",
   "execution_count": 16,
   "metadata": {},
   "outputs": [
    {
     "data": {
      "text/plain": [
       "8×2 Array{Float64,2}:\n",
       " 6.28318      0.0\n",
       " 0.0          0.0\n",
       " 0.0          0.0\n",
       " 0.000365067  0.000373967\n",
       " 4.63022      8.0944e-11\n",
       " 3.78011      9.92257e-11\n",
       " 0.000418103  0.0\n",
       " 1.12423e-10  3.33647"
      ]
     },
     "execution_count": 16,
     "metadata": {},
     "output_type": "execute_result"
    }
   ],
   "source": [
    "e_angle_3 "
   ]
  },
  {
   "cell_type": "code",
   "execution_count": 17,
   "metadata": {},
   "outputs": [
    {
     "data": {
      "text/plain": [
       "8×2 Array{Float64,2}:\n",
       " 6.28317      0.0\n",
       " 0.0          0.0\n",
       " 0.0          0.0\n",
       " 0.000365101  0.000374\n",
       " 4.62707      0.00448895\n",
       " 3.77917      1.25804e-5\n",
       " 0.000418128  0.0\n",
       " 1.35991e-5   3.33556"
      ]
     },
     "execution_count": 17,
     "metadata": {},
     "output_type": "execute_result"
    }
   ],
   "source": [
    "e_angle_2"
   ]
  },
  {
   "cell_type": "code",
   "execution_count": 18,
   "metadata": {},
   "outputs": [
    {
     "data": {
      "text/plain": [
       "8×2 Array{Float64,2}:\n",
       " 6.28319      0.0\n",
       " 0.0          0.0\n",
       " 0.0          0.0\n",
       " 0.00036514   0.000374039\n",
       " 4.62293      0.0086234\n",
       " 3.77917      6.35569e-6\n",
       " 0.000418126  0.0\n",
       " 6.88057e-6   3.33556"
      ]
     },
     "execution_count": 18,
     "metadata": {},
     "output_type": "execute_result"
    }
   ],
   "source": [
    "e_angle_1"
   ]
  },
  {
   "cell_type": "code",
   "execution_count": 19,
   "metadata": {},
   "outputs": [
    {
     "data": {
      "text/plain": [
       "6-element Array{Float64,1}:\n",
       "   0.0\n",
       "   0.0\n",
       "   0.0\n",
       "  99.999999999994\n",
       "  27.69530893643271\n",
       " -25.05105540872252"
      ]
     },
     "execution_count": 19,
     "metadata": {},
     "output_type": "execute_result"
    }
   ],
   "source": [
    "cand_flow_1"
   ]
  },
  {
   "cell_type": "code",
   "execution_count": 20,
   "metadata": {},
   "outputs": [
    {
     "data": {
      "text/plain": [
       "6-element Array{Float64,1}:\n",
       "   0.0\n",
       "   0.0\n",
       "   0.0\n",
       "  99.9994946365407\n",
       "  27.695308936413316\n",
       " -25.051019505336452"
      ]
     },
     "execution_count": 20,
     "metadata": {},
     "output_type": "execute_result"
    }
   ],
   "source": [
    "cand_flow_2"
   ]
  },
  {
   "cell_type": "code",
   "execution_count": 21,
   "metadata": {},
   "outputs": [
    {
     "data": {
      "text/plain": [
       "6-element Array{Float64,1}:\n",
       "   0.0\n",
       "   0.0\n",
       "   0.0\n",
       "  99.99958004333007\n",
       "  27.702225055531404\n",
       " -25.057347866322477"
      ]
     },
     "execution_count": 21,
     "metadata": {},
     "output_type": "execute_result"
    }
   ],
   "source": [
    "cand_flow_3"
   ]
  },
  {
   "cell_type": "code",
   "execution_count": 22,
   "metadata": {},
   "outputs": [
    {
     "data": {
      "text/plain": [
       "8-element Array{Float64,1}:\n",
       "  23.27105669325145\n",
       "   0.0\n",
       "   0.0\n",
       "  -1.6004599133821783e-5\n",
       "  77.03351119658319\n",
       "  18.895812821336705\n",
       "   0.0038011476775809128\n",
       " -16.03631924564063"
      ]
     },
     "execution_count": 22,
     "metadata": {},
     "output_type": "execute_result"
    }
   ],
   "source": [
    "ex_flow_1"
   ]
  },
  {
   "cell_type": "code",
   "execution_count": 23,
   "metadata": {},
   "outputs": [
    {
     "data": {
      "text/plain": [
       "8-element Array{Float64,1}:\n",
       "  23.271004447031704\n",
       "   0.0\n",
       "   0.0\n",
       "  -1.600567177997337e-5\n",
       "  77.17160270521964\n",
       "  18.89578169781798\n",
       "   0.00380116811647437\n",
       " -16.03628694480336"
      ]
     },
     "execution_count": 23,
     "metadata": {},
     "output_type": "execute_result"
    }
   ],
   "source": [
    "ex_flow_2"
   ]
  },
  {
   "cell_type": "code",
   "execution_count": 24,
   "metadata": {},
   "outputs": [
    {
     "data": {
      "text/plain": [
       "8-element Array{Float64,1}:\n",
       "  23.271030267842118\n",
       "   0.0\n",
       "   0.0\n",
       "  -1.6007471253246452e-5\n",
       "  77.2991487466457\n",
       "  18.900563301370138\n",
       "   0.00380093752152364\n",
       " -16.040715030092972"
      ]
     },
     "execution_count": 24,
     "metadata": {},
     "output_type": "execute_result"
    }
   ],
   "source": [
    "ex_flow_3"
   ]
  },
  {
   "cell_type": "code",
   "execution_count": null,
   "metadata": {},
   "outputs": [],
   "source": []
  },
  {
   "cell_type": "code",
   "execution_count": null,
   "metadata": {},
   "outputs": [],
   "source": []
  }
 ],
 "metadata": {
  "kernelspec": {
   "display_name": "Julia 1.5.3",
   "language": "julia",
   "name": "julia-1.5"
  },
  "language_info": {
   "file_extension": ".jl",
   "mimetype": "application/julia",
   "name": "julia",
   "version": "1.5.3"
  }
 },
 "nbformat": 4,
 "nbformat_minor": 4
}
