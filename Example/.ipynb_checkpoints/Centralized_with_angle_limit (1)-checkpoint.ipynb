{
 "cells": [
  {
   "cell_type": "markdown",
   "metadata": {},
   "source": [
    "# Centralized Solution of Multi-Regional Transmission Expansion Horizontal Investment Coordination Problem"
   ]
  },
  {
   "cell_type": "markdown",
   "metadata": {},
   "source": [
    "### This notebook contains codes for the three zone test case (consisting of the IEEE 14 nodes, IEEE 30 nodes, and a 5 node test system for each of the zones) under the assumption that a single entity solves the problem centrally\n",
    "\n",
    "#### The first code block loads the different package dependencies to create the virtual environment in Julia"
   ]
  },
  {
   "cell_type": "code",
   "execution_count": 15,
   "metadata": {},
   "outputs": [
    {
     "name": "stderr",
     "output_type": "stream",
     "text": [
      "\u001b[32m\u001b[1m  Resolving\u001b[22m\u001b[39m package versions...\n",
      "\u001b[32m\u001b[1mNo Changes\u001b[22m\u001b[39m to `~/.julia/environments/v1.5/Project.toml`\n",
      "\u001b[32m\u001b[1mNo Changes\u001b[22m\u001b[39m to `~/.julia/environments/v1.5/Manifest.toml`\n",
      "\u001b[32m\u001b[1m  Resolving\u001b[22m\u001b[39m package versions...\n",
      "\u001b[32m\u001b[1mNo Changes\u001b[22m\u001b[39m to `~/.julia/environments/v1.5/Project.toml`\n",
      "\u001b[32m\u001b[1mNo Changes\u001b[22m\u001b[39m to `~/.julia/environments/v1.5/Manifest.toml`\n",
      "\u001b[32m\u001b[1m  Resolving\u001b[22m\u001b[39m package versions...\n",
      "\u001b[32m\u001b[1mNo Changes\u001b[22m\u001b[39m to `~/.julia/environments/v1.5/Project.toml`\n",
      "\u001b[32m\u001b[1mNo Changes\u001b[22m\u001b[39m to `~/.julia/environments/v1.5/Manifest.toml`\n",
      "\u001b[32m\u001b[1m  Resolving\u001b[22m\u001b[39m package versions...\n",
      "\u001b[32m\u001b[1mNo Changes\u001b[22m\u001b[39m to `~/.julia/environments/v1.5/Project.toml`\n",
      "\u001b[32m\u001b[1mNo Changes\u001b[22m\u001b[39m to `~/.julia/environments/v1.5/Manifest.toml`\n",
      "\u001b[32m\u001b[1m  Resolving\u001b[22m\u001b[39m package versions...\n",
      "\u001b[32m\u001b[1mNo Changes\u001b[22m\u001b[39m to `~/.julia/environments/v1.5/Project.toml`\n",
      "\u001b[32m\u001b[1mNo Changes\u001b[22m\u001b[39m to `~/.julia/environments/v1.5/Manifest.toml`\n",
      "\u001b[32m\u001b[1m  Resolving\u001b[22m\u001b[39m package versions...\n",
      "\u001b[32m\u001b[1mNo Changes\u001b[22m\u001b[39m to `~/.julia/environments/v1.5/Project.toml`\n",
      "\u001b[32m\u001b[1mNo Changes\u001b[22m\u001b[39m to `~/.julia/environments/v1.5/Manifest.toml`\n",
      "\u001b[32m\u001b[1m  Resolving\u001b[22m\u001b[39m package versions...\n",
      "\u001b[32m\u001b[1mNo Changes\u001b[22m\u001b[39m to `~/.julia/environments/v1.5/Project.toml`\n",
      "\u001b[32m\u001b[1mNo Changes\u001b[22m\u001b[39m to `~/.julia/environments/v1.5/Manifest.toml`\n"
     ]
    }
   ],
   "source": [
    "import Pkg\n",
    "Pkg.add(\"HiGHS\")\n",
    "Pkg.add(\"Gurobi\")\n",
    "Pkg.add(\"GLPK\")\n",
    "Pkg.add(\"XLSX\")\n",
    "Pkg.add(\"SCIP\")\n",
    "Pkg.add(\"Ipopt\")\n",
    "Pkg.add(\"Cbc\")\n",
    "using Pkg\n",
    "using JuMP\n",
    "using GLPK\n",
    "using XLSX\n",
    "using SCIP\n",
    "using Gurobi\n",
    "using Ipopt\n",
    "using CSV\n",
    "using Cbc\n",
    "using DataFrames"
   ]
  },
  {
   "cell_type": "markdown",
   "metadata": {},
   "source": [
    "#### The next code block reads the different files corresponding to shared candidate lines, internal candidate lines, shared existing lines, internal existing lines, generators, and load"
   ]
  },
  {
   "cell_type": "code",
   "execution_count": 16,
   "metadata": {},
   "outputs": [
    {
     "data": {
      "text/html": [
       "<table class=\"data-frame\"><thead><tr><th></th><th>scenario</th><th>scen_weight</th></tr><tr><th></th><th>Int64</th><th>Float64</th></tr></thead><tbody><p>4 rows × 2 columns</p><tr><th>1</th><td>1</td><td>0.25</td></tr><tr><th>2</th><td>2</td><td>0.25</td></tr><tr><th>3</th><td>3</td><td>0.25</td></tr><tr><th>4</th><td>4</td><td>0.25</td></tr></tbody></table>"
      ],
      "text/latex": [
       "\\begin{tabular}{r|cc}\n",
       "\t& scenario & scen\\_weight\\\\\n",
       "\t\\hline\n",
       "\t& Int64 & Float64\\\\\n",
       "\t\\hline\n",
       "\t1 & 1 & 0.25 \\\\\n",
       "\t2 & 2 & 0.25 \\\\\n",
       "\t3 & 3 & 0.25 \\\\\n",
       "\t4 & 4 & 0.25 \\\\\n",
       "\\end{tabular}\n"
      ],
      "text/plain": [
       "\u001b[1m4×2 DataFrame\u001b[0m\n",
       "\u001b[1m Row \u001b[0m│\u001b[1m scenario \u001b[0m\u001b[1m scen_weight \u001b[0m\n",
       "\u001b[1m     \u001b[0m│\u001b[90m Int64    \u001b[0m\u001b[90m Float64     \u001b[0m\n",
       "─────┼───────────────────────\n",
       "   1 │        1         0.25\n",
       "   2 │        2         0.25\n",
       "   3 │        3         0.25\n",
       "   4 │        4         0.25"
      ]
     },
     "execution_count": 16,
     "metadata": {},
     "output_type": "execute_result"
    }
   ],
   "source": [
    "shared_cand = DataFrame(XLSX.readtable(\"../Input_Data/CandLine.csv\", \"Taul1\", header=true)...) #Dataframe of shared candidate lines\n",
    "int_cand =  DataFrame(XLSX.readtable(\"../Input_Data/CandLineInt.csv\", \"Taul1\", header=true)...) #Dataframe of internal candidate lines\n",
    "shared_ex =  DataFrame(XLSX.readtable(\"../Input_Data/SharedEline.csv\", \"Taul1\", header=true)...) #Dataframe of shared existing lines\n",
    "int_ex = DataFrame(XLSX.readtable(\"../Input_Data/Tran.csv\", \"Taul1\", header=true)...) #Dataframe of internal existing lines\n",
    "gen =  DataFrame(XLSX.readtable(\"../Input_Data/Gen.csv\" , \"Taul1\", header=true)...) #Dataframe of generators\n",
    "load =  DataFrame(XLSX.readtable(\"../Input_Data/Load.csv\", \"Taul1\", header=true)...) #Dataframe of loads\n",
    "scen_prob = DataFrame(CSV.File(\"../Input_Data/Scenario_Probability.csv\", header=true)) #Dataframe of scenario probabilities"
   ]
  },
  {
   "cell_type": "markdown",
   "metadata": {},
   "source": [
    "#### The following code-section constructs several DataFrames for each zone or region, for loads within a particular zone, generators within a particular zone, shared candidate lines originating from or terminating within a particular zone, internal candidate lines within a particular zone, shared existing lines originating from or terminating within a particular zone, internal existing lines within a particular zone, marginal costs of generators within a particular zone, and two binary vectors for each zone, one for checking which all shared candidate lines belong to a particular zone and the other for checking which all shared existing lines belong to a particular zone."
   ]
  },
  {
   "cell_type": "code",
   "execution_count": 17,
   "metadata": {},
   "outputs": [
    {
     "data": {
      "text/plain": [
       "scen_weight (generic function with 1 method)"
      ]
     },
     "execution_count": 17,
     "metadata": {},
     "output_type": "execute_result"
    }
   ],
   "source": [
    "l(i,s) = load[load.zoneNum .== i, [1,2,s+2]] # load within zone i\n",
    "g(i) = gen[gen.zoneNum .== i, :]   # generators within zone i\n",
    "shared_c(i) = vcat(shared_cand[shared_cand.nodeZone1 .== i,:] , shared_cand[shared_cand.nodeZone2 .== i, :]) #shared candidate lines within zone i\n",
    "int_c(i) = int_cand[int_cand.zoneNum .== i, :]   # number of internal candidate lines within zone i\n",
    "shared_e(i) = vcat(shared_ex[shared_ex.nodeZone1 .== i,:] , shared_ex[shared_ex.nodeZone2 .== i, :]) #shared existing lines within zone i\n",
    "int_e(i) =int_ex[int_ex.zoneNum .== i, :]       # internal existing lines within zone i\n",
    "MC(i) = (g(i).C2 .* (g(i).PgMax .^ 2) .+ g(i).C1 .* g(i).PgMax .- g(i).C2 .*(g(i).PgMin .^ 2) .- g(i).C1 .* g(i).PgMin) ./ (g(i).PgMax .- g(i).PgMin) #Marginal cost of generators within zone i\n",
    "bin_c(i) = (shared_cand.nodeZone1 .== i) + (shared_cand.nodeZone2 .== i) # A binary vector through which we can check if the shared candidate lines belong to zone i\n",
    "bin_e(i) = (shared_ex.nodeZone1 .== i) + (shared_ex.nodeZone2 .== i) # A binary vector through which we can check if the shared existing lines belong to zone i\n",
    "scen_weight(s) = scen_prob.scen_weight[scen_prob.scenario .== s,:]"
   ]
  },
  {
   "cell_type": "code",
   "execution_count": 18,
   "metadata": {},
   "outputs": [
    {
     "data": {
      "text/plain": [
       "1×1 Array{Float64,2}:\n",
       " 0.25"
      ]
     },
     "execution_count": 18,
     "metadata": {},
     "output_type": "execute_result"
    }
   ],
   "source": [
    "scen_weight(3)"
   ]
  },
  {
   "cell_type": "code",
   "execution_count": 44,
   "metadata": {},
   "outputs": [
    {
     "data": {
      "text/html": [
       "<table class=\"data-frame\"><thead><tr><th></th><th>zoneNum</th><th>lNodeID</th><th>P_load4</th></tr><tr><th></th><th>Any</th><th>Any</th><th>Any</th></tr></thead><tbody><p>4 rows × 3 columns</p><tr><th>1</th><td>3</td><td>2</td><td>-5</td></tr><tr><th>2</th><td>3</td><td>3</td><td>-11.25</td></tr><tr><th>3</th><td>3</td><td>4</td><td>-10</td></tr><tr><th>4</th><td>3</td><td>5</td><td>-15</td></tr></tbody></table>"
      ],
      "text/latex": [
       "\\begin{tabular}{r|ccc}\n",
       "\t& zoneNum & lNodeID & P\\_load4\\\\\n",
       "\t\\hline\n",
       "\t& Any & Any & Any\\\\\n",
       "\t\\hline\n",
       "\t1 & 3 & 2 & -5 \\\\\n",
       "\t2 & 3 & 3 & -11.25 \\\\\n",
       "\t3 & 3 & 4 & -10 \\\\\n",
       "\t4 & 3 & 5 & -15 \\\\\n",
       "\\end{tabular}\n"
      ],
      "text/plain": [
       "\u001b[1m4×3 DataFrame\u001b[0m\n",
       "\u001b[1m Row \u001b[0m│\u001b[1m zoneNum \u001b[0m\u001b[1m lNodeID \u001b[0m\u001b[1m P_load4 \u001b[0m\n",
       "\u001b[1m     \u001b[0m│\u001b[90m Any     \u001b[0m\u001b[90m Any     \u001b[0m\u001b[90m Any     \u001b[0m\n",
       "─────┼───────────────────────────\n",
       "   1 │ 3        2        -5\n",
       "   2 │ 3        3        -11.25\n",
       "   3 │ 3        4        -10\n",
       "   4 │ 3        5        -15"
      ]
     },
     "execution_count": 44,
     "metadata": {},
     "output_type": "execute_result"
    }
   ],
   "source": [
    "l(3,4)"
   ]
  },
  {
   "cell_type": "markdown",
   "metadata": {},
   "source": [
    "#### Constructing the optimization model with a specified solver"
   ]
  },
  {
   "cell_type": "code",
   "execution_count": 20,
   "metadata": {},
   "outputs": [
    {
     "data": {
      "text/html": [
       "<table class=\"data-frame\"><thead><tr><th></th><th>zoneNum</th><th>gNodeID</th><th>C2</th><th>C1</th><th>C0</th><th>PgMax</th><th>PgMin</th></tr><tr><th></th><th>Any</th><th>Any</th><th>Any</th><th>Any</th><th>Any</th><th>Any</th><th>Any</th></tr></thead><tbody><p>6 rows × 7 columns</p><tr><th>1</th><td>2</td><td>1</td><td>0.02</td><td>2</td><td>0</td><td>80</td><td>0</td></tr><tr><th>2</th><td>2</td><td>2</td><td>0.0175</td><td>1.75</td><td>0</td><td>80</td><td>0</td></tr><tr><th>3</th><td>2</td><td>13</td><td>0.0625</td><td>1</td><td>0</td><td>40</td><td>0</td></tr><tr><th>4</th><td>2</td><td>22</td><td>0.00834</td><td>3.25</td><td>0</td><td>50</td><td>0</td></tr><tr><th>5</th><td>2</td><td>23</td><td>0.025</td><td>3</td><td>0</td><td>30</td><td>0</td></tr><tr><th>6</th><td>2</td><td>27</td><td>0.025</td><td>3</td><td>0</td><td>55</td><td>0</td></tr></tbody></table>"
      ],
      "text/latex": [
       "\\begin{tabular}{r|ccccccc}\n",
       "\t& zoneNum & gNodeID & C2 & C1 & C0 & PgMax & PgMin\\\\\n",
       "\t\\hline\n",
       "\t& Any & Any & Any & Any & Any & Any & Any\\\\\n",
       "\t\\hline\n",
       "\t1 & 2 & 1 & 0.02 & 2 & 0 & 80 & 0 \\\\\n",
       "\t2 & 2 & 2 & 0.0175 & 1.75 & 0 & 80 & 0 \\\\\n",
       "\t3 & 2 & 13 & 0.0625 & 1 & 0 & 40 & 0 \\\\\n",
       "\t4 & 2 & 22 & 0.00834 & 3.25 & 0 & 50 & 0 \\\\\n",
       "\t5 & 2 & 23 & 0.025 & 3 & 0 & 30 & 0 \\\\\n",
       "\t6 & 2 & 27 & 0.025 & 3 & 0 & 55 & 0 \\\\\n",
       "\\end{tabular}\n"
      ],
      "text/plain": [
       "\u001b[1m6×7 DataFrame\u001b[0m\n",
       "\u001b[1m Row \u001b[0m│\u001b[1m zoneNum \u001b[0m\u001b[1m gNodeID \u001b[0m\u001b[1m C2      \u001b[0m\u001b[1m C1   \u001b[0m\u001b[1m C0  \u001b[0m\u001b[1m PgMax \u001b[0m\u001b[1m PgMin \u001b[0m\n",
       "\u001b[1m     \u001b[0m│\u001b[90m Any     \u001b[0m\u001b[90m Any     \u001b[0m\u001b[90m Any     \u001b[0m\u001b[90m Any  \u001b[0m\u001b[90m Any \u001b[0m\u001b[90m Any   \u001b[0m\u001b[90m Any   \u001b[0m\n",
       "─────┼────────────────────────────────────────────────────\n",
       "   1 │ 2        1        0.02     2     0    80     0\n",
       "   2 │ 2        2        0.0175   1.75  0    80     0\n",
       "   3 │ 2        13       0.0625   1     0    40     0\n",
       "   4 │ 2        22       0.00834  3.25  0    50     0\n",
       "   5 │ 2        23       0.025    3     0    30     0\n",
       "   6 │ 2        27       0.025    3     0    55     0"
      ]
     },
     "execution_count": 20,
     "metadata": {},
     "output_type": "execute_result"
    }
   ],
   "source": [
    "g(2)"
   ]
  },
  {
   "cell_type": "code",
   "execution_count": 21,
   "metadata": {},
   "outputs": [
    {
     "name": "stdout",
     "output_type": "stream",
     "text": [
      "Academic license - for non-commercial use only - expires 2023-09-07\n"
     ]
    },
    {
     "data": {
      "text/latex": [
       "$$ \\begin{alignat*}{1}\\text{feasibility}\\\\\n",
       "\\text{Subject to} \\quad\\end{alignat*}\n",
       " $$"
      ],
      "text/plain": [
       "A JuMP Model\n",
       "Feasibility problem with:\n",
       "Variables: 0\n",
       "Model mode: AUTOMATIC\n",
       "CachingOptimizer state: EMPTY_OPTIMIZER\n",
       "Solver name: Gurobi"
      ]
     },
     "execution_count": 21,
     "metadata": {},
     "output_type": "execute_result"
    }
   ],
   "source": [
    "Mod3 = Model(Gurobi.Optimizer)"
   ]
  },
  {
   "cell_type": "code",
   "execution_count": 22,
   "metadata": {},
   "outputs": [],
   "source": [
    "zone_number = 3;"
   ]
  },
  {
   "cell_type": "code",
   "execution_count": 23,
   "metadata": {},
   "outputs": [
    {
     "data": {
      "text/plain": [
       "7×4×2 Array{VariableRef,3}:\n",
       "[:, :, 1] =\n",
       " int_ex_angle_3[1,1,1]  int_ex_angle_3[1,2,1]  …  int_ex_angle_3[1,4,1]\n",
       " int_ex_angle_3[2,1,1]  int_ex_angle_3[2,2,1]     int_ex_angle_3[2,4,1]\n",
       " int_ex_angle_3[3,1,1]  int_ex_angle_3[3,2,1]     int_ex_angle_3[3,4,1]\n",
       " int_ex_angle_3[4,1,1]  int_ex_angle_3[4,2,1]     int_ex_angle_3[4,4,1]\n",
       " int_ex_angle_3[5,1,1]  int_ex_angle_3[5,2,1]     int_ex_angle_3[5,4,1]\n",
       " int_ex_angle_3[6,1,1]  int_ex_angle_3[6,2,1]  …  int_ex_angle_3[6,4,1]\n",
       " int_ex_angle_3[7,1,1]  int_ex_angle_3[7,2,1]     int_ex_angle_3[7,4,1]\n",
       "\n",
       "[:, :, 2] =\n",
       " int_ex_angle_3[1,1,2]  int_ex_angle_3[1,2,2]  …  int_ex_angle_3[1,4,2]\n",
       " int_ex_angle_3[2,1,2]  int_ex_angle_3[2,2,2]     int_ex_angle_3[2,4,2]\n",
       " int_ex_angle_3[3,1,2]  int_ex_angle_3[3,2,2]     int_ex_angle_3[3,4,2]\n",
       " int_ex_angle_3[4,1,2]  int_ex_angle_3[4,2,2]     int_ex_angle_3[4,4,2]\n",
       " int_ex_angle_3[5,1,2]  int_ex_angle_3[5,2,2]     int_ex_angle_3[5,4,2]\n",
       " int_ex_angle_3[6,1,2]  int_ex_angle_3[6,2,2]  …  int_ex_angle_3[6,4,2]\n",
       " int_ex_angle_3[7,1,2]  int_ex_angle_3[7,2,2]     int_ex_angle_3[7,4,2]"
      ]
     },
     "execution_count": 23,
     "metadata": {},
     "output_type": "execute_result"
    }
   ],
   "source": [
    "@variable(Mod3,0 <= gen_var_1[1:14,1:nrow(scen_prob)]) # generation at node 1\n",
    "@variable(Mod3,0 <= gen_var_2[1:30,1:nrow(scen_prob)]) # generation at node 2\n",
    "@variable(Mod3,0 <= gen_var_3[1:5,1:nrow(scen_prob)]) # generation at node 3\n",
    "\n",
    "@variable(Mod3,shared_line_decision_var[1:nrow(shared_cand)], Bin) #Decision variable for shared candidate lines\n",
    "\n",
    "@variable(Mod3,int_line_decision_var_1[1:nrow(int_c(1))], Bin) #Decision variable for internal candidate lines of zone 1 (Binary)\n",
    "@variable(Mod3,int_line_decision_var_2[1:nrow(int_c(2))], Bin) #Decision variable for internal candidate lines of zone 2 (Binary)\n",
    "@variable(Mod3,int_line_decision_var_3[1:nrow(int_c(3))], Bin) #Decision variable for internal candidate lines of zone 3 (Binary)\n",
    "\n",
    "@variable(Mod3,shared_cand_flow[1:nrow(shared_cand),1:nrow(scen_prob)])  #Power flowing on shared candidate lines \n",
    "\n",
    "@variable(Mod3, int_cand_flow_1[1:nrow(int_c(1)),1:nrow(scen_prob)]) #Power flowing on internal candidate lines of zone 1 \n",
    "@variable(Mod3, int_cand_flow_2[1:nrow(int_c(2)),1:nrow(scen_prob)]) #Power flowing on internal candidate lines of zone 2\n",
    "@variable(Mod3, int_cand_flow_3[1:nrow(int_c(3)),1:nrow(scen_prob)]) #Power flowing on internal candidate lines of zone 3\n",
    "\n",
    "@variable(Mod3,0 <= shared_cand_angle[1:nrow(shared_cand),1:nrow(scen_prob),1:2]<= 2*pi) #Phase angle decision for shared candidate lines\n",
    "\n",
    "@variable(Mod3,0 <= int_cand_angle_1[1:nrow(int_c(1)),1:nrow(scen_prob),1:2]<= 2*pi) #Phase angle decision for internal candidate lines of zone 1 \n",
    "@variable(Mod3,0 <= int_cand_angle_2[1:nrow(int_c(2)),1:nrow(scen_prob),1:2]<= 2*pi) #Phase angle decision for internal candidate lines of zone 2\n",
    "@variable(Mod3,0 <= int_cand_angle_3[1:nrow(int_c(3)),1:nrow(scen_prob),1:2]<= 2*pi) #Phase angle decision for internal candidate lines of zone 3 \n",
    "\n",
    "@variable(Mod3, shared_ex_flow[1:nrow(shared_ex),1:nrow(scen_prob)])  #Power flowing on shared existing shared lines\n",
    "\n",
    "@variable(Mod3, int_ex_flow_1[1:nrow(int_e(1)),1:nrow(scen_prob)])  #Power flowing on internal existing lines of zone 1 \n",
    "@variable(Mod3, int_ex_flow_2[1:nrow(int_e(2)),1:nrow(scen_prob)])  #Power flowing on internal existing lines of zone 2\n",
    "@variable(Mod3, int_ex_flow_3[1:nrow(int_e(3)),1:nrow(scen_prob)])  #Power flowing on internal existing lines of zone 3\n",
    "\n",
    "@variable(Mod3,0 <= shared_ex_angle[1:nrow(shared_ex),1:nrow(scen_prob),1:2]<= 2*pi) #Phase angle for existing shared lines\n",
    "\n",
    "@variable(Mod3,0 <= int_ex_angle_1[1:nrow(int_e(1)),1:nrow(scen_prob),1:2]<= 2*pi) #Phase angle decision for existing internal lines of zone 1\n",
    "@variable(Mod3,0 <= int_ex_angle_2[1:nrow(int_e(2)),1:nrow(scen_prob),1:2]<= 2*pi) #Phase angle decision for existing internal lines of zone 2\n",
    "@variable(Mod3,0 <= int_ex_angle_3[1:nrow(int_e(3)),1:nrow(scen_prob),1:2]<= 2*pi) #Phase angle decision for existing internal lines of zone 3\n"
   ]
  },
  {
   "cell_type": "code",
   "execution_count": null,
   "metadata": {},
   "outputs": [],
   "source": [
    "@expression(Mod3,total_cost,0)"
   ]
  },
  {
   "cell_type": "code",
   "execution_count": null,
   "metadata": {},
   "outputs": [],
   "source": [
    "@expression(Mod3, gen_cost1[n=1:14,s=1:nrow(scen_prob)], (gen_var_1[n,s] .* sum((g(1).gNodeID .== n) .* MC(1))))\n",
    "@expression(Mod3, gen_cost_prob_weighted1[s=1:nrow(scen_prob)], (scen_weight(s)).*sum(gen_cost1[n,s] for n in 1:14))\n",
    "@expression(Mod3, gen_cost_expected1, sum(gen_cost_prob_weighted1[s] for s in 1:nrow(scen_prob)))\n",
    "Mod3[:total_cost]+=gen_cost_expected1"
   ]
  },
  {
   "cell_type": "code",
   "execution_count": null,
   "metadata": {},
   "outputs": [],
   "source": [
    "@expression(Mod3, gen_cost2[n=1:14,s=1:nrow(scen_prob)], (gen_var_2[n,s] .* sum((g(2).gNodeID .== n) .* MC(2))))\n",
    "@expression(Mod3, gen_cost_prob_weighted2[s=1:nrow(scen_prob)], (scen_weight(s)).*sum(gen_cost2[n,s] for n in 1:30))\n",
    "@expression(Mod3, gen_cost_expected2, sum(gen_cost_prob_weighted2[s] for s in 1:nrow(scen_prob)))\n",
    "Mod3[:total_cost]+=gen_cost_expected2"
   ]
  },
  {
   "cell_type": "code",
   "execution_count": null,
   "metadata": {},
   "outputs": [],
   "source": [
    "@expression(Mod3, gen_cost3[n=1:14,s=1:nrow(scen_prob)], (gen_var_3[n,s] .* sum((g(3).gNodeID .== n) .* MC(3))))\n",
    "@expression(Mod3, gen_cost_prob_weighted3[s=1:nrow(scen_prob)], (scen_weight(s)).*sum(gen_cost3[n,s] for n in 1:5))\n",
    "@expression(Mod3, gen_cost_expected3, sum(gen_cost_prob_weighted3[s] for s in 1:nrow(scen_prob)))\n",
    "Mod3[:total_cost]+=gen_cost_expected3"
   ]
  },
  {
   "cell_type": "code",
   "execution_count": 25,
   "metadata": {},
   "outputs": [
    {
     "data": {
      "text/plain": [
       "1×1 Array{GenericAffExpr{Float64,VariableRef},2}:\n",
       " 8.57573483 gen_var_1[1,1] + 13.75 gen_var_1[2,1] + 8.57573483 gen_var_1[1,2] + 13.75 gen_var_1[2,2] + 8.57573483 gen_var_1[1,3] + 13.75 gen_var_1[2,3] + 8.57573483 gen_var_1[1,4] + 13.75 gen_var_1[2,4] + 3.6 gen_var_2[1,1] + 3.15 gen_var_2[2,1] + 3.5 gen_var_2[13,1] + 3.667 gen_var_2[22,1] + 3.75 gen_var_2[23,1] + 4.375 gen_var_2[27,1] + 16.30293932 gen_var_3[1,1] + 37 gen_var_3[2,1] + 0.2410176361372405 shared_line_decision_var[1] + 0.19594024895900847 shared_line_decision_var[2] + 0.44297470440637654 shared_line_decision_var[3] + 0.6532451422553538 shared_line_decision_var[4] + 0.1533748593600621 shared_line_decision_var[5] + 0.34289543567826486 shared_line_decision_var[6] + 0.1533748593600621 int_line_decision_var_1[1] + 0.34289543567826486 int_line_decision_var_1[2] + 0.2519729832343877 int_line_decision_var_1[3] + 0.21553427385490934 int_line_decision_var_1[4] + 0.44297470440637654 int_line_decision_var_1[5] + 6.532451422553539 int_line_decision_var_1[6] + 1.5337485936006214 int_line_decision_var_1[7] + 3.673879667981409 int_line_decision_var_1[8] + 2.355399625886668 int_line_decision_var_1[9] + 2.400268049747854 int_line_decision_var_1[10] + 1.5337485936006214 int_line_decision_var_2[1] + 3.7718497924609133 int_line_decision_var_2[2] + 2.9579437162297695 int_line_decision_var_2[3] + 1.175641493754051 int_line_decision_var_2[4] + 4.429747044063765 int_line_decision_var_2[5] + 6.532451422553539 int_line_decision_var_2[6] + 1.5337485936006214 int_line_decision_var_2[7] + 4.261700414858434 int_line_decision_var_2[8] + 0.2410176361372405 int_line_decision_var_2[9] + 0.26451933609466144 int_line_decision_var_2[10] + 0.44297470440637654 int_line_decision_var_2[11] + 0.6532451422553538 int_line_decision_var_2[12] + 0.44297470440637654 int_line_decision_var_2[13] + 0.6532451422553538 int_line_decision_var_2[14] + 0.1533748593600621 int_line_decision_var_2[15] + 0.323301410782364 int_line_decision_var_2[16] + 0.3505711071087135 int_line_decision_var_2[17] + 4.429747044063765 int_line_decision_var_2[18] + 0.21910694194294586 int_line_decision_var_3[1] + 0.22043278007888453 int_line_decision_var_3[2]"
      ]
     },
     "execution_count": 25,
     "metadata": {},
     "output_type": "execute_result"
    }
   ],
   "source": [
    "@expression(Mod3, investment_cost , (sum(shared_line_decision_var[c] .* shared_cand.costPerCap[c] .* shared_cand.interestRate[c] \n",
    "            .*((1 + shared_cand.interestRate[c]) .^ shared_cand.lifeTime[c]) ./ (((1 + shared_cand.interestRate[c]) .^ shared_cand.lifeTime[c])-1) for c in 1:nrow(shared_cand))\n",
    "            .+ sum(int_line_decision_var_1[c] .* int_c(1).costPerCap[c] .* int_c(1).interestRate[c] \n",
    "            .*((1 + int_c(1).interestRate[c]) .^ int_c(1).lifeTime[c]) ./ (((1 + int_c(1).interestRate[c]) .^ int_c(1).lifeTime[c])-1) for c in 1:nrow(int_c(1)))\n",
    "            .+ sum(int_line_decision_var_2[c] .* int_c(2).costPerCap[c] .* int_c(2).interestRate[c] \n",
    "            .*((1 + int_c(2).interestRate[c]) .^ int_c(2).lifeTime[c]) ./ (((1 + int_c(2).interestRate[c]) .^ int_c(2).lifeTime[c])-1) for c in 1:nrow(int_c(2)))\n",
    "            .+ sum(int_line_decision_var_3[c] .* int_c(3).costPerCap[c] .* int_c(3).interestRate[c] \n",
    "            .*((1 + int_c(3).interestRate[c]) .^ int_c(3).lifeTime[c]) ./ (((1 + int_c(3).interestRate[c]) .^ int_c(3).lifeTime[c])-1) for c in 1:nrow(int_c(3)))))\n",
    "Mod3[:total_cost]+=investment_cost"
   ]
  },
  {
   "cell_type": "code",
   "execution_count": 45,
   "metadata": {},
   "outputs": [
    {
     "data": {
      "text/plain": [
       "VariableRef"
      ]
     },
     "execution_count": 45,
     "metadata": {},
     "output_type": "execute_result"
    }
   ],
   "source": [
    "typeof(gen_var_1[2,1])"
   ]
  },
  {
   "cell_type": "code",
   "execution_count": 27,
   "metadata": {},
   "outputs": [],
   "source": [
    "#The first zone\n",
    "for n in 1:14\n",
    "    for s in 1:nrow(scen_prob)\n",
    "        # Power balance constraint for each node\n",
    "        @constraint(Mod3, sum(g(1).gNodeID .== n) .* gen_var_1[n,s] .+ sum(l(1,s)[:,3].* (l(1,s).lNodeID .== n)) .==\n",
    "        sum((shared_cand.tNodeID1 .== n) .*bin_c(1) .* shared_cand_flow[:,s]) .- sum((shared_cand.tNodeID2 .== n) .* bin_c(1) .* shared_cand_flow[:,s]) .+\n",
    "        sum((shared_ex.tNodeID1 .== n) .* bin_e(1) .* shared_ex_flow[:,s]) .- sum((shared_ex.tNodeID2 .== n) .* bin_e(1) .* shared_ex_flow[:,s]) .+\n",
    "        sum((int_c(1).tNodeID1 .== n) .* int_cand_flow_1[:,s]) .- sum((int_c(1).tNodeID2 .== n) .* int_cand_flow_1[:,s]) .+\n",
    "        sum((int_e(1).tNodeID1 .== n) .* int_ex_flow_1[:,s]) .- sum((int_e(1).tNodeID2 .== n) .* int_ex_flow_1[:,s]))\n",
    "        #Lower limit for generation of each node\n",
    "        @constraint(Mod3, sum(g(1).gNodeID .== n) .* gen_var_1[n,s] .<= sum((g(1).gNodeID .== n) .* g(1).PgMax))\n",
    "        #Upper limit for generation of each node\n",
    "        @constraint(Mod3, sum((g(1).gNodeID .== n) .* g(1).PgMin) .<= sum(g(1).gNodeID .== n) .* gen_var_1[n,s])\n",
    "    end\n",
    "end"
   ]
  },
  {
   "cell_type": "code",
   "execution_count": 29,
   "metadata": {},
   "outputs": [],
   "source": [
    "#The second zone\n",
    "for n in 1:30\n",
    "    for s in 1:nrow(scen_prob)\n",
    "        # Power balance constraint for each node\n",
    "        @constraint(Mod3, sum(g(2).gNodeID .== n) .* gen_var_2[n,s] .+ sum(l(2,s)[:,3] .* (l(2,s).lNodeID .== n)) .==\n",
    "        sum((shared_cand.tNodeID1 .== n) .*bin_c(2) .* shared_cand_flow[:,s]) .- sum((shared_cand.tNodeID2 .== n) .* bin_c(2) .* shared_cand_flow[:,s]) .+\n",
    "        sum((shared_ex.tNodeID1 .== n) .* bin_e(2) .* shared_ex_flow[:,s]) .- sum((shared_ex.tNodeID2 .== n) .* bin_e(2) .* shared_ex_flow[:,s]) .+\n",
    "        sum((int_c(2).tNodeID1 .== n) .* int_cand_flow_2[:,s]) .- sum((int_c(2).tNodeID2 .== n) .* int_cand_flow_2[:,s]) .+\n",
    "        sum((int_e(2).tNodeID1 .== n) .* int_ex_flow_2[:,s]) .- sum((int_e(2).tNodeID2 .== n) .* int_ex_flow_2[:,s]))\n",
    "        #Lower limit for generation of each node\n",
    "        @constraint(Mod3, sum(g(2).gNodeID .== n) .* gen_var_2[n,s] .<= sum((g(2).gNodeID .== n) .* g(2).PgMax))\n",
    "        #Upper limit for generation of each node\n",
    "        @constraint(Mod3, sum((g(2).gNodeID .== n) .* g(2).PgMin) .<= sum(g(2).gNodeID .== n) .* gen_var_2[n,s])\n",
    "    end\n",
    "end"
   ]
  },
  {
   "cell_type": "code",
   "execution_count": 30,
   "metadata": {},
   "outputs": [],
   "source": [
    "#The third zone\n",
    "for n in 1:5\n",
    "    for s in 1:nrow(scen_prob)\n",
    "        # Power balance constraint for each node\n",
    "        @constraint(Mod3, sum(g(3).gNodeID .== n) .* gen_var_3[n,s] .+ sum(l(3,s)[:,3] .* (l(3,s).lNodeID .== n)) .==\n",
    "        sum((shared_cand.tNodeID1 .== n) .*bin_c(3) .* shared_cand_flow[:,s]) .- sum((shared_cand.tNodeID2 .== n) .* bin_c(3) .* shared_cand_flow[:,s]) .+\n",
    "        sum((shared_ex.tNodeID1 .== n) .* bin_e(3) .* shared_ex_flow[:,s]) .- sum((shared_ex.tNodeID2 .== n) .* bin_e(3) .* shared_ex_flow[:,s]) .+\n",
    "        sum((int_c(3).tNodeID1 .== n) .* int_cand_flow_3[:,s]) .- sum((int_c(3).tNodeID2 .== n) .* int_cand_flow_3[:,s]) .+\n",
    "        sum((int_e(3).tNodeID1 .== n) .* int_ex_flow_3[:,s]) .- sum((int_e(3).tNodeID2 .== n) .* int_ex_flow_3[:,s]))\n",
    "        #Lower limit for generation of each node\n",
    "        @constraint(Mod3, sum(g(3).gNodeID .== n) .* gen_var_3[n,s] .<= sum((g(3).gNodeID .== n) .* g(3).PgMax))\n",
    "        #Upper limit for generation of each node\n",
    "        @constraint(Mod3, sum((g(3).gNodeID .== n) .* g(3).PgMin) .<= sum(g(3).gNodeID .== n) .* gen_var_3[n,s])\n",
    "    end\n",
    "end"
   ]
  },
  {
   "cell_type": "code",
   "execution_count": 31,
   "metadata": {},
   "outputs": [],
   "source": [
    "#Shared candidate lines\n",
    "M = 100\n",
    "for c in 1:nrow(shared_cand)\n",
    "    for s in 1:nrow(scen_prob)\n",
    "        @constraint(Mod3,-M .* (1 .- shared_line_decision_var[c]) .<= shared_cand_flow[c,s] .- ((1 ./ shared_cand.reacT[c]) .* (shared_cand_angle[c,s,1] .- shared_cand_angle[c,s,2])))\n",
    "        \n",
    "        @constraint(Mod3, shared_cand_flow[c,s] .- ((1 ./ shared_cand.reacT[c]) .* (shared_cand_angle[c,s,1] .- shared_cand_angle[c,s,2])) .<= M .* (1 .- shared_line_decision_var[c]))\n",
    "        #limiting the upper bound of power flow flowing within candidate shared lines\n",
    "        @constraint(Mod3, shared_cand_flow[c,s] .<= shared_line_decision_var[c] .*shared_cand.ptMax[c])\n",
    "        #Limiting the lower bound of power flowing within the candidate shared lines\n",
    "        @constraint(Mod3, -shared_cand.ptMax[c] .* shared_line_decision_var[c] .<= shared_cand_flow[c,s])\n",
    "    end\n",
    "end"
   ]
  },
  {
   "cell_type": "code",
   "execution_count": 32,
   "metadata": {},
   "outputs": [],
   "source": [
    "#Shared existing lines\n",
    "for h in 1:nrow(shared_ex)\n",
    "    for s in 1:nrow(scen_prob)\n",
    "        @constraint(Mod3, shared_ex_flow[h,s] .== (1 ./ shared_ex.reacT[h]) .* (shared_ex_angle[h,s,1] .- shared_ex_angle[h,s,2]))\n",
    "        @constraint(Mod3, shared_ex_flow[h,s] .<= shared_ex. ptMax[h])\n",
    "        @constraint(Mod3, -shared_ex.ptMax[h] .<= shared_ex_flow[h,s])\n",
    "    end\n",
    "end"
   ]
  },
  {
   "cell_type": "code",
   "execution_count": 33,
   "metadata": {},
   "outputs": [],
   "source": [
    "#Zone 1 internal candidate lines\n",
    "for c in 1:nrow(int_c(1))\n",
    "    for s in 1:nrow(scen_prob)\n",
    "        @constraint(Mod3,-M .* (1 .- int_line_decision_var_1[c]) .<= int_cand_flow_1[c,s] .- ((1 ./ int_c(1).reacT[c]) .* (int_cand_angle_1[c,s,1] .- int_cand_angle_1[c,s,2])))\n",
    "        @constraint(Mod3, int_cand_flow_1[c,s] .- ((1 ./ int_c(1).reacT[c]) .* (int_cand_angle_1[c,s,1] .- int_cand_angle_1[c,s,2])) .<= M .* (1 .- int_line_decision_var_1[c]))\n",
    "        @constraint(Mod3, int_cand_flow_1[c,s] .<= int_line_decision_var_1[c] .* int_c(1).ptMax[c])\n",
    "        @constraint(Mod3, -int_c(1).ptMax[c] .*int_line_decision_var_1[c] .<= int_cand_flow_1[c,s])\n",
    "    end\n",
    "end"
   ]
  },
  {
   "cell_type": "code",
   "execution_count": 34,
   "metadata": {},
   "outputs": [],
   "source": [
    "#Zone 2 internal candidate lines\n",
    "for c in 1:nrow(int_c(2))\n",
    "    for s in 1:nrow(scen_prob)\n",
    "        @constraint(Mod3,-M .* (1 .- int_line_decision_var_2[c]) .<= int_cand_flow_2[c,s] .- ((1 ./ int_c(2).reacT[c]) .* (int_cand_angle_2[c,s,1] .- int_cand_angle_2[c,s,2])))\n",
    "        @constraint(Mod3, int_cand_flow_2[c,s] .- ((1 ./ int_c(2).reacT[c]) .* (int_cand_angle_2[c,s,1] .- int_cand_angle_2[c,s,2])) .<= M .* (1 .- int_line_decision_var_2[c]))\n",
    "        @constraint(Mod3, int_cand_flow_2[c,s] .<= int_line_decision_var_2[c] .* int_c(2).ptMax[c])\n",
    "        @constraint(Mod3, -int_c(2).ptMax[c] .*int_line_decision_var_2[c] .<= int_cand_flow_2[c,s])\n",
    "    end\n",
    "end"
   ]
  },
  {
   "cell_type": "code",
   "execution_count": 35,
   "metadata": {},
   "outputs": [],
   "source": [
    "#Zone 3 internal candidate lines\n",
    "for c in 1:nrow(int_c(3))\n",
    "    for s in 1:nrow(scen_prob)\n",
    "        @constraint(Mod3,-M .* (1 .- int_line_decision_var_3[c]) .<= int_cand_flow_3[c,s] .- ((1 ./ int_c(3).reacT[c]) .* (int_cand_angle_3[c,s,1] .- int_cand_angle_3[c,s,2])))\n",
    "        @constraint(Mod3, int_cand_flow_3[c,s] .- ((1 ./ int_c(3).reacT[c]) .* (int_cand_angle_3[c,s,1] .- int_cand_angle_3[c,s,2])) .<= M .* (1 .- int_line_decision_var_3[c]))\n",
    "        @constraint(Mod3, int_cand_flow_3[c,s] .<= int_line_decision_var_3[c] .* int_c(3).ptMax[c])\n",
    "        @constraint(Mod3, -int_c(3).ptMax[c] .*int_line_decision_var_3[c] .<= int_cand_flow_3[c,s])\n",
    "    end\n",
    "end"
   ]
  },
  {
   "cell_type": "code",
   "execution_count": 36,
   "metadata": {},
   "outputs": [],
   "source": [
    "#Zone 1 internal existing lines\n",
    "for h in 1:nrow(int_e(1))\n",
    "    for s in 1:nrow(scen_prob)\n",
    "        @constraint(Mod3, int_ex_flow_1[h,s] .== (1 ./ int_e(1).reacT[h]) .* (int_ex_angle_1[h,s,1] .- int_ex_angle_1[h,s,2]))\n",
    "        @constraint(Mod3, int_ex_flow_1[h,s] .<= int_e(1).ptMax[h])\n",
    "        @constraint(Mod3, -int_e(1).ptMax[h] .<= int_ex_flow_1[h,s])\n",
    "    end\n",
    "end"
   ]
  },
  {
   "cell_type": "code",
   "execution_count": 37,
   "metadata": {},
   "outputs": [],
   "source": [
    "#Zone 2 internal existing lines\n",
    "for h in 1:nrow(int_e(2))\n",
    "    for s in 1:nrow(scen_prob)\n",
    "        @constraint(Mod3, int_ex_flow_2[h,s] .== (1 ./ int_e(2).reacT[h]) .* (int_ex_angle_2[h,s,1] .- int_ex_angle_2[h,s,2]))\n",
    "        @constraint(Mod3, int_ex_flow_2[h,s] .<= int_e(2).ptMax[h])\n",
    "        @constraint(Mod3, -int_e(2).ptMax[h] .<= int_ex_flow_2[h,s])\n",
    "        #@constraint(Mod3, (int_e(2).tNodeID1 .== 8) .* int_ex_angle_2[h,1] .== 0)\n",
    "        #@constraint(Mod3, (int_e(2).tNodeID2 .== 8) .* int_ex_angle_2[h,2] .== 0)\n",
    "    end\n",
    "end"
   ]
  },
  {
   "cell_type": "code",
   "execution_count": 38,
   "metadata": {},
   "outputs": [],
   "source": [
    "#Zone 3 internal existing lines\n",
    "for h in 1:nrow(int_e(3))\n",
    "    for s in 1:nrow(scen_prob)\n",
    "        @constraint(Mod3, int_ex_flow_3[h,s] .== (1 ./ int_e(3).reacT[h]) .* (int_ex_angle_3[h,s,1] .- int_ex_angle_3[h,s,2]))\n",
    "        @constraint(Mod3, int_ex_flow_3[h,s] .<= int_e(3).ptMax[h])\n",
    "        @constraint(Mod3, -int_e(3).ptMax[h] .<= int_ex_flow_3[h,s])\n",
    "    end\n",
    "end"
   ]
  },
  {
   "cell_type": "code",
   "execution_count": 39,
   "metadata": {},
   "outputs": [
    {
     "ename": "LoadError",
     "evalue": "The objective function `GenericAffExpr{Float64,VariableRef}[8.57573483 gen_var_1[1,1] + 13.75 gen_var_1[2,1] + 8.57573483 gen_var_1[1,2] + 13.75 gen_var_1[2,2] + 8.57573483 gen_var_1[1,3] + 13.75 gen_var_1[2,3] + 8.57573483 gen_var_1[1,4] + 13.75 gen_var_1[2,4] + 3.6 gen_var_2[1,1] + 3.15 gen_var_2[2,1] + 3.5 gen_var_2[13,1] + 3.667 gen_var_2[22,1] + 3.75 gen_var_2[23,1] + 4.375 gen_var_2[27,1] + 16.30293932 gen_var_3[1,1] + 37 gen_var_3[2,1] + 0.2410176361372405 shared_line_decision_var[1] + 0.19594024895900847 shared_line_decision_var[2] + 0.44297470440637654 shared_line_decision_var[3] + 0.6532451422553538 shared_line_decision_var[4] + 0.1533748593600621 shared_line_decision_var[5] + 0.34289543567826486 shared_line_decision_var[6] + 0.1533748593600621 int_line_decision_var_1[1] + 0.34289543567826486 int_line_decision_var_1[2] + 0.2519729832343877 int_line_decision_var_1[3] + 0.21553427385490934 int_line_decision_var_1[4] + 0.44297470440637654 int_line_decision_var_1[5] + 6.532451422553539 int_line_decision_var_1[6] + 1.5337485936006214 int_line_decision_var_1[7] + 3.673879667981409 int_line_decision_var_1[8] + 2.355399625886668 int_line_decision_var_1[9] + 2.400268049747854 int_line_decision_var_1[10] + 1.5337485936006214 int_line_decision_var_2[1] + 3.7718497924609133 int_line_decision_var_2[2] + 2.9579437162297695 int_line_decision_var_2[3] + 1.175641493754051 int_line_decision_var_2[4] + 4.429747044063765 int_line_decision_var_2[5] + 6.532451422553539 int_line_decision_var_2[6] + 1.5337485936006214 int_line_decision_var_2[7] + 4.261700414858434 int_line_decision_var_2[8] + 0.2410176361372405 int_line_decision_var_2[9] + 0.26451933609466144 int_line_decision_var_2[10] + 0.44297470440637654 int_line_decision_var_2[11] + 0.6532451422553538 int_line_decision_var_2[12] + 0.44297470440637654 int_line_decision_var_2[13] + 0.6532451422553538 int_line_decision_var_2[14] + 0.1533748593600621 int_line_decision_var_2[15] + 0.323301410782364 int_line_decision_var_2[16] + 0.3505711071087135 int_line_decision_var_2[17] + 4.429747044063765 int_line_decision_var_2[18] + 0.21910694194294586 int_line_decision_var_3[1] + 0.22043278007888453 int_line_decision_var_3[2]]` is not supported by JuMP.",
     "output_type": "error",
     "traceback": [
      "The objective function `GenericAffExpr{Float64,VariableRef}[8.57573483 gen_var_1[1,1] + 13.75 gen_var_1[2,1] + 8.57573483 gen_var_1[1,2] + 13.75 gen_var_1[2,2] + 8.57573483 gen_var_1[1,3] + 13.75 gen_var_1[2,3] + 8.57573483 gen_var_1[1,4] + 13.75 gen_var_1[2,4] + 3.6 gen_var_2[1,1] + 3.15 gen_var_2[2,1] + 3.5 gen_var_2[13,1] + 3.667 gen_var_2[22,1] + 3.75 gen_var_2[23,1] + 4.375 gen_var_2[27,1] + 16.30293932 gen_var_3[1,1] + 37 gen_var_3[2,1] + 0.2410176361372405 shared_line_decision_var[1] + 0.19594024895900847 shared_line_decision_var[2] + 0.44297470440637654 shared_line_decision_var[3] + 0.6532451422553538 shared_line_decision_var[4] + 0.1533748593600621 shared_line_decision_var[5] + 0.34289543567826486 shared_line_decision_var[6] + 0.1533748593600621 int_line_decision_var_1[1] + 0.34289543567826486 int_line_decision_var_1[2] + 0.2519729832343877 int_line_decision_var_1[3] + 0.21553427385490934 int_line_decision_var_1[4] + 0.44297470440637654 int_line_decision_var_1[5] + 6.532451422553539 int_line_decision_var_1[6] + 1.5337485936006214 int_line_decision_var_1[7] + 3.673879667981409 int_line_decision_var_1[8] + 2.355399625886668 int_line_decision_var_1[9] + 2.400268049747854 int_line_decision_var_1[10] + 1.5337485936006214 int_line_decision_var_2[1] + 3.7718497924609133 int_line_decision_var_2[2] + 2.9579437162297695 int_line_decision_var_2[3] + 1.175641493754051 int_line_decision_var_2[4] + 4.429747044063765 int_line_decision_var_2[5] + 6.532451422553539 int_line_decision_var_2[6] + 1.5337485936006214 int_line_decision_var_2[7] + 4.261700414858434 int_line_decision_var_2[8] + 0.2410176361372405 int_line_decision_var_2[9] + 0.26451933609466144 int_line_decision_var_2[10] + 0.44297470440637654 int_line_decision_var_2[11] + 0.6532451422553538 int_line_decision_var_2[12] + 0.44297470440637654 int_line_decision_var_2[13] + 0.6532451422553538 int_line_decision_var_2[14] + 0.1533748593600621 int_line_decision_var_2[15] + 0.323301410782364 int_line_decision_var_2[16] + 0.3505711071087135 int_line_decision_var_2[17] + 4.429747044063765 int_line_decision_var_2[18] + 0.21910694194294586 int_line_decision_var_3[1] + 0.22043278007888453 int_line_decision_var_3[2]]` is not supported by JuMP.",
      "",
      "Stacktrace:",
      " [1] error(::String) at ./error.jl:33",
      " [2] set_objective_function(::Model, ::Array{GenericAffExpr{Float64,VariableRef},2}) at /Users/sc87/.julia/packages/JuMP/y5vgk/src/objective.jl:123",
      " [3] set_objective(::Model, ::MathOptInterface.OptimizationSense, ::Array{GenericAffExpr{Float64,VariableRef},2}) at /Users/sc87/.julia/packages/JuMP/y5vgk/src/objective.jl:148",
      " [4] top-level scope at /Users/sc87/.julia/packages/JuMP/y5vgk/src/macros.jl:929",
      " [5] top-level scope at In[39]:1",
      " [6] include_string(::Function, ::Module, ::String, ::String) at ./loading.jl:1091"
     ]
    }
   ],
   "source": [
    "@objective(Mod3, Min, total_cost)\n",
    "optimize!(Mod3)"
   ]
  },
  {
   "cell_type": "code",
   "execution_count": 22,
   "metadata": {},
   "outputs": [
    {
     "data": {
      "text/plain": [
       "5318.843619397567"
      ]
     },
     "execution_count": 22,
     "metadata": {},
     "output_type": "execute_result"
    }
   ],
   "source": [
    "if termination_status(Mod3) == MOI.OPTIMAL\n",
    "    shared_line_decision = value.(shared_line_decision_var)\n",
    "    shared_cand_power = value.(shared_cand_flow)\n",
    "    shared_cand_phase_angle = value.(shared_cand_angle)\n",
    "    shared_ex_power = value.(shared_ex_flow)\n",
    "    shared_ex_phase_angle = value.(shared_ex_angle)\n",
    "    int_line_decision_1 = value.(int_line_decision_var_1)\n",
    "    int_line_decision_2 = value.(int_line_decision_var_2)\n",
    "    int_line_decision_3 = value.(int_line_decision_var_3)\n",
    "    int_line_flow_1 = value.(int_cand_flow_1)\n",
    "    int_line_flow_2 = value.(int_cand_flow_2)\n",
    "    int_line_flow_3 = value.(int_cand_flow_3)\n",
    "    generation_1 = value.(gen_var_1)\n",
    "    generation_2 = value.(gen_var_2)\n",
    "    generation_3 = value.(gen_var_3)\n",
    "    obj_value = objective_value(Mod3)\n",
    "end"
   ]
  },
  {
   "cell_type": "code",
   "execution_count": 23,
   "metadata": {},
   "outputs": [
    {
     "data": {
      "text/plain": [
       "6-element Array{Float64,1}:\n",
       "  1.0\n",
       " -0.0\n",
       "  1.0\n",
       "  1.0\n",
       "  1.0\n",
       "  1.0"
      ]
     },
     "execution_count": 23,
     "metadata": {},
     "output_type": "execute_result"
    }
   ],
   "source": [
    "shared_line_decision"
   ]
  },
  {
   "cell_type": "code",
   "execution_count": 24,
   "metadata": {},
   "outputs": [
    {
     "data": {
      "text/plain": [
       "6-element Array{Float64,1}:\n",
       "  57.72798824241809\n",
       "   0.0\n",
       "  31.57378014035332\n",
       " 100.00000000000004\n",
       "  38.03380936549385\n",
       " -34.37502458623578"
      ]
     },
     "execution_count": 24,
     "metadata": {},
     "output_type": "execute_result"
    }
   ],
   "source": [
    "shared_cand_power"
   ]
  },
  {
   "cell_type": "code",
   "execution_count": 25,
   "metadata": {},
   "outputs": [
    {
     "data": {
      "text/plain": [
       "6×2 Array{Float64,2}:\n",
       " 3.41577   0.0\n",
       " 6.28319   0.0\n",
       " 6.25066   0.0\n",
       " 5.75      0.0\n",
       " 6.28319   0.0\n",
       " 0.312244  6.28319"
      ]
     },
     "execution_count": 25,
     "metadata": {},
     "output_type": "execute_result"
    }
   ],
   "source": [
    "shared_cand_phase_angle"
   ]
  },
  {
   "cell_type": "code",
   "execution_count": 26,
   "metadata": {},
   "outputs": [
    {
     "data": {
      "text/plain": [
       "8×2 Array{Float64,2}:\n",
       " 6.28319  0.0\n",
       " 0.0      6.28319\n",
       " 0.0      0.0\n",
       " 6.28319  0.0\n",
       " 2.18084  0.0\n",
       " 6.28319  0.0\n",
       " 6.28319  3.81037\n",
       " 1.41576  0.0"
      ]
     },
     "execution_count": 26,
     "metadata": {},
     "output_type": "execute_result"
    }
   ],
   "source": [
    "shared_ex_phase_angle"
   ]
  },
  {
   "cell_type": "code",
   "execution_count": 27,
   "metadata": {},
   "outputs": [
    {
     "data": {
      "text/plain": [
       "8-element Array{Float64,1}:\n",
       "  23.271056693257723\n",
       " -19.086225112939207\n",
       "   0.0\n",
       "  11.300692998524434\n",
       "  36.407990631580645\n",
       "  31.41592653589793\n",
       "  22.48013940828421\n",
       "   6.806531259561535"
      ]
     },
     "execution_count": 27,
     "metadata": {},
     "output_type": "execute_result"
    }
   ],
   "source": [
    "shared_ex_power"
   ]
  },
  {
   "cell_type": "code",
   "execution_count": 28,
   "metadata": {},
   "outputs": [
    {
     "data": {
      "text/plain": [
       "10-element Array{Float64,1}:\n",
       " -0.0\n",
       "  1.0\n",
       "  1.0\n",
       " -0.0\n",
       " -0.0\n",
       "  1.0\n",
       " -0.0\n",
       " -0.0\n",
       " -0.0\n",
       "  1.0"
      ]
     },
     "execution_count": 28,
     "metadata": {},
     "output_type": "execute_result"
    }
   ],
   "source": [
    "int_line_decision_1"
   ]
  },
  {
   "cell_type": "code",
   "execution_count": 29,
   "metadata": {},
   "outputs": [
    {
     "data": {
      "text/plain": [
       "18-element Array{Float64,1}:\n",
       "  1.0\n",
       " -0.0\n",
       " -0.0\n",
       " -0.0\n",
       " -0.0\n",
       "  1.0\n",
       "  1.0\n",
       " -0.0\n",
       " -0.0\n",
       "  1.0\n",
       "  1.0\n",
       " -0.0\n",
       " -0.0\n",
       " -0.0\n",
       "  1.0\n",
       " -0.0\n",
       " -0.0\n",
       " -0.0"
      ]
     },
     "execution_count": 29,
     "metadata": {},
     "output_type": "execute_result"
    }
   ],
   "source": [
    "int_line_decision_2"
   ]
  },
  {
   "cell_type": "code",
   "execution_count": 30,
   "metadata": {},
   "outputs": [
    {
     "data": {
      "text/plain": [
       "2-element Array{Float64,1}:\n",
       " -0.0\n",
       " -0.0"
      ]
     },
     "execution_count": 30,
     "metadata": {},
     "output_type": "execute_result"
    }
   ],
   "source": [
    "int_line_decision_3"
   ]
  },
  {
   "cell_type": "code",
   "execution_count": 31,
   "metadata": {},
   "outputs": [
    {
     "data": {
      "text/plain": [
       "5318.843619397568"
      ]
     },
     "execution_count": 31,
     "metadata": {},
     "output_type": "execute_result"
    }
   ],
   "source": [
    "obj_value"
   ]
  },
  {
   "cell_type": "code",
   "execution_count": 31,
   "metadata": {},
   "outputs": [
    {
     "data": {
      "text/plain": [
       "14-element Vector{Float64}:\n",
       " 135.72894330674225\n",
       "   0.0\n",
       "   0.0\n",
       "   0.0\n",
       "   0.0\n",
       "   0.0\n",
       "   0.0\n",
       "   0.0\n",
       "   0.0\n",
       "   0.0\n",
       "   0.0\n",
       "   0.0\n",
       "   0.0\n",
       "   0.0"
      ]
     },
     "execution_count": 31,
     "metadata": {},
     "output_type": "execute_result"
    }
   ],
   "source": [
    "generation_1"
   ]
  },
  {
   "cell_type": "code",
   "execution_count": 32,
   "metadata": {},
   "outputs": [
    {
     "name": "stdout",
     "output_type": "stream",
     "text": [
      "30-element Vector{Float64}:\n",
      " 69.20000000000002\n",
      " 79.99999999999999\n",
      "  0.0\n",
      "  0.0\n",
      "  0.0\n",
      "  0.0\n",
      "  0.0\n",
      "  0.0\n",
      "  0.0\n",
      "  0.0\n",
      "  0.0\n",
      "  0.0\n",
      " 40.0\n",
      "  0.0\n",
      "  0.0\n",
      "  0.0\n",
      "  0.0\n",
      "  0.0\n",
      "  0.0\n",
      "  0.0\n",
      "  0.0\n",
      "  0.0\n",
      "  0.0\n",
      "  0.0\n",
      "  0.0\n",
      "  0.0\n",
      "  0.0\n",
      "  0.0\n",
      "  0.0\n",
      "  0.0"
     ]
    }
   ],
   "source": [
    "show(stdout, \"text/plain\", generation_2)"
   ]
  },
  {
   "cell_type": "code",
   "execution_count": 33,
   "metadata": {},
   "outputs": [
    {
     "data": {
      "text/plain": [
       "5-element Vector{Float64}:\n",
       " 0.0\n",
       " 0.0\n",
       " 0.0\n",
       " 0.0\n",
       " 0.0"
      ]
     },
     "execution_count": 33,
     "metadata": {},
     "output_type": "execute_result"
    }
   ],
   "source": [
    "generation_3"
   ]
  },
  {
   "cell_type": "code",
   "execution_count": 32,
   "metadata": {},
   "outputs": [
    {
     "data": {
      "text/plain": [
       "10-element Vector{Float64}:\n",
       "   0.0\n",
       "  35.635125381009445\n",
       " -36.13518120071081\n",
       "   0.0\n",
       "   0.0\n",
       " -30.045836396229845\n",
       "   0.0\n",
       "   0.0\n",
       "   0.0\n",
       "  13.761720136141406"
      ]
     },
     "execution_count": 32,
     "metadata": {},
     "output_type": "execute_result"
    }
   ],
   "source": [
    "int_line_flow_1"
   ]
  },
  {
   "cell_type": "code",
   "execution_count": 36,
   "metadata": {},
   "outputs": [
    {
     "data": {
      "text/plain": [
       "18-element Vector{Float64}:\n",
       " -83.35901940310741\n",
       "   0.0\n",
       "   0.0\n",
       "   0.0\n",
       "   0.0\n",
       " -31.621466065322522\n",
       " -31.46312121772452\n",
       "   0.0\n",
       "   0.0\n",
       " -32.67387055215593\n",
       " -47.73050620457735\n",
       "   0.0\n",
       "   0.0\n",
       "   0.0\n",
       "  19.086225112939204\n",
       "   0.0\n",
       "   0.0\n",
       "   0.0"
      ]
     },
     "execution_count": 36,
     "metadata": {},
     "output_type": "execute_result"
    }
   ],
   "source": [
    "int_line_flow_2"
   ]
  },
  {
   "cell_type": "code",
   "execution_count": 37,
   "metadata": {},
   "outputs": [
    {
     "data": {
      "text/plain": [
       "2-element Vector{Float64}:\n",
       " 0.0\n",
       " 0.0"
      ]
     },
     "execution_count": 37,
     "metadata": {},
     "output_type": "execute_result"
    }
   ],
   "source": [
    "int_line_flow_3"
   ]
  },
  {
   "cell_type": "code",
   "execution_count": null,
   "metadata": {},
   "outputs": [],
   "source": []
  }
 ],
 "metadata": {
  "kernelspec": {
   "display_name": "Julia 1.5.3",
   "language": "julia",
   "name": "julia-1.5"
  },
  "language_info": {
   "file_extension": ".jl",
   "mimetype": "application/julia",
   "name": "julia",
   "version": "1.5.3"
  }
 },
 "nbformat": 4,
 "nbformat_minor": 4
}
