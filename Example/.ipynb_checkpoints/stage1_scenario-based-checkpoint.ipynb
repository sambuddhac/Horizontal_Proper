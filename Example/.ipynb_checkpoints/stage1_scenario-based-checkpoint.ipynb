{
 "cells": [
  {
   "cell_type": "markdown",
   "metadata": {},
   "source": [
    "# Stage-I Distributed Mechanism Design Solution of Multi-Regional Transmission Expansion Horizontal Investment Coordination Problem\n",
    "\n",
    "### This notebook contains codes for the three zone test case (consisting of the IEEE 14 nodes, IEEE 30 nodes, and a 5 node test system for each of the zones) for Stage-I Distributed MILP based market mechanism design to achieve the maximum value of the social surplus of the broader region\n",
    "\n",
    "#### The first code block loads the different package dependencies to create the virtual environment in Juliaimport Pkg\n"
   ]
  },
  {
   "cell_type": "code",
   "execution_count": 79,
   "metadata": {},
   "outputs": [
    {
     "name": "stderr",
     "output_type": "stream",
     "text": [
      "\u001b[32m\u001b[1m  Resolving\u001b[22m\u001b[39m package versions...\n",
      "\u001b[32m\u001b[1mNo Changes\u001b[22m\u001b[39m to `~/.julia/environments/v1.5/Project.toml`\n",
      "\u001b[32m\u001b[1mNo Changes\u001b[22m\u001b[39m to `~/.julia/environments/v1.5/Manifest.toml`\n",
      "\u001b[32m\u001b[1m  Resolving\u001b[22m\u001b[39m package versions...\n",
      "\u001b[32m\u001b[1mNo Changes\u001b[22m\u001b[39m to `~/.julia/environments/v1.5/Project.toml`\n",
      "\u001b[32m\u001b[1mNo Changes\u001b[22m\u001b[39m to `~/.julia/environments/v1.5/Manifest.toml`\n",
      "\u001b[32m\u001b[1m  Resolving\u001b[22m\u001b[39m package versions...\n",
      "\u001b[32m\u001b[1mNo Changes\u001b[22m\u001b[39m to `~/.julia/environments/v1.5/Project.toml`\n",
      "\u001b[32m\u001b[1mNo Changes\u001b[22m\u001b[39m to `~/.julia/environments/v1.5/Manifest.toml`\n",
      "\u001b[32m\u001b[1m  Resolving\u001b[22m\u001b[39m package versions...\n",
      "\u001b[32m\u001b[1mNo Changes\u001b[22m\u001b[39m to `~/.julia/environments/v1.5/Project.toml`\n",
      "\u001b[32m\u001b[1mNo Changes\u001b[22m\u001b[39m to `~/.julia/environments/v1.5/Manifest.toml`\n",
      "\u001b[32m\u001b[1m  Resolving\u001b[22m\u001b[39m package versions...\n",
      "\u001b[32m\u001b[1mNo Changes\u001b[22m\u001b[39m to `~/.julia/environments/v1.5/Project.toml`\n",
      "\u001b[32m\u001b[1mNo Changes\u001b[22m\u001b[39m to `~/.julia/environments/v1.5/Manifest.toml`\n",
      "\u001b[32m\u001b[1m  Resolving\u001b[22m\u001b[39m package versions...\n",
      "\u001b[32m\u001b[1mNo Changes\u001b[22m\u001b[39m to `~/.julia/environments/v1.5/Project.toml`\n",
      "\u001b[32m\u001b[1mNo Changes\u001b[22m\u001b[39m to `~/.julia/environments/v1.5/Manifest.toml`\n",
      "\u001b[32m\u001b[1m  Resolving\u001b[22m\u001b[39m package versions...\n",
      "\u001b[32m\u001b[1mNo Changes\u001b[22m\u001b[39m to `~/.julia/environments/v1.5/Project.toml`\n",
      "\u001b[32m\u001b[1mNo Changes\u001b[22m\u001b[39m to `~/.julia/environments/v1.5/Manifest.toml`\n"
     ]
    }
   ],
   "source": [
    "import Pkg\n",
    "Pkg.add(\"HiGHS\")\n",
    "Pkg.add(\"Gurobi\")\n",
    "Pkg.add(\"GLPK\")\n",
    "Pkg.add(\"XLSX\")\n",
    "Pkg.add(\"SCIP\")\n",
    "Pkg.add(\"Ipopt\")\n",
    "Pkg.add(\"Cbc\")\n",
    "using Pkg\n",
    "using JuMP\n",
    "using GLPK\n",
    "using XLSX\n",
    "using SCIP\n",
    "using Gurobi\n",
    "using Ipopt\n",
    "using CSV\n",
    "using Cbc\n",
    "using DataFrames"
   ]
  },
  {
   "cell_type": "markdown",
   "metadata": {},
   "source": [
    "First, the data from excel files are called and saved in dataframe formats."
   ]
  },
  {
   "cell_type": "code",
   "execution_count": 107,
   "metadata": {},
   "outputs": [
    {
     "data": {
      "text/html": [
       "<table class=\"data-frame\"><thead><tr><th></th><th>Zone</th><th>Nodes_Total</th></tr><tr><th></th><th>Int64</th><th>Int64</th></tr></thead><tbody><p>3 rows × 2 columns</p><tr><th>1</th><td>1</td><td>14</td></tr><tr><th>2</th><td>2</td><td>30</td></tr><tr><th>3</th><td>3</td><td>5</td></tr></tbody></table>"
      ],
      "text/latex": [
       "\\begin{tabular}{r|cc}\n",
       "\t& Zone & Nodes\\_Total\\\\\n",
       "\t\\hline\n",
       "\t& Int64 & Int64\\\\\n",
       "\t\\hline\n",
       "\t1 & 1 & 14 \\\\\n",
       "\t2 & 2 & 30 \\\\\n",
       "\t3 & 3 & 5 \\\\\n",
       "\\end{tabular}\n"
      ],
      "text/plain": [
       "\u001b[1m3×2 DataFrame\u001b[0m\n",
       "\u001b[1m Row \u001b[0m│\u001b[1m Zone  \u001b[0m\u001b[1m Nodes_Total \u001b[0m\n",
       "\u001b[1m     \u001b[0m│\u001b[90m Int64 \u001b[0m\u001b[90m Int64       \u001b[0m\n",
       "─────┼────────────────────\n",
       "   1 │     1           14\n",
       "   2 │     2           30\n",
       "   3 │     3            5"
      ]
     },
     "execution_count": 107,
     "metadata": {},
     "output_type": "execute_result"
    }
   ],
   "source": [
    "shared_cand = DataFrame(XLSX.readtable(\"../Input_Data/CandLine.csv\", \"Taul1\", header=true)...) #Dataframe of shared candidate lines\n",
    "int_cand =  DataFrame(XLSX.readtable(\"../Input_Data/CandLineInt.csv\", \"Taul1\", header=true)...) #Dataframe of internal candidate lines\n",
    "shared_ex =  DataFrame(XLSX.readtable(\"../Input_Data/SharedEline.csv\", \"Taul1\", header=true)...) #Dataframe of shared existing lines\n",
    "int_ex = DataFrame(XLSX.readtable(\"../Input_Data/Tran.csv\", \"Taul1\", header=true)...) #Dataframe of internal existing lines\n",
    "gen =  DataFrame(XLSX.readtable(\"../Input_Data/Gen.csv\" , \"Taul1\", header=true)...) #Dataframe of generators\n",
    "load =  DataFrame(XLSX.readtable(\"../Input_Data/Load.csv\", \"Taul1\", header=true)...) #Dataframe of loads\n",
    "scen_prob = DataFrame(CSV.File(\"../Input_Data/Scenario_Probability.csv\", header=true)) #Dataframe of scenario probabilities\n",
    "zone_summary = DataFrame(CSV.File(\"../Input_Data/Zone_Summary.csv\", header=true)) #Dataframe of region-number of nodes\n",
    "##An example of the load dataframe can be found as follows"
   ]
  },
  {
   "cell_type": "code",
   "execution_count": 108,
   "metadata": {},
   "outputs": [
    {
     "data": {
      "text/html": [
       "<table class=\"data-frame\"><thead><tr><th></th><th>zoneNum</th><th>lNodeID</th><th>P_load1</th><th>P_load2</th><th>P_load3</th><th>P_load4</th></tr><tr><th></th><th>Any</th><th>Any</th><th>Any</th><th>Any</th><th>Any</th><th>Any</th></tr></thead><tbody><p>35 rows × 6 columns</p><tr><th>1</th><td>1</td><td>2</td><td>-21.7</td><td>-10.85</td><td>-16.275</td><td>-5.425</td></tr><tr><th>2</th><td>1</td><td>3</td><td>-94.2</td><td>-47.1</td><td>-70.65</td><td>-23.55</td></tr><tr><th>3</th><td>1</td><td>4</td><td>-47.8</td><td>-23.9</td><td>-35.85</td><td>-11.95</td></tr><tr><th>4</th><td>1</td><td>5</td><td>-7.6</td><td>-3.8</td><td>-5.7</td><td>-1.9</td></tr><tr><th>5</th><td>1</td><td>6</td><td>-11.2</td><td>-5.6</td><td>-8.4</td><td>-2.8</td></tr><tr><th>6</th><td>1</td><td>9</td><td>-29.5</td><td>-14.75</td><td>-22.125</td><td>-7.375</td></tr><tr><th>7</th><td>1</td><td>10</td><td>-9</td><td>-4.5</td><td>-6.75</td><td>-2.25</td></tr><tr><th>8</th><td>1</td><td>11</td><td>-3.5</td><td>-1.75</td><td>-2.625</td><td>-0.875</td></tr><tr><th>9</th><td>1</td><td>12</td><td>-6.1</td><td>-3.05</td><td>-4.575</td><td>-1.525</td></tr><tr><th>10</th><td>1</td><td>13</td><td>-13.5</td><td>-6.75</td><td>-10.125</td><td>-3.375</td></tr><tr><th>11</th><td>1</td><td>14</td><td>-14.9</td><td>-7.45</td><td>-11.175</td><td>-3.725</td></tr><tr><th>12</th><td>2</td><td>2</td><td>-21.7</td><td>-10.85</td><td>-16.275</td><td>-5.425</td></tr><tr><th>13</th><td>2</td><td>3</td><td>-2.4</td><td>-1.2</td><td>-1.8</td><td>-0.6</td></tr><tr><th>14</th><td>2</td><td>4</td><td>-7.6</td><td>-3.8</td><td>-5.7</td><td>-1.9</td></tr><tr><th>15</th><td>2</td><td>7</td><td>-22.8</td><td>-11.4</td><td>-17.1</td><td>-5.7</td></tr><tr><th>16</th><td>2</td><td>8</td><td>-30</td><td>-15</td><td>-22.5</td><td>-7.5</td></tr><tr><th>17</th><td>2</td><td>10</td><td>-5.8</td><td>-2.9</td><td>-4.35</td><td>-1.45</td></tr><tr><th>18</th><td>2</td><td>12</td><td>-11.2</td><td>-5.6</td><td>-8.4</td><td>-2.8</td></tr><tr><th>19</th><td>2</td><td>14</td><td>-6.2</td><td>-3.1</td><td>-4.65</td><td>-1.55</td></tr><tr><th>20</th><td>2</td><td>15</td><td>-8.2</td><td>-4.1</td><td>-6.15</td><td>-2.05</td></tr><tr><th>21</th><td>2</td><td>16</td><td>-3.5</td><td>-1.75</td><td>-2.625</td><td>-0.875</td></tr><tr><th>22</th><td>2</td><td>17</td><td>-9</td><td>-4.5</td><td>-6.75</td><td>-2.25</td></tr><tr><th>23</th><td>2</td><td>18</td><td>-3.2</td><td>-1.6</td><td>-2.4</td><td>-0.8</td></tr><tr><th>24</th><td>2</td><td>19</td><td>-9.5</td><td>-4.75</td><td>-7.125</td><td>-2.375</td></tr><tr><th>25</th><td>2</td><td>20</td><td>-2.2</td><td>-1.1</td><td>-1.65</td><td>-0.55</td></tr><tr><th>26</th><td>2</td><td>21</td><td>-17.5</td><td>-8.75</td><td>-13.125</td><td>-4.375</td></tr><tr><th>27</th><td>2</td><td>23</td><td>-3.2</td><td>-1.6</td><td>-2.4</td><td>-0.8</td></tr><tr><th>28</th><td>2</td><td>24</td><td>-8.7</td><td>-4.35</td><td>-6.525</td><td>-2.175</td></tr><tr><th>29</th><td>2</td><td>26</td><td>-3.5</td><td>-1.75</td><td>-2.625</td><td>-0.875</td></tr><tr><th>30</th><td>2</td><td>29</td><td>-2.4</td><td>-1.2</td><td>-1.8</td><td>-0.6</td></tr><tr><th>&vellip;</th><td>&vellip;</td><td>&vellip;</td><td>&vellip;</td><td>&vellip;</td><td>&vellip;</td><td>&vellip;</td></tr></tbody></table>"
      ],
      "text/latex": [
       "\\begin{tabular}{r|cccccc}\n",
       "\t& zoneNum & lNodeID & P\\_load1 & P\\_load2 & P\\_load3 & P\\_load4\\\\\n",
       "\t\\hline\n",
       "\t& Any & Any & Any & Any & Any & Any\\\\\n",
       "\t\\hline\n",
       "\t1 & 1 & 2 & -21.7 & -10.85 & -16.275 & -5.425 \\\\\n",
       "\t2 & 1 & 3 & -94.2 & -47.1 & -70.65 & -23.55 \\\\\n",
       "\t3 & 1 & 4 & -47.8 & -23.9 & -35.85 & -11.95 \\\\\n",
       "\t4 & 1 & 5 & -7.6 & -3.8 & -5.7 & -1.9 \\\\\n",
       "\t5 & 1 & 6 & -11.2 & -5.6 & -8.4 & -2.8 \\\\\n",
       "\t6 & 1 & 9 & -29.5 & -14.75 & -22.125 & -7.375 \\\\\n",
       "\t7 & 1 & 10 & -9 & -4.5 & -6.75 & -2.25 \\\\\n",
       "\t8 & 1 & 11 & -3.5 & -1.75 & -2.625 & -0.875 \\\\\n",
       "\t9 & 1 & 12 & -6.1 & -3.05 & -4.575 & -1.525 \\\\\n",
       "\t10 & 1 & 13 & -13.5 & -6.75 & -10.125 & -3.375 \\\\\n",
       "\t11 & 1 & 14 & -14.9 & -7.45 & -11.175 & -3.725 \\\\\n",
       "\t12 & 2 & 2 & -21.7 & -10.85 & -16.275 & -5.425 \\\\\n",
       "\t13 & 2 & 3 & -2.4 & -1.2 & -1.8 & -0.6 \\\\\n",
       "\t14 & 2 & 4 & -7.6 & -3.8 & -5.7 & -1.9 \\\\\n",
       "\t15 & 2 & 7 & -22.8 & -11.4 & -17.1 & -5.7 \\\\\n",
       "\t16 & 2 & 8 & -30 & -15 & -22.5 & -7.5 \\\\\n",
       "\t17 & 2 & 10 & -5.8 & -2.9 & -4.35 & -1.45 \\\\\n",
       "\t18 & 2 & 12 & -11.2 & -5.6 & -8.4 & -2.8 \\\\\n",
       "\t19 & 2 & 14 & -6.2 & -3.1 & -4.65 & -1.55 \\\\\n",
       "\t20 & 2 & 15 & -8.2 & -4.1 & -6.15 & -2.05 \\\\\n",
       "\t21 & 2 & 16 & -3.5 & -1.75 & -2.625 & -0.875 \\\\\n",
       "\t22 & 2 & 17 & -9 & -4.5 & -6.75 & -2.25 \\\\\n",
       "\t23 & 2 & 18 & -3.2 & -1.6 & -2.4 & -0.8 \\\\\n",
       "\t24 & 2 & 19 & -9.5 & -4.75 & -7.125 & -2.375 \\\\\n",
       "\t25 & 2 & 20 & -2.2 & -1.1 & -1.65 & -0.55 \\\\\n",
       "\t26 & 2 & 21 & -17.5 & -8.75 & -13.125 & -4.375 \\\\\n",
       "\t27 & 2 & 23 & -3.2 & -1.6 & -2.4 & -0.8 \\\\\n",
       "\t28 & 2 & 24 & -8.7 & -4.35 & -6.525 & -2.175 \\\\\n",
       "\t29 & 2 & 26 & -3.5 & -1.75 & -2.625 & -0.875 \\\\\n",
       "\t30 & 2 & 29 & -2.4 & -1.2 & -1.8 & -0.6 \\\\\n",
       "\t$\\dots$ & $\\dots$ & $\\dots$ & $\\dots$ & $\\dots$ & $\\dots$ & $\\dots$ \\\\\n",
       "\\end{tabular}\n"
      ],
      "text/plain": [
       "\u001b[1m35×6 DataFrame\u001b[0m\n",
       "\u001b[1m Row \u001b[0m│\u001b[1m zoneNum \u001b[0m\u001b[1m lNodeID \u001b[0m\u001b[1m P_load1 \u001b[0m\u001b[1m P_load2 \u001b[0m\u001b[1m P_load3 \u001b[0m\u001b[1m P_load4 \u001b[0m\n",
       "\u001b[1m     \u001b[0m│\u001b[90m Any     \u001b[0m\u001b[90m Any     \u001b[0m\u001b[90m Any     \u001b[0m\u001b[90m Any     \u001b[0m\u001b[90m Any     \u001b[0m\u001b[90m Any     \u001b[0m\n",
       "─────┼──────────────────────────────────────────────────────\n",
       "   1 │ 1        2        -21.7    -10.85   -16.275  -5.425\n",
       "   2 │ 1        3        -94.2    -47.1    -70.65   -23.55\n",
       "   3 │ 1        4        -47.8    -23.9    -35.85   -11.95\n",
       "   4 │ 1        5        -7.6     -3.8     -5.7     -1.9\n",
       "   5 │ 1        6        -11.2    -5.6     -8.4     -2.8\n",
       "   6 │ 1        9        -29.5    -14.75   -22.125  -7.375\n",
       "   7 │ 1        10       -9       -4.5     -6.75    -2.25\n",
       "   8 │ 1        11       -3.5     -1.75    -2.625   -0.875\n",
       "   9 │ 1        12       -6.1     -3.05    -4.575   -1.525\n",
       "  10 │ 1        13       -13.5    -6.75    -10.125  -3.375\n",
       "  11 │ 1        14       -14.9    -7.45    -11.175  -3.725\n",
       "  ⋮  │    ⋮        ⋮        ⋮        ⋮        ⋮        ⋮\n",
       "  26 │ 2        21       -17.5    -8.75    -13.125  -4.375\n",
       "  27 │ 2        23       -3.2     -1.6     -2.4     -0.8\n",
       "  28 │ 2        24       -8.7     -4.35    -6.525   -2.175\n",
       "  29 │ 2        26       -3.5     -1.75    -2.625   -0.875\n",
       "  30 │ 2        29       -2.4     -1.2     -1.8     -0.6\n",
       "  31 │ 2        30       -10.6    -5.3     -7.95    -2.65\n",
       "  32 │ 3        2        -20      -10      -15      -5\n",
       "  33 │ 3        3        -45      -22.5    -33.75   -11.25\n",
       "  34 │ 3        4        -40      -20      -30      -10\n",
       "  35 │ 3        5        -60      -30      -45      -15\n",
       "\u001b[36m                                             14 rows omitted\u001b[0m"
      ]
     },
     "execution_count": 108,
     "metadata": {},
     "output_type": "execute_result"
    }
   ],
   "source": [
    "load"
   ]
  },
  {
   "cell_type": "markdown",
   "metadata": {},
   "source": [
    "Then, some functions are defined which can separate the lines, generators, and zones of each zone"
   ]
  },
  {
   "cell_type": "code",
   "execution_count": 109,
   "metadata": {},
   "outputs": [
    {
     "data": {
      "text/plain": [
       "scen_weight (generic function with 1 method)"
      ]
     },
     "execution_count": 109,
     "metadata": {},
     "output_type": "execute_result"
    }
   ],
   "source": [
    "l(i,s) = load[load.zoneNum .== i,[1,2,s+2]] # load within zone i and scenario s\n",
    "g(i) = gen[gen.zoneNum .== i, :]   # generators within zone i\n",
    "shared_c(i) = vcat(shared_cand[shared_cand.nodeZone1 .== i,:] , shared_cand[shared_cand.nodeZone2 .== i, :]) #shared candidate lines within zone i\n",
    "int_c(i) = int_cand[int_cand.zoneNum .== i, :]   # number of internal candidate lines within zone i\n",
    "shared_e(i) = vcat(shared_ex[shared_ex.nodeZone1 .== i,:] , shared_ex[shared_ex.nodeZone2 .== i, :]) #shared existing lines within zone i\n",
    "int_e(i) =int_ex[int_ex.zoneNum .== i, :]       # internal existing lines within zone i\n",
    "MC(i) = (g(i).C2 .* (g(i).PgMax .^ 2) .+ g(i).C1 .* g(i).PgMax .- g(i).C2 .*(g(i).PgMin .^ 2) .- g(i).C1 .* g(i).PgMin) ./ (g(i).PgMax .- g(i).PgMin) #Marginal cost of generators within zone i\n",
    "bin_c(i) = (shared_cand.nodeZone1 .== i) + (shared_cand.nodeZone2 .== i) # A binary vector through which we can check if the shared candidate lines belong to zone i\n",
    "bin_e(i) = (shared_ex.nodeZone1 .== i) + (shared_ex.nodeZone2 .== i) # A binary vector through which we can check if the shared existing lines belong to zone i\n",
    "scen_weight(s) = scen_prob.scen_weight[scen_prob.scenario .== s,:]"
   ]
  },
  {
   "cell_type": "code",
   "execution_count": 110,
   "metadata": {},
   "outputs": [
    {
     "data": {
      "text/plain": [
       "4"
      ]
     },
     "execution_count": 110,
     "metadata": {},
     "output_type": "execute_result"
    }
   ],
   "source": [
    "S = nrow(scen_prob)"
   ]
  },
  {
   "cell_type": "markdown",
   "metadata": {},
   "source": [
    "As an example, the following shows the shared candidate lines that belong to zone 1:"
   ]
  },
  {
   "cell_type": "code",
   "execution_count": 111,
   "metadata": {},
   "outputs": [
    {
     "data": {
      "text/html": [
       "<table class=\"data-frame\"><thead><tr><th></th><th>Sernum</th><th>tNodeID1</th><th>nodeZone1</th><th>tNodeID2</th><th>nodeZone2</th><th>reacT</th><th>ptMax</th><th>lifeTime</th><th>interestRate</th></tr><tr><th></th><th>Any</th><th>Any</th><th>Any</th><th>Any</th><th>Any</th><th>Any</th><th>Any</th><th>Any</th><th>Any</th></tr></thead><tbody><p>4 rows × 11 columns (omitted printing of 2 columns)</p><tr><th>1</th><td>1</td><td>1</td><td>1</td><td>2</td><td>3</td><td>0.05917</td><td>100</td><td>50</td><td>0.05</td></tr><tr><th>2</th><td>3</td><td>10</td><td>1</td><td>4</td><td>3</td><td>0.19797</td><td>100</td><td>29</td><td>0.03</td></tr><tr><th>3</th><td>2</td><td>5</td><td>3</td><td>2</td><td>1</td><td>0.22304</td><td>100</td><td>57</td><td>0.045</td></tr><tr><th>4</th><td>4</td><td>19</td><td>2</td><td>14</td><td>1</td><td>0.0575</td><td>100</td><td>35</td><td>0.1</td></tr></tbody></table>"
      ],
      "text/latex": [
       "\\begin{tabular}{r|cccccccccc}\n",
       "\t& Sernum & tNodeID1 & nodeZone1 & tNodeID2 & nodeZone2 & reacT & ptMax & lifeTime & interestRate & \\\\\n",
       "\t\\hline\n",
       "\t& Any & Any & Any & Any & Any & Any & Any & Any & Any & \\\\\n",
       "\t\\hline\n",
       "\t1 & 1 & 1 & 1 & 2 & 3 & 0.05917 & 100 & 50 & 0.05 & $\\dots$ \\\\\n",
       "\t2 & 3 & 10 & 1 & 4 & 3 & 0.19797 & 100 & 29 & 0.03 & $\\dots$ \\\\\n",
       "\t3 & 2 & 5 & 3 & 2 & 1 & 0.22304 & 100 & 57 & 0.045 & $\\dots$ \\\\\n",
       "\t4 & 4 & 19 & 2 & 14 & 1 & 0.0575 & 100 & 35 & 0.1 & $\\dots$ \\\\\n",
       "\\end{tabular}\n"
      ],
      "text/plain": [
       "\u001b[1m4×11 DataFrame\u001b[0m\n",
       "\u001b[1m Row \u001b[0m│\u001b[1m Sernum \u001b[0m\u001b[1m tNodeID1 \u001b[0m\u001b[1m nodeZone1 \u001b[0m\u001b[1m tNodeID2 \u001b[0m\u001b[1m nodeZone2 \u001b[0m\u001b[1m reacT   \u001b[0m\u001b[1m ptMax \u001b[0m\u001b[1m lifeT\u001b[0m ⋯\n",
       "\u001b[1m     \u001b[0m│\u001b[90m Any    \u001b[0m\u001b[90m Any      \u001b[0m\u001b[90m Any       \u001b[0m\u001b[90m Any      \u001b[0m\u001b[90m Any       \u001b[0m\u001b[90m Any     \u001b[0m\u001b[90m Any   \u001b[0m\u001b[90m Any  \u001b[0m ⋯\n",
       "─────┼──────────────────────────────────────────────────────────────────────────\n",
       "   1 │ 1       1         1          2         3          0.05917  100    50    ⋯\n",
       "   2 │ 3       10        1          4         3          0.19797  100    29\n",
       "   3 │ 2       5         3          2         1          0.22304  100    57\n",
       "   4 │ 4       19        2          14        1          0.0575   100    35\n",
       "\u001b[36m                                                               4 columns omitted\u001b[0m"
      ]
     },
     "execution_count": 111,
     "metadata": {},
     "output_type": "execute_result"
    }
   ],
   "source": [
    "shared_c(1)"
   ]
  },
  {
   "cell_type": "code",
   "execution_count": 112,
   "metadata": {},
   "outputs": [
    {
     "data": {
      "text/html": [
       "<table class=\"data-frame\"><thead><tr><th></th><th>zoneNum</th><th>lNodeID</th><th>P_load1</th></tr><tr><th></th><th>Any</th><th>Any</th><th>Any</th></tr></thead><tbody><p>11 rows × 3 columns</p><tr><th>1</th><td>1</td><td>2</td><td>-21.7</td></tr><tr><th>2</th><td>1</td><td>3</td><td>-94.2</td></tr><tr><th>3</th><td>1</td><td>4</td><td>-47.8</td></tr><tr><th>4</th><td>1</td><td>5</td><td>-7.6</td></tr><tr><th>5</th><td>1</td><td>6</td><td>-11.2</td></tr><tr><th>6</th><td>1</td><td>9</td><td>-29.5</td></tr><tr><th>7</th><td>1</td><td>10</td><td>-9</td></tr><tr><th>8</th><td>1</td><td>11</td><td>-3.5</td></tr><tr><th>9</th><td>1</td><td>12</td><td>-6.1</td></tr><tr><th>10</th><td>1</td><td>13</td><td>-13.5</td></tr><tr><th>11</th><td>1</td><td>14</td><td>-14.9</td></tr></tbody></table>"
      ],
      "text/latex": [
       "\\begin{tabular}{r|ccc}\n",
       "\t& zoneNum & lNodeID & P\\_load1\\\\\n",
       "\t\\hline\n",
       "\t& Any & Any & Any\\\\\n",
       "\t\\hline\n",
       "\t1 & 1 & 2 & -21.7 \\\\\n",
       "\t2 & 1 & 3 & -94.2 \\\\\n",
       "\t3 & 1 & 4 & -47.8 \\\\\n",
       "\t4 & 1 & 5 & -7.6 \\\\\n",
       "\t5 & 1 & 6 & -11.2 \\\\\n",
       "\t6 & 1 & 9 & -29.5 \\\\\n",
       "\t7 & 1 & 10 & -9 \\\\\n",
       "\t8 & 1 & 11 & -3.5 \\\\\n",
       "\t9 & 1 & 12 & -6.1 \\\\\n",
       "\t10 & 1 & 13 & -13.5 \\\\\n",
       "\t11 & 1 & 14 & -14.9 \\\\\n",
       "\\end{tabular}\n"
      ],
      "text/plain": [
       "\u001b[1m11×3 DataFrame\u001b[0m\n",
       "\u001b[1m Row \u001b[0m│\u001b[1m zoneNum \u001b[0m\u001b[1m lNodeID \u001b[0m\u001b[1m P_load1 \u001b[0m\n",
       "\u001b[1m     \u001b[0m│\u001b[90m Any     \u001b[0m\u001b[90m Any     \u001b[0m\u001b[90m Any     \u001b[0m\n",
       "─────┼───────────────────────────\n",
       "   1 │ 1        2        -21.7\n",
       "   2 │ 1        3        -94.2\n",
       "   3 │ 1        4        -47.8\n",
       "   4 │ 1        5        -7.6\n",
       "   5 │ 1        6        -11.2\n",
       "   6 │ 1        9        -29.5\n",
       "   7 │ 1        10       -9\n",
       "   8 │ 1        11       -3.5\n",
       "   9 │ 1        12       -6.1\n",
       "  10 │ 1        13       -13.5\n",
       "  11 │ 1        14       -14.9"
      ]
     },
     "execution_count": 112,
     "metadata": {},
     "output_type": "execute_result"
    }
   ],
   "source": [
    "l(1,1)"
   ]
  },
  {
   "cell_type": "code",
   "execution_count": 113,
   "metadata": {},
   "outputs": [
    {
     "data": {
      "text/html": [
       "<table class=\"data-frame\"><thead><tr><th></th><th>zoneNum</th><th>lNodeID</th><th>P_load1</th><th>P_load2</th><th>P_load3</th><th>P_load4</th></tr><tr><th></th><th>Any</th><th>Any</th><th>Any</th><th>Any</th><th>Any</th><th>Any</th></tr></thead><tbody><p>35 rows × 6 columns</p><tr><th>1</th><td>1</td><td>2</td><td>-21.7</td><td>-10.85</td><td>-16.275</td><td>-5.425</td></tr><tr><th>2</th><td>1</td><td>3</td><td>-94.2</td><td>-47.1</td><td>-70.65</td><td>-23.55</td></tr><tr><th>3</th><td>1</td><td>4</td><td>-47.8</td><td>-23.9</td><td>-35.85</td><td>-11.95</td></tr><tr><th>4</th><td>1</td><td>5</td><td>-7.6</td><td>-3.8</td><td>-5.7</td><td>-1.9</td></tr><tr><th>5</th><td>1</td><td>6</td><td>-11.2</td><td>-5.6</td><td>-8.4</td><td>-2.8</td></tr><tr><th>6</th><td>1</td><td>9</td><td>-29.5</td><td>-14.75</td><td>-22.125</td><td>-7.375</td></tr><tr><th>7</th><td>1</td><td>10</td><td>-9</td><td>-4.5</td><td>-6.75</td><td>-2.25</td></tr><tr><th>8</th><td>1</td><td>11</td><td>-3.5</td><td>-1.75</td><td>-2.625</td><td>-0.875</td></tr><tr><th>9</th><td>1</td><td>12</td><td>-6.1</td><td>-3.05</td><td>-4.575</td><td>-1.525</td></tr><tr><th>10</th><td>1</td><td>13</td><td>-13.5</td><td>-6.75</td><td>-10.125</td><td>-3.375</td></tr><tr><th>11</th><td>1</td><td>14</td><td>-14.9</td><td>-7.45</td><td>-11.175</td><td>-3.725</td></tr><tr><th>12</th><td>2</td><td>2</td><td>-21.7</td><td>-10.85</td><td>-16.275</td><td>-5.425</td></tr><tr><th>13</th><td>2</td><td>3</td><td>-2.4</td><td>-1.2</td><td>-1.8</td><td>-0.6</td></tr><tr><th>14</th><td>2</td><td>4</td><td>-7.6</td><td>-3.8</td><td>-5.7</td><td>-1.9</td></tr><tr><th>15</th><td>2</td><td>7</td><td>-22.8</td><td>-11.4</td><td>-17.1</td><td>-5.7</td></tr><tr><th>16</th><td>2</td><td>8</td><td>-30</td><td>-15</td><td>-22.5</td><td>-7.5</td></tr><tr><th>17</th><td>2</td><td>10</td><td>-5.8</td><td>-2.9</td><td>-4.35</td><td>-1.45</td></tr><tr><th>18</th><td>2</td><td>12</td><td>-11.2</td><td>-5.6</td><td>-8.4</td><td>-2.8</td></tr><tr><th>19</th><td>2</td><td>14</td><td>-6.2</td><td>-3.1</td><td>-4.65</td><td>-1.55</td></tr><tr><th>20</th><td>2</td><td>15</td><td>-8.2</td><td>-4.1</td><td>-6.15</td><td>-2.05</td></tr><tr><th>21</th><td>2</td><td>16</td><td>-3.5</td><td>-1.75</td><td>-2.625</td><td>-0.875</td></tr><tr><th>22</th><td>2</td><td>17</td><td>-9</td><td>-4.5</td><td>-6.75</td><td>-2.25</td></tr><tr><th>23</th><td>2</td><td>18</td><td>-3.2</td><td>-1.6</td><td>-2.4</td><td>-0.8</td></tr><tr><th>24</th><td>2</td><td>19</td><td>-9.5</td><td>-4.75</td><td>-7.125</td><td>-2.375</td></tr><tr><th>25</th><td>2</td><td>20</td><td>-2.2</td><td>-1.1</td><td>-1.65</td><td>-0.55</td></tr><tr><th>26</th><td>2</td><td>21</td><td>-17.5</td><td>-8.75</td><td>-13.125</td><td>-4.375</td></tr><tr><th>27</th><td>2</td><td>23</td><td>-3.2</td><td>-1.6</td><td>-2.4</td><td>-0.8</td></tr><tr><th>28</th><td>2</td><td>24</td><td>-8.7</td><td>-4.35</td><td>-6.525</td><td>-2.175</td></tr><tr><th>29</th><td>2</td><td>26</td><td>-3.5</td><td>-1.75</td><td>-2.625</td><td>-0.875</td></tr><tr><th>30</th><td>2</td><td>29</td><td>-2.4</td><td>-1.2</td><td>-1.8</td><td>-0.6</td></tr><tr><th>&vellip;</th><td>&vellip;</td><td>&vellip;</td><td>&vellip;</td><td>&vellip;</td><td>&vellip;</td><td>&vellip;</td></tr></tbody></table>"
      ],
      "text/latex": [
       "\\begin{tabular}{r|cccccc}\n",
       "\t& zoneNum & lNodeID & P\\_load1 & P\\_load2 & P\\_load3 & P\\_load4\\\\\n",
       "\t\\hline\n",
       "\t& Any & Any & Any & Any & Any & Any\\\\\n",
       "\t\\hline\n",
       "\t1 & 1 & 2 & -21.7 & -10.85 & -16.275 & -5.425 \\\\\n",
       "\t2 & 1 & 3 & -94.2 & -47.1 & -70.65 & -23.55 \\\\\n",
       "\t3 & 1 & 4 & -47.8 & -23.9 & -35.85 & -11.95 \\\\\n",
       "\t4 & 1 & 5 & -7.6 & -3.8 & -5.7 & -1.9 \\\\\n",
       "\t5 & 1 & 6 & -11.2 & -5.6 & -8.4 & -2.8 \\\\\n",
       "\t6 & 1 & 9 & -29.5 & -14.75 & -22.125 & -7.375 \\\\\n",
       "\t7 & 1 & 10 & -9 & -4.5 & -6.75 & -2.25 \\\\\n",
       "\t8 & 1 & 11 & -3.5 & -1.75 & -2.625 & -0.875 \\\\\n",
       "\t9 & 1 & 12 & -6.1 & -3.05 & -4.575 & -1.525 \\\\\n",
       "\t10 & 1 & 13 & -13.5 & -6.75 & -10.125 & -3.375 \\\\\n",
       "\t11 & 1 & 14 & -14.9 & -7.45 & -11.175 & -3.725 \\\\\n",
       "\t12 & 2 & 2 & -21.7 & -10.85 & -16.275 & -5.425 \\\\\n",
       "\t13 & 2 & 3 & -2.4 & -1.2 & -1.8 & -0.6 \\\\\n",
       "\t14 & 2 & 4 & -7.6 & -3.8 & -5.7 & -1.9 \\\\\n",
       "\t15 & 2 & 7 & -22.8 & -11.4 & -17.1 & -5.7 \\\\\n",
       "\t16 & 2 & 8 & -30 & -15 & -22.5 & -7.5 \\\\\n",
       "\t17 & 2 & 10 & -5.8 & -2.9 & -4.35 & -1.45 \\\\\n",
       "\t18 & 2 & 12 & -11.2 & -5.6 & -8.4 & -2.8 \\\\\n",
       "\t19 & 2 & 14 & -6.2 & -3.1 & -4.65 & -1.55 \\\\\n",
       "\t20 & 2 & 15 & -8.2 & -4.1 & -6.15 & -2.05 \\\\\n",
       "\t21 & 2 & 16 & -3.5 & -1.75 & -2.625 & -0.875 \\\\\n",
       "\t22 & 2 & 17 & -9 & -4.5 & -6.75 & -2.25 \\\\\n",
       "\t23 & 2 & 18 & -3.2 & -1.6 & -2.4 & -0.8 \\\\\n",
       "\t24 & 2 & 19 & -9.5 & -4.75 & -7.125 & -2.375 \\\\\n",
       "\t25 & 2 & 20 & -2.2 & -1.1 & -1.65 & -0.55 \\\\\n",
       "\t26 & 2 & 21 & -17.5 & -8.75 & -13.125 & -4.375 \\\\\n",
       "\t27 & 2 & 23 & -3.2 & -1.6 & -2.4 & -0.8 \\\\\n",
       "\t28 & 2 & 24 & -8.7 & -4.35 & -6.525 & -2.175 \\\\\n",
       "\t29 & 2 & 26 & -3.5 & -1.75 & -2.625 & -0.875 \\\\\n",
       "\t30 & 2 & 29 & -2.4 & -1.2 & -1.8 & -0.6 \\\\\n",
       "\t$\\dots$ & $\\dots$ & $\\dots$ & $\\dots$ & $\\dots$ & $\\dots$ & $\\dots$ \\\\\n",
       "\\end{tabular}\n"
      ],
      "text/plain": [
       "\u001b[1m35×6 DataFrame\u001b[0m\n",
       "\u001b[1m Row \u001b[0m│\u001b[1m zoneNum \u001b[0m\u001b[1m lNodeID \u001b[0m\u001b[1m P_load1 \u001b[0m\u001b[1m P_load2 \u001b[0m\u001b[1m P_load3 \u001b[0m\u001b[1m P_load4 \u001b[0m\n",
       "\u001b[1m     \u001b[0m│\u001b[90m Any     \u001b[0m\u001b[90m Any     \u001b[0m\u001b[90m Any     \u001b[0m\u001b[90m Any     \u001b[0m\u001b[90m Any     \u001b[0m\u001b[90m Any     \u001b[0m\n",
       "─────┼──────────────────────────────────────────────────────\n",
       "   1 │ 1        2        -21.7    -10.85   -16.275  -5.425\n",
       "   2 │ 1        3        -94.2    -47.1    -70.65   -23.55\n",
       "   3 │ 1        4        -47.8    -23.9    -35.85   -11.95\n",
       "   4 │ 1        5        -7.6     -3.8     -5.7     -1.9\n",
       "   5 │ 1        6        -11.2    -5.6     -8.4     -2.8\n",
       "   6 │ 1        9        -29.5    -14.75   -22.125  -7.375\n",
       "   7 │ 1        10       -9       -4.5     -6.75    -2.25\n",
       "   8 │ 1        11       -3.5     -1.75    -2.625   -0.875\n",
       "   9 │ 1        12       -6.1     -3.05    -4.575   -1.525\n",
       "  10 │ 1        13       -13.5    -6.75    -10.125  -3.375\n",
       "  11 │ 1        14       -14.9    -7.45    -11.175  -3.725\n",
       "  ⋮  │    ⋮        ⋮        ⋮        ⋮        ⋮        ⋮\n",
       "  26 │ 2        21       -17.5    -8.75    -13.125  -4.375\n",
       "  27 │ 2        23       -3.2     -1.6     -2.4     -0.8\n",
       "  28 │ 2        24       -8.7     -4.35    -6.525   -2.175\n",
       "  29 │ 2        26       -3.5     -1.75    -2.625   -0.875\n",
       "  30 │ 2        29       -2.4     -1.2     -1.8     -0.6\n",
       "  31 │ 2        30       -10.6    -5.3     -7.95    -2.65\n",
       "  32 │ 3        2        -20      -10      -15      -5\n",
       "  33 │ 3        3        -45      -22.5    -33.75   -11.25\n",
       "  34 │ 3        4        -40      -20      -30      -10\n",
       "  35 │ 3        5        -60      -30      -45      -15\n",
       "\u001b[36m                                             14 rows omitted\u001b[0m"
      ]
     },
     "execution_count": 113,
     "metadata": {},
     "output_type": "execute_result"
    }
   ],
   "source": [
    "load"
   ]
  },
  {
   "cell_type": "code",
   "execution_count": 114,
   "metadata": {},
   "outputs": [
    {
     "data": {
      "text/plain": [
       "11-element Array{Any,1}:\n",
       "  2\n",
       "  3\n",
       "  4\n",
       "  5\n",
       "  6\n",
       "  9\n",
       " 10\n",
       " 11\n",
       " 12\n",
       " 13\n",
       " 14"
      ]
     },
     "execution_count": 114,
     "metadata": {},
     "output_type": "execute_result"
    }
   ],
   "source": [
    "l(1,2).lNodeID"
   ]
  },
  {
   "cell_type": "markdown",
   "metadata": {},
   "source": [
    "The folowing section shows the optimization problem that needs to be run by each transmission planner (TP). \n",
    "The optimization problem is written as a function of (i = the zone number, N = the number of nodes within zone i, flag = (if flag = 1, then we have binary decision variables, otherwise we have a relaxed problem), and cand_pi = the penalty vector associated with the candidate shared lines binary variables"
   ]
  },
  {
   "cell_type": "code",
   "execution_count": 115,
   "metadata": {},
   "outputs": [
    {
     "data": {
      "text/plain": [
       "milp_hor_dist (generic function with 1 method)"
      ]
     },
     "execution_count": 115,
     "metadata": {},
     "output_type": "execute_result"
    }
   ],
   "source": [
    "function milp_hor_dist(i, N, S, flag, cand_pi, cand_mu, ex_mu)\n",
    "    \n",
    "    #Defining the model:\n",
    "    \n",
    "    Mod1 = Model(GLPK.Optimizer)\n",
    "    \n",
    "    #Defining variables\n",
    "    \n",
    "    @variable(Mod1,0 <= gen_var[1:N,1:S]) # generation at each node\n",
    "    @variable(Mod1,0 <= shared_line_decision_var[1:nrow(shared_cand)] <= 1) #Decision variables for shared candidate lines\n",
    "    @variable(Mod1,0 <= int_line_decision_var[1:nrow(int_c(i))] <= 1) #Decision variables for internal candidate lines\n",
    "    @variable(Mod1,shared_cand_flow[1:nrow(shared_cand), 1:S])  #Power flowing into shared candidate lines \n",
    "    @variable(Mod1,int_cand_flow[1:nrow(int_c(i)), 1:S]) #Power flowing into internal candidate lines \n",
    "    @variable(Mod1, 0 <= node_voltage_phase_angle[z_index=1:nrow(zone_summary),n_index=1:zone_summary.Nodes_Total[z_index], 1:nrow(scen_prob)]<= 2*pi)\n",
    "    @variable(Mod1,shared_ex_flow[1:nrow(shared_ex),1:S])  #Power flowing on shared existing shared lines\n",
    "    @variable(Mod1,int_ex_flow[1:nrow(int_e(i)),1:S])  #Power flowing on internal existing lines\n",
    "    \n",
    "    \n",
    "    #Defining the objective function\n",
    "    @expression(Mod1, total_cost ,sum(scen_weight(s)[1].* (sum((gen_var[n,s] .* sum((g(i).gNodeID .== n) .* MC(i))) for n in 1:N)) for s in 1:S) \n",
    "        .+ sum(sum(shared_cand_flow[c,s] .* cand_mu[c,s] for s in 1:S).+ cand_pi[c] .* shared_line_decision_var[c] .+\n",
    "                    shared_line_decision_var[c] .* shared_cand.costPerCap[c] .* shared_cand.interestRate[c] \n",
    "                .*((1 + shared_cand.interestRate[c]) .^ shared_cand.lifeTime[c]) ./ \n",
    "            (((1 + shared_cand.interestRate[c]) .^ shared_cand.lifeTime[c])-1) for c in 1:nrow(shared_cand))\n",
    "        .+ sum(int_line_decision_var[c] .* int_c(i).costPerCap[c] .* int_c(i).interestRate[c] \n",
    "                .*((1 + int_c(i).interestRate[c]) .^ int_c(i).lifeTime[c]) ./ \n",
    "                    (((1 + int_c(i).interestRate[c]) .^ int_c(i).lifeTime[c])-1) for c in 1:nrow(int_c(i)))\n",
    "        .+ sum(sum(shared_ex_flow[h,s] .* ex_mu[h,s] for h in 1:nrow(shared_ex)) for s in 1:S))\n",
    "    \n",
    "    for s in 1:S\n",
    "        for n in 1:N\n",
    "            # Power balance constraint for each node\n",
    "            @constraint(Mod1, sum((g(i).gNodeID .== n) .* gen_var[n,s]) .+ sum(l(i,s)[:,3].* (l(i,s).lNodeID .== n))./100 .==\n",
    "                sum((shared_cand.tNodeID1 .== n) .*bin_c(i) .* shared_cand_flow[:,s]) .- sum((shared_cand.tNodeID2 .== n) .* bin_c(i) .* shared_cand_flow[:,s]) .+\n",
    "                sum((shared_ex.tNodeID1 .== n) .* bin_e(i) .* shared_ex_flow[:,s]) .- sum((shared_ex.tNodeID2 .== n) .* bin_e(i) .* shared_ex_flow[:,s]) .+\n",
    "                sum((int_c(i).tNodeID1 .== n) .* int_cand_flow[:,s]) .- sum((int_c(i).tNodeID2 .== n) .* int_cand_flow[:,s]) .+\n",
    "                sum((int_e(i).tNodeID1 .== n) .* int_ex_flow[:,s]) .- sum((int_e(i).tNodeID2 .== n) .* int_ex_flow[:,s]))\n",
    "\n",
    "        \n",
    "            #Lower limit for generation of each node\n",
    "            @constraint(Mod1, sum(g(i).gNodeID .== n) .* gen_var[n,s] .<= sum((g(i).gNodeID .== n) .* g(i).PgMax)./100)\n",
    "            #Upper limit for generation of each node\n",
    "            @constraint(Mod1, sum((g(i).gNodeID .== n) .* g(i).PgMin)./100 .<= sum(g(i).gNodeID .== n) .* gen_var[n,s])\n",
    "        end\n",
    "    end\n",
    "    \n",
    "    M=100 #Big number\n",
    "    \n",
    "    #Constraints elated to the candidate shared lines:\n",
    "    for c in 1:nrow(shared_cand) \n",
    "        if flag==1 \n",
    "            #If flag = 1, our decision variables for constructing candidate shared lines would be binary\n",
    "            @constraint(Mod1, shared_line_decision_var[c] in MOI.Integer())\n",
    "        end\n",
    "        for s in 1:S\n",
    "            #Associating the power flowing within the line with the phase angles of nodes:\n",
    "            @constraint(Mod1,-M .* (1 .- shared_line_decision_var[c]) .<= shared_cand_flow[c,s] .- ((1 ./ shared_cand.reacT[c]) .* (node_voltage_phase_angle[shared_cand.nodeZone1[c],shared_cand.tNodeID1[c],s] .- node_voltage_phase_angle[shared_cand.nodeZone2[c],shared_cand.tNodeID2[c],s])))\n",
    "        \n",
    "            @constraint(Mod1, shared_cand_flow[c,s] .- ((1 ./ shared_cand.reacT[c]) .* (node_voltage_phase_angle[shared_cand.nodeZone1[c],shared_cand.tNodeID1[c],s] .- node_voltage_phase_angle[shared_cand.nodeZone2[c],shared_cand.tNodeID2[c],s])) .<= M .* (1 .- shared_line_decision_var[c]))\n",
    "            #limiting the upper bound of power flow flowing within candidate shared lines\n",
    "            @constraint(Mod1, shared_cand_flow[c,s] .<= shared_line_decision_var[c] .* shared_cand.ptMax[c]./100)\n",
    "            #Limiting the lower bound of power flowing within the candidate shared lines\n",
    "            @constraint(Mod1, -(shared_cand.ptMax[c]./100) .* shared_line_decision_var[c] .<= shared_cand_flow[c,s])\n",
    "        end\n",
    "    end\n",
    "    \n",
    "    #The same constraints related to the candidate internal lines:\n",
    "    for c in 1:nrow(int_c(i))\n",
    "        if flag==1\n",
    "            @constraint(Mod1, int_line_decision_var[c] in MOI.Integer())\n",
    "        end\n",
    "        for s in 1:S\n",
    "            @constraint(Mod1,-M .* (1 .- int_line_decision_var[c]) .<= int_cand_flow[c,s] .- ((1 ./ int_c(i).reacT[c]) .* (node_voltage_phase_angle[int_c(i).zoneNum[c],int_c(i).tNodeID1[c],s] .- node_voltage_phase_angle[int_c(i).zoneNum[c],int_c(i).tNodeID2[c],s])))\n",
    "            @constraint(Mod1, int_cand_flow[c,s] .- ((1 ./ int_c(i).reacT[c]) .* (node_voltage_phase_angle[int_c(i).zoneNum[c],int_c(i).tNodeID1[c],s] .- node_voltage_phase_angle[int_c(i).zoneNum[c],int_c(i).tNodeID2[c],s])) .<= M .* (1 .- int_line_decision_var[c]))\n",
    "            @constraint(Mod1, int_cand_flow[c,s] .<= int_line_decision_var[c] .* int_c(i).ptMax[c]./100)\n",
    "            @constraint(Mod1, -(int_c(i).ptMax[c]./100) .*int_line_decision_var[c] .<= int_cand_flow[c,s])\n",
    "        end\n",
    "    end\n",
    "    \n",
    "    #The same constraints related to the shared existing lines:\n",
    "    for h in 1:nrow(shared_ex)\n",
    "        for s in 1:S\n",
    "            @constraint(Mod1, shared_ex_flow[h,s] .== (1 ./ shared_ex.reacT[h]) .* (node_voltage_phase_angle[shared_ex.nodeZone1[h],shared_ex.tNodeID1[h],s] .- node_voltage_phase_angle[shared_ex.nodeZone2[h],shared_ex.tNodeID2[h],s]))\n",
    "            @constraint(Mod1, shared_ex_flow[h,s] .<= shared_ex. ptMax[h]./100)\n",
    "            @constraint(Mod1, -(shared_ex.ptMax[h]./100) .<= shared_ex_flow[h,s])\n",
    "        end\n",
    "    end\n",
    "    #The same constraints related to the internal existing lines:\n",
    "    \n",
    "    for h in 1:nrow(int_e(i))\n",
    "        for s in 1:S\n",
    "            @constraint(Mod1, int_ex_flow[h,s] .== (1 ./ int_e(i).reacT[h]) .* (node_voltage_phase_angle[int_e(i).zoneNum[h],int_e(i).tNodeID1[h],s] .- node_voltage_phase_angle[int_e(i).zoneNum[h],int_e(i).tNodeID2[h],s]))\n",
    "            @constraint(Mod1, int_ex_flow[h,s] .<= int_e(i).ptMax[h]./100)\n",
    "            @constraint(Mod1, -(int_e(i).ptMax[h]./100) .<= int_ex_flow[h,s])\n",
    "        end\n",
    "    end\n",
    "    \n",
    "    #The model objective is to minimize the total cost:\n",
    "    \n",
    "    @objective(Mod1, Min, total_cost)\n",
    "    optimize!(Mod1)\n",
    "    if termination_status(Mod1) == MOI.OPTIMAL #If the solution is optimal then it returns the variables\n",
    "    \n",
    "        shared_line_decision = value.(shared_line_decision_var)\n",
    "        shared_cand_power = value.(shared_cand_flow)\n",
    "        shared_ex_power = value.(shared_ex_flow)\n",
    "        gen_power = value.(gen_var)\n",
    "        int_line_decision = value.(int_line_decision_var)\n",
    "        int_cand_power = value.(int_cand_flow)\n",
    "        node_voltage_phase_angles = value.(node_voltage_phase_angle)\n",
    "        obj_value = objective_value(Mod1)\n",
    "        [obj_value, shared_line_decision, shared_cand_power,shared_ex_power,gen_power, int_line_decision, int_cand_power,node_voltage_phase_angles]\n",
    "\n",
    "    end\n",
    "end"
   ]
  },
  {
   "cell_type": "markdown",
   "metadata": {},
   "source": [
    "The above problem indicates the dual problem that should be solved by each TP. "
   ]
  },
  {
   "cell_type": "markdown",
   "metadata": {},
   "source": [
    "The second optimization problem should be solved by the marketoverseer or the transmission planner coordinator (TPC). The problem defines as a function of (fleg = 1 if we want to get binary decision variables for line construction, cand_zeta = the penalty vector associated with the candidate shared lines'phase angles, ex_zeta  = the penalty vector associated with the existing shared lines'phase angles, cand_pi = the penalty vector associated with the candidate shared lines binary variables  "
   ]
  },
  {
   "cell_type": "code",
   "execution_count": 116,
   "metadata": {},
   "outputs": [
    {
     "data": {
      "text/plain": [
       "market_overseer (generic function with 1 method)"
      ]
     },
     "execution_count": 116,
     "metadata": {},
     "output_type": "execute_result"
    }
   ],
   "source": [
    "function market_overseer(flag, cand_pi, cand_mu, ex_mu)\n",
    "    \n",
    "    #Model\n",
    "    Mod2 = Model(GLPK.Optimizer)\n",
    "    \n",
    "    #Variables for shared candidate lines\n",
    "    \n",
    "    @variable(Mod2,0 <= shared_line_decision_var[1:nrow(shared_cand)] <= 1) #Decision variables\n",
    "    @variable(Mod2,shared_cand_flow[1:nrow(shared_cand), 1:S]) #Flow within shared candidate lines\n",
    "    @variable(Mod2, 0 <= node_voltage_phase_angle[z_index=1:nrow(zone_summary),n_index=1:zone_summary.Nodes_Total[z_index], 1:nrow(scen_prob)]<= 2*pi)\n",
    "    #Variables for existing lines\n",
    "    @variable(Mod2,shared_ex_flow[1:nrow(shared_ex), 1:S]) #Flow within shared existing lines\n",
    "    \n",
    "    #Objective function\n",
    "    @expression(Mod2, mo_obj, sum((sum(shared_cand_flow[c,s] .* cand_mu[c,s] .+ cand_pi[c] .* shared_line_decision_var[c] for c in 1:nrow(shared_cand))\n",
    "        .+ sum(shared_ex_flow[h,s] .* ex_mu[h,s] for h in 1:nrow(shared_ex))) for s in 1:S))\n",
    "    \n",
    "    M=100\n",
    "    \n",
    "    #Constraints related to the shared candidate lines:\n",
    "    for c in 1:nrow(shared_cand)\n",
    "        if flag==1\n",
    "            @constraint(Mod2, shared_line_decision_var[c] in MOI.Integer())\n",
    "        end\n",
    "        for s in 1:S\n",
    "        \n",
    "            # Constraints that associate power flow with the phase angles of the nodes\n",
    "            @constraint(Mod2,-M .* (1 .- shared_line_decision_var[c]) .<= shared_cand_flow[c,s] .- ((1 ./ shared_cand.reacT[c]) .* (node_voltage_phase_angle[shared_cand.nodeZone1[c],shared_cand.tNodeID1[c],s] .- node_voltage_phase_angle[shared_cand.nodeZone2[c],shared_cand.tNodeID2[c],s])))\n",
    "            @constraint(Mod2, shared_cand_flow[c,s] .- ((1 ./ shared_cand.reacT[c]) .* (node_voltage_phase_angle[shared_cand.nodeZone1[c],shared_cand.tNodeID1[c],s] .- node_voltage_phase_angle[shared_cand.nodeZone2[c],shared_cand.tNodeID2[c],s])) .<= M .* (1 .- shared_line_decision_var[c]))\n",
    "            #@constraint(Mod2, shared_cand_flow[c,s] .<=   shared_cand.ptMax[c])\n",
    "            #Limiting the lower bound of power flowing within the candidate shared lines\n",
    "            #@constraint(Mod2, -shared_cand.ptMax[c]  .<= shared_cand_flow[c,s])\n",
    "        end\n",
    "    \n",
    "    end \n",
    "    #The same constraints related to the shared candidate lines:\n",
    "    for h in 1:nrow(shared_ex)\n",
    "        for s in 1:S\n",
    "            @constraint(Mod2, shared_ex_flow[h,s] .== (1 ./ shared_ex.reacT[h]) .* (node_voltage_phase_angle[shared_ex.nodeZone1[h],shared_ex.tNodeID1[h],s] .- node_voltage_phase_angle[shared_ex.nodeZone2[h],shared_ex.tNodeID2[h],s]))\n",
    "            #@constraint(Mod2, shared_ex_flow[h,s] .<= shared_ex.ptMax[h])\n",
    "            #@constraint(Mod2, -shared_ex.ptMax[h] .<= shared_ex_flow[h,s])\n",
    "        end\n",
    "    end\n",
    "    \n",
    "    @objective(Mod2, Max, mo_obj)\n",
    "    optimize!(Mod2)\n",
    "    \n",
    "    if termination_status(Mod2) == MOI.OPTIMAL\n",
    "    \n",
    "        shared_line_decision = value.(shared_line_decision_var)\n",
    "        shared_cand_power = value.(shared_cand_flow)\n",
    "        shared_ex_power = value.(shared_ex_flow)\n",
    "        node_voltage_phase_angles = value.(node_voltage_phase_angle)\n",
    "        obj_value = objective_value(Mod2)\n",
    "\n",
    "        [obj_value, shared_line_decision, shared_cand_power,shared_ex_power,node_voltage_phase_angles]\n",
    "    end\n",
    "end\n",
    "    \n",
    "    "
   ]
  },
  {
   "cell_type": "markdown",
   "metadata": {},
   "source": [
    "In the following section, we define the initial values for penalty parameters"
   ]
  },
  {
   "cell_type": "code",
   "execution_count": 117,
   "metadata": {},
   "outputs": [
    {
     "data": {
      "text/plain": [
       "30000×8×4 Array{Float64,3}:\n",
       "[:, :, 1] =\n",
       " 0.0  0.0  0.0  0.0  0.0  0.0  0.0  0.0\n",
       " 0.0  0.0  0.0  0.0  0.0  0.0  0.0  0.0\n",
       " 0.0  0.0  0.0  0.0  0.0  0.0  0.0  0.0\n",
       " 0.0  0.0  0.0  0.0  0.0  0.0  0.0  0.0\n",
       " 0.0  0.0  0.0  0.0  0.0  0.0  0.0  0.0\n",
       " 0.0  0.0  0.0  0.0  0.0  0.0  0.0  0.0\n",
       " 0.0  0.0  0.0  0.0  0.0  0.0  0.0  0.0\n",
       " 0.0  0.0  0.0  0.0  0.0  0.0  0.0  0.0\n",
       " 0.0  0.0  0.0  0.0  0.0  0.0  0.0  0.0\n",
       " 0.0  0.0  0.0  0.0  0.0  0.0  0.0  0.0\n",
       " 0.0  0.0  0.0  0.0  0.0  0.0  0.0  0.0\n",
       " 0.0  0.0  0.0  0.0  0.0  0.0  0.0  0.0\n",
       " 0.0  0.0  0.0  0.0  0.0  0.0  0.0  0.0\n",
       " ⋮                        ⋮         \n",
       " 0.0  0.0  0.0  0.0  0.0  0.0  0.0  0.0\n",
       " 0.0  0.0  0.0  0.0  0.0  0.0  0.0  0.0\n",
       " 0.0  0.0  0.0  0.0  0.0  0.0  0.0  0.0\n",
       " 0.0  0.0  0.0  0.0  0.0  0.0  0.0  0.0\n",
       " 0.0  0.0  0.0  0.0  0.0  0.0  0.0  0.0\n",
       " 0.0  0.0  0.0  0.0  0.0  0.0  0.0  0.0\n",
       " 0.0  0.0  0.0  0.0  0.0  0.0  0.0  0.0\n",
       " 0.0  0.0  0.0  0.0  0.0  0.0  0.0  0.0\n",
       " 0.0  0.0  0.0  0.0  0.0  0.0  0.0  0.0\n",
       " 0.0  0.0  0.0  0.0  0.0  0.0  0.0  0.0\n",
       " 0.0  0.0  0.0  0.0  0.0  0.0  0.0  0.0\n",
       " 0.0  0.0  0.0  0.0  0.0  0.0  0.0  0.0\n",
       "\n",
       "[:, :, 2] =\n",
       " 0.0  0.0  0.0  0.0  0.0  0.0  0.0  0.0\n",
       " 0.0  0.0  0.0  0.0  0.0  0.0  0.0  0.0\n",
       " 0.0  0.0  0.0  0.0  0.0  0.0  0.0  0.0\n",
       " 0.0  0.0  0.0  0.0  0.0  0.0  0.0  0.0\n",
       " 0.0  0.0  0.0  0.0  0.0  0.0  0.0  0.0\n",
       " 0.0  0.0  0.0  0.0  0.0  0.0  0.0  0.0\n",
       " 0.0  0.0  0.0  0.0  0.0  0.0  0.0  0.0\n",
       " 0.0  0.0  0.0  0.0  0.0  0.0  0.0  0.0\n",
       " 0.0  0.0  0.0  0.0  0.0  0.0  0.0  0.0\n",
       " 0.0  0.0  0.0  0.0  0.0  0.0  0.0  0.0\n",
       " 0.0  0.0  0.0  0.0  0.0  0.0  0.0  0.0\n",
       " 0.0  0.0  0.0  0.0  0.0  0.0  0.0  0.0\n",
       " 0.0  0.0  0.0  0.0  0.0  0.0  0.0  0.0\n",
       " ⋮                        ⋮         \n",
       " 0.0  0.0  0.0  0.0  0.0  0.0  0.0  0.0\n",
       " 0.0  0.0  0.0  0.0  0.0  0.0  0.0  0.0\n",
       " 0.0  0.0  0.0  0.0  0.0  0.0  0.0  0.0\n",
       " 0.0  0.0  0.0  0.0  0.0  0.0  0.0  0.0\n",
       " 0.0  0.0  0.0  0.0  0.0  0.0  0.0  0.0\n",
       " 0.0  0.0  0.0  0.0  0.0  0.0  0.0  0.0\n",
       " 0.0  0.0  0.0  0.0  0.0  0.0  0.0  0.0\n",
       " 0.0  0.0  0.0  0.0  0.0  0.0  0.0  0.0\n",
       " 0.0  0.0  0.0  0.0  0.0  0.0  0.0  0.0\n",
       " 0.0  0.0  0.0  0.0  0.0  0.0  0.0  0.0\n",
       " 0.0  0.0  0.0  0.0  0.0  0.0  0.0  0.0\n",
       " 0.0  0.0  0.0  0.0  0.0  0.0  0.0  0.0\n",
       "\n",
       "[:, :, 3] =\n",
       " 0.0  0.0  0.0  0.0  0.0  0.0  0.0  0.0\n",
       " 0.0  0.0  0.0  0.0  0.0  0.0  0.0  0.0\n",
       " 0.0  0.0  0.0  0.0  0.0  0.0  0.0  0.0\n",
       " 0.0  0.0  0.0  0.0  0.0  0.0  0.0  0.0\n",
       " 0.0  0.0  0.0  0.0  0.0  0.0  0.0  0.0\n",
       " 0.0  0.0  0.0  0.0  0.0  0.0  0.0  0.0\n",
       " 0.0  0.0  0.0  0.0  0.0  0.0  0.0  0.0\n",
       " 0.0  0.0  0.0  0.0  0.0  0.0  0.0  0.0\n",
       " 0.0  0.0  0.0  0.0  0.0  0.0  0.0  0.0\n",
       " 0.0  0.0  0.0  0.0  0.0  0.0  0.0  0.0\n",
       " 0.0  0.0  0.0  0.0  0.0  0.0  0.0  0.0\n",
       " 0.0  0.0  0.0  0.0  0.0  0.0  0.0  0.0\n",
       " 0.0  0.0  0.0  0.0  0.0  0.0  0.0  0.0\n",
       " ⋮                        ⋮         \n",
       " 0.0  0.0  0.0  0.0  0.0  0.0  0.0  0.0\n",
       " 0.0  0.0  0.0  0.0  0.0  0.0  0.0  0.0\n",
       " 0.0  0.0  0.0  0.0  0.0  0.0  0.0  0.0\n",
       " 0.0  0.0  0.0  0.0  0.0  0.0  0.0  0.0\n",
       " 0.0  0.0  0.0  0.0  0.0  0.0  0.0  0.0\n",
       " 0.0  0.0  0.0  0.0  0.0  0.0  0.0  0.0\n",
       " 0.0  0.0  0.0  0.0  0.0  0.0  0.0  0.0\n",
       " 0.0  0.0  0.0  0.0  0.0  0.0  0.0  0.0\n",
       " 0.0  0.0  0.0  0.0  0.0  0.0  0.0  0.0\n",
       " 0.0  0.0  0.0  0.0  0.0  0.0  0.0  0.0\n",
       " 0.0  0.0  0.0  0.0  0.0  0.0  0.0  0.0\n",
       " 0.0  0.0  0.0  0.0  0.0  0.0  0.0  0.0\n",
       "\n",
       "[:, :, 4] =\n",
       " 0.0  0.0  0.0  0.0  0.0  0.0  0.0  0.0\n",
       " 0.0  0.0  0.0  0.0  0.0  0.0  0.0  0.0\n",
       " 0.0  0.0  0.0  0.0  0.0  0.0  0.0  0.0\n",
       " 0.0  0.0  0.0  0.0  0.0  0.0  0.0  0.0\n",
       " 0.0  0.0  0.0  0.0  0.0  0.0  0.0  0.0\n",
       " 0.0  0.0  0.0  0.0  0.0  0.0  0.0  0.0\n",
       " 0.0  0.0  0.0  0.0  0.0  0.0  0.0  0.0\n",
       " 0.0  0.0  0.0  0.0  0.0  0.0  0.0  0.0\n",
       " 0.0  0.0  0.0  0.0  0.0  0.0  0.0  0.0\n",
       " 0.0  0.0  0.0  0.0  0.0  0.0  0.0  0.0\n",
       " 0.0  0.0  0.0  0.0  0.0  0.0  0.0  0.0\n",
       " 0.0  0.0  0.0  0.0  0.0  0.0  0.0  0.0\n",
       " 0.0  0.0  0.0  0.0  0.0  0.0  0.0  0.0\n",
       " ⋮                        ⋮         \n",
       " 0.0  0.0  0.0  0.0  0.0  0.0  0.0  0.0\n",
       " 0.0  0.0  0.0  0.0  0.0  0.0  0.0  0.0\n",
       " 0.0  0.0  0.0  0.0  0.0  0.0  0.0  0.0\n",
       " 0.0  0.0  0.0  0.0  0.0  0.0  0.0  0.0\n",
       " 0.0  0.0  0.0  0.0  0.0  0.0  0.0  0.0\n",
       " 0.0  0.0  0.0  0.0  0.0  0.0  0.0  0.0\n",
       " 0.0  0.0  0.0  0.0  0.0  0.0  0.0  0.0\n",
       " 0.0  0.0  0.0  0.0  0.0  0.0  0.0  0.0\n",
       " 0.0  0.0  0.0  0.0  0.0  0.0  0.0  0.0\n",
       " 0.0  0.0  0.0  0.0  0.0  0.0  0.0  0.0\n",
       " 0.0  0.0  0.0  0.0  0.0  0.0  0.0  0.0\n",
       " 0.0  0.0  0.0  0.0  0.0  0.0  0.0  0.0"
      ]
     },
     "execution_count": 117,
     "metadata": {},
     "output_type": "execute_result"
    }
   ],
   "source": [
    "cand_pi_1= zeros(30000,nrow(shared_cand))\n",
    "\n",
    "\n",
    "cand_pi_2 = zeros(30000,nrow(shared_cand))\n",
    "\n",
    "\n",
    "cand_pi_3 = zeros(30000,nrow(shared_cand))\n",
    "\n",
    "\n",
    "cand_pi_mo = zeros(30000,nrow(shared_cand))\n",
    "\n",
    "cand_mu_1= zeros(30000,nrow(shared_cand),S)\n",
    "\n",
    "\n",
    "cand_mu_2 = zeros(30000,nrow(shared_cand),S)\n",
    "\n",
    "\n",
    "cand_mu_3 = zeros(30000,nrow(shared_cand),S)\n",
    "\n",
    "\n",
    "cand_mu_mo = zeros(30000,nrow(shared_cand),S)\n",
    "\n",
    "ex_mu_1= zeros(30000,nrow(shared_ex),S)\n",
    "\n",
    "\n",
    "ex_mu_2 = zeros(30000,nrow(shared_ex),S)\n",
    "\n",
    "\n",
    "ex_mu_3 = zeros(30000,nrow(shared_ex),S)\n",
    "\n",
    "\n",
    "ex_mu_mo = zeros(30000,nrow(shared_ex),S)\n"
   ]
  },
  {
   "cell_type": "code",
   "execution_count": 118,
   "metadata": {},
   "outputs": [
    {
     "data": {
      "text/plain": [
       "8×4 Array{Float64,2}:\n",
       " 0.0  0.0  0.0  0.0\n",
       " 0.0  0.0  0.0  0.0\n",
       " 0.0  0.0  0.0  0.0\n",
       " 0.0  0.0  0.0  0.0\n",
       " 0.0  0.0  0.0  0.0\n",
       " 0.0  0.0  0.0  0.0\n",
       " 0.0  0.0  0.0  0.0\n",
       " 0.0  0.0  0.0  0.0"
      ]
     },
     "execution_count": 118,
     "metadata": {},
     "output_type": "execute_result"
    }
   ],
   "source": [
    "#Some initial values\n",
    "f=1.1 \n",
    "u=100.01\n",
    "u_new = 100.01 \n",
    "low=0.001 \n",
    "low_new=0.001\n",
    "s=0.1 \n",
    "\n",
    "r1_bin=0.001 * ones(nrow(shared_cand)) #Initial value of zone 1 shared candidate lines decisions\n",
    "r1= 0.001 * ones(nrow(shared_cand),S) #Initial value of zone 1 shared candidate lines flow\n",
    "r2_bin= 0.001 * ones(nrow(shared_cand)) #Initial value of zone 2 shared candidate lines decisions\n",
    "r2=0.001 * ones(nrow(shared_cand),S) #Initial value of zone 2 shared candidate lines flow\n",
    "r3_bin=0.001 * ones(nrow(shared_cand)) #Initial value of zone 3 shared candidate lines decisions\n",
    "r3=0.001 * ones(nrow(shared_cand),S) #Initial value of zone 3 shared candidate lines flow\n",
    "r_mo_bin=0.001 * ones(nrow(shared_cand)) #Initial value of MO's shared candidate lines decisions\n",
    "r_mo=0.001 * ones(nrow(shared_cand),S) #Initial value of MO's shared candidate lines flow\n",
    "r_e_1 = 0.001 * ones(zone_summary.Nodes_Total[1],S,2)\n",
    "r_e_2 = 0.001 * ones(zone_summary.Nodes_Total[2],S,2)\n",
    "r_e_3 = 0.001 * ones(zone_summary.Nodes_Total[3],S,2)\n",
    "int_line_1 = zeros(nrow(int_c(1)))\n",
    "int_line_2 = zeros(nrow(int_c(2)))\n",
    "int_line_3 = zeros(nrow(int_c(3)))\n",
    "\n",
    "int_line_1_flow = zeros(nrow(int_c(1)),S)\n",
    "int_line_2_flow = zeros(nrow(int_c(2)),S)\n",
    "int_line_3_flow = zeros(nrow(int_c(3)),S)\n",
    "\n",
    "gen_1 = zeros(nrow(g(1)),S)\n",
    "gen_2 = zeros(nrow(g(2)),S)\n",
    "gen_3 = zeros(nrow(g(3)),S)\n",
    "\n",
    "r_e1 = zeros(nrow(shared_ex),S)\n",
    "r_e2 = zeros(nrow(shared_ex),S)\n",
    "r_e3 = zeros(nrow(shared_ex),S)"
   ]
  },
  {
   "cell_type": "code",
   "execution_count": 119,
   "metadata": {},
   "outputs": [
    {
     "name": "stdout",
     "output_type": "stream",
     "text": [
      "*******************************************************************************************************************************************************************************************************************************************************************************************************************************************************************************************************************************************************************************************************************"
     ]
    }
   ],
   "source": [
    "for j in 2:500     # It considers 1000 iteration\n",
    "    if abs(f) > 0.0000001  # f is our criterion showing the convergence of our problem\n",
    "         #Solving the relaxed optimization problem (lower bound) for zone 1\n",
    "        R1_1_l = milp_hor_dist(1, 14, 4, 0, cand_pi_1[j,:], cand_mu_1[j,:,:], ex_mu_1[j,:,:])\n",
    "            #Solving the relaxed optimization problem for zone 2\n",
    "        R1_2_l = milp_hor_dist(2, 30, 4, 0, cand_pi_2[j,:], cand_mu_2[j,:,:], ex_mu_2[j,:,:])\n",
    "            #Solving the relaxed optimization problem for zone 3\n",
    "        R1_3_l = milp_hor_dist(3, 5, 4, 0, cand_pi_3[j,:], cand_mu_3[j,:,:], ex_mu_3[j,:,:])\n",
    "            #Solving the optimization problem of the market overseer\n",
    "        R2_l = market_overseer(0,cand_pi_mo[j,:,:], cand_mu_mo[j,:,:], ex_mu_mo[j,:,:])\n",
    "\n",
    "            #Solving the optimization problem for zone 1\n",
    "        R1_1_u = milp_hor_dist(1, 14, 4, 1, cand_pi_1[j,:], cand_mu_1[j,:,:], ex_mu_1[j,:,:])\n",
    "            #Solving the optimization problem for zone 2\n",
    "        R1_2_u = milp_hor_dist(2, 30, 4, 1, cand_pi_2[j,:], cand_mu_2[j,:,:], ex_mu_2[j,:,:])\n",
    "            #Solving the optimization problem for zone 3\n",
    "        R1_3_u = milp_hor_dist(3, 5, 4, 1, cand_pi_3[j,:], cand_mu_3[j,:,:], ex_mu_3[j,:,:])\n",
    "            #Solving the relaxed optimization problem for MO\n",
    "        R2_u = market_overseer(1,cand_pi_mo[j,:,:], cand_mu_mo[j,:,:], ex_mu_mo[j,:,:])\n",
    "\n",
    "        \n",
    "\n",
    "        #Updating cand_pi for each zone and MO based on the results of shared candidate lines' decision variables\n",
    "        cand_pi_1[j+1,:] .= bin_c(1) .* cand_pi_1[j,:] .+ bin_c(1) .* (1 * (R1_1_u[2] .- R2_u[2])) \n",
    "        cand_pi_2[j+1,:] .= bin_c(2) .* cand_pi_2[j,:] .+ bin_c(2) .* (1 * (R1_2_u[2] .- R2_u[2])) \n",
    "        cand_pi_3[j+1,:] .= bin_c(3) .* cand_pi_3[j,:] .+ bin_c(3) .* (1 * (R1_3_u[2] .- R2_u[2])) \n",
    "        cand_pi_mo[j+1,:] .= (cand_pi_1[j+1,:] .+ cand_pi_2[j+1,:] .+  cand_pi_3[j+1,:])\n",
    "\n",
    "        cand_mu_1[j+1,:,:] .= bin_c(1) .* cand_mu_1[j,:,:] .+ bin_c(1) .* (0.01 * (R1_1_u[3] .- R2_u[3])) \n",
    "        cand_mu_2[j+1,:,:] .= bin_c(2) .* cand_mu_2[j,:,:] .+ bin_c(2) .* (0.01 * (R1_2_u[3] .- R2_u[3])) \n",
    "        cand_mu_3[j+1,:,:] .= bin_c(3) .* cand_mu_3[j,:,:] .+ bin_c(3) .* (0.01 * (R1_3_u[3] .- R2_u[3])) \n",
    "        cand_mu_mo[j+1,:,:] .=  (cand_mu_1[j+1,:,:] .+ cand_mu_2[j+1,:,:] .+  cand_mu_3[j+1,:,:])\n",
    "\n",
    "        ex_mu_1[j+1,:,:] .= bin_e(1) .* ex_mu_1[j,:,:] .+ bin_e(1) .* (0.01 * (R1_1_u[4] .- R2_u[4])) \n",
    "        ex_mu_2[j+1,:,:] .= bin_e(2) .* ex_mu_2[j,:,:] .+ bin_e(2) .* (0.01 * (R1_2_u[4] .- R2_u[4])) \n",
    "        ex_mu_3[j+1,:,:] .= bin_e(3) .*  ex_mu_3[j,:,:] .+ bin_e(3) .* (0.01 * (R1_3_u[4] .- R2_u[4])) \n",
    "        ex_mu_mo[j+1,:,:] .= (ex_mu_1[j+1,:,:] .+ ex_mu_2[j+1,:,:] .+  ex_mu_3[j+1,:,:])\n",
    "\n",
    "\n",
    "            #u = the sum of objective values after solving the zonal optimization problem\n",
    "        u_new = R1_1_u[1] + R1_2_u[1] + R1_3_u[1] + R2_u[1]\n",
    "\n",
    "            #low = the sum of objective values after solving the relaxed zonal optimization problem\n",
    "        low_new = R1_1_l[1] + R1_2_l[1] + R1_3_l[1] + R2_l[1]\n",
    "\n",
    "             #Stopping criterion\n",
    "        f = 1 - (low_new / u_new)\n",
    "\n",
    "\n",
    "        r1_bin = R1_1_u[2]\n",
    "        r1 = R1_1_u[3]\n",
    "        r2_bin = R1_2_u[2]\n",
    "        r2 = R1_2_u[3]\n",
    "        r3_bin = R1_3_u[2]\n",
    "        r3 = R1_3_u[3]\n",
    "        r_mo_bin = R2_u[2]\n",
    "        r_mo = R2_u[3]\n",
    "        r_e_1 = R1_1_u[8]\n",
    "        r_e_2 = R1_2_u[8]\n",
    "        r_e_3 = R1_3_u[8]\n",
    "        r_e1 = R1_1_u[4]\n",
    "        r_e2 = R1_2_u[4]\n",
    "        r_e3 = R1_3_u[4]\n",
    "        int_line_1 = R1_1_u[6]\n",
    "        int_line_2 = R1_2_u[6]\n",
    "        int_line_3 = R1_3_u[6]\n",
    "        int_line_1_flow = R1_1_u[7]\n",
    "        int_line_2_flow = R1_2_u[7]\n",
    "        int_line_3_flow = R1_3_u[7]\n",
    "        gen_1 = R1_1_u[5]\n",
    "        gen_2 = R1_2_u[5]\n",
    "        gen_3 = R1_3_u[5]\n",
    "            print('*') \n",
    "\n",
    "    else\n",
    "            #If our criterion is met, then print these values:\n",
    "        print(low_new)\n",
    "        print(u_new)\n",
    "        print(int_line_1)\n",
    "        print(int_line_2)\n",
    "        print(int_line_3)\n",
    "        print(j)\n",
    "        print(f) #criterion\n",
    "        print(r1_bin) #binary decisions of shared candidate lines (zone 1)\n",
    "        print(r1) # power flow of shared candidate lines (zone 1)\n",
    "        print(r2_bin) #binary decisions of shared candidate lines (zone 2)\n",
    "        print(r2) # power flow of shared candidate lines (zone 2)\n",
    "        print(r3_bin) #binary decisions of shared candidate lines (zone 3)\n",
    "        print(r3) # power flow of shared candidate lines (zone 3)\n",
    "        print(r_mo_bin)  #binary decisions of shared candidate lines (MO)\n",
    "        print(r_mo) # power flow of shared candidate lines (MO)\n",
    "        print(r_e_1) # angle of existing candidate lines (zone 1)\n",
    "        print(r_e_2)  # angle of existing candidate lines (zone 2)\n",
    "        print(r_e_3) # angle of existing candidate lines (zone 3)\n",
    "        break\n",
    "    end\n",
    "end\n",
    "\n"
   ]
  },
  {
   "cell_type": "code",
   "execution_count": 120,
   "metadata": {},
   "outputs": [
    {
     "name": "stdout",
     "output_type": "stream",
     "text": [
      "[1, 1, 1, 1, 0, 0][0, 0, 0, 1, 1, 1][1, 1, 1, 0, 1, 1]"
     ]
    }
   ],
   "source": [
    "print(bin_c(1))\n",
    "print(bin_c(2))\n",
    "print(bin_c(3))"
   ]
  },
  {
   "cell_type": "code",
   "execution_count": 121,
   "metadata": {},
   "outputs": [
    {
     "data": {
      "text/plain": [
       "0.0002850418905550045"
      ]
     },
     "execution_count": 121,
     "metadata": {},
     "output_type": "execute_result"
    }
   ],
   "source": [
    "f #The criteria"
   ]
  },
  {
   "cell_type": "code",
   "execution_count": 125,
   "metadata": {},
   "outputs": [
    {
     "data": {
      "text/plain": [
       "6-element Array{Float64,1}:\n",
       " 0.0\n",
       " 0.0\n",
       " 0.0\n",
       " 0.0\n",
       " 0.0\n",
       " 0.0"
      ]
     },
     "execution_count": 125,
     "metadata": {},
     "output_type": "execute_result"
    }
   ],
   "source": [
    "r1_bin"
   ]
  },
  {
   "cell_type": "code",
   "execution_count": 126,
   "metadata": {},
   "outputs": [
    {
     "data": {
      "text/plain": [
       "6-element Array{Float64,1}:\n",
       " 0.0\n",
       " 0.0\n",
       " 0.0\n",
       " 0.0\n",
       " 0.0\n",
       " 0.0"
      ]
     },
     "execution_count": 126,
     "metadata": {},
     "output_type": "execute_result"
    }
   ],
   "source": [
    "r2_bin"
   ]
  },
  {
   "cell_type": "code",
   "execution_count": 127,
   "metadata": {},
   "outputs": [
    {
     "data": {
      "text/plain": [
       "6-element Array{Float64,1}:\n",
       " 0.0\n",
       " 0.0\n",
       " 0.0\n",
       " 0.0\n",
       " 0.0\n",
       " 0.0"
      ]
     },
     "execution_count": 127,
     "metadata": {},
     "output_type": "execute_result"
    }
   ],
   "source": [
    "r3_bin #Binary decisions for constructing shared lines solved by TP 3"
   ]
  },
  {
   "cell_type": "code",
   "execution_count": 128,
   "metadata": {},
   "outputs": [
    {
     "data": {
      "text/plain": [
       "6-element Array{Float64,1}:\n",
       " 0.0\n",
       " 0.0\n",
       " 0.0\n",
       " 0.0\n",
       " 0.0\n",
       " 0.0"
      ]
     },
     "execution_count": 128,
     "metadata": {},
     "output_type": "execute_result"
    }
   ],
   "source": [
    "r_mo_bin #Binary decisions for constructing shared lines solved by TPC or MO"
   ]
  },
  {
   "cell_type": "code",
   "execution_count": 129,
   "metadata": {},
   "outputs": [
    {
     "data": {
      "text/plain": [
       "6×4 Array{Float64,2}:\n",
       "  0.0   0.0   0.0   0.0\n",
       "  0.0   0.0   0.0   0.0\n",
       "  0.0   0.0   0.0   0.0\n",
       " -0.0  -0.0  -0.0  -0.0\n",
       "  0.0   0.0   0.0   0.0\n",
       "  0.0   0.0   0.0   0.0"
      ]
     },
     "execution_count": 129,
     "metadata": {},
     "output_type": "execute_result"
    }
   ],
   "source": [
    "r1 #The value obtained by TP 1 and indicating the power flowing into the shared lines"
   ]
  },
  {
   "cell_type": "code",
   "execution_count": 130,
   "metadata": {},
   "outputs": [
    {
     "data": {
      "text/plain": [
       "6×4 Array{Float64,2}:\n",
       " 0.0  0.0  0.0  0.0\n",
       " 0.0  0.0  0.0  0.0\n",
       " 0.0  0.0  0.0  0.0\n",
       " 0.0  0.0  0.0  0.0\n",
       " 0.0  0.0  0.0  0.0\n",
       " 0.0  0.0  0.0  0.0"
      ]
     },
     "execution_count": 130,
     "metadata": {},
     "output_type": "execute_result"
    }
   ],
   "source": [
    "r2 #The value obtained by TP 2 and indicating the power flowing into the shared lines"
   ]
  },
  {
   "cell_type": "code",
   "execution_count": 131,
   "metadata": {},
   "outputs": [
    {
     "data": {
      "text/plain": [
       "6×4 Array{Float64,2}:\n",
       "  0.0           0.0           0.0          0.0\n",
       "  0.0           0.0           0.0          0.0\n",
       "  9.32587e-15   9.32587e-15   9.32587e-15  9.76996e-15\n",
       "  0.0           0.0           0.0          0.0\n",
       "  0.0           0.0           0.0          0.0\n",
       " -1.33227e-15  -1.33227e-15  -1.33227e-15  2.66454e-15"
      ]
     },
     "execution_count": 131,
     "metadata": {},
     "output_type": "execute_result"
    }
   ],
   "source": [
    "r3 #The value obtained by TP 1 and indicating the power flowing into the shared lines"
   ]
  },
  {
   "cell_type": "code",
   "execution_count": 132,
   "metadata": {},
   "outputs": [
    {
     "data": {
      "text/plain": [
       "JuMP.Containers.SparseAxisArray{Float64,3,Tuple{Int64,Int64,Int64}} with 196 entries:\n",
       "  [2, 3, 2 ]  =  0.0\n",
       "  [2, 9, 1 ]  =  0.214958\n",
       "  [1, 2, 1 ]  =  0.584837\n",
       "  [1, 8, 2 ]  =  0.717917\n",
       "  [1, 14, 2]  =  0.649558\n",
       "  [2, 23, 2]  =  0.0\n",
       "  [2, 27, 1]  =  0.0\n",
       "  [1, 11, 2]  =  0.605072\n",
       "  [2, 14, 4]  =  0.0\n",
       "  [1, 4, 2 ]  =  0.588813\n",
       "              ⋮\n",
       "  [2, 26, 1]  =  0.0\n",
       "  [2, 22, 1]  =  0.208\n",
       "  [2, 30, 2]  =  0.0\n",
       "  [1, 5, 3 ]  =  0.556\n",
       "  [2, 4, 4 ]  =  0.0\n",
       "  [3, 4, 2 ]  =  0.0\n",
       "  [2, 24, 3]  =  0.0\n",
       "  [1, 1, 2 ]  =  0.557281\n",
       "  [3, 4, 4 ]  =  0.0\n",
       "  [2, 9, 4 ]  =  0.256795\n",
       "  [1, 12, 4]  =  0.685924"
      ]
     },
     "execution_count": 132,
     "metadata": {},
     "output_type": "execute_result"
    }
   ],
   "source": [
    "r_e_1"
   ]
  },
  {
   "cell_type": "code",
   "execution_count": 133,
   "metadata": {},
   "outputs": [
    {
     "data": {
      "text/plain": [
       "JuMP.Containers.SparseAxisArray{Float64,3,Tuple{Int64,Int64,Int64}} with 196 entries:\n",
       "  [2, 3, 2 ]  =  0.541936\n",
       "  [2, 9, 1 ]  =  0.38922\n",
       "  [1, 2, 1 ]  =  0.0\n",
       "  [1, 8, 2 ]  =  0.0\n",
       "  [1, 14, 2]  =  0.0\n",
       "  [2, 23, 2]  =  0.428532\n",
       "  [2, 27, 1]  =  0.359946\n",
       "  [1, 11, 2]  =  0.0\n",
       "  [2, 14, 4]  =  0.468697\n",
       "  [1, 4, 2 ]  =  0.0\n",
       "              ⋮\n",
       "  [2, 26, 1]  =  0.322299\n",
       "  [2, 22, 1]  =  0.259044\n",
       "  [2, 30, 2]  =  0.440392\n",
       "  [1, 5, 3 ]  =  0.556\n",
       "  [2, 4, 4 ]  =  0.711538\n",
       "  [3, 4, 2 ]  =  0.0\n",
       "  [2, 24, 3]  =  0.295395\n",
       "  [1, 1, 2 ]  =  0.2679\n",
       "  [3, 4, 4 ]  =  0.0\n",
       "  [2, 9, 4 ]  =  0.52717\n",
       "  [1, 12, 4]  =  0.0"
      ]
     },
     "execution_count": 133,
     "metadata": {},
     "output_type": "execute_result"
    }
   ],
   "source": [
    "r_e_2"
   ]
  },
  {
   "cell_type": "code",
   "execution_count": 134,
   "metadata": {},
   "outputs": [
    {
     "data": {
      "text/plain": [
       "JuMP.Containers.SparseAxisArray{Float64,3,Tuple{Int64,Int64,Int64}} with 196 entries:\n",
       "  [2, 3, 2 ]  =  0.0\n",
       "  [2, 9, 1 ]  =  0.3292\n",
       "  [1, 2, 1 ]  =  0.0\n",
       "  [1, 8, 2 ]  =  0.0\n",
       "  [1, 14, 2]  =  0.0\n",
       "  [2, 23, 2]  =  0.0\n",
       "  [2, 27, 1]  =  0.0\n",
       "  [1, 11, 2]  =  0.0\n",
       "  [2, 14, 4]  =  0.0\n",
       "  [1, 4, 2 ]  =  0.0\n",
       "              ⋮\n",
       "  [2, 26, 1]  =  0.0\n",
       "  [2, 22, 1]  =  0.2608\n",
       "  [2, 30, 2]  =  0.0\n",
       "  [1, 5, 3 ]  =  0.72\n",
       "  [2, 4, 4 ]  =  0.00650872\n",
       "  [3, 4, 2 ]  =  0.294884\n",
       "  [2, 24, 3]  =  0.0\n",
       "  [1, 1, 2 ]  =  0.40214\n",
       "  [3, 4, 4 ]  =  0.339328\n",
       "  [2, 9, 4 ]  =  0.3292\n",
       "  [1, 12, 4]  =  0.1481"
      ]
     },
     "execution_count": 134,
     "metadata": {},
     "output_type": "execute_result"
    }
   ],
   "source": [
    "r_e_3"
   ]
  },
  {
   "cell_type": "code",
   "execution_count": 135,
   "metadata": {},
   "outputs": [
    {
     "data": {
      "text/plain": [
       "8942.356855344533"
      ]
     },
     "execution_count": 135,
     "metadata": {},
     "output_type": "execute_result"
    }
   ],
   "source": [
    "u_new"
   ]
  },
  {
   "cell_type": "code",
   "execution_count": 136,
   "metadata": {},
   "outputs": [
    {
     "data": {
      "text/plain": [
       "8939.807909040468"
      ]
     },
     "execution_count": 136,
     "metadata": {},
     "output_type": "execute_result"
    }
   ],
   "source": [
    "low_new"
   ]
  },
  {
   "cell_type": "code",
   "execution_count": 137,
   "metadata": {},
   "outputs": [
    {
     "data": {
      "text/plain": [
       "10-element Array{Float64,1}:\n",
       " 0.0\n",
       " 1.0\n",
       " 0.0\n",
       " 0.0\n",
       " 1.0\n",
       " 0.0\n",
       " 0.0\n",
       " 0.0\n",
       " 0.0\n",
       " 0.0"
      ]
     },
     "execution_count": 137,
     "metadata": {},
     "output_type": "execute_result"
    }
   ],
   "source": [
    "int_line_1"
   ]
  },
  {
   "cell_type": "code",
   "execution_count": 138,
   "metadata": {},
   "outputs": [
    {
     "data": {
      "text/plain": [
       "18-element Array{Float64,1}:\n",
       " 0.0\n",
       " 0.0\n",
       " 0.0\n",
       " 0.0\n",
       " 0.0\n",
       " 0.0\n",
       " 0.0\n",
       " 0.0\n",
       " 0.0\n",
       " 1.0\n",
       " 0.0\n",
       " 0.0\n",
       " 0.0\n",
       " 0.0\n",
       " 0.0\n",
       " 0.0\n",
       " 0.0\n",
       " 0.0"
      ]
     },
     "execution_count": 138,
     "metadata": {},
     "output_type": "execute_result"
    }
   ],
   "source": [
    "int_line_2"
   ]
  },
  {
   "cell_type": "code",
   "execution_count": 139,
   "metadata": {},
   "outputs": [
    {
     "data": {
      "text/plain": [
       "2-element Array{Float64,1}:\n",
       " 0.0\n",
       " 0.0"
      ]
     },
     "execution_count": 139,
     "metadata": {},
     "output_type": "execute_result"
    }
   ],
   "source": [
    "int_line_3"
   ]
  },
  {
   "cell_type": "code",
   "execution_count": 140,
   "metadata": {},
   "outputs": [
    {
     "data": {
      "text/plain": [
       "14×4 Array{Float64,2}:\n",
       " 1.59  0.295  0.9425  0.0\n",
       " 0.0   0.0    0.0     0.0\n",
       " 0.0   0.0    0.0     0.0\n",
       " 0.0   0.0    0.0     0.0\n",
       " 0.0   0.0    0.0     0.0\n",
       " 0.0   0.0    0.0     0.0\n",
       " 0.0   0.0    0.0     0.0\n",
       " 0.0   0.0    0.0     0.0\n",
       " 0.0   0.0    0.0     0.0\n",
       " 0.0   0.0    0.0     0.0\n",
       " 0.0   0.0    0.0     0.0\n",
       " 0.0   0.0    0.0     0.0\n",
       " 0.0   0.0    0.0     0.0\n",
       " 0.0   0.0    0.0     0.0"
      ]
     },
     "execution_count": 140,
     "metadata": {},
     "output_type": "execute_result"
    }
   ],
   "source": [
    "gen_1"
   ]
  },
  {
   "cell_type": "code",
   "execution_count": 141,
   "metadata": {},
   "outputs": [
    {
     "name": "stdout",
     "output_type": "stream",
     "text": [
      "30×4 Array{Float64,2}:\n",
      " 0.0    0.0    0.0    0.0\n",
      " 0.8    0.8    0.8    0.473\n",
      " 0.0    0.0    0.0    0.0\n",
      " 0.0    0.0    0.0    0.0\n",
      " 0.0    0.0    0.0    0.0\n",
      " 0.0    0.0    0.0    0.0\n",
      " 0.0    0.0    0.0    0.0\n",
      " 0.0    0.0    0.0    0.0\n",
      " 0.0    0.0    0.0    0.0\n",
      " 0.0    0.0    0.0    0.0\n",
      " 0.0    0.0    0.0    0.0\n",
      " 0.0    0.0    0.0    0.0\n",
      " 0.4    0.146  0.4    0.0\n",
      " 0.0    0.0    0.0    0.0\n",
      " 0.0    0.0    0.0    0.0\n",
      " 0.0    0.0    0.0    0.0\n",
      " 0.0    0.0    0.0    0.0\n",
      " 0.0    0.0    0.0    0.0\n",
      " 0.0    0.0    0.0    0.0\n",
      " 0.0    0.0    0.0    0.0\n",
      " 0.0    0.0    0.0    0.0\n",
      " 0.5    0.0    0.219  0.0\n",
      " 0.192  0.0    0.0    0.0\n",
      " 0.0    0.0    0.0    0.0\n",
      " 0.0    0.0    0.0    0.0\n",
      " 0.0    0.0    0.0    0.0\n",
      " 0.0    0.0    0.0    0.0\n",
      " 0.0    0.0    0.0    0.0\n",
      " 0.0    0.0    0.0    0.0\n",
      " 0.0    0.0    0.0    0.0"
     ]
    }
   ],
   "source": [
    "show(stdout, \"text/plain\", gen_2)"
   ]
  },
  {
   "cell_type": "code",
   "execution_count": 142,
   "metadata": {},
   "outputs": [
    {
     "data": {
      "text/plain": [
       "5×4 Array{Float64,2}:\n",
       " 0.0  0.0  0.0  0.0\n",
       " 0.0  0.0  0.0  0.0\n",
       " 0.0  0.0  0.0  0.0\n",
       " 0.0  0.0  0.0  0.0\n",
       " 0.0  0.0  0.0  0.0"
      ]
     },
     "execution_count": 142,
     "metadata": {},
     "output_type": "execute_result"
    }
   ],
   "source": [
    "gen_3"
   ]
  },
  {
   "cell_type": "code",
   "execution_count": 143,
   "metadata": {},
   "outputs": [
    {
     "data": {
      "text/plain": [
       "10×4 Array{Float64,2}:\n",
       " -2.22045e-16   0.0        0.0        0.0\n",
       "  0.545279     -0.529083   0.687078  -0.554696\n",
       "  0.0           0.0        0.0       -0.0\n",
       "  0.0           0.0        0.0       -0.0\n",
       "  1.0          -0.748805   0.843488  -0.881483\n",
       " -2.88658e-15   0.0        0.0        0.0\n",
       " -0.0          -0.0       -0.0       -0.0\n",
       "  0.0           0.0        0.0        0.0\n",
       "  0.0           0.0        0.0        0.0\n",
       "  0.0           0.0        0.0        0.0"
      ]
     },
     "execution_count": 143,
     "metadata": {},
     "output_type": "execute_result"
    }
   ],
   "source": [
    "int_line_1_flow"
   ]
  },
  {
   "cell_type": "code",
   "execution_count": 144,
   "metadata": {},
   "outputs": [
    {
     "data": {
      "text/plain": [
       "18×4 Array{Float64,2}:\n",
       " -2.22045e-16   0.0        0.0        0.0\n",
       "  0.0           0.0        0.0        0.0\n",
       "  0.0           0.0        0.0        0.0\n",
       "  0.0           0.0        0.0        0.0\n",
       "  2.22045e-16   0.0        0.0        0.0\n",
       "  0.0           0.0        0.0        0.0\n",
       "  0.0           0.0        0.0        0.0\n",
       "  0.0           0.0        0.0        0.0\n",
       "  0.0           0.0        0.0        0.0\n",
       " -1.05913      -0.812646  -0.792805  -1.03546\n",
       "  0.0           0.0        0.0        0.0\n",
       "  0.0           0.0        0.0        0.0\n",
       "  0.0           0.0        0.0        0.0\n",
       "  2.44249e-15   0.0        0.0        0.0\n",
       " -0.0          -0.0       -0.0       -0.0\n",
       " -0.0          -0.0       -0.0       -1.47687e-16\n",
       " -0.0          -0.0       -0.0       -0.0\n",
       "  0.0           0.0        0.0        0.0"
      ]
     },
     "execution_count": 144,
     "metadata": {},
     "output_type": "execute_result"
    }
   ],
   "source": [
    "int_line_2_flow"
   ]
  },
  {
   "cell_type": "code",
   "execution_count": 145,
   "metadata": {},
   "outputs": [
    {
     "data": {
      "text/plain": [
       "2×4 Array{Float64,2}:\n",
       "  0.0           0.0   0.0           0.0\n",
       " -2.77556e-17  -0.0  -5.19564e-16  -5.19564e-16"
      ]
     },
     "execution_count": 145,
     "metadata": {},
     "output_type": "execute_result"
    }
   ],
   "source": [
    "int_line_3_flow"
   ]
  },
  {
   "cell_type": "code",
   "execution_count": 146,
   "metadata": {},
   "outputs": [
    {
     "data": {
      "text/plain": [
       "8×4 Array{Float64,2}:\n",
       "  1.0        1.0        1.0        0.6475\n",
       "  0.883352   1.0        0.869838   1.0\n",
       " -0.817577   0.888077  -1.0        0.93665\n",
       " -1.0       -1.0       -1.0       -1.0\n",
       "  0.530928  -1.0        0.857014  -1.0\n",
       " -1.0       -1.0       -1.0       -1.0\n",
       " -1.0       -1.0       -1.0       -1.0\n",
       " -1.0       -1.0       -1.0       -1.0"
      ]
     },
     "execution_count": 146,
     "metadata": {},
     "output_type": "execute_result"
    }
   ],
   "source": [
    "r_e1"
   ]
  },
  {
   "cell_type": "code",
   "execution_count": 147,
   "metadata": {},
   "outputs": [
    {
     "data": {
      "text/plain": [
       "8×4 Array{Float64,2}:\n",
       "  0.643833   1.0        0.638483   1.0\n",
       "  0.602185   1.0        1.0        0.305311\n",
       " -1.0       -1.0       -1.0       -1.0\n",
       " -1.0       -1.0       -1.0       -1.0\n",
       " -1.0       -1.0       -1.0       -1.0\n",
       "  1.0        1.0        1.0        1.0\n",
       "  1.0       -1.0        1.0       -1.0\n",
       " -0.87512    0.751822   0.910684  -1.0"
      ]
     },
     "execution_count": 147,
     "metadata": {},
     "output_type": "execute_result"
    }
   ],
   "source": [
    "r_e2"
   ]
  },
  {
   "cell_type": "code",
   "execution_count": 148,
   "metadata": {},
   "outputs": [
    {
     "data": {
      "text/plain": [
       "8×4 Array{Float64,2}:\n",
       " -1.0   -1.0       -1.0     -1.0\n",
       " -1.0   -1.0       -1.0     -1.0\n",
       " -1.0   -1.0       -1.0      1.0\n",
       " -1.0   -0.470349  -1.0     -0.778416\n",
       " -0.35  -1.0        1.0     -1.0\n",
       "  1.0    1.0        1.0      0.4125\n",
       "  1.0   -1.0        1.0     -1.0\n",
       " -1.0   -0.825      0.7625  -1.0"
      ]
     },
     "execution_count": 148,
     "metadata": {},
     "output_type": "execute_result"
    }
   ],
   "source": [
    "r_e3"
   ]
  },
  {
   "cell_type": "code",
   "execution_count": null,
   "metadata": {},
   "outputs": [],
   "source": []
  },
  {
   "cell_type": "code",
   "execution_count": null,
   "metadata": {},
   "outputs": [],
   "source": []
  },
  {
   "cell_type": "code",
   "execution_count": null,
   "metadata": {},
   "outputs": [],
   "source": []
  }
 ],
 "metadata": {
  "kernelspec": {
   "display_name": "Julia 1.5.3",
   "language": "julia",
   "name": "julia-1.5"
  },
  "language_info": {
   "file_extension": ".jl",
   "mimetype": "application/julia",
   "name": "julia",
   "version": "1.5.3"
  }
 },
 "nbformat": 4,
 "nbformat_minor": 4
}
